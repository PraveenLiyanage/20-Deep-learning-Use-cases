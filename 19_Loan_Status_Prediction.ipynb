{
  "nbformat": 4,
  "nbformat_minor": 0,
  "metadata": {
    "colab": {
      "provenance": [],
      "gpuType": "T4"
    },
    "kernelspec": {
      "name": "python3",
      "display_name": "Python 3"
    },
    "language_info": {
      "name": "python"
    },
    "accelerator": "GPU"
  },
  "cells": [
    {
      "cell_type": "code",
      "source": [
        "from google.colab import drive\n",
        "drive.mount('/content/drive')"
      ],
      "metadata": {
        "colab": {
          "base_uri": "https://localhost:8080/"
        },
        "id": "ulHFI3vZg-Sh",
        "outputId": "4a18ace0-bdd3-49b7-fe33-816565fd82f7"
      },
      "execution_count": null,
      "outputs": [
        {
          "output_type": "stream",
          "name": "stdout",
          "text": [
            "Drive already mounted at /content/drive; to attempt to forcibly remount, call drive.mount(\"/content/drive\", force_remount=True).\n"
          ]
        }
      ]
    },
    {
      "cell_type": "code",
      "source": [
        "!pip install feature-engine --quiet"
      ],
      "metadata": {
        "id": "dVsuVkuZjiII"
      },
      "execution_count": null,
      "outputs": []
    },
    {
      "cell_type": "code",
      "source": [
        "!pip install optuna"
      ],
      "metadata": {
        "colab": {
          "base_uri": "https://localhost:8080/"
        },
        "id": "R8Fsj-JLj21j",
        "outputId": "e3ad067d-cf31-4a7a-8de9-72c9d10fde99"
      },
      "execution_count": null,
      "outputs": [
        {
          "output_type": "stream",
          "name": "stdout",
          "text": [
            "Requirement already satisfied: optuna in /usr/local/lib/python3.10/dist-packages (3.6.1)\n",
            "Requirement already satisfied: alembic>=1.5.0 in /usr/local/lib/python3.10/dist-packages (from optuna) (1.13.1)\n",
            "Requirement already satisfied: colorlog in /usr/local/lib/python3.10/dist-packages (from optuna) (6.8.2)\n",
            "Requirement already satisfied: numpy in /usr/local/lib/python3.10/dist-packages (from optuna) (1.25.2)\n",
            "Requirement already satisfied: packaging>=20.0 in /usr/local/lib/python3.10/dist-packages (from optuna) (24.0)\n",
            "Requirement already satisfied: sqlalchemy>=1.3.0 in /usr/local/lib/python3.10/dist-packages (from optuna) (2.0.29)\n",
            "Requirement already satisfied: tqdm in /usr/local/lib/python3.10/dist-packages (from optuna) (4.66.2)\n",
            "Requirement already satisfied: PyYAML in /usr/local/lib/python3.10/dist-packages (from optuna) (6.0.1)\n",
            "Requirement already satisfied: Mako in /usr/local/lib/python3.10/dist-packages (from alembic>=1.5.0->optuna) (1.3.3)\n",
            "Requirement already satisfied: typing-extensions>=4 in /usr/local/lib/python3.10/dist-packages (from alembic>=1.5.0->optuna) (4.11.0)\n",
            "Requirement already satisfied: greenlet!=0.4.17 in /usr/local/lib/python3.10/dist-packages (from sqlalchemy>=1.3.0->optuna) (3.0.3)\n",
            "Requirement already satisfied: MarkupSafe>=0.9.2 in /usr/local/lib/python3.10/dist-packages (from Mako->alembic>=1.5.0->optuna) (2.1.5)\n"
          ]
        }
      ]
    },
    {
      "cell_type": "code",
      "source": [
        "import numpy as np\n",
        "import pandas as pd\n",
        "import optuna\n",
        "from optuna.samplers import TPESampler\n",
        "import warnings\n",
        "\n",
        "from IPython.display import display\n",
        "\n",
        "import matplotlib.pyplot as plt\n",
        "import seaborn as sns\n",
        "import plotly.express as px\n",
        "\n",
        "from feature_engine.imputation import CategoricalImputer, MeanMedianImputer\n",
        "from feature_engine.encoding import OrdinalEncoder\n",
        "\n",
        "from sklearn.preprocessing import MinMaxScaler\n",
        "from sklearn.model_selection import train_test_split\n",
        "from sklearn.metrics import roc_auc_score, accuracy_score, classification_report\n",
        "from sklearn.ensemble import RandomForestClassifier, AdaBoostClassifier, BaggingClassifier\n",
        "from sklearn.svm import SVC\n",
        "\n",
        "from imblearn.over_sampling import SVMSMOTE\n",
        "\n",
        "sns.set_style('whitegrid')\n",
        "warnings.filterwarnings('ignore')\n",
        "\n",
        "import os\n",
        "for dirname, _, filenames in os.walk('/kaggle/input'):\n",
        "    for filename in filenames:\n",
        "        print(os.path.join(dirname, filename))"
      ],
      "metadata": {
        "id": "UBmpsGj-jtqN"
      },
      "execution_count": null,
      "outputs": []
    },
    {
      "cell_type": "markdown",
      "source": [
        "# Data Exploration"
      ],
      "metadata": {
        "id": "jlRfStlBkEJf"
      }
    },
    {
      "cell_type": "code",
      "source": [
        "def summary_data(df):\n",
        "\n",
        "    summary = pd.DataFrame()\n",
        "    summary['Missing %'] = df.isnull().mean() * 100\n",
        "    summary['Duplicated'] = df.duplicated().sum()\n",
        "    summary['Type'] = df.dtypes\n",
        "    summary['Unique'] = df.nunique()\n",
        "\n",
        "    corr = df.select_dtypes(np.number).corr() * 100\n",
        "\n",
        "    print('Data Info: ')\n",
        "    display(summary)\n",
        "    print('Data shape: ')\n",
        "    display(df.shape)\n",
        "    print('\\n \\n Numeric Variables Correlation')\n",
        "    display(corr)"
      ],
      "metadata": {
        "id": "VCnuX1cKkAtC"
      },
      "execution_count": null,
      "outputs": []
    },
    {
      "cell_type": "code",
      "source": [
        "data = pd.read_csv('/content/drive/MyDrive/Data Visualisation Datasets/loan_data.csv')\n",
        "data.head()"
      ],
      "metadata": {
        "colab": {
          "base_uri": "https://localhost:8080/",
          "height": 258
        },
        "id": "3WfZjwHUkGY_",
        "outputId": "b93dcb81-9c91-4786-9338-90ae542e6570"
      },
      "execution_count": null,
      "outputs": [
        {
          "output_type": "execute_result",
          "data": {
            "text/plain": [
              "    Loan_ID Gender Married Dependents     Education Self_Employed  \\\n",
              "0  LP001003   Male     Yes          1      Graduate            No   \n",
              "1  LP001005   Male     Yes          0      Graduate           Yes   \n",
              "2  LP001006   Male     Yes          0  Not Graduate            No   \n",
              "3  LP001008   Male      No          0      Graduate            No   \n",
              "4  LP001013   Male     Yes          0  Not Graduate            No   \n",
              "\n",
              "   ApplicantIncome  CoapplicantIncome  LoanAmount  Loan_Amount_Term  \\\n",
              "0             4583             1508.0       128.0             360.0   \n",
              "1             3000                0.0        66.0             360.0   \n",
              "2             2583             2358.0       120.0             360.0   \n",
              "3             6000                0.0       141.0             360.0   \n",
              "4             2333             1516.0        95.0             360.0   \n",
              "\n",
              "   Credit_History Property_Area Loan_Status  \n",
              "0             1.0         Rural           N  \n",
              "1             1.0         Urban           Y  \n",
              "2             1.0         Urban           Y  \n",
              "3             1.0         Urban           Y  \n",
              "4             1.0         Urban           Y  "
            ],
            "text/html": [
              "\n",
              "  <div id=\"df-2231f81b-ae2e-4b5c-8ca9-0a7b875854c4\" class=\"colab-df-container\">\n",
              "    <div>\n",
              "<style scoped>\n",
              "    .dataframe tbody tr th:only-of-type {\n",
              "        vertical-align: middle;\n",
              "    }\n",
              "\n",
              "    .dataframe tbody tr th {\n",
              "        vertical-align: top;\n",
              "    }\n",
              "\n",
              "    .dataframe thead th {\n",
              "        text-align: right;\n",
              "    }\n",
              "</style>\n",
              "<table border=\"1\" class=\"dataframe\">\n",
              "  <thead>\n",
              "    <tr style=\"text-align: right;\">\n",
              "      <th></th>\n",
              "      <th>Loan_ID</th>\n",
              "      <th>Gender</th>\n",
              "      <th>Married</th>\n",
              "      <th>Dependents</th>\n",
              "      <th>Education</th>\n",
              "      <th>Self_Employed</th>\n",
              "      <th>ApplicantIncome</th>\n",
              "      <th>CoapplicantIncome</th>\n",
              "      <th>LoanAmount</th>\n",
              "      <th>Loan_Amount_Term</th>\n",
              "      <th>Credit_History</th>\n",
              "      <th>Property_Area</th>\n",
              "      <th>Loan_Status</th>\n",
              "    </tr>\n",
              "  </thead>\n",
              "  <tbody>\n",
              "    <tr>\n",
              "      <th>0</th>\n",
              "      <td>LP001003</td>\n",
              "      <td>Male</td>\n",
              "      <td>Yes</td>\n",
              "      <td>1</td>\n",
              "      <td>Graduate</td>\n",
              "      <td>No</td>\n",
              "      <td>4583</td>\n",
              "      <td>1508.0</td>\n",
              "      <td>128.0</td>\n",
              "      <td>360.0</td>\n",
              "      <td>1.0</td>\n",
              "      <td>Rural</td>\n",
              "      <td>N</td>\n",
              "    </tr>\n",
              "    <tr>\n",
              "      <th>1</th>\n",
              "      <td>LP001005</td>\n",
              "      <td>Male</td>\n",
              "      <td>Yes</td>\n",
              "      <td>0</td>\n",
              "      <td>Graduate</td>\n",
              "      <td>Yes</td>\n",
              "      <td>3000</td>\n",
              "      <td>0.0</td>\n",
              "      <td>66.0</td>\n",
              "      <td>360.0</td>\n",
              "      <td>1.0</td>\n",
              "      <td>Urban</td>\n",
              "      <td>Y</td>\n",
              "    </tr>\n",
              "    <tr>\n",
              "      <th>2</th>\n",
              "      <td>LP001006</td>\n",
              "      <td>Male</td>\n",
              "      <td>Yes</td>\n",
              "      <td>0</td>\n",
              "      <td>Not Graduate</td>\n",
              "      <td>No</td>\n",
              "      <td>2583</td>\n",
              "      <td>2358.0</td>\n",
              "      <td>120.0</td>\n",
              "      <td>360.0</td>\n",
              "      <td>1.0</td>\n",
              "      <td>Urban</td>\n",
              "      <td>Y</td>\n",
              "    </tr>\n",
              "    <tr>\n",
              "      <th>3</th>\n",
              "      <td>LP001008</td>\n",
              "      <td>Male</td>\n",
              "      <td>No</td>\n",
              "      <td>0</td>\n",
              "      <td>Graduate</td>\n",
              "      <td>No</td>\n",
              "      <td>6000</td>\n",
              "      <td>0.0</td>\n",
              "      <td>141.0</td>\n",
              "      <td>360.0</td>\n",
              "      <td>1.0</td>\n",
              "      <td>Urban</td>\n",
              "      <td>Y</td>\n",
              "    </tr>\n",
              "    <tr>\n",
              "      <th>4</th>\n",
              "      <td>LP001013</td>\n",
              "      <td>Male</td>\n",
              "      <td>Yes</td>\n",
              "      <td>0</td>\n",
              "      <td>Not Graduate</td>\n",
              "      <td>No</td>\n",
              "      <td>2333</td>\n",
              "      <td>1516.0</td>\n",
              "      <td>95.0</td>\n",
              "      <td>360.0</td>\n",
              "      <td>1.0</td>\n",
              "      <td>Urban</td>\n",
              "      <td>Y</td>\n",
              "    </tr>\n",
              "  </tbody>\n",
              "</table>\n",
              "</div>\n",
              "    <div class=\"colab-df-buttons\">\n",
              "\n",
              "  <div class=\"colab-df-container\">\n",
              "    <button class=\"colab-df-convert\" onclick=\"convertToInteractive('df-2231f81b-ae2e-4b5c-8ca9-0a7b875854c4')\"\n",
              "            title=\"Convert this dataframe to an interactive table.\"\n",
              "            style=\"display:none;\">\n",
              "\n",
              "  <svg xmlns=\"http://www.w3.org/2000/svg\" height=\"24px\" viewBox=\"0 -960 960 960\">\n",
              "    <path d=\"M120-120v-720h720v720H120Zm60-500h600v-160H180v160Zm220 220h160v-160H400v160Zm0 220h160v-160H400v160ZM180-400h160v-160H180v160Zm440 0h160v-160H620v160ZM180-180h160v-160H180v160Zm440 0h160v-160H620v160Z\"/>\n",
              "  </svg>\n",
              "    </button>\n",
              "\n",
              "  <style>\n",
              "    .colab-df-container {\n",
              "      display:flex;\n",
              "      gap: 12px;\n",
              "    }\n",
              "\n",
              "    .colab-df-convert {\n",
              "      background-color: #E8F0FE;\n",
              "      border: none;\n",
              "      border-radius: 50%;\n",
              "      cursor: pointer;\n",
              "      display: none;\n",
              "      fill: #1967D2;\n",
              "      height: 32px;\n",
              "      padding: 0 0 0 0;\n",
              "      width: 32px;\n",
              "    }\n",
              "\n",
              "    .colab-df-convert:hover {\n",
              "      background-color: #E2EBFA;\n",
              "      box-shadow: 0px 1px 2px rgba(60, 64, 67, 0.3), 0px 1px 3px 1px rgba(60, 64, 67, 0.15);\n",
              "      fill: #174EA6;\n",
              "    }\n",
              "\n",
              "    .colab-df-buttons div {\n",
              "      margin-bottom: 4px;\n",
              "    }\n",
              "\n",
              "    [theme=dark] .colab-df-convert {\n",
              "      background-color: #3B4455;\n",
              "      fill: #D2E3FC;\n",
              "    }\n",
              "\n",
              "    [theme=dark] .colab-df-convert:hover {\n",
              "      background-color: #434B5C;\n",
              "      box-shadow: 0px 1px 3px 1px rgba(0, 0, 0, 0.15);\n",
              "      filter: drop-shadow(0px 1px 2px rgba(0, 0, 0, 0.3));\n",
              "      fill: #FFFFFF;\n",
              "    }\n",
              "  </style>\n",
              "\n",
              "    <script>\n",
              "      const buttonEl =\n",
              "        document.querySelector('#df-2231f81b-ae2e-4b5c-8ca9-0a7b875854c4 button.colab-df-convert');\n",
              "      buttonEl.style.display =\n",
              "        google.colab.kernel.accessAllowed ? 'block' : 'none';\n",
              "\n",
              "      async function convertToInteractive(key) {\n",
              "        const element = document.querySelector('#df-2231f81b-ae2e-4b5c-8ca9-0a7b875854c4');\n",
              "        const dataTable =\n",
              "          await google.colab.kernel.invokeFunction('convertToInteractive',\n",
              "                                                    [key], {});\n",
              "        if (!dataTable) return;\n",
              "\n",
              "        const docLinkHtml = 'Like what you see? Visit the ' +\n",
              "          '<a target=\"_blank\" href=https://colab.research.google.com/notebooks/data_table.ipynb>data table notebook</a>'\n",
              "          + ' to learn more about interactive tables.';\n",
              "        element.innerHTML = '';\n",
              "        dataTable['output_type'] = 'display_data';\n",
              "        await google.colab.output.renderOutput(dataTable, element);\n",
              "        const docLink = document.createElement('div');\n",
              "        docLink.innerHTML = docLinkHtml;\n",
              "        element.appendChild(docLink);\n",
              "      }\n",
              "    </script>\n",
              "  </div>\n",
              "\n",
              "\n",
              "<div id=\"df-4d0db806-1341-4c92-a0cf-a14e2fe3eb70\">\n",
              "  <button class=\"colab-df-quickchart\" onclick=\"quickchart('df-4d0db806-1341-4c92-a0cf-a14e2fe3eb70')\"\n",
              "            title=\"Suggest charts\"\n",
              "            style=\"display:none;\">\n",
              "\n",
              "<svg xmlns=\"http://www.w3.org/2000/svg\" height=\"24px\"viewBox=\"0 0 24 24\"\n",
              "     width=\"24px\">\n",
              "    <g>\n",
              "        <path d=\"M19 3H5c-1.1 0-2 .9-2 2v14c0 1.1.9 2 2 2h14c1.1 0 2-.9 2-2V5c0-1.1-.9-2-2-2zM9 17H7v-7h2v7zm4 0h-2V7h2v10zm4 0h-2v-4h2v4z\"/>\n",
              "    </g>\n",
              "</svg>\n",
              "  </button>\n",
              "\n",
              "<style>\n",
              "  .colab-df-quickchart {\n",
              "      --bg-color: #E8F0FE;\n",
              "      --fill-color: #1967D2;\n",
              "      --hover-bg-color: #E2EBFA;\n",
              "      --hover-fill-color: #174EA6;\n",
              "      --disabled-fill-color: #AAA;\n",
              "      --disabled-bg-color: #DDD;\n",
              "  }\n",
              "\n",
              "  [theme=dark] .colab-df-quickchart {\n",
              "      --bg-color: #3B4455;\n",
              "      --fill-color: #D2E3FC;\n",
              "      --hover-bg-color: #434B5C;\n",
              "      --hover-fill-color: #FFFFFF;\n",
              "      --disabled-bg-color: #3B4455;\n",
              "      --disabled-fill-color: #666;\n",
              "  }\n",
              "\n",
              "  .colab-df-quickchart {\n",
              "    background-color: var(--bg-color);\n",
              "    border: none;\n",
              "    border-radius: 50%;\n",
              "    cursor: pointer;\n",
              "    display: none;\n",
              "    fill: var(--fill-color);\n",
              "    height: 32px;\n",
              "    padding: 0;\n",
              "    width: 32px;\n",
              "  }\n",
              "\n",
              "  .colab-df-quickchart:hover {\n",
              "    background-color: var(--hover-bg-color);\n",
              "    box-shadow: 0 1px 2px rgba(60, 64, 67, 0.3), 0 1px 3px 1px rgba(60, 64, 67, 0.15);\n",
              "    fill: var(--button-hover-fill-color);\n",
              "  }\n",
              "\n",
              "  .colab-df-quickchart-complete:disabled,\n",
              "  .colab-df-quickchart-complete:disabled:hover {\n",
              "    background-color: var(--disabled-bg-color);\n",
              "    fill: var(--disabled-fill-color);\n",
              "    box-shadow: none;\n",
              "  }\n",
              "\n",
              "  .colab-df-spinner {\n",
              "    border: 2px solid var(--fill-color);\n",
              "    border-color: transparent;\n",
              "    border-bottom-color: var(--fill-color);\n",
              "    animation:\n",
              "      spin 1s steps(1) infinite;\n",
              "  }\n",
              "\n",
              "  @keyframes spin {\n",
              "    0% {\n",
              "      border-color: transparent;\n",
              "      border-bottom-color: var(--fill-color);\n",
              "      border-left-color: var(--fill-color);\n",
              "    }\n",
              "    20% {\n",
              "      border-color: transparent;\n",
              "      border-left-color: var(--fill-color);\n",
              "      border-top-color: var(--fill-color);\n",
              "    }\n",
              "    30% {\n",
              "      border-color: transparent;\n",
              "      border-left-color: var(--fill-color);\n",
              "      border-top-color: var(--fill-color);\n",
              "      border-right-color: var(--fill-color);\n",
              "    }\n",
              "    40% {\n",
              "      border-color: transparent;\n",
              "      border-right-color: var(--fill-color);\n",
              "      border-top-color: var(--fill-color);\n",
              "    }\n",
              "    60% {\n",
              "      border-color: transparent;\n",
              "      border-right-color: var(--fill-color);\n",
              "    }\n",
              "    80% {\n",
              "      border-color: transparent;\n",
              "      border-right-color: var(--fill-color);\n",
              "      border-bottom-color: var(--fill-color);\n",
              "    }\n",
              "    90% {\n",
              "      border-color: transparent;\n",
              "      border-bottom-color: var(--fill-color);\n",
              "    }\n",
              "  }\n",
              "</style>\n",
              "\n",
              "  <script>\n",
              "    async function quickchart(key) {\n",
              "      const quickchartButtonEl =\n",
              "        document.querySelector('#' + key + ' button');\n",
              "      quickchartButtonEl.disabled = true;  // To prevent multiple clicks.\n",
              "      quickchartButtonEl.classList.add('colab-df-spinner');\n",
              "      try {\n",
              "        const charts = await google.colab.kernel.invokeFunction(\n",
              "            'suggestCharts', [key], {});\n",
              "      } catch (error) {\n",
              "        console.error('Error during call to suggestCharts:', error);\n",
              "      }\n",
              "      quickchartButtonEl.classList.remove('colab-df-spinner');\n",
              "      quickchartButtonEl.classList.add('colab-df-quickchart-complete');\n",
              "    }\n",
              "    (() => {\n",
              "      let quickchartButtonEl =\n",
              "        document.querySelector('#df-4d0db806-1341-4c92-a0cf-a14e2fe3eb70 button');\n",
              "      quickchartButtonEl.style.display =\n",
              "        google.colab.kernel.accessAllowed ? 'block' : 'none';\n",
              "    })();\n",
              "  </script>\n",
              "</div>\n",
              "\n",
              "    </div>\n",
              "  </div>\n"
            ],
            "application/vnd.google.colaboratory.intrinsic+json": {
              "type": "dataframe",
              "variable_name": "data",
              "summary": "{\n  \"name\": \"data\",\n  \"rows\": 381,\n  \"fields\": [\n    {\n      \"column\": \"Loan_ID\",\n      \"properties\": {\n        \"dtype\": \"string\",\n        \"num_unique_values\": 381,\n        \"samples\": [\n          \"LP002348\",\n          \"LP001977\",\n          \"LP001206\"\n        ],\n        \"semantic_type\": \"\",\n        \"description\": \"\"\n      }\n    },\n    {\n      \"column\": \"Gender\",\n      \"properties\": {\n        \"dtype\": \"category\",\n        \"num_unique_values\": 2,\n        \"samples\": [\n          \"Female\",\n          \"Male\"\n        ],\n        \"semantic_type\": \"\",\n        \"description\": \"\"\n      }\n    },\n    {\n      \"column\": \"Married\",\n      \"properties\": {\n        \"dtype\": \"category\",\n        \"num_unique_values\": 2,\n        \"samples\": [\n          \"No\",\n          \"Yes\"\n        ],\n        \"semantic_type\": \"\",\n        \"description\": \"\"\n      }\n    },\n    {\n      \"column\": \"Dependents\",\n      \"properties\": {\n        \"dtype\": \"category\",\n        \"num_unique_values\": 4,\n        \"samples\": [\n          \"0\",\n          \"3+\"\n        ],\n        \"semantic_type\": \"\",\n        \"description\": \"\"\n      }\n    },\n    {\n      \"column\": \"Education\",\n      \"properties\": {\n        \"dtype\": \"category\",\n        \"num_unique_values\": 2,\n        \"samples\": [\n          \"Not Graduate\",\n          \"Graduate\"\n        ],\n        \"semantic_type\": \"\",\n        \"description\": \"\"\n      }\n    },\n    {\n      \"column\": \"Self_Employed\",\n      \"properties\": {\n        \"dtype\": \"category\",\n        \"num_unique_values\": 2,\n        \"samples\": [\n          \"Yes\",\n          \"No\"\n        ],\n        \"semantic_type\": \"\",\n        \"description\": \"\"\n      }\n    },\n    {\n      \"column\": \"ApplicantIncome\",\n      \"properties\": {\n        \"dtype\": \"number\",\n        \"std\": 1419,\n        \"min\": 150,\n        \"max\": 9703,\n        \"num_unique_values\": 322,\n        \"samples\": [\n          2917,\n          3812\n        ],\n        \"semantic_type\": \"\",\n        \"description\": \"\"\n      }\n    },\n    {\n      \"column\": \"CoapplicantIncome\",\n      \"properties\": {\n        \"dtype\": \"number\",\n        \"std\": 2340.8181138037494,\n        \"min\": 0.0,\n        \"max\": 33837.0,\n        \"num_unique_values\": 182,\n        \"samples\": [\n          2336.0,\n          754.0\n        ],\n        \"semantic_type\": \"\",\n        \"description\": \"\"\n      }\n    },\n    {\n      \"column\": \"LoanAmount\",\n      \"properties\": {\n        \"dtype\": \"number\",\n        \"std\": 28.358463620287388,\n        \"min\": 9.0,\n        \"max\": 150.0,\n        \"num_unique_values\": 101,\n        \"samples\": [\n          103.0,\n          87.0\n        ],\n        \"semantic_type\": \"\",\n        \"description\": \"\"\n      }\n    },\n    {\n      \"column\": \"Loan_Amount_Term\",\n      \"properties\": {\n        \"dtype\": \"number\",\n        \"std\": 68.54925717464619,\n        \"min\": 12.0,\n        \"max\": 480.0,\n        \"num_unique_values\": 10,\n        \"samples\": [\n          12.0,\n          120.0\n        ],\n        \"semantic_type\": \"\",\n        \"description\": \"\"\n      }\n    },\n    {\n      \"column\": \"Credit_History\",\n      \"properties\": {\n        \"dtype\": \"number\",\n        \"std\": 0.369337591385248,\n        \"min\": 0.0,\n        \"max\": 1.0,\n        \"num_unique_values\": 2,\n        \"samples\": [\n          0.0,\n          1.0\n        ],\n        \"semantic_type\": \"\",\n        \"description\": \"\"\n      }\n    },\n    {\n      \"column\": \"Property_Area\",\n      \"properties\": {\n        \"dtype\": \"category\",\n        \"num_unique_values\": 3,\n        \"samples\": [\n          \"Rural\",\n          \"Urban\"\n        ],\n        \"semantic_type\": \"\",\n        \"description\": \"\"\n      }\n    },\n    {\n      \"column\": \"Loan_Status\",\n      \"properties\": {\n        \"dtype\": \"category\",\n        \"num_unique_values\": 2,\n        \"samples\": [\n          \"Y\",\n          \"N\"\n        ],\n        \"semantic_type\": \"\",\n        \"description\": \"\"\n      }\n    }\n  ]\n}"
            }
          },
          "metadata": {},
          "execution_count": 7
        }
      ]
    },
    {
      "cell_type": "code",
      "source": [
        "summary_data(data)"
      ],
      "metadata": {
        "colab": {
          "base_uri": "https://localhost:8080/",
          "height": 741
        },
        "id": "K3staZ-GkNS9",
        "outputId": "490088fb-15c8-455a-b954-4bbf9dc7b88b"
      },
      "execution_count": null,
      "outputs": [
        {
          "output_type": "stream",
          "name": "stdout",
          "text": [
            "Data Info: \n"
          ]
        },
        {
          "output_type": "display_data",
          "data": {
            "text/plain": [
              "                   Missing %  Duplicated     Type  Unique\n",
              "Loan_ID             0.000000           0   object     381\n",
              "Gender              1.312336           0   object       2\n",
              "Married             0.000000           0   object       2\n",
              "Dependents          2.099738           0   object       4\n",
              "Education           0.000000           0   object       2\n",
              "Self_Employed       5.511811           0   object       2\n",
              "ApplicantIncome     0.000000           0    int64     322\n",
              "CoapplicantIncome   0.000000           0  float64     182\n",
              "LoanAmount          0.000000           0  float64     101\n",
              "Loan_Amount_Term    2.887139           0  float64      10\n",
              "Credit_History      7.874016           0  float64       2\n",
              "Property_Area       0.000000           0   object       3\n",
              "Loan_Status         0.000000           0   object       2"
            ],
            "text/html": [
              "\n",
              "  <div id=\"df-288e4641-623c-4c63-88db-4b30c97bc890\" class=\"colab-df-container\">\n",
              "    <div>\n",
              "<style scoped>\n",
              "    .dataframe tbody tr th:only-of-type {\n",
              "        vertical-align: middle;\n",
              "    }\n",
              "\n",
              "    .dataframe tbody tr th {\n",
              "        vertical-align: top;\n",
              "    }\n",
              "\n",
              "    .dataframe thead th {\n",
              "        text-align: right;\n",
              "    }\n",
              "</style>\n",
              "<table border=\"1\" class=\"dataframe\">\n",
              "  <thead>\n",
              "    <tr style=\"text-align: right;\">\n",
              "      <th></th>\n",
              "      <th>Missing %</th>\n",
              "      <th>Duplicated</th>\n",
              "      <th>Type</th>\n",
              "      <th>Unique</th>\n",
              "    </tr>\n",
              "  </thead>\n",
              "  <tbody>\n",
              "    <tr>\n",
              "      <th>Loan_ID</th>\n",
              "      <td>0.000000</td>\n",
              "      <td>0</td>\n",
              "      <td>object</td>\n",
              "      <td>381</td>\n",
              "    </tr>\n",
              "    <tr>\n",
              "      <th>Gender</th>\n",
              "      <td>1.312336</td>\n",
              "      <td>0</td>\n",
              "      <td>object</td>\n",
              "      <td>2</td>\n",
              "    </tr>\n",
              "    <tr>\n",
              "      <th>Married</th>\n",
              "      <td>0.000000</td>\n",
              "      <td>0</td>\n",
              "      <td>object</td>\n",
              "      <td>2</td>\n",
              "    </tr>\n",
              "    <tr>\n",
              "      <th>Dependents</th>\n",
              "      <td>2.099738</td>\n",
              "      <td>0</td>\n",
              "      <td>object</td>\n",
              "      <td>4</td>\n",
              "    </tr>\n",
              "    <tr>\n",
              "      <th>Education</th>\n",
              "      <td>0.000000</td>\n",
              "      <td>0</td>\n",
              "      <td>object</td>\n",
              "      <td>2</td>\n",
              "    </tr>\n",
              "    <tr>\n",
              "      <th>Self_Employed</th>\n",
              "      <td>5.511811</td>\n",
              "      <td>0</td>\n",
              "      <td>object</td>\n",
              "      <td>2</td>\n",
              "    </tr>\n",
              "    <tr>\n",
              "      <th>ApplicantIncome</th>\n",
              "      <td>0.000000</td>\n",
              "      <td>0</td>\n",
              "      <td>int64</td>\n",
              "      <td>322</td>\n",
              "    </tr>\n",
              "    <tr>\n",
              "      <th>CoapplicantIncome</th>\n",
              "      <td>0.000000</td>\n",
              "      <td>0</td>\n",
              "      <td>float64</td>\n",
              "      <td>182</td>\n",
              "    </tr>\n",
              "    <tr>\n",
              "      <th>LoanAmount</th>\n",
              "      <td>0.000000</td>\n",
              "      <td>0</td>\n",
              "      <td>float64</td>\n",
              "      <td>101</td>\n",
              "    </tr>\n",
              "    <tr>\n",
              "      <th>Loan_Amount_Term</th>\n",
              "      <td>2.887139</td>\n",
              "      <td>0</td>\n",
              "      <td>float64</td>\n",
              "      <td>10</td>\n",
              "    </tr>\n",
              "    <tr>\n",
              "      <th>Credit_History</th>\n",
              "      <td>7.874016</td>\n",
              "      <td>0</td>\n",
              "      <td>float64</td>\n",
              "      <td>2</td>\n",
              "    </tr>\n",
              "    <tr>\n",
              "      <th>Property_Area</th>\n",
              "      <td>0.000000</td>\n",
              "      <td>0</td>\n",
              "      <td>object</td>\n",
              "      <td>3</td>\n",
              "    </tr>\n",
              "    <tr>\n",
              "      <th>Loan_Status</th>\n",
              "      <td>0.000000</td>\n",
              "      <td>0</td>\n",
              "      <td>object</td>\n",
              "      <td>2</td>\n",
              "    </tr>\n",
              "  </tbody>\n",
              "</table>\n",
              "</div>\n",
              "    <div class=\"colab-df-buttons\">\n",
              "\n",
              "  <div class=\"colab-df-container\">\n",
              "    <button class=\"colab-df-convert\" onclick=\"convertToInteractive('df-288e4641-623c-4c63-88db-4b30c97bc890')\"\n",
              "            title=\"Convert this dataframe to an interactive table.\"\n",
              "            style=\"display:none;\">\n",
              "\n",
              "  <svg xmlns=\"http://www.w3.org/2000/svg\" height=\"24px\" viewBox=\"0 -960 960 960\">\n",
              "    <path d=\"M120-120v-720h720v720H120Zm60-500h600v-160H180v160Zm220 220h160v-160H400v160Zm0 220h160v-160H400v160ZM180-400h160v-160H180v160Zm440 0h160v-160H620v160ZM180-180h160v-160H180v160Zm440 0h160v-160H620v160Z\"/>\n",
              "  </svg>\n",
              "    </button>\n",
              "\n",
              "  <style>\n",
              "    .colab-df-container {\n",
              "      display:flex;\n",
              "      gap: 12px;\n",
              "    }\n",
              "\n",
              "    .colab-df-convert {\n",
              "      background-color: #E8F0FE;\n",
              "      border: none;\n",
              "      border-radius: 50%;\n",
              "      cursor: pointer;\n",
              "      display: none;\n",
              "      fill: #1967D2;\n",
              "      height: 32px;\n",
              "      padding: 0 0 0 0;\n",
              "      width: 32px;\n",
              "    }\n",
              "\n",
              "    .colab-df-convert:hover {\n",
              "      background-color: #E2EBFA;\n",
              "      box-shadow: 0px 1px 2px rgba(60, 64, 67, 0.3), 0px 1px 3px 1px rgba(60, 64, 67, 0.15);\n",
              "      fill: #174EA6;\n",
              "    }\n",
              "\n",
              "    .colab-df-buttons div {\n",
              "      margin-bottom: 4px;\n",
              "    }\n",
              "\n",
              "    [theme=dark] .colab-df-convert {\n",
              "      background-color: #3B4455;\n",
              "      fill: #D2E3FC;\n",
              "    }\n",
              "\n",
              "    [theme=dark] .colab-df-convert:hover {\n",
              "      background-color: #434B5C;\n",
              "      box-shadow: 0px 1px 3px 1px rgba(0, 0, 0, 0.15);\n",
              "      filter: drop-shadow(0px 1px 2px rgba(0, 0, 0, 0.3));\n",
              "      fill: #FFFFFF;\n",
              "    }\n",
              "  </style>\n",
              "\n",
              "    <script>\n",
              "      const buttonEl =\n",
              "        document.querySelector('#df-288e4641-623c-4c63-88db-4b30c97bc890 button.colab-df-convert');\n",
              "      buttonEl.style.display =\n",
              "        google.colab.kernel.accessAllowed ? 'block' : 'none';\n",
              "\n",
              "      async function convertToInteractive(key) {\n",
              "        const element = document.querySelector('#df-288e4641-623c-4c63-88db-4b30c97bc890');\n",
              "        const dataTable =\n",
              "          await google.colab.kernel.invokeFunction('convertToInteractive',\n",
              "                                                    [key], {});\n",
              "        if (!dataTable) return;\n",
              "\n",
              "        const docLinkHtml = 'Like what you see? Visit the ' +\n",
              "          '<a target=\"_blank\" href=https://colab.research.google.com/notebooks/data_table.ipynb>data table notebook</a>'\n",
              "          + ' to learn more about interactive tables.';\n",
              "        element.innerHTML = '';\n",
              "        dataTable['output_type'] = 'display_data';\n",
              "        await google.colab.output.renderOutput(dataTable, element);\n",
              "        const docLink = document.createElement('div');\n",
              "        docLink.innerHTML = docLinkHtml;\n",
              "        element.appendChild(docLink);\n",
              "      }\n",
              "    </script>\n",
              "  </div>\n",
              "\n",
              "\n",
              "<div id=\"df-75c346aa-5563-417d-8ac7-f0184c19ad4f\">\n",
              "  <button class=\"colab-df-quickchart\" onclick=\"quickchart('df-75c346aa-5563-417d-8ac7-f0184c19ad4f')\"\n",
              "            title=\"Suggest charts\"\n",
              "            style=\"display:none;\">\n",
              "\n",
              "<svg xmlns=\"http://www.w3.org/2000/svg\" height=\"24px\"viewBox=\"0 0 24 24\"\n",
              "     width=\"24px\">\n",
              "    <g>\n",
              "        <path d=\"M19 3H5c-1.1 0-2 .9-2 2v14c0 1.1.9 2 2 2h14c1.1 0 2-.9 2-2V5c0-1.1-.9-2-2-2zM9 17H7v-7h2v7zm4 0h-2V7h2v10zm4 0h-2v-4h2v4z\"/>\n",
              "    </g>\n",
              "</svg>\n",
              "  </button>\n",
              "\n",
              "<style>\n",
              "  .colab-df-quickchart {\n",
              "      --bg-color: #E8F0FE;\n",
              "      --fill-color: #1967D2;\n",
              "      --hover-bg-color: #E2EBFA;\n",
              "      --hover-fill-color: #174EA6;\n",
              "      --disabled-fill-color: #AAA;\n",
              "      --disabled-bg-color: #DDD;\n",
              "  }\n",
              "\n",
              "  [theme=dark] .colab-df-quickchart {\n",
              "      --bg-color: #3B4455;\n",
              "      --fill-color: #D2E3FC;\n",
              "      --hover-bg-color: #434B5C;\n",
              "      --hover-fill-color: #FFFFFF;\n",
              "      --disabled-bg-color: #3B4455;\n",
              "      --disabled-fill-color: #666;\n",
              "  }\n",
              "\n",
              "  .colab-df-quickchart {\n",
              "    background-color: var(--bg-color);\n",
              "    border: none;\n",
              "    border-radius: 50%;\n",
              "    cursor: pointer;\n",
              "    display: none;\n",
              "    fill: var(--fill-color);\n",
              "    height: 32px;\n",
              "    padding: 0;\n",
              "    width: 32px;\n",
              "  }\n",
              "\n",
              "  .colab-df-quickchart:hover {\n",
              "    background-color: var(--hover-bg-color);\n",
              "    box-shadow: 0 1px 2px rgba(60, 64, 67, 0.3), 0 1px 3px 1px rgba(60, 64, 67, 0.15);\n",
              "    fill: var(--button-hover-fill-color);\n",
              "  }\n",
              "\n",
              "  .colab-df-quickchart-complete:disabled,\n",
              "  .colab-df-quickchart-complete:disabled:hover {\n",
              "    background-color: var(--disabled-bg-color);\n",
              "    fill: var(--disabled-fill-color);\n",
              "    box-shadow: none;\n",
              "  }\n",
              "\n",
              "  .colab-df-spinner {\n",
              "    border: 2px solid var(--fill-color);\n",
              "    border-color: transparent;\n",
              "    border-bottom-color: var(--fill-color);\n",
              "    animation:\n",
              "      spin 1s steps(1) infinite;\n",
              "  }\n",
              "\n",
              "  @keyframes spin {\n",
              "    0% {\n",
              "      border-color: transparent;\n",
              "      border-bottom-color: var(--fill-color);\n",
              "      border-left-color: var(--fill-color);\n",
              "    }\n",
              "    20% {\n",
              "      border-color: transparent;\n",
              "      border-left-color: var(--fill-color);\n",
              "      border-top-color: var(--fill-color);\n",
              "    }\n",
              "    30% {\n",
              "      border-color: transparent;\n",
              "      border-left-color: var(--fill-color);\n",
              "      border-top-color: var(--fill-color);\n",
              "      border-right-color: var(--fill-color);\n",
              "    }\n",
              "    40% {\n",
              "      border-color: transparent;\n",
              "      border-right-color: var(--fill-color);\n",
              "      border-top-color: var(--fill-color);\n",
              "    }\n",
              "    60% {\n",
              "      border-color: transparent;\n",
              "      border-right-color: var(--fill-color);\n",
              "    }\n",
              "    80% {\n",
              "      border-color: transparent;\n",
              "      border-right-color: var(--fill-color);\n",
              "      border-bottom-color: var(--fill-color);\n",
              "    }\n",
              "    90% {\n",
              "      border-color: transparent;\n",
              "      border-bottom-color: var(--fill-color);\n",
              "    }\n",
              "  }\n",
              "</style>\n",
              "\n",
              "  <script>\n",
              "    async function quickchart(key) {\n",
              "      const quickchartButtonEl =\n",
              "        document.querySelector('#' + key + ' button');\n",
              "      quickchartButtonEl.disabled = true;  // To prevent multiple clicks.\n",
              "      quickchartButtonEl.classList.add('colab-df-spinner');\n",
              "      try {\n",
              "        const charts = await google.colab.kernel.invokeFunction(\n",
              "            'suggestCharts', [key], {});\n",
              "      } catch (error) {\n",
              "        console.error('Error during call to suggestCharts:', error);\n",
              "      }\n",
              "      quickchartButtonEl.classList.remove('colab-df-spinner');\n",
              "      quickchartButtonEl.classList.add('colab-df-quickchart-complete');\n",
              "    }\n",
              "    (() => {\n",
              "      let quickchartButtonEl =\n",
              "        document.querySelector('#df-75c346aa-5563-417d-8ac7-f0184c19ad4f button');\n",
              "      quickchartButtonEl.style.display =\n",
              "        google.colab.kernel.accessAllowed ? 'block' : 'none';\n",
              "    })();\n",
              "  </script>\n",
              "</div>\n",
              "\n",
              "    </div>\n",
              "  </div>\n"
            ],
            "application/vnd.google.colaboratory.intrinsic+json": {
              "type": "dataframe",
              "summary": "{\n  \"name\": \"summary_data(data)\",\n  \"rows\": 13,\n  \"fields\": [\n    {\n      \"column\": \"Missing %\",\n      \"properties\": {\n        \"dtype\": \"number\",\n        \"std\": 2.533757559390651,\n        \"min\": 0.0,\n        \"max\": 7.874015748031496,\n        \"num_unique_values\": 6,\n        \"samples\": [\n          0.0,\n          1.3123359580052494,\n          7.874015748031496\n        ],\n        \"semantic_type\": \"\",\n        \"description\": \"\"\n      }\n    },\n    {\n      \"column\": \"Duplicated\",\n      \"properties\": {\n        \"dtype\": \"number\",\n        \"std\": 0,\n        \"min\": 0,\n        \"max\": 0,\n        \"num_unique_values\": 1,\n        \"samples\": [\n          0\n        ],\n        \"semantic_type\": \"\",\n        \"description\": \"\"\n      }\n    },\n    {\n      \"column\": \"Type\",\n      \"properties\": {\n        \"dtype\": \"category\",\n        \"num_unique_values\": 3,\n        \"samples\": [\n          \"object\"\n        ],\n        \"semantic_type\": \"\",\n        \"description\": \"\"\n      }\n    },\n    {\n      \"column\": \"Unique\",\n      \"properties\": {\n        \"dtype\": \"number\",\n        \"std\": 133,\n        \"min\": 2,\n        \"max\": 381,\n        \"num_unique_values\": 8,\n        \"samples\": [\n          2\n        ],\n        \"semantic_type\": \"\",\n        \"description\": \"\"\n      }\n    }\n  ]\n}"
            }
          },
          "metadata": {}
        },
        {
          "output_type": "stream",
          "name": "stdout",
          "text": [
            "Data shape: \n"
          ]
        },
        {
          "output_type": "display_data",
          "data": {
            "text/plain": [
              "(381, 13)"
            ]
          },
          "metadata": {}
        },
        {
          "output_type": "stream",
          "name": "stdout",
          "text": [
            "\n",
            " \n",
            " Numeric Variables Correlation\n"
          ]
        },
        {
          "output_type": "display_data",
          "data": {
            "text/plain": [
              "                   ApplicantIncome  CoapplicantIncome  LoanAmount  \\\n",
              "ApplicantIncome         100.000000         -24.869305   27.068147   \n",
              "CoapplicantIncome       -24.869305         100.000000   11.493645   \n",
              "LoanAmount               27.068147          11.493645  100.000000   \n",
              "Loan_Amount_Term        -10.987524           0.190561   12.357887   \n",
              "Credit_History            0.453455           2.301520   -4.789941   \n",
              "\n",
              "                   Loan_Amount_Term  Credit_History  \n",
              "ApplicantIncome          -10.987524        0.453455  \n",
              "CoapplicantIncome          0.190561        2.301520  \n",
              "LoanAmount                12.357887       -4.789941  \n",
              "Loan_Amount_Term         100.000000       -1.345238  \n",
              "Credit_History            -1.345238      100.000000  "
            ],
            "text/html": [
              "\n",
              "  <div id=\"df-3248fa4e-23b0-4c02-8907-ddef4cc792b8\" class=\"colab-df-container\">\n",
              "    <div>\n",
              "<style scoped>\n",
              "    .dataframe tbody tr th:only-of-type {\n",
              "        vertical-align: middle;\n",
              "    }\n",
              "\n",
              "    .dataframe tbody tr th {\n",
              "        vertical-align: top;\n",
              "    }\n",
              "\n",
              "    .dataframe thead th {\n",
              "        text-align: right;\n",
              "    }\n",
              "</style>\n",
              "<table border=\"1\" class=\"dataframe\">\n",
              "  <thead>\n",
              "    <tr style=\"text-align: right;\">\n",
              "      <th></th>\n",
              "      <th>ApplicantIncome</th>\n",
              "      <th>CoapplicantIncome</th>\n",
              "      <th>LoanAmount</th>\n",
              "      <th>Loan_Amount_Term</th>\n",
              "      <th>Credit_History</th>\n",
              "    </tr>\n",
              "  </thead>\n",
              "  <tbody>\n",
              "    <tr>\n",
              "      <th>ApplicantIncome</th>\n",
              "      <td>100.000000</td>\n",
              "      <td>-24.869305</td>\n",
              "      <td>27.068147</td>\n",
              "      <td>-10.987524</td>\n",
              "      <td>0.453455</td>\n",
              "    </tr>\n",
              "    <tr>\n",
              "      <th>CoapplicantIncome</th>\n",
              "      <td>-24.869305</td>\n",
              "      <td>100.000000</td>\n",
              "      <td>11.493645</td>\n",
              "      <td>0.190561</td>\n",
              "      <td>2.301520</td>\n",
              "    </tr>\n",
              "    <tr>\n",
              "      <th>LoanAmount</th>\n",
              "      <td>27.068147</td>\n",
              "      <td>11.493645</td>\n",
              "      <td>100.000000</td>\n",
              "      <td>12.357887</td>\n",
              "      <td>-4.789941</td>\n",
              "    </tr>\n",
              "    <tr>\n",
              "      <th>Loan_Amount_Term</th>\n",
              "      <td>-10.987524</td>\n",
              "      <td>0.190561</td>\n",
              "      <td>12.357887</td>\n",
              "      <td>100.000000</td>\n",
              "      <td>-1.345238</td>\n",
              "    </tr>\n",
              "    <tr>\n",
              "      <th>Credit_History</th>\n",
              "      <td>0.453455</td>\n",
              "      <td>2.301520</td>\n",
              "      <td>-4.789941</td>\n",
              "      <td>-1.345238</td>\n",
              "      <td>100.000000</td>\n",
              "    </tr>\n",
              "  </tbody>\n",
              "</table>\n",
              "</div>\n",
              "    <div class=\"colab-df-buttons\">\n",
              "\n",
              "  <div class=\"colab-df-container\">\n",
              "    <button class=\"colab-df-convert\" onclick=\"convertToInteractive('df-3248fa4e-23b0-4c02-8907-ddef4cc792b8')\"\n",
              "            title=\"Convert this dataframe to an interactive table.\"\n",
              "            style=\"display:none;\">\n",
              "\n",
              "  <svg xmlns=\"http://www.w3.org/2000/svg\" height=\"24px\" viewBox=\"0 -960 960 960\">\n",
              "    <path d=\"M120-120v-720h720v720H120Zm60-500h600v-160H180v160Zm220 220h160v-160H400v160Zm0 220h160v-160H400v160ZM180-400h160v-160H180v160Zm440 0h160v-160H620v160ZM180-180h160v-160H180v160Zm440 0h160v-160H620v160Z\"/>\n",
              "  </svg>\n",
              "    </button>\n",
              "\n",
              "  <style>\n",
              "    .colab-df-container {\n",
              "      display:flex;\n",
              "      gap: 12px;\n",
              "    }\n",
              "\n",
              "    .colab-df-convert {\n",
              "      background-color: #E8F0FE;\n",
              "      border: none;\n",
              "      border-radius: 50%;\n",
              "      cursor: pointer;\n",
              "      display: none;\n",
              "      fill: #1967D2;\n",
              "      height: 32px;\n",
              "      padding: 0 0 0 0;\n",
              "      width: 32px;\n",
              "    }\n",
              "\n",
              "    .colab-df-convert:hover {\n",
              "      background-color: #E2EBFA;\n",
              "      box-shadow: 0px 1px 2px rgba(60, 64, 67, 0.3), 0px 1px 3px 1px rgba(60, 64, 67, 0.15);\n",
              "      fill: #174EA6;\n",
              "    }\n",
              "\n",
              "    .colab-df-buttons div {\n",
              "      margin-bottom: 4px;\n",
              "    }\n",
              "\n",
              "    [theme=dark] .colab-df-convert {\n",
              "      background-color: #3B4455;\n",
              "      fill: #D2E3FC;\n",
              "    }\n",
              "\n",
              "    [theme=dark] .colab-df-convert:hover {\n",
              "      background-color: #434B5C;\n",
              "      box-shadow: 0px 1px 3px 1px rgba(0, 0, 0, 0.15);\n",
              "      filter: drop-shadow(0px 1px 2px rgba(0, 0, 0, 0.3));\n",
              "      fill: #FFFFFF;\n",
              "    }\n",
              "  </style>\n",
              "\n",
              "    <script>\n",
              "      const buttonEl =\n",
              "        document.querySelector('#df-3248fa4e-23b0-4c02-8907-ddef4cc792b8 button.colab-df-convert');\n",
              "      buttonEl.style.display =\n",
              "        google.colab.kernel.accessAllowed ? 'block' : 'none';\n",
              "\n",
              "      async function convertToInteractive(key) {\n",
              "        const element = document.querySelector('#df-3248fa4e-23b0-4c02-8907-ddef4cc792b8');\n",
              "        const dataTable =\n",
              "          await google.colab.kernel.invokeFunction('convertToInteractive',\n",
              "                                                    [key], {});\n",
              "        if (!dataTable) return;\n",
              "\n",
              "        const docLinkHtml = 'Like what you see? Visit the ' +\n",
              "          '<a target=\"_blank\" href=https://colab.research.google.com/notebooks/data_table.ipynb>data table notebook</a>'\n",
              "          + ' to learn more about interactive tables.';\n",
              "        element.innerHTML = '';\n",
              "        dataTable['output_type'] = 'display_data';\n",
              "        await google.colab.output.renderOutput(dataTable, element);\n",
              "        const docLink = document.createElement('div');\n",
              "        docLink.innerHTML = docLinkHtml;\n",
              "        element.appendChild(docLink);\n",
              "      }\n",
              "    </script>\n",
              "  </div>\n",
              "\n",
              "\n",
              "<div id=\"df-f541ace1-4ec9-4bb1-be19-b23ae6169f0b\">\n",
              "  <button class=\"colab-df-quickchart\" onclick=\"quickchart('df-f541ace1-4ec9-4bb1-be19-b23ae6169f0b')\"\n",
              "            title=\"Suggest charts\"\n",
              "            style=\"display:none;\">\n",
              "\n",
              "<svg xmlns=\"http://www.w3.org/2000/svg\" height=\"24px\"viewBox=\"0 0 24 24\"\n",
              "     width=\"24px\">\n",
              "    <g>\n",
              "        <path d=\"M19 3H5c-1.1 0-2 .9-2 2v14c0 1.1.9 2 2 2h14c1.1 0 2-.9 2-2V5c0-1.1-.9-2-2-2zM9 17H7v-7h2v7zm4 0h-2V7h2v10zm4 0h-2v-4h2v4z\"/>\n",
              "    </g>\n",
              "</svg>\n",
              "  </button>\n",
              "\n",
              "<style>\n",
              "  .colab-df-quickchart {\n",
              "      --bg-color: #E8F0FE;\n",
              "      --fill-color: #1967D2;\n",
              "      --hover-bg-color: #E2EBFA;\n",
              "      --hover-fill-color: #174EA6;\n",
              "      --disabled-fill-color: #AAA;\n",
              "      --disabled-bg-color: #DDD;\n",
              "  }\n",
              "\n",
              "  [theme=dark] .colab-df-quickchart {\n",
              "      --bg-color: #3B4455;\n",
              "      --fill-color: #D2E3FC;\n",
              "      --hover-bg-color: #434B5C;\n",
              "      --hover-fill-color: #FFFFFF;\n",
              "      --disabled-bg-color: #3B4455;\n",
              "      --disabled-fill-color: #666;\n",
              "  }\n",
              "\n",
              "  .colab-df-quickchart {\n",
              "    background-color: var(--bg-color);\n",
              "    border: none;\n",
              "    border-radius: 50%;\n",
              "    cursor: pointer;\n",
              "    display: none;\n",
              "    fill: var(--fill-color);\n",
              "    height: 32px;\n",
              "    padding: 0;\n",
              "    width: 32px;\n",
              "  }\n",
              "\n",
              "  .colab-df-quickchart:hover {\n",
              "    background-color: var(--hover-bg-color);\n",
              "    box-shadow: 0 1px 2px rgba(60, 64, 67, 0.3), 0 1px 3px 1px rgba(60, 64, 67, 0.15);\n",
              "    fill: var(--button-hover-fill-color);\n",
              "  }\n",
              "\n",
              "  .colab-df-quickchart-complete:disabled,\n",
              "  .colab-df-quickchart-complete:disabled:hover {\n",
              "    background-color: var(--disabled-bg-color);\n",
              "    fill: var(--disabled-fill-color);\n",
              "    box-shadow: none;\n",
              "  }\n",
              "\n",
              "  .colab-df-spinner {\n",
              "    border: 2px solid var(--fill-color);\n",
              "    border-color: transparent;\n",
              "    border-bottom-color: var(--fill-color);\n",
              "    animation:\n",
              "      spin 1s steps(1) infinite;\n",
              "  }\n",
              "\n",
              "  @keyframes spin {\n",
              "    0% {\n",
              "      border-color: transparent;\n",
              "      border-bottom-color: var(--fill-color);\n",
              "      border-left-color: var(--fill-color);\n",
              "    }\n",
              "    20% {\n",
              "      border-color: transparent;\n",
              "      border-left-color: var(--fill-color);\n",
              "      border-top-color: var(--fill-color);\n",
              "    }\n",
              "    30% {\n",
              "      border-color: transparent;\n",
              "      border-left-color: var(--fill-color);\n",
              "      border-top-color: var(--fill-color);\n",
              "      border-right-color: var(--fill-color);\n",
              "    }\n",
              "    40% {\n",
              "      border-color: transparent;\n",
              "      border-right-color: var(--fill-color);\n",
              "      border-top-color: var(--fill-color);\n",
              "    }\n",
              "    60% {\n",
              "      border-color: transparent;\n",
              "      border-right-color: var(--fill-color);\n",
              "    }\n",
              "    80% {\n",
              "      border-color: transparent;\n",
              "      border-right-color: var(--fill-color);\n",
              "      border-bottom-color: var(--fill-color);\n",
              "    }\n",
              "    90% {\n",
              "      border-color: transparent;\n",
              "      border-bottom-color: var(--fill-color);\n",
              "    }\n",
              "  }\n",
              "</style>\n",
              "\n",
              "  <script>\n",
              "    async function quickchart(key) {\n",
              "      const quickchartButtonEl =\n",
              "        document.querySelector('#' + key + ' button');\n",
              "      quickchartButtonEl.disabled = true;  // To prevent multiple clicks.\n",
              "      quickchartButtonEl.classList.add('colab-df-spinner');\n",
              "      try {\n",
              "        const charts = await google.colab.kernel.invokeFunction(\n",
              "            'suggestCharts', [key], {});\n",
              "      } catch (error) {\n",
              "        console.error('Error during call to suggestCharts:', error);\n",
              "      }\n",
              "      quickchartButtonEl.classList.remove('colab-df-spinner');\n",
              "      quickchartButtonEl.classList.add('colab-df-quickchart-complete');\n",
              "    }\n",
              "    (() => {\n",
              "      let quickchartButtonEl =\n",
              "        document.querySelector('#df-f541ace1-4ec9-4bb1-be19-b23ae6169f0b button');\n",
              "      quickchartButtonEl.style.display =\n",
              "        google.colab.kernel.accessAllowed ? 'block' : 'none';\n",
              "    })();\n",
              "  </script>\n",
              "</div>\n",
              "\n",
              "    </div>\n",
              "  </div>\n"
            ],
            "application/vnd.google.colaboratory.intrinsic+json": {
              "type": "dataframe",
              "summary": "{\n  \"name\": \"summary_data(data)\",\n  \"rows\": 5,\n  \"fields\": [\n    {\n      \"column\": \"ApplicantIncome\",\n      \"properties\": {\n        \"dtype\": \"number\",\n        \"std\": 49.47628754960513,\n        \"min\": -24.869305117163954,\n        \"max\": 100.0,\n        \"num_unique_values\": 5,\n        \"samples\": [\n          -24.869305117163954,\n          0.4534548835377515,\n          27.068147084273352\n        ],\n        \"semantic_type\": \"\",\n        \"description\": \"\"\n      }\n    },\n    {\n      \"column\": \"CoapplicantIncome\",\n      \"properties\": {\n        \"dtype\": \"number\",\n        \"std\": 47.87371994206825,\n        \"min\": -24.869305117163954,\n        \"max\": 100.0,\n        \"num_unique_values\": 5,\n        \"samples\": [\n          100.0,\n          2.3015198520793927,\n          11.493645173206243\n        ],\n        \"semantic_type\": \"\",\n        \"description\": \"\"\n      }\n    },\n    {\n      \"column\": \"LoanAmount\",\n      \"properties\": {\n        \"dtype\": \"number\",\n        \"std\": 41.13900016113786,\n        \"min\": -4.789941467930965,\n        \"max\": 100.0,\n        \"num_unique_values\": 5,\n        \"samples\": [\n          11.493645173206243,\n          -4.789941467930965,\n          100.0\n        ],\n        \"semantic_type\": \"\",\n        \"description\": \"\"\n      }\n    },\n    {\n      \"column\": \"Loan_Amount_Term\",\n      \"properties\": {\n        \"dtype\": \"number\",\n        \"std\": 45.46056625719679,\n        \"min\": -10.987524111672201,\n        \"max\": 100.0,\n        \"num_unique_values\": 5,\n        \"samples\": [\n          0.19056054747104634,\n          -1.345238397028717,\n          12.357886584823241\n        ],\n        \"semantic_type\": \"\",\n        \"description\": \"\"\n      }\n    },\n    {\n      \"column\": \"Credit_History\",\n      \"properties\": {\n        \"dtype\": \"number\",\n        \"std\": 45.17515597206715,\n        \"min\": -4.789941467930965,\n        \"max\": 100.0,\n        \"num_unique_values\": 5,\n        \"samples\": [\n          2.3015198520793927,\n          100.0,\n          -4.789941467930965\n        ],\n        \"semantic_type\": \"\",\n        \"description\": \"\"\n      }\n    }\n  ]\n}"
            }
          },
          "metadata": {}
        }
      ]
    },
    {
      "cell_type": "code",
      "source": [
        "plt.figure(figsize = (10, 4))\n",
        "sns.countplot(x = data['Loan_Status'], palette = 'viridis', saturation = 0.54, width = 0.6323)\n",
        "plt.title('Target Distribution', weight = 'bold', style = 'italic')\n",
        "plt.show()"
      ],
      "metadata": {
        "colab": {
          "base_uri": "https://localhost:8080/",
          "height": 410
        },
        "id": "6BNtAefhkrFV",
        "outputId": "b07698e9-1f65-4e6a-ffb6-cbe0c3b39d70"
      },
      "execution_count": null,
      "outputs": [
        {
          "output_type": "display_data",
          "data": {
            "text/plain": [
              "<Figure size 1000x400 with 1 Axes>"
            ],
            "image/png": "[encoded data removed]"
          },
          "metadata": {}
        }
      ]
    },
    {
      "cell_type": "code",
      "source": [
        "print('Number of occurrences:  \\n')\n",
        "display(data['Loan_Status'].value_counts())"
      ],
      "metadata": {
        "colab": {
          "base_uri": "https://localhost:8080/",
          "height": 119
        },
        "id": "VECFba5kktl2",
        "outputId": "2061ddbb-42f0-4884-a263-7ff86234d12f"
      },
      "execution_count": null,
      "outputs": [
        {
          "output_type": "stream",
          "name": "stdout",
          "text": [
            "Number of occurrences:  \n",
            "\n"
          ]
        },
        {
          "output_type": "display_data",
          "data": {
            "text/plain": [
              "Loan_Status\n",
              "Y    271\n",
              "N    110\n",
              "Name: count, dtype: int64"
            ]
          },
          "metadata": {}
        }
      ]
    },
    {
      "cell_type": "code",
      "source": [
        "print('Proportion in %: \\n ')\n",
        "display(data['Loan_Status'].value_counts(normalize = True))"
      ],
      "metadata": {
        "colab": {
          "base_uri": "https://localhost:8080/",
          "height": 119
        },
        "id": "eYEagj-ZkwMp",
        "outputId": "ff9357a4-8f77-4120-a1d5-0a9f5312d927"
      },
      "execution_count": null,
      "outputs": [
        {
          "output_type": "stream",
          "name": "stdout",
          "text": [
            "Proportion in %: \n",
            " \n"
          ]
        },
        {
          "output_type": "display_data",
          "data": {
            "text/plain": [
              "Loan_Status\n",
              "Y    0.711286\n",
              "N    0.288714\n",
              "Name: proportion, dtype: float64"
            ]
          },
          "metadata": {}
        }
      ]
    },
    {
      "cell_type": "code",
      "source": [
        "for col in data.drop(['Loan_ID', 'Loan_Status'],axis = 1).select_dtypes('O').columns:\n",
        "    plt.figure(figsize = (10, 4))\n",
        "    sns.countplot(data =data, x = col, hue = 'Loan_Status', palette = 'viridis')\n",
        "    plt.xlabel(None)\n",
        "    plt.title(col)\n",
        "    plt.show()"
      ],
      "metadata": {
        "colab": {
          "base_uri": "https://localhost:8080/",
          "height": 1000
        },
        "id": "EY9K7-JdkylZ",
        "outputId": "ad8c2307-71d8-4140-c421-f709b3ff4e1b"
      },
      "execution_count": null,
      "outputs": [
        {
          "output_type": "display_data",
          "data": {
            "text/plain": [
              "<Figure size 1000x400 with 1 Axes>"
            ],
            "image/png": "[encoded data removed]"
          },
          "metadata": {}
        },
        {
          "output_type": "display_data",
          "data": {
            "text/plain": [
              "<Figure size 1000x400 with 1 Axes>"
            ],
            "image/png": "[encoded data removed]"
          },
          "metadata": {}
        },
        {
          "output_type": "display_data",
          "data": {
            "text/plain": [
              "<Figure size 1000x400 with 1 Axes>"
            ],
            "image/png": "[encoded data removed]"
          },
          "metadata": {}
        },
        {
          "output_type": "display_data",
          "data": {
            "text/plain": [
              "<Figure size 1000x400 with 1 Axes>"
            ],
            "image/png": "[encoded data removed]"
          },
          "metadata": {}
        },
        {
          "output_type": "display_data",
          "data": {
            "text/plain": [
              "<Figure size 1000x400 with 1 Axes>"
            ],
            "image/png": "[encoded data removed]"
          },
          "metadata": {}
        },
        {
          "output_type": "display_data",
          "data": {
            "text/plain": [
              "<Figure size 1000x400 with 1 Axes>"
            ],
            "image/png": "[encoded data removed]"
          },
          "metadata": {}
        }
      ]
    },
    {
      "cell_type": "code",
      "source": [
        "data.select_dtypes(np.number).hist(figsize = (12, 12), color = '#5fb085');"
      ],
      "metadata": {
        "colab": {
          "base_uri": "https://localhost:8080/",
          "height": 1000
        },
        "id": "mTlLl1hhk1DT",
        "outputId": "bc8e052d-26b0-4251-f5ae-d676f6e6fc46"
      },
      "execution_count": null,
      "outputs": [
        {
          "output_type": "display_data",
          "data": {
            "text/plain": [
              "<Figure size 1200x1200 with 6 Axes>"
            ],
            "image/png": "[encoded data removed]"
          },
          "metadata": {}
        }
      ]
    },
    {
      "cell_type": "code",
      "source": [
        "data.select_dtypes(np.number).boxplot(figsize = (10, 7));"
      ],
      "metadata": {
        "colab": {
          "base_uri": "https://localhost:8080/",
          "height": 599
        },
        "id": "XxWYOXAzk-vl",
        "outputId": "71cc6016-30fa-406b-e3b8-751a156f7e52"
      },
      "execution_count": null,
      "outputs": [
        {
          "output_type": "display_data",
          "data": {
            "text/plain": [
              "<Figure size 1000x700 with 1 Axes>"
            ],
            "image/png": "[encoded data removed]"
          },
          "metadata": {}
        }
      ]
    },
    {
      "cell_type": "code",
      "source": [
        "for col in data.select_dtypes(np.float64).columns:\n",
        "\n",
        "    plt.figure(figsize = (8, 8))\n",
        "    sns.jointplot(data, x = 'LoanAmount', y = col, hue = 'Loan_Status', palette = 'viridis')\n",
        "    plt.show()"
      ],
      "metadata": {
        "colab": {
          "base_uri": "https://localhost:8080/",
          "height": 1000
        },
        "id": "CYm_57UHlCvf",
        "outputId": "f1c13b55-6b4d-4380-e336-7cdec8daac71"
      },
      "execution_count": null,
      "outputs": [
        {
          "output_type": "display_data",
          "data": {
            "text/plain": [
              "<Figure size 800x800 with 0 Axes>"
            ]
          },
          "metadata": {}
        },
        {
          "output_type": "display_data",
          "data": {
            "text/plain": [
              "<Figure size 600x600 with 3 Axes>"
            ],
            "image/png": "[encoded data removed]"
          },
          "metadata": {}
        },
        {
          "output_type": "display_data",
          "data": {
            "text/plain": [
              "<Figure size 800x800 with 0 Axes>"
            ]
          },
          "metadata": {}
        },
        {
          "output_type": "display_data",
          "data": {
            "text/plain": [
              "<Figure size 600x600 with 3 Axes>"
            ],
            "image/png": "[encoded data removed]"
          },
          "metadata": {}
        },
        {
          "output_type": "display_data",
          "data": {
            "text/plain": [
              "<Figure size 800x800 with 0 Axes>"
            ]
          },
          "metadata": {}
        },
        {
          "output_type": "display_data",
          "data": {
            "text/plain": [
              "<Figure size 600x600 with 3 Axes>"
            ],
            "image/png": "[encoded data removed]"
          },
          "metadata": {}
        },
        {
          "output_type": "display_data",
          "data": {
            "text/plain": [
              "<Figure size 800x800 with 0 Axes>"
            ]
          },
          "metadata": {}
        },
        {
          "output_type": "display_data",
          "data": {
            "text/plain": [
              "<Figure size 600x600 with 3 Axes>"
            ],
            "image/png": "[encoded data removed]"
          },
          "metadata": {}
        }
      ]
    },
    {
      "cell_type": "markdown",
      "source": [
        "# Data Split"
      ],
      "metadata": {
        "id": "Igzcp1rRlLO2"
      }
    },
    {
      "cell_type": "code",
      "source": [
        "X = data.drop('Loan_Status', axis = 1)\n",
        "y = data['Loan_Status']\n",
        "\n",
        "X_train, X_test, y_train, y_test = train_test_split(X, y, stratify = y, test_size = 0.15, random_state = 0)\n",
        "\n",
        "X_train.shape, X_test.shape"
      ],
      "metadata": {
        "colab": {
          "base_uri": "https://localhost:8080/"
        },
        "id": "Ovwf6Nw6lFmZ",
        "outputId": "2b75bf58-ac72-4fac-b9ef-9e8ed2aa1bfc"
      },
      "execution_count": null,
      "outputs": [
        {
          "output_type": "execute_result",
          "data": {
            "text/plain": [
              "((323, 12), (58, 12))"
            ]
          },
          "metadata": {},
          "execution_count": 16
        }
      ]
    },
    {
      "cell_type": "markdown",
      "source": [
        "# Feature Engineering"
      ],
      "metadata": {
        "id": "NdfrE4H8lQqG"
      }
    },
    {
      "cell_type": "code",
      "source": [
        "X_train.head()"
      ],
      "metadata": {
        "colab": {
          "base_uri": "https://localhost:8080/",
          "height": 241
        },
        "id": "8YB344_2lQJU",
        "outputId": "b49857d0-22d6-4432-9eaa-9150f5ff6d30"
      },
      "execution_count": null,
      "outputs": [
        {
          "output_type": "execute_result",
          "data": {
            "text/plain": [
              "      Loan_ID  Gender Married Dependents     Education Self_Employed  \\\n",
              "208  LP002086  Female     Yes          0      Graduate            No   \n",
              "72   LP001370    Male      No          0  Not Graduate           NaN   \n",
              "86   LP001489  Female     Yes          0      Graduate            No   \n",
              "62   LP001316    Male     Yes          0      Graduate            No   \n",
              "285  LP002443    Male     Yes          2      Graduate            No   \n",
              "\n",
              "     ApplicantIncome  CoapplicantIncome  LoanAmount  Loan_Amount_Term  \\\n",
              "208             4333             2451.0       110.0             360.0   \n",
              "72              7333                0.0       120.0             360.0   \n",
              "86              4583                0.0        84.0             360.0   \n",
              "62              2958             2900.0       131.0             360.0   \n",
              "285             3340             1710.0       150.0             360.0   \n",
              "\n",
              "     Credit_History Property_Area  \n",
              "208             1.0         Urban  \n",
              "72              1.0         Rural  \n",
              "86              1.0         Rural  \n",
              "62              1.0     Semiurban  \n",
              "285             0.0         Rural  "
            ],
            "text/html": [
              "\n",
              "  <div id=\"df-6f6faa2c-d840-4a8b-beb3-6b882cc22540\" class=\"colab-df-container\">\n",
              "    <div>\n",
              "<style scoped>\n",
              "    .dataframe tbody tr th:only-of-type {\n",
              "        vertical-align: middle;\n",
              "    }\n",
              "\n",
              "    .dataframe tbody tr th {\n",
              "        vertical-align: top;\n",
              "    }\n",
              "\n",
              "    .dataframe thead th {\n",
              "        text-align: right;\n",
              "    }\n",
              "</style>\n",
              "<table border=\"1\" class=\"dataframe\">\n",
              "  <thead>\n",
              "    <tr style=\"text-align: right;\">\n",
              "      <th></th>\n",
              "      <th>Loan_ID</th>\n",
              "      <th>Gender</th>\n",
              "      <th>Married</th>\n",
              "      <th>Dependents</th>\n",
              "      <th>Education</th>\n",
              "      <th>Self_Employed</th>\n",
              "      <th>ApplicantIncome</th>\n",
              "      <th>CoapplicantIncome</th>\n",
              "      <th>LoanAmount</th>\n",
              "      <th>Loan_Amount_Term</th>\n",
              "      <th>Credit_History</th>\n",
              "      <th>Property_Area</th>\n",
              "    </tr>\n",
              "  </thead>\n",
              "  <tbody>\n",
              "    <tr>\n",
              "      <th>208</th>\n",
              "      <td>LP002086</td>\n",
              "      <td>Female</td>\n",
              "      <td>Yes</td>\n",
              "      <td>0</td>\n",
              "      <td>Graduate</td>\n",
              "      <td>No</td>\n",
              "      <td>4333</td>\n",
              "      <td>2451.0</td>\n",
              "      <td>110.0</td>\n",
              "      <td>360.0</td>\n",
              "      <td>1.0</td>\n",
              "      <td>Urban</td>\n",
              "    </tr>\n",
              "    <tr>\n",
              "      <th>72</th>\n",
              "      <td>LP001370</td>\n",
              "      <td>Male</td>\n",
              "      <td>No</td>\n",
              "      <td>0</td>\n",
              "      <td>Not Graduate</td>\n",
              "      <td>NaN</td>\n",
              "      <td>7333</td>\n",
              "      <td>0.0</td>\n",
              "      <td>120.0</td>\n",
              "      <td>360.0</td>\n",
              "      <td>1.0</td>\n",
              "      <td>Rural</td>\n",
              "    </tr>\n",
              "    <tr>\n",
              "      <th>86</th>\n",
              "      <td>LP001489</td>\n",
              "      <td>Female</td>\n",
              "      <td>Yes</td>\n",
              "      <td>0</td>\n",
              "      <td>Graduate</td>\n",
              "      <td>No</td>\n",
              "      <td>4583</td>\n",
              "      <td>0.0</td>\n",
              "      <td>84.0</td>\n",
              "      <td>360.0</td>\n",
              "      <td>1.0</td>\n",
              "      <td>Rural</td>\n",
              "    </tr>\n",
              "    <tr>\n",
              "      <th>62</th>\n",
              "      <td>LP001316</td>\n",
              "      <td>Male</td>\n",
              "      <td>Yes</td>\n",
              "      <td>0</td>\n",
              "      <td>Graduate</td>\n",
              "      <td>No</td>\n",
              "      <td>2958</td>\n",
              "      <td>2900.0</td>\n",
              "      <td>131.0</td>\n",
              "      <td>360.0</td>\n",
              "      <td>1.0</td>\n",
              "      <td>Semiurban</td>\n",
              "    </tr>\n",
              "    <tr>\n",
              "      <th>285</th>\n",
              "      <td>LP002443</td>\n",
              "      <td>Male</td>\n",
              "      <td>Yes</td>\n",
              "      <td>2</td>\n",
              "      <td>Graduate</td>\n",
              "      <td>No</td>\n",
              "      <td>3340</td>\n",
              "      <td>1710.0</td>\n",
              "      <td>150.0</td>\n",
              "      <td>360.0</td>\n",
              "      <td>0.0</td>\n",
              "      <td>Rural</td>\n",
              "    </tr>\n",
              "  </tbody>\n",
              "</table>\n",
              "</div>\n",
              "    <div class=\"colab-df-buttons\">\n",
              "\n",
              "  <div class=\"colab-df-container\">\n",
              "    <button class=\"colab-df-convert\" onclick=\"convertToInteractive('df-6f6faa2c-d840-4a8b-beb3-6b882cc22540')\"\n",
              "            title=\"Convert this dataframe to an interactive table.\"\n",
              "            style=\"display:none;\">\n",
              "\n",
              "  <svg xmlns=\"http://www.w3.org/2000/svg\" height=\"24px\" viewBox=\"0 -960 960 960\">\n",
              "    <path d=\"M120-120v-720h720v720H120Zm60-500h600v-160H180v160Zm220 220h160v-160H400v160Zm0 220h160v-160H400v160ZM180-400h160v-160H180v160Zm440 0h160v-160H620v160ZM180-180h160v-160H180v160Zm440 0h160v-160H620v160Z\"/>\n",
              "  </svg>\n",
              "    </button>\n",
              "\n",
              "  <style>\n",
              "    .colab-df-container {\n",
              "      display:flex;\n",
              "      gap: 12px;\n",
              "    }\n",
              "\n",
              "    .colab-df-convert {\n",
              "      background-color: #E8F0FE;\n",
              "      border: none;\n",
              "      border-radius: 50%;\n",
              "      cursor: pointer;\n",
              "      display: none;\n",
              "      fill: #1967D2;\n",
              "      height: 32px;\n",
              "      padding: 0 0 0 0;\n",
              "      width: 32px;\n",
              "    }\n",
              "\n",
              "    .colab-df-convert:hover {\n",
              "      background-color: #E2EBFA;\n",
              "      box-shadow: 0px 1px 2px rgba(60, 64, 67, 0.3), 0px 1px 3px 1px rgba(60, 64, 67, 0.15);\n",
              "      fill: #174EA6;\n",
              "    }\n",
              "\n",
              "    .colab-df-buttons div {\n",
              "      margin-bottom: 4px;\n",
              "    }\n",
              "\n",
              "    [theme=dark] .colab-df-convert {\n",
              "      background-color: #3B4455;\n",
              "      fill: #D2E3FC;\n",
              "    }\n",
              "\n",
              "    [theme=dark] .colab-df-convert:hover {\n",
              "      background-color: #434B5C;\n",
              "      box-shadow: 0px 1px 3px 1px rgba(0, 0, 0, 0.15);\n",
              "      filter: drop-shadow(0px 1px 2px rgba(0, 0, 0, 0.3));\n",
              "      fill: #FFFFFF;\n",
              "    }\n",
              "  </style>\n",
              "\n",
              "    <script>\n",
              "      const buttonEl =\n",
              "        document.querySelector('#df-6f6faa2c-d840-4a8b-beb3-6b882cc22540 button.colab-df-convert');\n",
              "      buttonEl.style.display =\n",
              "        google.colab.kernel.accessAllowed ? 'block' : 'none';\n",
              "\n",
              "      async function convertToInteractive(key) {\n",
              "        const element = document.querySelector('#df-6f6faa2c-d840-4a8b-beb3-6b882cc22540');\n",
              "        const dataTable =\n",
              "          await google.colab.kernel.invokeFunction('convertToInteractive',\n",
              "                                                    [key], {});\n",
              "        if (!dataTable) return;\n",
              "\n",
              "        const docLinkHtml = 'Like what you see? Visit the ' +\n",
              "          '<a target=\"_blank\" href=https://colab.research.google.com/notebooks/data_table.ipynb>data table notebook</a>'\n",
              "          + ' to learn more about interactive tables.';\n",
              "        element.innerHTML = '';\n",
              "        dataTable['output_type'] = 'display_data';\n",
              "        await google.colab.output.renderOutput(dataTable, element);\n",
              "        const docLink = document.createElement('div');\n",
              "        docLink.innerHTML = docLinkHtml;\n",
              "        element.appendChild(docLink);\n",
              "      }\n",
              "    </script>\n",
              "  </div>\n",
              "\n",
              "\n",
              "<div id=\"df-86f993e6-3cad-49d9-9d93-10bbd9cd3216\">\n",
              "  <button class=\"colab-df-quickchart\" onclick=\"quickchart('df-86f993e6-3cad-49d9-9d93-10bbd9cd3216')\"\n",
              "            title=\"Suggest charts\"\n",
              "            style=\"display:none;\">\n",
              "\n",
              "<svg xmlns=\"http://www.w3.org/2000/svg\" height=\"24px\"viewBox=\"0 0 24 24\"\n",
              "     width=\"24px\">\n",
              "    <g>\n",
              "        <path d=\"M19 3H5c-1.1 0-2 .9-2 2v14c0 1.1.9 2 2 2h14c1.1 0 2-.9 2-2V5c0-1.1-.9-2-2-2zM9 17H7v-7h2v7zm4 0h-2V7h2v10zm4 0h-2v-4h2v4z\"/>\n",
              "    </g>\n",
              "</svg>\n",
              "  </button>\n",
              "\n",
              "<style>\n",
              "  .colab-df-quickchart {\n",
              "      --bg-color: #E8F0FE;\n",
              "      --fill-color: #1967D2;\n",
              "      --hover-bg-color: #E2EBFA;\n",
              "      --hover-fill-color: #174EA6;\n",
              "      --disabled-fill-color: #AAA;\n",
              "      --disabled-bg-color: #DDD;\n",
              "  }\n",
              "\n",
              "  [theme=dark] .colab-df-quickchart {\n",
              "      --bg-color: #3B4455;\n",
              "      --fill-color: #D2E3FC;\n",
              "      --hover-bg-color: #434B5C;\n",
              "      --hover-fill-color: #FFFFFF;\n",
              "      --disabled-bg-color: #3B4455;\n",
              "      --disabled-fill-color: #666;\n",
              "  }\n",
              "\n",
              "  .colab-df-quickchart {\n",
              "    background-color: var(--bg-color);\n",
              "    border: none;\n",
              "    border-radius: 50%;\n",
              "    cursor: pointer;\n",
              "    display: none;\n",
              "    fill: var(--fill-color);\n",
              "    height: 32px;\n",
              "    padding: 0;\n",
              "    width: 32px;\n",
              "  }\n",
              "\n",
              "  .colab-df-quickchart:hover {\n",
              "    background-color: var(--hover-bg-color);\n",
              "    box-shadow: 0 1px 2px rgba(60, 64, 67, 0.3), 0 1px 3px 1px rgba(60, 64, 67, 0.15);\n",
              "    fill: var(--button-hover-fill-color);\n",
              "  }\n",
              "\n",
              "  .colab-df-quickchart-complete:disabled,\n",
              "  .colab-df-quickchart-complete:disabled:hover {\n",
              "    background-color: var(--disabled-bg-color);\n",
              "    fill: var(--disabled-fill-color);\n",
              "    box-shadow: none;\n",
              "  }\n",
              "\n",
              "  .colab-df-spinner {\n",
              "    border: 2px solid var(--fill-color);\n",
              "    border-color: transparent;\n",
              "    border-bottom-color: var(--fill-color);\n",
              "    animation:\n",
              "      spin 1s steps(1) infinite;\n",
              "  }\n",
              "\n",
              "  @keyframes spin {\n",
              "    0% {\n",
              "      border-color: transparent;\n",
              "      border-bottom-color: var(--fill-color);\n",
              "      border-left-color: var(--fill-color);\n",
              "    }\n",
              "    20% {\n",
              "      border-color: transparent;\n",
              "      border-left-color: var(--fill-color);\n",
              "      border-top-color: var(--fill-color);\n",
              "    }\n",
              "    30% {\n",
              "      border-color: transparent;\n",
              "      border-left-color: var(--fill-color);\n",
              "      border-top-color: var(--fill-color);\n",
              "      border-right-color: var(--fill-color);\n",
              "    }\n",
              "    40% {\n",
              "      border-color: transparent;\n",
              "      border-right-color: var(--fill-color);\n",
              "      border-top-color: var(--fill-color);\n",
              "    }\n",
              "    60% {\n",
              "      border-color: transparent;\n",
              "      border-right-color: var(--fill-color);\n",
              "    }\n",
              "    80% {\n",
              "      border-color: transparent;\n",
              "      border-right-color: var(--fill-color);\n",
              "      border-bottom-color: var(--fill-color);\n",
              "    }\n",
              "    90% {\n",
              "      border-color: transparent;\n",
              "      border-bottom-color: var(--fill-color);\n",
              "    }\n",
              "  }\n",
              "</style>\n",
              "\n",
              "  <script>\n",
              "    async function quickchart(key) {\n",
              "      const quickchartButtonEl =\n",
              "        document.querySelector('#' + key + ' button');\n",
              "      quickchartButtonEl.disabled = true;  // To prevent multiple clicks.\n",
              "      quickchartButtonEl.classList.add('colab-df-spinner');\n",
              "      try {\n",
              "        const charts = await google.colab.kernel.invokeFunction(\n",
              "            'suggestCharts', [key], {});\n",
              "      } catch (error) {\n",
              "        console.error('Error during call to suggestCharts:', error);\n",
              "      }\n",
              "      quickchartButtonEl.classList.remove('colab-df-spinner');\n",
              "      quickchartButtonEl.classList.add('colab-df-quickchart-complete');\n",
              "    }\n",
              "    (() => {\n",
              "      let quickchartButtonEl =\n",
              "        document.querySelector('#df-86f993e6-3cad-49d9-9d93-10bbd9cd3216 button');\n",
              "      quickchartButtonEl.style.display =\n",
              "        google.colab.kernel.accessAllowed ? 'block' : 'none';\n",
              "    })();\n",
              "  </script>\n",
              "</div>\n",
              "\n",
              "    </div>\n",
              "  </div>\n"
            ],
            "application/vnd.google.colaboratory.intrinsic+json": {
              "type": "dataframe",
              "variable_name": "X_train",
              "summary": "{\n  \"name\": \"X_train\",\n  \"rows\": 323,\n  \"fields\": [\n    {\n      \"column\": \"Loan_ID\",\n      \"properties\": {\n        \"dtype\": \"string\",\n        \"num_unique_values\": 323,\n        \"samples\": [\n          \"LP001734\",\n          \"LP002472\",\n          \"LP002925\"\n        ],\n        \"semantic_type\": \"\",\n        \"description\": \"\"\n      }\n    },\n    {\n      \"column\": \"Gender\",\n      \"properties\": {\n        \"dtype\": \"category\",\n        \"num_unique_values\": 2,\n        \"samples\": [\n          \"Male\",\n          \"Female\"\n        ],\n        \"semantic_type\": \"\",\n        \"description\": \"\"\n      }\n    },\n    {\n      \"column\": \"Married\",\n      \"properties\": {\n        \"dtype\": \"category\",\n        \"num_unique_values\": 2,\n        \"samples\": [\n          \"No\",\n          \"Yes\"\n        ],\n        \"semantic_type\": \"\",\n        \"description\": \"\"\n      }\n    },\n    {\n      \"column\": \"Dependents\",\n      \"properties\": {\n        \"dtype\": \"category\",\n        \"num_unique_values\": 4,\n        \"samples\": [\n          \"2\",\n          \"3+\"\n        ],\n        \"semantic_type\": \"\",\n        \"description\": \"\"\n      }\n    },\n    {\n      \"column\": \"Education\",\n      \"properties\": {\n        \"dtype\": \"category\",\n        \"num_unique_values\": 2,\n        \"samples\": [\n          \"Not Graduate\",\n          \"Graduate\"\n        ],\n        \"semantic_type\": \"\",\n        \"description\": \"\"\n      }\n    },\n    {\n      \"column\": \"Self_Employed\",\n      \"properties\": {\n        \"dtype\": \"category\",\n        \"num_unique_values\": 2,\n        \"samples\": [\n          \"Yes\",\n          \"No\"\n        ],\n        \"semantic_type\": \"\",\n        \"description\": \"\"\n      }\n    },\n    {\n      \"column\": \"ApplicantIncome\",\n      \"properties\": {\n        \"dtype\": \"number\",\n        \"std\": 1442,\n        \"min\": 150,\n        \"max\": 9703,\n        \"num_unique_values\": 276,\n        \"samples\": [\n          2214,\n          2213\n        ],\n        \"semantic_type\": \"\",\n        \"description\": \"\"\n      }\n    },\n    {\n      \"column\": \"CoapplicantIncome\",\n      \"properties\": {\n        \"dtype\": \"number\",\n        \"std\": 2488.1400387197295,\n        \"min\": 0.0,\n        \"max\": 33837.0,\n        \"num_unique_values\": 159,\n        \"samples\": [\n          16.12000084,\n          700.0\n        ],\n        \"semantic_type\": \"\",\n        \"description\": \"\"\n      }\n    },\n    {\n      \"column\": \"LoanAmount\",\n      \"properties\": {\n        \"dtype\": \"number\",\n        \"std\": 28.20347008547046,\n        \"min\": 9.0,\n        \"max\": 150.0,\n        \"num_unique_values\": 93,\n        \"samples\": [\n          116.0,\n          127.0\n        ],\n        \"semantic_type\": \"\",\n        \"description\": \"\"\n      }\n    },\n    {\n      \"column\": \"Loan_Amount_Term\",\n      \"properties\": {\n        \"dtype\": \"number\",\n        \"std\": 70.34933022049572,\n        \"min\": 12.0,\n        \"max\": 480.0,\n        \"num_unique_values\": 10,\n        \"samples\": [\n          36.0,\n          12.0\n        ],\n        \"semantic_type\": \"\",\n        \"description\": \"\"\n      }\n    },\n    {\n      \"column\": \"Credit_History\",\n      \"properties\": {\n        \"dtype\": \"number\",\n        \"std\": 0.36771703804879485,\n        \"min\": 0.0,\n        \"max\": 1.0,\n        \"num_unique_values\": 2,\n        \"samples\": [\n          0.0,\n          1.0\n        ],\n        \"semantic_type\": \"\",\n        \"description\": \"\"\n      }\n    },\n    {\n      \"column\": \"Property_Area\",\n      \"properties\": {\n        \"dtype\": \"category\",\n        \"num_unique_values\": 3,\n        \"samples\": [\n          \"Urban\",\n          \"Rural\"\n        ],\n        \"semantic_type\": \"\",\n        \"description\": \"\"\n      }\n    }\n  ]\n}"
            }
          },
          "metadata": {},
          "execution_count": 17
        }
      ]
    },
    {
      "cell_type": "code",
      "source": [
        "X_train.dtypes"
      ],
      "metadata": {
        "colab": {
          "base_uri": "https://localhost:8080/"
        },
        "id": "hAq4sywSlNkn",
        "outputId": "73a6f63c-e53d-4744-d2d2-fff767377652"
      },
      "execution_count": null,
      "outputs": [
        {
          "output_type": "execute_result",
          "data": {
            "text/plain": [
              "Loan_ID               object\n",
              "Gender                object\n",
              "Married               object\n",
              "Dependents            object\n",
              "Education             object\n",
              "Self_Employed         object\n",
              "ApplicantIncome        int64\n",
              "CoapplicantIncome    float64\n",
              "LoanAmount           float64\n",
              "Loan_Amount_Term     float64\n",
              "Credit_History       float64\n",
              "Property_Area         object\n",
              "dtype: object"
            ]
          },
          "metadata": {},
          "execution_count": 18
        }
      ]
    },
    {
      "cell_type": "code",
      "source": [
        "X_train.isnull().sum()"
      ],
      "metadata": {
        "colab": {
          "base_uri": "https://localhost:8080/"
        },
        "id": "yWbxN22LlVuZ",
        "outputId": "885a24d3-7ba2-41d8-f60b-e3abb4ecd35a"
      },
      "execution_count": null,
      "outputs": [
        {
          "output_type": "execute_result",
          "data": {
            "text/plain": [
              "Loan_ID               0\n",
              "Gender                2\n",
              "Married               0\n",
              "Dependents            8\n",
              "Education             0\n",
              "Self_Employed        19\n",
              "ApplicantIncome       0\n",
              "CoapplicantIncome     0\n",
              "LoanAmount            0\n",
              "Loan_Amount_Term     10\n",
              "Credit_History       24\n",
              "Property_Area         0\n",
              "dtype: int64"
            ]
          },
          "metadata": {},
          "execution_count": 19
        }
      ]
    },
    {
      "cell_type": "code",
      "source": [
        "def feature_engineering(X_train, X_test, y_train):\n",
        "\n",
        "    categorical_imputation = CategoricalImputer(imputation_method='frequent', variables = ['Gender', 'Dependents', 'Self_Employed'])\n",
        "    numerical_imputation = MeanMedianImputer(imputation_method='median', variables = ['Loan_Amount_Term', 'Credit_History'])\n",
        "\n",
        "    categorical_encoder = OrdinalEncoder(variables = ['Gender', 'Married', 'Education', 'Dependents', 'Self_Employed', 'Property_Area'], encoding_method='arbitrary')\n",
        "\n",
        "\n",
        "\n",
        "    X_train = categorical_imputation.fit_transform(X_train)\n",
        "    X_train = numerical_imputation.fit_transform(X_train)\n",
        "    X_train = categorical_encoder.fit_transform(X_train, y_train)\n",
        "\n",
        "    X_test = categorical_imputation.transform(X_test)\n",
        "    X_test = numerical_imputation.transform(X_test)\n",
        "    X_test = categorical_encoder.transform(X_test)\n",
        "\n",
        "    X_train['Credit_History'] = X_train['Credit_History'].astype(np.int64)\n",
        "    X_test['Credit_History'] = X_test['Credit_History'].astype(np.int64)\n",
        "\n",
        "    X_train.drop('Loan_ID', axis = 1, inplace = True)\n",
        "    X_test.drop('Loan_ID', axis = 1, inplace = True)\n",
        "\n",
        "    return X_train, X_test"
      ],
      "metadata": {
        "id": "Zh5qF1GPlYP6"
      },
      "execution_count": null,
      "outputs": []
    },
    {
      "cell_type": "code",
      "source": [
        "X_train_encoded, X_test_encoded = feature_engineering(X_train, X_test, y_train)"
      ],
      "metadata": {
        "id": "SLvmB8dOlcNJ"
      },
      "execution_count": null,
      "outputs": []
    },
    {
      "cell_type": "code",
      "source": [
        "X_train_encoded"
      ],
      "metadata": {
        "colab": {
          "base_uri": "https://localhost:8080/",
          "height": 439
        },
        "id": "ZIJh08vvl8Xg",
        "outputId": "b5baf257-1fbc-45e6-b0ca-1ce4f820c3aa"
      },
      "execution_count": null,
      "outputs": [
        {
          "output_type": "execute_result",
          "data": {
            "text/plain": [
              "     Gender  Married  Dependents  Education  Self_Employed  ApplicantIncome  \\\n",
              "208       0        0           0          0              0             4333   \n",
              "72        1        1           0          1              0             7333   \n",
              "86        0        0           0          0              0             4583   \n",
              "62        1        0           0          0              0             2958   \n",
              "285       1        0           1          0              0             3340   \n",
              "..      ...      ...         ...        ...            ...              ...   \n",
              "70        1        0           1          1              0             4288   \n",
              "233       0        1           0          0              0             2764   \n",
              "100       0        0           0          0              0             4583   \n",
              "87        1        0           1          0              1             3316   \n",
              "175       1        0           0          0              0             3927   \n",
              "\n",
              "     CoapplicantIncome  LoanAmount  Loan_Amount_Term  Credit_History  \\\n",
              "208             2451.0       110.0             360.0               1   \n",
              "72                 0.0       120.0             360.0               1   \n",
              "86                 0.0        84.0             360.0               1   \n",
              "62              2900.0       131.0             360.0               1   \n",
              "285             1710.0       150.0             360.0               0   \n",
              "..                 ...         ...               ...             ...   \n",
              "70              3263.0       133.0             180.0               1   \n",
              "233             1459.0       110.0             360.0               1   \n",
              "100                0.0       112.0             360.0               1   \n",
              "87              3500.0        88.0             360.0               1   \n",
              "175              800.0       112.0             360.0               1   \n",
              "\n",
              "     Property_Area  \n",
              "208              0  \n",
              "72               1  \n",
              "86               1  \n",
              "62               2  \n",
              "285              1  \n",
              "..             ...  \n",
              "70               0  \n",
              "233              0  \n",
              "100              1  \n",
              "87               0  \n",
              "175              2  \n",
              "\n",
              "[323 rows x 11 columns]"
            ],
            "text/html": [
              "\n",
              "  <div id=\"df-04cb2a56-fd3d-4fe9-9d2a-a6912790483c\" class=\"colab-df-container\">\n",
              "    <div>\n",
              "<style scoped>\n",
              "    .dataframe tbody tr th:only-of-type {\n",
              "        vertical-align: middle;\n",
              "    }\n",
              "\n",
              "    .dataframe tbody tr th {\n",
              "        vertical-align: top;\n",
              "    }\n",
              "\n",
              "    .dataframe thead th {\n",
              "        text-align: right;\n",
              "    }\n",
              "</style>\n",
              "<table border=\"1\" class=\"dataframe\">\n",
              "  <thead>\n",
              "    <tr style=\"text-align: right;\">\n",
              "      <th></th>\n",
              "      <th>Gender</th>\n",
              "      <th>Married</th>\n",
              "      <th>Dependents</th>\n",
              "      <th>Education</th>\n",
              "      <th>Self_Employed</th>\n",
              "      <th>ApplicantIncome</th>\n",
              "      <th>CoapplicantIncome</th>\n",
              "      <th>LoanAmount</th>\n",
              "      <th>Loan_Amount_Term</th>\n",
              "      <th>Credit_History</th>\n",
              "      <th>Property_Area</th>\n",
              "    </tr>\n",
              "  </thead>\n",
              "  <tbody>\n",
              "    <tr>\n",
              "      <th>208</th>\n",
              "      <td>0</td>\n",
              "      <td>0</td>\n",
              "      <td>0</td>\n",
              "      <td>0</td>\n",
              "      <td>0</td>\n",
              "      <td>4333</td>\n",
              "      <td>2451.0</td>\n",
              "      <td>110.0</td>\n",
              "      <td>360.0</td>\n",
              "      <td>1</td>\n",
              "      <td>0</td>\n",
              "    </tr>\n",
              "    <tr>\n",
              "      <th>72</th>\n",
              "      <td>1</td>\n",
              "      <td>1</td>\n",
              "      <td>0</td>\n",
              "      <td>1</td>\n",
              "      <td>0</td>\n",
              "      <td>7333</td>\n",
              "      <td>0.0</td>\n",
              "      <td>120.0</td>\n",
              "      <td>360.0</td>\n",
              "      <td>1</td>\n",
              "      <td>1</td>\n",
              "    </tr>\n",
              "    <tr>\n",
              "      <th>86</th>\n",
              "      <td>0</td>\n",
              "      <td>0</td>\n",
              "      <td>0</td>\n",
              "      <td>0</td>\n",
              "      <td>0</td>\n",
              "      <td>4583</td>\n",
              "      <td>0.0</td>\n",
              "      <td>84.0</td>\n",
              "      <td>360.0</td>\n",
              "      <td>1</td>\n",
              "      <td>1</td>\n",
              "    </tr>\n",
              "    <tr>\n",
              "      <th>62</th>\n",
              "      <td>1</td>\n",
              "      <td>0</td>\n",
              "      <td>0</td>\n",
              "      <td>0</td>\n",
              "      <td>0</td>\n",
              "      <td>2958</td>\n",
              "      <td>2900.0</td>\n",
              "      <td>131.0</td>\n",
              "      <td>360.0</td>\n",
              "      <td>1</td>\n",
              "      <td>2</td>\n",
              "    </tr>\n",
              "    <tr>\n",
              "      <th>285</th>\n",
              "      <td>1</td>\n",
              "      <td>0</td>\n",
              "      <td>1</td>\n",
              "      <td>0</td>\n",
              "      <td>0</td>\n",
              "      <td>3340</td>\n",
              "      <td>1710.0</td>\n",
              "      <td>150.0</td>\n",
              "      <td>360.0</td>\n",
              "      <td>0</td>\n",
              "      <td>1</td>\n",
              "    </tr>\n",
              "    <tr>\n",
              "      <th>...</th>\n",
              "      <td>...</td>\n",
              "      <td>...</td>\n",
              "      <td>...</td>\n",
              "      <td>...</td>\n",
              "      <td>...</td>\n",
              "      <td>...</td>\n",
              "      <td>...</td>\n",
              "      <td>...</td>\n",
              "      <td>...</td>\n",
              "      <td>...</td>\n",
              "      <td>...</td>\n",
              "    </tr>\n",
              "    <tr>\n",
              "      <th>70</th>\n",
              "      <td>1</td>\n",
              "      <td>0</td>\n",
              "      <td>1</td>\n",
              "      <td>1</td>\n",
              "      <td>0</td>\n",
              "      <td>4288</td>\n",
              "      <td>3263.0</td>\n",
              "      <td>133.0</td>\n",
              "      <td>180.0</td>\n",
              "      <td>1</td>\n",
              "      <td>0</td>\n",
              "    </tr>\n",
              "    <tr>\n",
              "      <th>233</th>\n",
              "      <td>0</td>\n",
              "      <td>1</td>\n",
              "      <td>0</td>\n",
              "      <td>0</td>\n",
              "      <td>0</td>\n",
              "      <td>2764</td>\n",
              "      <td>1459.0</td>\n",
              "      <td>110.0</td>\n",
              "      <td>360.0</td>\n",
              "      <td>1</td>\n",
              "      <td>0</td>\n",
              "    </tr>\n",
              "    <tr>\n",
              "      <th>100</th>\n",
              "      <td>0</td>\n",
              "      <td>0</td>\n",
              "      <td>0</td>\n",
              "      <td>0</td>\n",
              "      <td>0</td>\n",
              "      <td>4583</td>\n",
              "      <td>0.0</td>\n",
              "      <td>112.0</td>\n",
              "      <td>360.0</td>\n",
              "      <td>1</td>\n",
              "      <td>1</td>\n",
              "    </tr>\n",
              "    <tr>\n",
              "      <th>87</th>\n",
              "      <td>1</td>\n",
              "      <td>0</td>\n",
              "      <td>1</td>\n",
              "      <td>0</td>\n",
              "      <td>1</td>\n",
              "      <td>3316</td>\n",
              "      <td>3500.0</td>\n",
              "      <td>88.0</td>\n",
              "      <td>360.0</td>\n",
              "      <td>1</td>\n",
              "      <td>0</td>\n",
              "    </tr>\n",
              "    <tr>\n",
              "      <th>175</th>\n",
              "      <td>1</td>\n",
              "      <td>0</td>\n",
              "      <td>0</td>\n",
              "      <td>0</td>\n",
              "      <td>0</td>\n",
              "      <td>3927</td>\n",
              "      <td>800.0</td>\n",
              "      <td>112.0</td>\n",
              "      <td>360.0</td>\n",
              "      <td>1</td>\n",
              "      <td>2</td>\n",
              "    </tr>\n",
              "  </tbody>\n",
              "</table>\n",
              "<p>323 rows × 11 columns</p>\n",
              "</div>\n",
              "    <div class=\"colab-df-buttons\">\n",
              "\n",
              "  <div class=\"colab-df-container\">\n",
              "    <button class=\"colab-df-convert\" onclick=\"convertToInteractive('df-04cb2a56-fd3d-4fe9-9d2a-a6912790483c')\"\n",
              "            title=\"Convert this dataframe to an interactive table.\"\n",
              "            style=\"display:none;\">\n",
              "\n",
              "  <svg xmlns=\"http://www.w3.org/2000/svg\" height=\"24px\" viewBox=\"0 -960 960 960\">\n",
              "    <path d=\"M120-120v-720h720v720H120Zm60-500h600v-160H180v160Zm220 220h160v-160H400v160Zm0 220h160v-160H400v160ZM180-400h160v-160H180v160Zm440 0h160v-160H620v160ZM180-180h160v-160H180v160Zm440 0h160v-160H620v160Z\"/>\n",
              "  </svg>\n",
              "    </button>\n",
              "\n",
              "  <style>\n",
              "    .colab-df-container {\n",
              "      display:flex;\n",
              "      gap: 12px;\n",
              "    }\n",
              "\n",
              "    .colab-df-convert {\n",
              "      background-color: #E8F0FE;\n",
              "      border: none;\n",
              "      border-radius: 50%;\n",
              "      cursor: pointer;\n",
              "      display: none;\n",
              "      fill: #1967D2;\n",
              "      height: 32px;\n",
              "      padding: 0 0 0 0;\n",
              "      width: 32px;\n",
              "    }\n",
              "\n",
              "    .colab-df-convert:hover {\n",
              "      background-color: #E2EBFA;\n",
              "      box-shadow: 0px 1px 2px rgba(60, 64, 67, 0.3), 0px 1px 3px 1px rgba(60, 64, 67, 0.15);\n",
              "      fill: #174EA6;\n",
              "    }\n",
              "\n",
              "    .colab-df-buttons div {\n",
              "      margin-bottom: 4px;\n",
              "    }\n",
              "\n",
              "    [theme=dark] .colab-df-convert {\n",
              "      background-color: #3B4455;\n",
              "      fill: #D2E3FC;\n",
              "    }\n",
              "\n",
              "    [theme=dark] .colab-df-convert:hover {\n",
              "      background-color: #434B5C;\n",
              "      box-shadow: 0px 1px 3px 1px rgba(0, 0, 0, 0.15);\n",
              "      filter: drop-shadow(0px 1px 2px rgba(0, 0, 0, 0.3));\n",
              "      fill: #FFFFFF;\n",
              "    }\n",
              "  </style>\n",
              "\n",
              "    <script>\n",
              "      const buttonEl =\n",
              "        document.querySelector('#df-04cb2a56-fd3d-4fe9-9d2a-a6912790483c button.colab-df-convert');\n",
              "      buttonEl.style.display =\n",
              "        google.colab.kernel.accessAllowed ? 'block' : 'none';\n",
              "\n",
              "      async function convertToInteractive(key) {\n",
              "        const element = document.querySelector('#df-04cb2a56-fd3d-4fe9-9d2a-a6912790483c');\n",
              "        const dataTable =\n",
              "          await google.colab.kernel.invokeFunction('convertToInteractive',\n",
              "                                                    [key], {});\n",
              "        if (!dataTable) return;\n",
              "\n",
              "        const docLinkHtml = 'Like what you see? Visit the ' +\n",
              "          '<a target=\"_blank\" href=https://colab.research.google.com/notebooks/data_table.ipynb>data table notebook</a>'\n",
              "          + ' to learn more about interactive tables.';\n",
              "        element.innerHTML = '';\n",
              "        dataTable['output_type'] = 'display_data';\n",
              "        await google.colab.output.renderOutput(dataTable, element);\n",
              "        const docLink = document.createElement('div');\n",
              "        docLink.innerHTML = docLinkHtml;\n",
              "        element.appendChild(docLink);\n",
              "      }\n",
              "    </script>\n",
              "  </div>\n",
              "\n",
              "\n",
              "<div id=\"df-5e33ffb7-dcd1-404f-a035-1688da66a11c\">\n",
              "  <button class=\"colab-df-quickchart\" onclick=\"quickchart('df-5e33ffb7-dcd1-404f-a035-1688da66a11c')\"\n",
              "            title=\"Suggest charts\"\n",
              "            style=\"display:none;\">\n",
              "\n",
              "<svg xmlns=\"http://www.w3.org/2000/svg\" height=\"24px\"viewBox=\"0 0 24 24\"\n",
              "     width=\"24px\">\n",
              "    <g>\n",
              "        <path d=\"M19 3H5c-1.1 0-2 .9-2 2v14c0 1.1.9 2 2 2h14c1.1 0 2-.9 2-2V5c0-1.1-.9-2-2-2zM9 17H7v-7h2v7zm4 0h-2V7h2v10zm4 0h-2v-4h2v4z\"/>\n",
              "    </g>\n",
              "</svg>\n",
              "  </button>\n",
              "\n",
              "<style>\n",
              "  .colab-df-quickchart {\n",
              "      --bg-color: #E8F0FE;\n",
              "      --fill-color: #1967D2;\n",
              "      --hover-bg-color: #E2EBFA;\n",
              "      --hover-fill-color: #174EA6;\n",
              "      --disabled-fill-color: #AAA;\n",
              "      --disabled-bg-color: #DDD;\n",
              "  }\n",
              "\n",
              "  [theme=dark] .colab-df-quickchart {\n",
              "      --bg-color: #3B4455;\n",
              "      --fill-color: #D2E3FC;\n",
              "      --hover-bg-color: #434B5C;\n",
              "      --hover-fill-color: #FFFFFF;\n",
              "      --disabled-bg-color: #3B4455;\n",
              "      --disabled-fill-color: #666;\n",
              "  }\n",
              "\n",
              "  .colab-df-quickchart {\n",
              "    background-color: var(--bg-color);\n",
              "    border: none;\n",
              "    border-radius: 50%;\n",
              "    cursor: pointer;\n",
              "    display: none;\n",
              "    fill: var(--fill-color);\n",
              "    height: 32px;\n",
              "    padding: 0;\n",
              "    width: 32px;\n",
              "  }\n",
              "\n",
              "  .colab-df-quickchart:hover {\n",
              "    background-color: var(--hover-bg-color);\n",
              "    box-shadow: 0 1px 2px rgba(60, 64, 67, 0.3), 0 1px 3px 1px rgba(60, 64, 67, 0.15);\n",
              "    fill: var(--button-hover-fill-color);\n",
              "  }\n",
              "\n",
              "  .colab-df-quickchart-complete:disabled,\n",
              "  .colab-df-quickchart-complete:disabled:hover {\n",
              "    background-color: var(--disabled-bg-color);\n",
              "    fill: var(--disabled-fill-color);\n",
              "    box-shadow: none;\n",
              "  }\n",
              "\n",
              "  .colab-df-spinner {\n",
              "    border: 2px solid var(--fill-color);\n",
              "    border-color: transparent;\n",
              "    border-bottom-color: var(--fill-color);\n",
              "    animation:\n",
              "      spin 1s steps(1) infinite;\n",
              "  }\n",
              "\n",
              "  @keyframes spin {\n",
              "    0% {\n",
              "      border-color: transparent;\n",
              "      border-bottom-color: var(--fill-color);\n",
              "      border-left-color: var(--fill-color);\n",
              "    }\n",
              "    20% {\n",
              "      border-color: transparent;\n",
              "      border-left-color: var(--fill-color);\n",
              "      border-top-color: var(--fill-color);\n",
              "    }\n",
              "    30% {\n",
              "      border-color: transparent;\n",
              "      border-left-color: var(--fill-color);\n",
              "      border-top-color: var(--fill-color);\n",
              "      border-right-color: var(--fill-color);\n",
              "    }\n",
              "    40% {\n",
              "      border-color: transparent;\n",
              "      border-right-color: var(--fill-color);\n",
              "      border-top-color: var(--fill-color);\n",
              "    }\n",
              "    60% {\n",
              "      border-color: transparent;\n",
              "      border-right-color: var(--fill-color);\n",
              "    }\n",
              "    80% {\n",
              "      border-color: transparent;\n",
              "      border-right-color: var(--fill-color);\n",
              "      border-bottom-color: var(--fill-color);\n",
              "    }\n",
              "    90% {\n",
              "      border-color: transparent;\n",
              "      border-bottom-color: var(--fill-color);\n",
              "    }\n",
              "  }\n",
              "</style>\n",
              "\n",
              "  <script>\n",
              "    async function quickchart(key) {\n",
              "      const quickchartButtonEl =\n",
              "        document.querySelector('#' + key + ' button');\n",
              "      quickchartButtonEl.disabled = true;  // To prevent multiple clicks.\n",
              "      quickchartButtonEl.classList.add('colab-df-spinner');\n",
              "      try {\n",
              "        const charts = await google.colab.kernel.invokeFunction(\n",
              "            'suggestCharts', [key], {});\n",
              "      } catch (error) {\n",
              "        console.error('Error during call to suggestCharts:', error);\n",
              "      }\n",
              "      quickchartButtonEl.classList.remove('colab-df-spinner');\n",
              "      quickchartButtonEl.classList.add('colab-df-quickchart-complete');\n",
              "    }\n",
              "    (() => {\n",
              "      let quickchartButtonEl =\n",
              "        document.querySelector('#df-5e33ffb7-dcd1-404f-a035-1688da66a11c button');\n",
              "      quickchartButtonEl.style.display =\n",
              "        google.colab.kernel.accessAllowed ? 'block' : 'none';\n",
              "    })();\n",
              "  </script>\n",
              "</div>\n",
              "\n",
              "  <div id=\"id_64558101-ca37-4384-b0e6-a5d18e7066dd\">\n",
              "    <style>\n",
              "      .colab-df-generate {\n",
              "        background-color: #E8F0FE;\n",
              "        border: none;\n",
              "        border-radius: 50%;\n",
              "        cursor: pointer;\n",
              "        display: none;\n",
              "        fill: #1967D2;\n",
              "        height: 32px;\n",
              "        padding: 0 0 0 0;\n",
              "        width: 32px;\n",
              "      }\n",
              "\n",
              "      .colab-df-generate:hover {\n",
              "        background-color: #E2EBFA;\n",
              "        box-shadow: 0px 1px 2px rgba(60, 64, 67, 0.3), 0px 1px 3px 1px rgba(60, 64, 67, 0.15);\n",
              "        fill: #174EA6;\n",
              "      }\n",
              "\n",
              "      [theme=dark] .colab-df-generate {\n",
              "        background-color: #3B4455;\n",
              "        fill: #D2E3FC;\n",
              "      }\n",
              "\n",
              "      [theme=dark] .colab-df-generate:hover {\n",
              "        background-color: #434B5C;\n",
              "        box-shadow: 0px 1px 3px 1px rgba(0, 0, 0, 0.15);\n",
              "        filter: drop-shadow(0px 1px 2px rgba(0, 0, 0, 0.3));\n",
              "        fill: #FFFFFF;\n",
              "      }\n",
              "    </style>\n",
              "    <button class=\"colab-df-generate\" onclick=\"generateWithVariable('X_train_encoded')\"\n",
              "            title=\"Generate code using this dataframe.\"\n",
              "            style=\"display:none;\">\n",
              "\n",
              "  <svg xmlns=\"http://www.w3.org/2000/svg\" height=\"24px\"viewBox=\"0 0 24 24\"\n",
              "       width=\"24px\">\n",
              "    <path d=\"M7,19H8.4L18.45,9,17,7.55,7,17.6ZM5,21V16.75L18.45,3.32a2,2,0,0,1,2.83,0l1.4,1.43a1.91,1.91,0,0,1,.58,1.4,1.91,1.91,0,0,1-.58,1.4L9.25,21ZM18.45,9,17,7.55Zm-12,3A5.31,5.31,0,0,0,4.9,8.1,5.31,5.31,0,0,0,1,6.5,5.31,5.31,0,0,0,4.9,4.9,5.31,5.31,0,0,0,6.5,1,5.31,5.31,0,0,0,8.1,4.9,5.31,5.31,0,0,0,12,6.5,5.46,5.46,0,0,0,6.5,12Z\"/>\n",
              "  </svg>\n",
              "    </button>\n",
              "    <script>\n",
              "      (() => {\n",
              "      const buttonEl =\n",
              "        document.querySelector('#id_64558101-ca37-4384-b0e6-a5d18e7066dd button.colab-df-generate');\n",
              "      buttonEl.style.display =\n",
              "        google.colab.kernel.accessAllowed ? 'block' : 'none';\n",
              "\n",
              "      buttonEl.onclick = () => {\n",
              "        google.colab.notebook.generateWithVariable('X_train_encoded');\n",
              "      }\n",
              "      })();\n",
              "    </script>\n",
              "  </div>\n",
              "\n",
              "    </div>\n",
              "  </div>\n"
            ],
            "application/vnd.google.colaboratory.intrinsic+json": {
              "type": "dataframe",
              "variable_name": "X_train_encoded",
              "summary": "{\n  \"name\": \"X_train_encoded\",\n  \"rows\": 323,\n  \"fields\": [\n    {\n      \"column\": \"Gender\",\n      \"properties\": {\n        \"dtype\": \"number\",\n        \"std\": 0,\n        \"min\": 0,\n        \"max\": 1,\n        \"num_unique_values\": 2,\n        \"samples\": [\n          1,\n          0\n        ],\n        \"semantic_type\": \"\",\n        \"description\": \"\"\n      }\n    },\n    {\n      \"column\": \"Married\",\n      \"properties\": {\n        \"dtype\": \"number\",\n        \"std\": 0,\n        \"min\": 0,\n        \"max\": 1,\n        \"num_unique_values\": 2,\n        \"samples\": [\n          1,\n          0\n        ],\n        \"semantic_type\": \"\",\n        \"description\": \"\"\n      }\n    },\n    {\n      \"column\": \"Dependents\",\n      \"properties\": {\n        \"dtype\": \"number\",\n        \"std\": 0,\n        \"min\": 0,\n        \"max\": 3,\n        \"num_unique_values\": 4,\n        \"samples\": [\n          1,\n          3\n        ],\n        \"semantic_type\": \"\",\n        \"description\": \"\"\n      }\n    },\n    {\n      \"column\": \"Education\",\n      \"properties\": {\n        \"dtype\": \"number\",\n        \"std\": 0,\n        \"min\": 0,\n        \"max\": 1,\n        \"num_unique_values\": 2,\n        \"samples\": [\n          1,\n          0\n        ],\n        \"semantic_type\": \"\",\n        \"description\": \"\"\n      }\n    },\n    {\n      \"column\": \"Self_Employed\",\n      \"properties\": {\n        \"dtype\": \"number\",\n        \"std\": 0,\n        \"min\": 0,\n        \"max\": 1,\n        \"num_unique_values\": 2,\n        \"samples\": [\n          1,\n          0\n        ],\n        \"semantic_type\": \"\",\n        \"description\": \"\"\n      }\n    },\n    {\n      \"column\": \"ApplicantIncome\",\n      \"properties\": {\n        \"dtype\": \"number\",\n        \"std\": 1442,\n        \"min\": 150,\n        \"max\": 9703,\n        \"num_unique_values\": 276,\n        \"samples\": [\n          2214,\n          2213\n        ],\n        \"semantic_type\": \"\",\n        \"description\": \"\"\n      }\n    },\n    {\n      \"column\": \"CoapplicantIncome\",\n      \"properties\": {\n        \"dtype\": \"number\",\n        \"std\": 2488.1400387197295,\n        \"min\": 0.0,\n        \"max\": 33837.0,\n        \"num_unique_values\": 159,\n        \"samples\": [\n          16.12000084,\n          700.0\n        ],\n        \"semantic_type\": \"\",\n        \"description\": \"\"\n      }\n    },\n    {\n      \"column\": \"LoanAmount\",\n      \"properties\": {\n        \"dtype\": \"number\",\n        \"std\": 28.20347008547046,\n        \"min\": 9.0,\n        \"max\": 150.0,\n        \"num_unique_values\": 93,\n        \"samples\": [\n          116.0,\n          127.0\n        ],\n        \"semantic_type\": \"\",\n        \"description\": \"\"\n      }\n    },\n    {\n      \"column\": \"Loan_Amount_Term\",\n      \"properties\": {\n        \"dtype\": \"number\",\n        \"std\": 69.34664391093693,\n        \"min\": 12.0,\n        \"max\": 480.0,\n        \"num_unique_values\": 10,\n        \"samples\": [\n          36.0,\n          12.0\n        ],\n        \"semantic_type\": \"\",\n        \"description\": \"\"\n      }\n    },\n    {\n      \"column\": \"Credit_History\",\n      \"properties\": {\n        \"dtype\": \"number\",\n        \"std\": 0,\n        \"min\": 0,\n        \"max\": 1,\n        \"num_unique_values\": 2,\n        \"samples\": [\n          0,\n          1\n        ],\n        \"semantic_type\": \"\",\n        \"description\": \"\"\n      }\n    },\n    {\n      \"column\": \"Property_Area\",\n      \"properties\": {\n        \"dtype\": \"number\",\n        \"std\": 0,\n        \"min\": 0,\n        \"max\": 2,\n        \"num_unique_values\": 3,\n        \"samples\": [\n          0,\n          1\n        ],\n        \"semantic_type\": \"\",\n        \"description\": \"\"\n      }\n    }\n  ]\n}"
            }
          },
          "metadata": {},
          "execution_count": 22
        }
      ]
    },
    {
      "cell_type": "code",
      "source": [
        "rf = RandomForestClassifier(random_state = 0)\n",
        "\n",
        "rf.fit(X_train_encoded, y_train)\n",
        "\n",
        "print('Accuracy on the train set: {:.5f}'.format(rf.score(X_train_encoded, y_train)))\n",
        "print('accuracy on the test set: {:.5f}'.format(rf.score(X_test_encoded, y_test)))"
      ],
      "metadata": {
        "colab": {
          "base_uri": "https://localhost:8080/"
        },
        "id": "wbOiLZo1l-vQ",
        "outputId": "803b69d1-8296-4811-cd73-03abcc4940e5"
      },
      "execution_count": null,
      "outputs": [
        {
          "output_type": "stream",
          "name": "stdout",
          "text": [
            "Accuracy on the train set: 1.00000\n",
            "accuracy on the test set: 0.81034\n"
          ]
        }
      ]
    },
    {
      "cell_type": "code",
      "source": [
        "y_pred = rf.predict(X_test_encoded)\n",
        "\n",
        "print(classification_report(y_test, y_pred))"
      ],
      "metadata": {
        "colab": {
          "base_uri": "https://localhost:8080/"
        },
        "id": "-5i_57RpmB_Q",
        "outputId": "4f9e9dda-56ca-4860-8bad-ab9824fce42a"
      },
      "execution_count": null,
      "outputs": [
        {
          "output_type": "stream",
          "name": "stdout",
          "text": [
            "              precision    recall  f1-score   support\n",
            "\n",
            "           N       0.75      0.53      0.62        17\n",
            "           Y       0.83      0.93      0.87        41\n",
            "\n",
            "    accuracy                           0.81        58\n",
            "   macro avg       0.79      0.73      0.75        58\n",
            "weighted avg       0.80      0.81      0.80        58\n",
            "\n"
          ]
        }
      ]
    },
    {
      "cell_type": "code",
      "source": [
        "y_pred_prob = rf.predict_proba(X_test_encoded)[:, 1]\n",
        "print('AUC score: {:.5f}'.format(roc_auc_score(y_test, y_pred_prob)))"
      ],
      "metadata": {
        "colab": {
          "base_uri": "https://localhost:8080/"
        },
        "id": "bCFqANu0mElf",
        "outputId": "dccd9ffa-04fe-4119-8e32-1e771697782d"
      },
      "execution_count": null,
      "outputs": [
        {
          "output_type": "stream",
          "name": "stdout",
          "text": [
            "AUC score: 0.89742\n"
          ]
        }
      ]
    },
    {
      "cell_type": "code",
      "source": [
        "columns_to_scale = ['ApplicantIncome', 'CoapplicantIncome', 'LoanAmount', 'Loan_Amount_Term']\n",
        "\n",
        "scaler = MinMaxScaler()\n",
        "scaler.set_output(transform='pandas')\n",
        "\n",
        "X_train_scaled = X_train_encoded.copy()\n",
        "X_train_scaled[columns_to_scale] = scaler.fit_transform(X_train_encoded[columns_to_scale])\n",
        "\n",
        "X_test_scaled = X_test_encoded.copy()\n",
        "X_test_scaled[columns_to_scale] = scaler.transform(X_test_encoded[columns_to_scale])"
      ],
      "metadata": {
        "id": "IQKpGcDzmIII"
      },
      "execution_count": null,
      "outputs": []
    },
    {
      "cell_type": "code",
      "source": [
        "X_train_scaled.head()"
      ],
      "metadata": {
        "colab": {
          "base_uri": "https://localhost:8080/",
          "height": 224
        },
        "id": "swWj2v08mg7b",
        "outputId": "a51966f6-4e1a-4c38-c2e3-cd063a0ff14d"
      },
      "execution_count": null,
      "outputs": [
        {
          "output_type": "execute_result",
          "data": {
            "text/plain": [
              "     Gender  Married  Dependents  Education  Self_Employed  ApplicantIncome  \\\n",
              "208       0        0           0          0              0         0.437873   \n",
              "72        1        1           0          1              0         0.751910   \n",
              "86        0        0           0          0              0         0.464043   \n",
              "62        1        0           0          0              0         0.293939   \n",
              "285       1        0           1          0              0         0.333927   \n",
              "\n",
              "     CoapplicantIncome  LoanAmount  Loan_Amount_Term  Credit_History  \\\n",
              "208           0.072435    0.716312           0.74359               1   \n",
              "72            0.000000    0.787234           0.74359               1   \n",
              "86            0.000000    0.531915           0.74359               1   \n",
              "62            0.085705    0.865248           0.74359               1   \n",
              "285           0.050536    1.000000           0.74359               0   \n",
              "\n",
              "     Property_Area  \n",
              "208              0  \n",
              "72               1  \n",
              "86               1  \n",
              "62               2  \n",
              "285              1  "
            ],
            "text/html": [
              "\n",
              "  <div id=\"df-477d6410-4d28-4b65-bd76-6b4cf557c569\" class=\"colab-df-container\">\n",
              "    <div>\n",
              "<style scoped>\n",
              "    .dataframe tbody tr th:only-of-type {\n",
              "        vertical-align: middle;\n",
              "    }\n",
              "\n",
              "    .dataframe tbody tr th {\n",
              "        vertical-align: top;\n",
              "    }\n",
              "\n",
              "    .dataframe thead th {\n",
              "        text-align: right;\n",
              "    }\n",
              "</style>\n",
              "<table border=\"1\" class=\"dataframe\">\n",
              "  <thead>\n",
              "    <tr style=\"text-align: right;\">\n",
              "      <th></th>\n",
              "      <th>Gender</th>\n",
              "      <th>Married</th>\n",
              "      <th>Dependents</th>\n",
              "      <th>Education</th>\n",
              "      <th>Self_Employed</th>\n",
              "      <th>ApplicantIncome</th>\n",
              "      <th>CoapplicantIncome</th>\n",
              "      <th>LoanAmount</th>\n",
              "      <th>Loan_Amount_Term</th>\n",
              "      <th>Credit_History</th>\n",
              "      <th>Property_Area</th>\n",
              "    </tr>\n",
              "  </thead>\n",
              "  <tbody>\n",
              "    <tr>\n",
              "      <th>208</th>\n",
              "      <td>0</td>\n",
              "      <td>0</td>\n",
              "      <td>0</td>\n",
              "      <td>0</td>\n",
              "      <td>0</td>\n",
              "      <td>0.437873</td>\n",
              "      <td>0.072435</td>\n",
              "      <td>0.716312</td>\n",
              "      <td>0.74359</td>\n",
              "      <td>1</td>\n",
              "      <td>0</td>\n",
              "    </tr>\n",
              "    <tr>\n",
              "      <th>72</th>\n",
              "      <td>1</td>\n",
              "      <td>1</td>\n",
              "      <td>0</td>\n",
              "      <td>1</td>\n",
              "      <td>0</td>\n",
              "      <td>0.751910</td>\n",
              "      <td>0.000000</td>\n",
              "      <td>0.787234</td>\n",
              "      <td>0.74359</td>\n",
              "      <td>1</td>\n",
              "      <td>1</td>\n",
              "    </tr>\n",
              "    <tr>\n",
              "      <th>86</th>\n",
              "      <td>0</td>\n",
              "      <td>0</td>\n",
              "      <td>0</td>\n",
              "      <td>0</td>\n",
              "      <td>0</td>\n",
              "      <td>0.464043</td>\n",
              "      <td>0.000000</td>\n",
              "      <td>0.531915</td>\n",
              "      <td>0.74359</td>\n",
              "      <td>1</td>\n",
              "      <td>1</td>\n",
              "    </tr>\n",
              "    <tr>\n",
              "      <th>62</th>\n",
              "      <td>1</td>\n",
              "      <td>0</td>\n",
              "      <td>0</td>\n",
              "      <td>0</td>\n",
              "      <td>0</td>\n",
              "      <td>0.293939</td>\n",
              "      <td>0.085705</td>\n",
              "      <td>0.865248</td>\n",
              "      <td>0.74359</td>\n",
              "      <td>1</td>\n",
              "      <td>2</td>\n",
              "    </tr>\n",
              "    <tr>\n",
              "      <th>285</th>\n",
              "      <td>1</td>\n",
              "      <td>0</td>\n",
              "      <td>1</td>\n",
              "      <td>0</td>\n",
              "      <td>0</td>\n",
              "      <td>0.333927</td>\n",
              "      <td>0.050536</td>\n",
              "      <td>1.000000</td>\n",
              "      <td>0.74359</td>\n",
              "      <td>0</td>\n",
              "      <td>1</td>\n",
              "    </tr>\n",
              "  </tbody>\n",
              "</table>\n",
              "</div>\n",
              "    <div class=\"colab-df-buttons\">\n",
              "\n",
              "  <div class=\"colab-df-container\">\n",
              "    <button class=\"colab-df-convert\" onclick=\"convertToInteractive('df-477d6410-4d28-4b65-bd76-6b4cf557c569')\"\n",
              "            title=\"Convert this dataframe to an interactive table.\"\n",
              "            style=\"display:none;\">\n",
              "\n",
              "  <svg xmlns=\"http://www.w3.org/2000/svg\" height=\"24px\" viewBox=\"0 -960 960 960\">\n",
              "    <path d=\"M120-120v-720h720v720H120Zm60-500h600v-160H180v160Zm220 220h160v-160H400v160Zm0 220h160v-160H400v160ZM180-400h160v-160H180v160Zm440 0h160v-160H620v160ZM180-180h160v-160H180v160Zm440 0h160v-160H620v160Z\"/>\n",
              "  </svg>\n",
              "    </button>\n",
              "\n",
              "  <style>\n",
              "    .colab-df-container {\n",
              "      display:flex;\n",
              "      gap: 12px;\n",
              "    }\n",
              "\n",
              "    .colab-df-convert {\n",
              "      background-color: #E8F0FE;\n",
              "      border: none;\n",
              "      border-radius: 50%;\n",
              "      cursor: pointer;\n",
              "      display: none;\n",
              "      fill: #1967D2;\n",
              "      height: 32px;\n",
              "      padding: 0 0 0 0;\n",
              "      width: 32px;\n",
              "    }\n",
              "\n",
              "    .colab-df-convert:hover {\n",
              "      background-color: #E2EBFA;\n",
              "      box-shadow: 0px 1px 2px rgba(60, 64, 67, 0.3), 0px 1px 3px 1px rgba(60, 64, 67, 0.15);\n",
              "      fill: #174EA6;\n",
              "    }\n",
              "\n",
              "    .colab-df-buttons div {\n",
              "      margin-bottom: 4px;\n",
              "    }\n",
              "\n",
              "    [theme=dark] .colab-df-convert {\n",
              "      background-color: #3B4455;\n",
              "      fill: #D2E3FC;\n",
              "    }\n",
              "\n",
              "    [theme=dark] .colab-df-convert:hover {\n",
              "      background-color: #434B5C;\n",
              "      box-shadow: 0px 1px 3px 1px rgba(0, 0, 0, 0.15);\n",
              "      filter: drop-shadow(0px 1px 2px rgba(0, 0, 0, 0.3));\n",
              "      fill: #FFFFFF;\n",
              "    }\n",
              "  </style>\n",
              "\n",
              "    <script>\n",
              "      const buttonEl =\n",
              "        document.querySelector('#df-477d6410-4d28-4b65-bd76-6b4cf557c569 button.colab-df-convert');\n",
              "      buttonEl.style.display =\n",
              "        google.colab.kernel.accessAllowed ? 'block' : 'none';\n",
              "\n",
              "      async function convertToInteractive(key) {\n",
              "        const element = document.querySelector('#df-477d6410-4d28-4b65-bd76-6b4cf557c569');\n",
              "        const dataTable =\n",
              "          await google.colab.kernel.invokeFunction('convertToInteractive',\n",
              "                                                    [key], {});\n",
              "        if (!dataTable) return;\n",
              "\n",
              "        const docLinkHtml = 'Like what you see? Visit the ' +\n",
              "          '<a target=\"_blank\" href=https://colab.research.google.com/notebooks/data_table.ipynb>data table notebook</a>'\n",
              "          + ' to learn more about interactive tables.';\n",
              "        element.innerHTML = '';\n",
              "        dataTable['output_type'] = 'display_data';\n",
              "        await google.colab.output.renderOutput(dataTable, element);\n",
              "        const docLink = document.createElement('div');\n",
              "        docLink.innerHTML = docLinkHtml;\n",
              "        element.appendChild(docLink);\n",
              "      }\n",
              "    </script>\n",
              "  </div>\n",
              "\n",
              "\n",
              "<div id=\"df-2e938156-9a2d-4e98-954e-2ea159cbf331\">\n",
              "  <button class=\"colab-df-quickchart\" onclick=\"quickchart('df-2e938156-9a2d-4e98-954e-2ea159cbf331')\"\n",
              "            title=\"Suggest charts\"\n",
              "            style=\"display:none;\">\n",
              "\n",
              "<svg xmlns=\"http://www.w3.org/2000/svg\" height=\"24px\"viewBox=\"0 0 24 24\"\n",
              "     width=\"24px\">\n",
              "    <g>\n",
              "        <path d=\"M19 3H5c-1.1 0-2 .9-2 2v14c0 1.1.9 2 2 2h14c1.1 0 2-.9 2-2V5c0-1.1-.9-2-2-2zM9 17H7v-7h2v7zm4 0h-2V7h2v10zm4 0h-2v-4h2v4z\"/>\n",
              "    </g>\n",
              "</svg>\n",
              "  </button>\n",
              "\n",
              "<style>\n",
              "  .colab-df-quickchart {\n",
              "      --bg-color: #E8F0FE;\n",
              "      --fill-color: #1967D2;\n",
              "      --hover-bg-color: #E2EBFA;\n",
              "      --hover-fill-color: #174EA6;\n",
              "      --disabled-fill-color: #AAA;\n",
              "      --disabled-bg-color: #DDD;\n",
              "  }\n",
              "\n",
              "  [theme=dark] .colab-df-quickchart {\n",
              "      --bg-color: #3B4455;\n",
              "      --fill-color: #D2E3FC;\n",
              "      --hover-bg-color: #434B5C;\n",
              "      --hover-fill-color: #FFFFFF;\n",
              "      --disabled-bg-color: #3B4455;\n",
              "      --disabled-fill-color: #666;\n",
              "  }\n",
              "\n",
              "  .colab-df-quickchart {\n",
              "    background-color: var(--bg-color);\n",
              "    border: none;\n",
              "    border-radius: 50%;\n",
              "    cursor: pointer;\n",
              "    display: none;\n",
              "    fill: var(--fill-color);\n",
              "    height: 32px;\n",
              "    padding: 0;\n",
              "    width: 32px;\n",
              "  }\n",
              "\n",
              "  .colab-df-quickchart:hover {\n",
              "    background-color: var(--hover-bg-color);\n",
              "    box-shadow: 0 1px 2px rgba(60, 64, 67, 0.3), 0 1px 3px 1px rgba(60, 64, 67, 0.15);\n",
              "    fill: var(--button-hover-fill-color);\n",
              "  }\n",
              "\n",
              "  .colab-df-quickchart-complete:disabled,\n",
              "  .colab-df-quickchart-complete:disabled:hover {\n",
              "    background-color: var(--disabled-bg-color);\n",
              "    fill: var(--disabled-fill-color);\n",
              "    box-shadow: none;\n",
              "  }\n",
              "\n",
              "  .colab-df-spinner {\n",
              "    border: 2px solid var(--fill-color);\n",
              "    border-color: transparent;\n",
              "    border-bottom-color: var(--fill-color);\n",
              "    animation:\n",
              "      spin 1s steps(1) infinite;\n",
              "  }\n",
              "\n",
              "  @keyframes spin {\n",
              "    0% {\n",
              "      border-color: transparent;\n",
              "      border-bottom-color: var(--fill-color);\n",
              "      border-left-color: var(--fill-color);\n",
              "    }\n",
              "    20% {\n",
              "      border-color: transparent;\n",
              "      border-left-color: var(--fill-color);\n",
              "      border-top-color: var(--fill-color);\n",
              "    }\n",
              "    30% {\n",
              "      border-color: transparent;\n",
              "      border-left-color: var(--fill-color);\n",
              "      border-top-color: var(--fill-color);\n",
              "      border-right-color: var(--fill-color);\n",
              "    }\n",
              "    40% {\n",
              "      border-color: transparent;\n",
              "      border-right-color: var(--fill-color);\n",
              "      border-top-color: var(--fill-color);\n",
              "    }\n",
              "    60% {\n",
              "      border-color: transparent;\n",
              "      border-right-color: var(--fill-color);\n",
              "    }\n",
              "    80% {\n",
              "      border-color: transparent;\n",
              "      border-right-color: var(--fill-color);\n",
              "      border-bottom-color: var(--fill-color);\n",
              "    }\n",
              "    90% {\n",
              "      border-color: transparent;\n",
              "      border-bottom-color: var(--fill-color);\n",
              "    }\n",
              "  }\n",
              "</style>\n",
              "\n",
              "  <script>\n",
              "    async function quickchart(key) {\n",
              "      const quickchartButtonEl =\n",
              "        document.querySelector('#' + key + ' button');\n",
              "      quickchartButtonEl.disabled = true;  // To prevent multiple clicks.\n",
              "      quickchartButtonEl.classList.add('colab-df-spinner');\n",
              "      try {\n",
              "        const charts = await google.colab.kernel.invokeFunction(\n",
              "            'suggestCharts', [key], {});\n",
              "      } catch (error) {\n",
              "        console.error('Error during call to suggestCharts:', error);\n",
              "      }\n",
              "      quickchartButtonEl.classList.remove('colab-df-spinner');\n",
              "      quickchartButtonEl.classList.add('colab-df-quickchart-complete');\n",
              "    }\n",
              "    (() => {\n",
              "      let quickchartButtonEl =\n",
              "        document.querySelector('#df-2e938156-9a2d-4e98-954e-2ea159cbf331 button');\n",
              "      quickchartButtonEl.style.display =\n",
              "        google.colab.kernel.accessAllowed ? 'block' : 'none';\n",
              "    })();\n",
              "  </script>\n",
              "</div>\n",
              "\n",
              "    </div>\n",
              "  </div>\n"
            ],
            "application/vnd.google.colaboratory.intrinsic+json": {
              "type": "dataframe",
              "variable_name": "X_train_scaled",
              "summary": "{\n  \"name\": \"X_train_scaled\",\n  \"rows\": 323,\n  \"fields\": [\n    {\n      \"column\": \"Gender\",\n      \"properties\": {\n        \"dtype\": \"number\",\n        \"std\": 0,\n        \"min\": 0,\n        \"max\": 1,\n        \"num_unique_values\": 2,\n        \"samples\": [\n          1,\n          0\n        ],\n        \"semantic_type\": \"\",\n        \"description\": \"\"\n      }\n    },\n    {\n      \"column\": \"Married\",\n      \"properties\": {\n        \"dtype\": \"number\",\n        \"std\": 0,\n        \"min\": 0,\n        \"max\": 1,\n        \"num_unique_values\": 2,\n        \"samples\": [\n          1,\n          0\n        ],\n        \"semantic_type\": \"\",\n        \"description\": \"\"\n      }\n    },\n    {\n      \"column\": \"Dependents\",\n      \"properties\": {\n        \"dtype\": \"number\",\n        \"std\": 0,\n        \"min\": 0,\n        \"max\": 3,\n        \"num_unique_values\": 4,\n        \"samples\": [\n          1,\n          3\n        ],\n        \"semantic_type\": \"\",\n        \"description\": \"\"\n      }\n    },\n    {\n      \"column\": \"Education\",\n      \"properties\": {\n        \"dtype\": \"number\",\n        \"std\": 0,\n        \"min\": 0,\n        \"max\": 1,\n        \"num_unique_values\": 2,\n        \"samples\": [\n          1,\n          0\n        ],\n        \"semantic_type\": \"\",\n        \"description\": \"\"\n      }\n    },\n    {\n      \"column\": \"Self_Employed\",\n      \"properties\": {\n        \"dtype\": \"number\",\n        \"std\": 0,\n        \"min\": 0,\n        \"max\": 1,\n        \"num_unique_values\": 2,\n        \"samples\": [\n          1,\n          0\n        ],\n        \"semantic_type\": \"\",\n        \"description\": \"\"\n      }\n    },\n    {\n      \"column\": \"ApplicantIncome\",\n      \"properties\": {\n        \"dtype\": \"number\",\n        \"std\": 0.15098311418634502,\n        \"min\": 0.0,\n        \"max\": 1.0,\n        \"num_unique_values\": 276,\n        \"samples\": [\n          0.21605778289542552,\n          0.21595310373704596\n        ],\n        \"semantic_type\": \"\",\n        \"description\": \"\"\n      }\n    },\n    {\n      \"column\": \"CoapplicantIncome\",\n      \"properties\": {\n        \"dtype\": \"number\",\n        \"std\": 0.07353311578212399,\n        \"min\": 0.0,\n        \"max\": 1.0,\n        \"num_unique_values\": 159,\n        \"samples\": [\n          0.000476401597068298,\n          0.020687413186748233\n        ],\n        \"semantic_type\": \"\",\n        \"description\": \"\"\n      }\n    },\n    {\n      \"column\": \"LoanAmount\",\n      \"properties\": {\n        \"dtype\": \"number\",\n        \"std\": 0.2000246105352515,\n        \"min\": 0.0,\n        \"max\": 1.0,\n        \"num_unique_values\": 93,\n        \"samples\": [\n          0.7588652482269503,\n          0.8368794326241135\n        ],\n        \"semantic_type\": \"\",\n        \"description\": \"\"\n      }\n    },\n    {\n      \"column\": \"Loan_Amount_Term\",\n      \"properties\": {\n        \"dtype\": \"number\",\n        \"std\": 0.14817658955328405,\n        \"min\": 0.0,\n        \"max\": 1.0000000000000002,\n        \"num_unique_values\": 10,\n        \"samples\": [\n          0.05128205128205128,\n          0.0\n        ],\n        \"semantic_type\": \"\",\n        \"description\": \"\"\n      }\n    },\n    {\n      \"column\": \"Credit_History\",\n      \"properties\": {\n        \"dtype\": \"number\",\n        \"std\": 0,\n        \"min\": 0,\n        \"max\": 1,\n        \"num_unique_values\": 2,\n        \"samples\": [\n          0,\n          1\n        ],\n        \"semantic_type\": \"\",\n        \"description\": \"\"\n      }\n    },\n    {\n      \"column\": \"Property_Area\",\n      \"properties\": {\n        \"dtype\": \"number\",\n        \"std\": 0,\n        \"min\": 0,\n        \"max\": 2,\n        \"num_unique_values\": 3,\n        \"samples\": [\n          0,\n          1\n        ],\n        \"semantic_type\": \"\",\n        \"description\": \"\"\n      }\n    }\n  ]\n}"
            }
          },
          "metadata": {},
          "execution_count": 27
        }
      ]
    },
    {
      "cell_type": "code",
      "source": [
        "svm = SVC(random_state = 0, probability=True)\n",
        "\n",
        "svm.fit(X_train_scaled, y_train)\n",
        "\n",
        "print('Accuracy on the train set: {:.5f}'.format(svm.score(X_train_scaled, y_train)))\n",
        "print('accuracy on the test set: {:.5f}'.format(svm.score(X_test_scaled, y_test)))"
      ],
      "metadata": {
        "colab": {
          "base_uri": "https://localhost:8080/"
        },
        "id": "ixrWcCKtmjPO",
        "outputId": "3f32677a-41f6-4c6b-c2a0-f02500fd7778"
      },
      "execution_count": null,
      "outputs": [
        {
          "output_type": "stream",
          "name": "stdout",
          "text": [
            "Accuracy on the train set: 0.84211\n",
            "accuracy on the test set: 0.86207\n"
          ]
        }
      ]
    },
    {
      "cell_type": "code",
      "source": [
        "y_pred = svm.predict(X_test_scaled)\n",
        "\n",
        "print(classification_report(y_test, y_pred))"
      ],
      "metadata": {
        "colab": {
          "base_uri": "https://localhost:8080/"
        },
        "id": "nCJO2K4cmlwN",
        "outputId": "643e2577-1646-42bf-d7d9-76275f13f39a"
      },
      "execution_count": null,
      "outputs": [
        {
          "output_type": "stream",
          "name": "stdout",
          "text": [
            "              precision    recall  f1-score   support\n",
            "\n",
            "           N       1.00      0.53      0.69        17\n",
            "           Y       0.84      1.00      0.91        41\n",
            "\n",
            "    accuracy                           0.86        58\n",
            "   macro avg       0.92      0.76      0.80        58\n",
            "weighted avg       0.88      0.86      0.85        58\n",
            "\n"
          ]
        }
      ]
    },
    {
      "cell_type": "code",
      "source": [
        "y_pred_prob = svm.predict_proba(X_test_scaled)[:, 1]\n",
        "print('AUC score: {:.5f}'.format(roc_auc_score(y_test, y_pred_prob)))"
      ],
      "metadata": {
        "colab": {
          "base_uri": "https://localhost:8080/"
        },
        "id": "n65G3qmJmoRn",
        "outputId": "d0eba5f6-2282-4048-baa9-9c203b210a24"
      },
      "execution_count": null,
      "outputs": [
        {
          "output_type": "stream",
          "name": "stdout",
          "text": [
            "AUC score: 0.77044\n"
          ]
        }
      ]
    },
    {
      "cell_type": "code",
      "source": [
        "ada = AdaBoostClassifier(random_state = 0)\n",
        "\n",
        "ada.fit(X_train_encoded, y_train)\n",
        "\n",
        "print('Accuracy on the train set: {:.5f}'.format(ada.score(X_train_encoded, y_train)))\n",
        "print('accuracy on the test set: {:.5f}'.format(ada.score(X_test_encoded, y_test)))"
      ],
      "metadata": {
        "colab": {
          "base_uri": "https://localhost:8080/"
        },
        "id": "DVyjsU-RmqvL",
        "outputId": "1b7afe49-c6f1-4e68-a821-ebb6db8ad6c2"
      },
      "execution_count": null,
      "outputs": [
        {
          "output_type": "stream",
          "name": "stdout",
          "text": [
            "Accuracy on the train set: 0.88854\n",
            "accuracy on the test set: 0.79310\n"
          ]
        }
      ]
    },
    {
      "cell_type": "code",
      "source": [
        "y_pred = ada.predict(X_test_encoded)\n",
        "\n",
        "print(classification_report(y_test, y_pred))"
      ],
      "metadata": {
        "colab": {
          "base_uri": "https://localhost:8080/"
        },
        "id": "IjcJG-9JmthJ",
        "outputId": "d9ac462d-d61d-4124-9db4-61268ff3e2bf"
      },
      "execution_count": null,
      "outputs": [
        {
          "output_type": "stream",
          "name": "stdout",
          "text": [
            "              precision    recall  f1-score   support\n",
            "\n",
            "           N       0.67      0.59      0.62        17\n",
            "           Y       0.84      0.88      0.86        41\n",
            "\n",
            "    accuracy                           0.79        58\n",
            "   macro avg       0.75      0.73      0.74        58\n",
            "weighted avg       0.79      0.79      0.79        58\n",
            "\n"
          ]
        }
      ]
    },
    {
      "cell_type": "code",
      "source": [
        "y_pred_prob = ada.predict_proba(X_test_encoded)[:, 1]\n",
        "print('AUC score: {:.5f}'.format(roc_auc_score(y_test, y_pred_prob)))"
      ],
      "metadata": {
        "colab": {
          "base_uri": "https://localhost:8080/"
        },
        "id": "WDNMOeoKmv8d",
        "outputId": "64e72e3d-abd3-4779-cf4b-7f0a1334f4c4"
      },
      "execution_count": null,
      "outputs": [
        {
          "output_type": "stream",
          "name": "stdout",
          "text": [
            "AUC score: 0.85079\n"
          ]
        }
      ]
    },
    {
      "cell_type": "code",
      "source": [
        "for column in X_train_encoded.columns:\n",
        "    rf = RandomForestClassifier(random_state = 0)\n",
        "\n",
        "    rf.fit(X_train_encoded[[column]], y_train)\n",
        "    print(f'AUC score of the {column} column: ')\n",
        "    auc = roc_auc_score(y_test, rf.predict_proba(X_test_encoded[[column]])[:, 1])\n",
        "    print(auc)\n",
        "\n",
        "    print('=' * 40)\n",
        "    print('\\n')"
      ],
      "metadata": {
        "colab": {
          "base_uri": "https://localhost:8080/"
        },
        "id": "DaYk3IaAmykO",
        "outputId": "4e2edb02-75fc-4dca-debf-ec56d27485ee"
      },
      "execution_count": null,
      "outputs": [
        {
          "output_type": "stream",
          "name": "stdout",
          "text": [
            "AUC score of the Gender column: \n",
            "0.5494978479196557\n",
            "========================================\n",
            "\n",
            "\n",
            "AUC score of the Married column: \n",
            "0.5035868005738882\n",
            "========================================\n",
            "\n",
            "\n",
            "AUC score of the Dependents column: \n",
            "0.4569583931133429\n",
            "========================================\n",
            "\n",
            "\n",
            "AUC score of the Education column: \n",
            "0.4591104734576758\n",
            "========================================\n",
            "\n",
            "\n",
            "AUC score of the Self_Employed column: \n",
            "0.5272596843615495\n",
            "========================================\n",
            "\n",
            "\n",
            "AUC score of the ApplicantIncome column: \n",
            "0.6649928263988523\n",
            "========================================\n",
            "\n",
            "\n",
            "AUC score of the CoapplicantIncome column: \n",
            "0.5473457675753228\n",
            "========================================\n",
            "\n",
            "\n",
            "AUC score of the LoanAmount column: \n",
            "0.4885222381635581\n",
            "========================================\n",
            "\n",
            "\n",
            "AUC score of the Loan_Amount_Term column: \n",
            "0.5358680057388809\n",
            "========================================\n",
            "\n",
            "\n",
            "AUC score of the Credit_History column: \n",
            "0.7647058823529411\n",
            "========================================\n",
            "\n",
            "\n",
            "AUC score of the Property_Area column: \n",
            "0.5459110473457676\n",
            "========================================\n",
            "\n",
            "\n"
          ]
        }
      ]
    },
    {
      "cell_type": "markdown",
      "source": [
        "# Model Tuning"
      ],
      "metadata": {
        "id": "oHr49o1hm5xY"
      }
    },
    {
      "cell_type": "code",
      "source": [
        "def objective(trial):\n",
        "    params = {\n",
        "        'n_estimators': trial.suggest_int('n_estimators', 100, 1000),\n",
        "        'max_depth': trial.suggest_int('max_depth', 3, 15),\n",
        "        'min_samples_split': trial.suggest_int('min_samples_split', 2, 20),\n",
        "        'min_samples_leaf': trial.suggest_int('min_samples_leaf', 1, 10),\n",
        "        'max_features': trial.suggest_categorical('max_features', ['log2', 'sqrt']),  # Modified this line\n",
        "        'bootstrap': trial.suggest_categorical('bootstrap', [True, False]),\n",
        "        'criterion': trial.suggest_categorical('criterion', ['gini', 'entropy'])\n",
        "    }\n",
        "\n",
        "    model = RandomForestClassifier(**params, random_state=42)\n",
        "    model.fit(X_train_encoded, y_train)\n",
        "\n",
        "    y_pred_proba = model.predict_proba(X_test_encoded)[:, 1]\n",
        "\n",
        "    auc = roc_auc_score(y_test, y_pred_proba)\n",
        "\n",
        "    return auc\n",
        "\n",
        "# Criar um estudo Optuna\n",
        "study = optuna.create_study(direction='maximize', sampler=TPESampler(seed = 33))\n",
        "study.optimize(objective, n_trials=100)"
      ],
      "metadata": {
        "colab": {
          "base_uri": "https://localhost:8080/"
        },
        "id": "sS4jOCyHm0-Z",
        "outputId": "1b3c063e-4cc8-4b53-e475-e0c7463eeeea"
      },
      "execution_count": null,
      "outputs": [
        {
          "output_type": "stream",
          "name": "stderr",
          "text": [
            "[I 2024-05-02 14:02:59,653] A new study created in memory with name: no-name-1bb150a6-cacc-445a-8137-ecf7be3a703a\n",
            "[I 2024-05-02 14:03:00,991] Trial 0 finished with value: 0.8823529411764706 and parameters: {'n_estimators': 323, 'max_depth': 8, 'min_samples_split': 9, 'min_samples_leaf': 3, 'max_features': 'log2', 'bootstrap': False, 'criterion': 'gini'}. Best is trial 0 with value: 0.8823529411764706.\n",
            "[I 2024-05-02 14:03:04,661] Trial 1 finished with value: 0.8751793400286945 and parameters: {'n_estimators': 969, 'max_depth': 8, 'min_samples_split': 3, 'min_samples_leaf': 4, 'max_features': 'sqrt', 'bootstrap': True, 'criterion': 'entropy'}. Best is trial 0 with value: 0.8823529411764706.\n",
            "[I 2024-05-02 14:03:06,447] Trial 2 finished with value: 0.8895265423242468 and parameters: {'n_estimators': 749, 'max_depth': 6, 'min_samples_split': 13, 'min_samples_leaf': 2, 'max_features': 'log2', 'bootstrap': True, 'criterion': 'entropy'}. Best is trial 2 with value: 0.8895265423242468.\n",
            "[I 2024-05-02 14:03:07,725] Trial 3 finished with value: 0.8852223816355811 and parameters: {'n_estimators': 974, 'max_depth': 13, 'min_samples_split': 12, 'min_samples_leaf': 4, 'max_features': 'log2', 'bootstrap': True, 'criterion': 'entropy'}. Best is trial 2 with value: 0.8895265423242468.\n",
            "[I 2024-05-02 14:03:08,304] Trial 4 finished with value: 0.8995695839311335 and parameters: {'n_estimators': 426, 'max_depth': 7, 'min_samples_split': 15, 'min_samples_leaf': 1, 'max_features': 'sqrt', 'bootstrap': True, 'criterion': 'gini'}. Best is trial 4 with value: 0.8995695839311335.\n",
            "[I 2024-05-02 14:03:09,092] Trial 5 finished with value: 0.8637015781922526 and parameters: {'n_estimators': 636, 'max_depth': 5, 'min_samples_split': 17, 'min_samples_leaf': 6, 'max_features': 'sqrt', 'bootstrap': True, 'criterion': 'gini'}. Best is trial 4 with value: 0.8995695839311335.\n",
            "[I 2024-05-02 14:03:10,142] Trial 6 finished with value: 0.8751793400286945 and parameters: {'n_estimators': 760, 'max_depth': 8, 'min_samples_split': 8, 'min_samples_leaf': 4, 'max_features': 'sqrt', 'bootstrap': True, 'criterion': 'gini'}. Best is trial 4 with value: 0.8995695839311335.\n",
            "[I 2024-05-02 14:03:10,933] Trial 7 finished with value: 0.860832137733142 and parameters: {'n_estimators': 792, 'max_depth': 13, 'min_samples_split': 19, 'min_samples_leaf': 10, 'max_features': 'sqrt', 'bootstrap': False, 'criterion': 'entropy'}. Best is trial 4 with value: 0.8995695839311335.\n",
            "[I 2024-05-02 14:03:11,692] Trial 8 finished with value: 0.8493543758967002 and parameters: {'n_estimators': 787, 'max_depth': 5, 'min_samples_split': 10, 'min_samples_leaf': 9, 'max_features': 'log2', 'bootstrap': False, 'criterion': 'gini'}. Best is trial 4 with value: 0.8995695839311335.\n",
            "[I 2024-05-02 14:03:12,894] Trial 9 finished with value: 0.866571018651363 and parameters: {'n_estimators': 976, 'max_depth': 5, 'min_samples_split': 6, 'min_samples_leaf': 6, 'max_features': 'sqrt', 'bootstrap': True, 'criterion': 'entropy'}. Best is trial 4 with value: 0.8995695839311335.\n",
            "[I 2024-05-02 14:03:13,063] Trial 10 finished with value: 0.8952654232424677 and parameters: {'n_estimators': 133, 'max_depth': 11, 'min_samples_split': 15, 'min_samples_leaf': 1, 'max_features': 'sqrt', 'bootstrap': False, 'criterion': 'gini'}. Best is trial 4 with value: 0.8995695839311335.\n",
            "[I 2024-05-02 14:03:13,208] Trial 11 finished with value: 0.8938307030129126 and parameters: {'n_estimators': 103, 'max_depth': 11, 'min_samples_split': 16, 'min_samples_leaf': 1, 'max_features': 'sqrt', 'bootstrap': False, 'criterion': 'gini'}. Best is trial 4 with value: 0.8995695839311335.\n",
            "[I 2024-05-02 14:03:13,568] Trial 12 finished with value: 0.8895265423242468 and parameters: {'n_estimators': 322, 'max_depth': 11, 'min_samples_split': 15, 'min_samples_leaf': 1, 'max_features': 'sqrt', 'bootstrap': False, 'criterion': 'gini'}. Best is trial 4 with value: 0.8995695839311335.\n",
            "[I 2024-05-02 14:03:14,213] Trial 13 finished with value: 0.8923959827833572 and parameters: {'n_estimators': 347, 'max_depth': 15, 'min_samples_split': 20, 'min_samples_leaf': 1, 'max_features': 'sqrt', 'bootstrap': False, 'criterion': 'gini'}. Best is trial 4 with value: 0.8995695839311335.\n",
            "[I 2024-05-02 14:03:14,522] Trial 14 finished with value: 0.8651362984218077 and parameters: {'n_estimators': 134, 'max_depth': 10, 'min_samples_split': 14, 'min_samples_leaf': 8, 'max_features': 'sqrt', 'bootstrap': True, 'criterion': 'gini'}. Best is trial 4 with value: 0.8995695839311335.\n",
            "[I 2024-05-02 14:03:15,260] Trial 15 finished with value: 0.8637015781922526 and parameters: {'n_estimators': 478, 'max_depth': 3, 'min_samples_split': 17, 'min_samples_leaf': 3, 'max_features': 'sqrt', 'bootstrap': False, 'criterion': 'gini'}. Best is trial 4 with value: 0.8995695839311335.\n",
            "[I 2024-05-02 14:03:15,639] Trial 16 finished with value: 0.8995695839311335 and parameters: {'n_estimators': 211, 'max_depth': 10, 'min_samples_split': 12, 'min_samples_leaf': 2, 'max_features': 'sqrt', 'bootstrap': False, 'criterion': 'gini'}. Best is trial 4 with value: 0.8995695839311335.\n",
            "[I 2024-05-02 14:03:16,617] Trial 17 finished with value: 0.9038737446197991 and parameters: {'n_estimators': 456, 'max_depth': 7, 'min_samples_split': 11, 'min_samples_leaf': 3, 'max_features': 'sqrt', 'bootstrap': True, 'criterion': 'gini'}. Best is trial 17 with value: 0.9038737446197991.\n",
            "[I 2024-05-02 14:03:17,499] Trial 18 finished with value: 0.8809182209469153 and parameters: {'n_estimators': 556, 'max_depth': 7, 'min_samples_split': 6, 'min_samples_leaf': 5, 'max_features': 'log2', 'bootstrap': True, 'criterion': 'gini'}. Best is trial 17 with value: 0.9038737446197991.\n",
            "[I 2024-05-02 14:03:18,051] Trial 19 finished with value: 0.866571018651363 and parameters: {'n_estimators': 445, 'max_depth': 3, 'min_samples_split': 2, 'min_samples_leaf': 7, 'max_features': 'sqrt', 'bootstrap': True, 'criterion': 'gini'}. Best is trial 17 with value: 0.9038737446197991.\n",
            "[I 2024-05-02 14:03:18,876] Trial 20 finished with value: 0.8923959827833572 and parameters: {'n_estimators': 642, 'max_depth': 6, 'min_samples_split': 11, 'min_samples_leaf': 3, 'max_features': 'sqrt', 'bootstrap': True, 'criterion': 'gini'}. Best is trial 17 with value: 0.9038737446197991.\n",
            "[I 2024-05-02 14:03:19,179] Trial 21 finished with value: 0.9124820659971306 and parameters: {'n_estimators': 216, 'max_depth': 9, 'min_samples_split': 12, 'min_samples_leaf': 2, 'max_features': 'sqrt', 'bootstrap': True, 'criterion': 'gini'}. Best is trial 21 with value: 0.9124820659971306.\n",
            "[I 2024-05-02 14:03:19,532] Trial 22 finished with value: 0.9024390243902439 and parameters: {'n_estimators': 246, 'max_depth': 9, 'min_samples_split': 8, 'min_samples_leaf': 2, 'max_features': 'sqrt', 'bootstrap': True, 'criterion': 'gini'}. Best is trial 21 with value: 0.9124820659971306.\n",
            "[I 2024-05-02 14:03:19,864] Trial 23 finished with value: 0.9024390243902439 and parameters: {'n_estimators': 228, 'max_depth': 9, 'min_samples_split': 8, 'min_samples_leaf': 2, 'max_features': 'sqrt', 'bootstrap': True, 'criterion': 'gini'}. Best is trial 21 with value: 0.9124820659971306.\n",
            "[I 2024-05-02 14:03:20,238] Trial 24 finished with value: 0.8895265423242468 and parameters: {'n_estimators': 237, 'max_depth': 9, 'min_samples_split': 5, 'min_samples_leaf': 3, 'max_features': 'sqrt', 'bootstrap': True, 'criterion': 'gini'}. Best is trial 21 with value: 0.9124820659971306.\n",
            "[I 2024-05-02 14:03:20,764] Trial 25 finished with value: 0.860832137733142 and parameters: {'n_estimators': 370, 'max_depth': 9, 'min_samples_split': 10, 'min_samples_leaf': 5, 'max_features': 'sqrt', 'bootstrap': True, 'criterion': 'gini'}. Best is trial 21 with value: 0.9124820659971306.\n",
            "[I 2024-05-02 14:03:21,170] Trial 26 finished with value: 0.9081779053084649 and parameters: {'n_estimators': 280, 'max_depth': 12, 'min_samples_split': 7, 'min_samples_leaf': 2, 'max_features': 'log2', 'bootstrap': True, 'criterion': 'entropy'}. Best is trial 21 with value: 0.9124820659971306.\n",
            "[I 2024-05-02 14:03:21,855] Trial 27 finished with value: 0.8837876614060258 and parameters: {'n_estimators': 499, 'max_depth': 13, 'min_samples_split': 5, 'min_samples_leaf': 4, 'max_features': 'log2', 'bootstrap': True, 'criterion': 'entropy'}. Best is trial 21 with value: 0.9124820659971306.\n",
            "[I 2024-05-02 14:03:22,260] Trial 28 finished with value: 0.9225251076040172 and parameters: {'n_estimators': 277, 'max_depth': 15, 'min_samples_split': 11, 'min_samples_leaf': 2, 'max_features': 'log2', 'bootstrap': True, 'criterion': 'entropy'}. Best is trial 28 with value: 0.9225251076040172.\n",
            "[I 2024-05-02 14:03:22,686] Trial 29 finished with value: 0.9067431850789096 and parameters: {'n_estimators': 282, 'max_depth': 15, 'min_samples_split': 7, 'min_samples_leaf': 2, 'max_features': 'log2', 'bootstrap': True, 'criterion': 'entropy'}. Best is trial 28 with value: 0.9225251076040172.\n",
            "[I 2024-05-02 14:03:22,938] Trial 30 finished with value: 0.9038737446197992 and parameters: {'n_estimators': 164, 'max_depth': 14, 'min_samples_split': 9, 'min_samples_leaf': 2, 'max_features': 'log2', 'bootstrap': True, 'criterion': 'entropy'}. Best is trial 28 with value: 0.9225251076040172.\n",
            "[I 2024-05-02 14:03:23,411] Trial 31 finished with value: 0.9053084648493543 and parameters: {'n_estimators': 319, 'max_depth': 15, 'min_samples_split': 7, 'min_samples_leaf': 2, 'max_features': 'log2', 'bootstrap': True, 'criterion': 'entropy'}. Best is trial 28 with value: 0.9225251076040172.\n",
            "[I 2024-05-02 14:03:23,829] Trial 32 finished with value: 0.8895265423242468 and parameters: {'n_estimators': 290, 'max_depth': 14, 'min_samples_split': 9, 'min_samples_leaf': 3, 'max_features': 'log2', 'bootstrap': True, 'criterion': 'entropy'}. Best is trial 28 with value: 0.9225251076040172.\n",
            "[I 2024-05-02 14:03:24,402] Trial 33 finished with value: 0.9081779053084649 and parameters: {'n_estimators': 395, 'max_depth': 12, 'min_samples_split': 4, 'min_samples_leaf': 2, 'max_features': 'log2', 'bootstrap': True, 'criterion': 'entropy'}. Best is trial 28 with value: 0.9225251076040172.\n",
            "[I 2024-05-02 14:03:24,930] Trial 34 finished with value: 0.8766140602582496 and parameters: {'n_estimators': 379, 'max_depth': 12, 'min_samples_split': 2, 'min_samples_leaf': 4, 'max_features': 'log2', 'bootstrap': True, 'criterion': 'entropy'}. Best is trial 28 with value: 0.9225251076040172.\n",
            "[I 2024-05-02 14:03:25,500] Trial 35 finished with value: 0.896700143472023 and parameters: {'n_estimators': 405, 'max_depth': 12, 'min_samples_split': 4, 'min_samples_leaf': 3, 'max_features': 'log2', 'bootstrap': True, 'criterion': 'entropy'}. Best is trial 28 with value: 0.9225251076040172.\n",
            "[I 2024-05-02 14:03:25,755] Trial 36 finished with value: 0.9139167862266858 and parameters: {'n_estimators': 166, 'max_depth': 12, 'min_samples_split': 13, 'min_samples_leaf': 1, 'max_features': 'log2', 'bootstrap': True, 'criterion': 'entropy'}. Best is trial 28 with value: 0.9225251076040172.\n",
            "[I 2024-05-02 14:03:26,013] Trial 37 finished with value: 0.9139167862266858 and parameters: {'n_estimators': 172, 'max_depth': 14, 'min_samples_split': 13, 'min_samples_leaf': 1, 'max_features': 'log2', 'bootstrap': True, 'criterion': 'entropy'}. Best is trial 28 with value: 0.9225251076040172.\n",
            "[I 2024-05-02 14:03:26,286] Trial 38 finished with value: 0.9153515064562411 and parameters: {'n_estimators': 178, 'max_depth': 14, 'min_samples_split': 13, 'min_samples_leaf': 1, 'max_features': 'log2', 'bootstrap': True, 'criterion': 'entropy'}. Best is trial 28 with value: 0.9225251076040172.\n",
            "[I 2024-05-02 14:03:26,549] Trial 39 finished with value: 0.9153515064562411 and parameters: {'n_estimators': 170, 'max_depth': 14, 'min_samples_split': 13, 'min_samples_leaf': 1, 'max_features': 'log2', 'bootstrap': True, 'criterion': 'entropy'}. Best is trial 28 with value: 0.9225251076040172.\n",
            "[I 2024-05-02 14:03:28,201] Trial 40 finished with value: 0.9038737446197991 and parameters: {'n_estimators': 883, 'max_depth': 14, 'min_samples_split': 13, 'min_samples_leaf': 1, 'max_features': 'log2', 'bootstrap': True, 'criterion': 'entropy'}. Best is trial 28 with value: 0.9225251076040172.\n",
            "[I 2024-05-02 14:03:28,591] Trial 41 finished with value: 0.9124820659971306 and parameters: {'n_estimators': 162, 'max_depth': 14, 'min_samples_split': 14, 'min_samples_leaf': 1, 'max_features': 'log2', 'bootstrap': True, 'criterion': 'entropy'}. Best is trial 28 with value: 0.9225251076040172.\n",
            "[I 2024-05-02 14:03:29,026] Trial 42 finished with value: 0.9139167862266858 and parameters: {'n_estimators': 188, 'max_depth': 13, 'min_samples_split': 13, 'min_samples_leaf': 1, 'max_features': 'log2', 'bootstrap': True, 'criterion': 'entropy'}. Best is trial 28 with value: 0.9225251076040172.\n",
            "[I 2024-05-02 14:03:29,349] Trial 43 finished with value: 0.9124820659971306 and parameters: {'n_estimators': 128, 'max_depth': 15, 'min_samples_split': 13, 'min_samples_leaf': 1, 'max_features': 'log2', 'bootstrap': True, 'criterion': 'entropy'}. Best is trial 28 with value: 0.9225251076040172.\n",
            "[I 2024-05-02 14:03:29,799] Trial 44 finished with value: 0.9053084648493543 and parameters: {'n_estimators': 178, 'max_depth': 14, 'min_samples_split': 14, 'min_samples_leaf': 1, 'max_features': 'log2', 'bootstrap': True, 'criterion': 'entropy'}. Best is trial 28 with value: 0.9225251076040172.\n",
            "[I 2024-05-02 14:03:30,072] Trial 45 finished with value: 0.8852223816355811 and parameters: {'n_estimators': 100, 'max_depth': 13, 'min_samples_split': 11, 'min_samples_leaf': 1, 'max_features': 'log2', 'bootstrap': True, 'criterion': 'entropy'}. Best is trial 28 with value: 0.9225251076040172.\n",
            "[I 2024-05-02 14:03:30,505] Trial 46 finished with value: 0.9053084648493543 and parameters: {'n_estimators': 261, 'max_depth': 15, 'min_samples_split': 16, 'min_samples_leaf': 1, 'max_features': 'log2', 'bootstrap': True, 'criterion': 'entropy'}. Best is trial 28 with value: 0.9225251076040172.\n",
            "[I 2024-05-02 14:03:30,791] Trial 47 finished with value: 0.8522238163558107 and parameters: {'n_estimators': 187, 'max_depth': 13, 'min_samples_split': 10, 'min_samples_leaf': 10, 'max_features': 'log2', 'bootstrap': True, 'criterion': 'entropy'}. Best is trial 28 with value: 0.9225251076040172.\n",
            "[I 2024-05-02 14:03:30,971] Trial 48 finished with value: 0.8780487804878049 and parameters: {'n_estimators': 135, 'max_depth': 14, 'min_samples_split': 18, 'min_samples_leaf': 1, 'max_features': 'log2', 'bootstrap': False, 'criterion': 'entropy'}. Best is trial 28 with value: 0.9225251076040172.\n",
            "[I 2024-05-02 14:03:31,423] Trial 49 finished with value: 0.9110473457675754 and parameters: {'n_estimators': 316, 'max_depth': 15, 'min_samples_split': 15, 'min_samples_leaf': 2, 'max_features': 'log2', 'bootstrap': True, 'criterion': 'entropy'}. Best is trial 28 with value: 0.9225251076040172.\n",
            "[I 2024-05-02 14:03:31,738] Trial 50 finished with value: 0.9081779053084649 and parameters: {'n_estimators': 207, 'max_depth': 13, 'min_samples_split': 12, 'min_samples_leaf': 1, 'max_features': 'log2', 'bootstrap': True, 'criterion': 'entropy'}. Best is trial 28 with value: 0.9225251076040172.\n",
            "[I 2024-05-02 14:03:31,996] Trial 51 finished with value: 0.90961262553802 and parameters: {'n_estimators': 162, 'max_depth': 13, 'min_samples_split': 13, 'min_samples_leaf': 1, 'max_features': 'log2', 'bootstrap': True, 'criterion': 'entropy'}. Best is trial 28 with value: 0.9225251076040172.\n",
            "[I 2024-05-02 14:03:32,171] Trial 52 finished with value: 0.8981348637015782 and parameters: {'n_estimators': 102, 'max_depth': 14, 'min_samples_split': 12, 'min_samples_leaf': 1, 'max_features': 'log2', 'bootstrap': True, 'criterion': 'entropy'}. Best is trial 28 with value: 0.9225251076040172.\n",
            "[I 2024-05-02 14:03:32,454] Trial 53 finished with value: 0.9081779053084649 and parameters: {'n_estimators': 183, 'max_depth': 11, 'min_samples_split': 13, 'min_samples_leaf': 2, 'max_features': 'log2', 'bootstrap': True, 'criterion': 'entropy'}. Best is trial 28 with value: 0.9225251076040172.\n",
            "[I 2024-05-02 14:03:32,832] Trial 54 finished with value: 0.9067431850789096 and parameters: {'n_estimators': 255, 'max_depth': 12, 'min_samples_split': 16, 'min_samples_leaf': 1, 'max_features': 'log2', 'bootstrap': True, 'criterion': 'entropy'}. Best is trial 28 with value: 0.9225251076040172.\n",
            "[I 2024-05-02 14:03:33,006] Trial 55 finished with value: 0.8522238163558107 and parameters: {'n_estimators': 139, 'max_depth': 15, 'min_samples_split': 14, 'min_samples_leaf': 9, 'max_features': 'log2', 'bootstrap': False, 'criterion': 'entropy'}. Best is trial 28 with value: 0.9225251076040172.\n",
            "[I 2024-05-02 14:03:33,313] Trial 56 finished with value: 0.8981348637015781 and parameters: {'n_estimators': 205, 'max_depth': 13, 'min_samples_split': 11, 'min_samples_leaf': 1, 'max_features': 'log2', 'bootstrap': True, 'criterion': 'entropy'}. Best is trial 28 with value: 0.9225251076040172.\n",
            "[I 2024-05-02 14:03:33,633] Trial 57 finished with value: 0.9167862266857962 and parameters: {'n_estimators': 224, 'max_depth': 14, 'min_samples_split': 14, 'min_samples_leaf': 2, 'max_features': 'log2', 'bootstrap': True, 'criterion': 'entropy'}. Best is trial 28 with value: 0.9225251076040172.\n",
            "[I 2024-05-02 14:03:34,548] Trial 58 finished with value: 0.8923959827833573 and parameters: {'n_estimators': 676, 'max_depth': 14, 'min_samples_split': 15, 'min_samples_leaf': 3, 'max_features': 'log2', 'bootstrap': True, 'criterion': 'entropy'}. Best is trial 28 with value: 0.9225251076040172.\n",
            "[I 2024-05-02 14:03:34,925] Trial 59 finished with value: 0.8837876614060258 and parameters: {'n_estimators': 307, 'max_depth': 15, 'min_samples_split': 12, 'min_samples_leaf': 2, 'max_features': 'log2', 'bootstrap': False, 'criterion': 'entropy'}. Best is trial 28 with value: 0.9225251076040172.\n",
            "[I 2024-05-02 14:03:35,400] Trial 60 finished with value: 0.8880918220946915 and parameters: {'n_estimators': 339, 'max_depth': 10, 'min_samples_split': 10, 'min_samples_leaf': 4, 'max_features': 'log2', 'bootstrap': True, 'criterion': 'entropy'}. Best is trial 28 with value: 0.9225251076040172.\n",
            "[I 2024-05-02 14:03:35,737] Trial 61 finished with value: 0.9167862266857962 and parameters: {'n_estimators': 229, 'max_depth': 14, 'min_samples_split': 14, 'min_samples_leaf': 2, 'max_features': 'log2', 'bootstrap': True, 'criterion': 'entropy'}. Best is trial 28 with value: 0.9225251076040172.\n",
            "[I 2024-05-02 14:03:36,093] Trial 62 finished with value: 0.9124820659971306 and parameters: {'n_estimators': 236, 'max_depth': 14, 'min_samples_split': 15, 'min_samples_leaf': 2, 'max_features': 'log2', 'bootstrap': True, 'criterion': 'entropy'}. Best is trial 28 with value: 0.9225251076040172.\n",
            "[I 2024-05-02 14:03:36,403] Trial 63 finished with value: 0.8593974175035868 and parameters: {'n_estimators': 215, 'max_depth': 15, 'min_samples_split': 14, 'min_samples_leaf': 7, 'max_features': 'log2', 'bootstrap': True, 'criterion': 'entropy'}. Best is trial 28 with value: 0.9225251076040172.\n",
            "[I 2024-05-02 14:03:36,801] Trial 64 finished with value: 0.8938307030129125 and parameters: {'n_estimators': 269, 'max_depth': 14, 'min_samples_split': 12, 'min_samples_leaf': 3, 'max_features': 'log2', 'bootstrap': True, 'criterion': 'entropy'}. Best is trial 28 with value: 0.9225251076040172.\n",
            "[I 2024-05-02 14:03:37,043] Trial 65 finished with value: 0.896700143472023 and parameters: {'n_estimators': 161, 'max_depth': 13, 'min_samples_split': 17, 'min_samples_leaf': 2, 'max_features': 'log2', 'bootstrap': True, 'criterion': 'entropy'}. Best is trial 28 with value: 0.9225251076040172.\n",
            "[I 2024-05-02 14:03:37,370] Trial 66 finished with value: 0.9110473457675753 and parameters: {'n_estimators': 222, 'max_depth': 15, 'min_samples_split': 16, 'min_samples_leaf': 2, 'max_features': 'log2', 'bootstrap': True, 'criterion': 'entropy'}. Best is trial 28 with value: 0.9225251076040172.\n",
            "[I 2024-05-02 14:03:37,584] Trial 67 finished with value: 0.9053084648493543 and parameters: {'n_estimators': 140, 'max_depth': 11, 'min_samples_split': 14, 'min_samples_leaf': 3, 'max_features': 'log2', 'bootstrap': True, 'criterion': 'entropy'}. Best is trial 28 with value: 0.9225251076040172.\n",
            "[I 2024-05-02 14:03:38,333] Trial 68 finished with value: 0.9053084648493543 and parameters: {'n_estimators': 531, 'max_depth': 14, 'min_samples_split': 12, 'min_samples_leaf': 2, 'max_features': 'log2', 'bootstrap': True, 'criterion': 'entropy'}. Best is trial 28 with value: 0.9225251076040172.\n",
            "[I 2024-05-02 14:03:38,777] Trial 69 finished with value: 0.87948350071736 and parameters: {'n_estimators': 342, 'max_depth': 12, 'min_samples_split': 13, 'min_samples_leaf': 1, 'max_features': 'log2', 'bootstrap': False, 'criterion': 'entropy'}. Best is trial 28 with value: 0.9225251076040172.\n",
            "[I 2024-05-02 14:03:39,196] Trial 70 finished with value: 0.8637015781922526 and parameters: {'n_estimators': 293, 'max_depth': 4, 'min_samples_split': 11, 'min_samples_leaf': 3, 'max_features': 'log2', 'bootstrap': True, 'criterion': 'entropy'}. Best is trial 28 with value: 0.9225251076040172.\n",
            "[I 2024-05-02 14:03:39,491] Trial 71 finished with value: 0.9139167862266858 and parameters: {'n_estimators': 197, 'max_depth': 13, 'min_samples_split': 13, 'min_samples_leaf': 1, 'max_features': 'log2', 'bootstrap': True, 'criterion': 'entropy'}. Best is trial 28 with value: 0.9225251076040172.\n",
            "[I 2024-05-02 14:03:39,879] Trial 72 finished with value: 0.9038737446197992 and parameters: {'n_estimators': 256, 'max_depth': 14, 'min_samples_split': 15, 'min_samples_leaf': 1, 'max_features': 'log2', 'bootstrap': True, 'criterion': 'entropy'}. Best is trial 28 with value: 0.9225251076040172.\n",
            "[I 2024-05-02 14:03:40,089] Trial 73 finished with value: 0.9024390243902439 and parameters: {'n_estimators': 130, 'max_depth': 13, 'min_samples_split': 14, 'min_samples_leaf': 2, 'max_features': 'log2', 'bootstrap': True, 'criterion': 'entropy'}. Best is trial 28 with value: 0.9225251076040172.\n",
            "[I 2024-05-02 14:03:40,471] Trial 74 finished with value: 0.90961262553802 and parameters: {'n_estimators': 183, 'max_depth': 8, 'min_samples_split': 10, 'min_samples_leaf': 1, 'max_features': 'log2', 'bootstrap': True, 'criterion': 'entropy'}. Best is trial 28 with value: 0.9225251076040172.\n",
            "[I 2024-05-02 14:03:40,835] Trial 75 finished with value: 0.8708751793400287 and parameters: {'n_estimators': 157, 'max_depth': 14, 'min_samples_split': 13, 'min_samples_leaf': 5, 'max_features': 'log2', 'bootstrap': True, 'criterion': 'entropy'}. Best is trial 28 with value: 0.9225251076040172.\n",
            "[I 2024-05-02 14:03:41,410] Trial 76 finished with value: 0.9139167862266858 and parameters: {'n_estimators': 247, 'max_depth': 15, 'min_samples_split': 13, 'min_samples_leaf': 2, 'max_features': 'log2', 'bootstrap': True, 'criterion': 'entropy'}. Best is trial 28 with value: 0.9225251076040172.\n",
            "[I 2024-05-02 14:03:41,950] Trial 77 finished with value: 0.921090387374462 and parameters: {'n_estimators': 232, 'max_depth': 13, 'min_samples_split': 14, 'min_samples_leaf': 1, 'max_features': 'log2', 'bootstrap': True, 'criterion': 'entropy'}. Best is trial 28 with value: 0.9225251076040172.\n",
            "[I 2024-05-02 14:03:42,469] Trial 78 finished with value: 0.9239598278335724 and parameters: {'n_estimators': 226, 'max_depth': 12, 'min_samples_split': 11, 'min_samples_leaf': 2, 'max_features': 'log2', 'bootstrap': True, 'criterion': 'entropy'}. Best is trial 78 with value: 0.9239598278335724.\n",
            "[I 2024-05-02 14:03:43,122] Trial 79 finished with value: 0.8694404591104734 and parameters: {'n_estimators': 282, 'max_depth': 12, 'min_samples_split': 11, 'min_samples_leaf': 6, 'max_features': 'log2', 'bootstrap': True, 'criterion': 'entropy'}. Best is trial 78 with value: 0.9239598278335724.\n",
            "[I 2024-05-02 14:03:43,599] Trial 80 finished with value: 0.90961262553802 and parameters: {'n_estimators': 226, 'max_depth': 12, 'min_samples_split': 16, 'min_samples_leaf': 2, 'max_features': 'log2', 'bootstrap': True, 'criterion': 'entropy'}. Best is trial 78 with value: 0.9239598278335724.\n",
            "[I 2024-05-02 14:03:43,787] Trial 81 finished with value: 0.8952654232424677 and parameters: {'n_estimators': 116, 'max_depth': 11, 'min_samples_split': 14, 'min_samples_leaf': 1, 'max_features': 'log2', 'bootstrap': True, 'criterion': 'entropy'}. Best is trial 78 with value: 0.9239598278335724.\n",
            "[I 2024-05-02 14:03:44,160] Trial 82 finished with value: 0.9225251076040173 and parameters: {'n_estimators': 242, 'max_depth': 13, 'min_samples_split': 12, 'min_samples_leaf': 2, 'max_features': 'log2', 'bootstrap': True, 'criterion': 'entropy'}. Best is trial 78 with value: 0.9239598278335724.\n",
            "[I 2024-05-02 14:03:44,506] Trial 83 finished with value: 0.921090387374462 and parameters: {'n_estimators': 238, 'max_depth': 13, 'min_samples_split': 12, 'min_samples_leaf': 2, 'max_features': 'log2', 'bootstrap': True, 'criterion': 'entropy'}. Best is trial 78 with value: 0.9239598278335724.\n",
            "[I 2024-05-02 14:03:44,933] Trial 84 finished with value: 0.896700143472023 and parameters: {'n_estimators': 300, 'max_depth': 13, 'min_samples_split': 11, 'min_samples_leaf': 3, 'max_features': 'log2', 'bootstrap': True, 'criterion': 'entropy'}. Best is trial 78 with value: 0.9239598278335724.\n",
            "[I 2024-05-02 14:03:45,450] Trial 85 finished with value: 0.9096126255380201 and parameters: {'n_estimators': 356, 'max_depth': 13, 'min_samples_split': 12, 'min_samples_leaf': 2, 'max_features': 'log2', 'bootstrap': True, 'criterion': 'entropy'}. Best is trial 78 with value: 0.9239598278335724.\n",
            "[I 2024-05-02 14:03:45,797] Trial 86 finished with value: 0.9053084648493543 and parameters: {'n_estimators': 237, 'max_depth': 14, 'min_samples_split': 9, 'min_samples_leaf': 2, 'max_features': 'log2', 'bootstrap': True, 'criterion': 'entropy'}. Best is trial 78 with value: 0.9239598278335724.\n",
            "[I 2024-05-02 14:03:46,176] Trial 87 finished with value: 0.8938307030129125 and parameters: {'n_estimators': 253, 'max_depth': 14, 'min_samples_split': 10, 'min_samples_leaf': 3, 'max_features': 'log2', 'bootstrap': True, 'criterion': 'entropy'}. Best is trial 78 with value: 0.9239598278335724.\n",
            "[I 2024-05-02 14:03:47,281] Trial 88 finished with value: 0.8938307030129125 and parameters: {'n_estimators': 941, 'max_depth': 15, 'min_samples_split': 12, 'min_samples_leaf': 2, 'max_features': 'log2', 'bootstrap': False, 'criterion': 'entropy'}. Best is trial 78 with value: 0.9239598278335724.\n",
            "[I 2024-05-02 14:03:47,676] Trial 89 finished with value: 0.9225251076040172 and parameters: {'n_estimators': 274, 'max_depth': 13, 'min_samples_split': 11, 'min_samples_leaf': 2, 'max_features': 'sqrt', 'bootstrap': True, 'criterion': 'entropy'}. Best is trial 78 with value: 0.9239598278335724.\n",
            "[I 2024-05-02 14:03:48,078] Trial 90 finished with value: 0.8723098995695839 and parameters: {'n_estimators': 279, 'max_depth': 12, 'min_samples_split': 9, 'min_samples_leaf': 4, 'max_features': 'sqrt', 'bootstrap': True, 'criterion': 'gini'}. Best is trial 78 with value: 0.9239598278335724.\n",
            "[I 2024-05-02 14:03:48,406] Trial 91 finished with value: 0.9253945480631277 and parameters: {'n_estimators': 211, 'max_depth': 13, 'min_samples_split': 11, 'min_samples_leaf': 2, 'max_features': 'sqrt', 'bootstrap': True, 'criterion': 'entropy'}. Best is trial 91 with value: 0.9253945480631277.\n",
            "[I 2024-05-02 14:03:48,872] Trial 92 finished with value: 0.8938307030129125 and parameters: {'n_estimators': 324, 'max_depth': 13, 'min_samples_split': 11, 'min_samples_leaf': 3, 'max_features': 'sqrt', 'bootstrap': True, 'criterion': 'entropy'}. Best is trial 91 with value: 0.9253945480631277.\n",
            "[I 2024-05-02 14:03:49,197] Trial 93 finished with value: 0.896700143472023 and parameters: {'n_estimators': 207, 'max_depth': 13, 'min_samples_split': 10, 'min_samples_leaf': 2, 'max_features': 'sqrt', 'bootstrap': True, 'criterion': 'entropy'}. Best is trial 91 with value: 0.9253945480631277.\n",
            "[I 2024-05-02 14:03:49,547] Trial 94 finished with value: 0.9340028694404591 and parameters: {'n_estimators': 238, 'max_depth': 13, 'min_samples_split': 11, 'min_samples_leaf': 2, 'max_features': 'sqrt', 'bootstrap': True, 'criterion': 'entropy'}. Best is trial 94 with value: 0.9340028694404591.\n",
            "[I 2024-05-02 14:03:49,937] Trial 95 finished with value: 0.8837876614060258 and parameters: {'n_estimators': 275, 'max_depth': 13, 'min_samples_split': 10, 'min_samples_leaf': 3, 'max_features': 'sqrt', 'bootstrap': True, 'criterion': 'entropy'}. Best is trial 94 with value: 0.9340028694404591.\n",
            "[I 2024-05-02 14:03:50,584] Trial 96 finished with value: 0.9067431850789096 and parameters: {'n_estimators': 423, 'max_depth': 12, 'min_samples_split': 11, 'min_samples_leaf': 2, 'max_features': 'sqrt', 'bootstrap': True, 'criterion': 'entropy'}. Best is trial 94 with value: 0.9340028694404591.\n",
            "[I 2024-05-02 14:03:50,923] Trial 97 finished with value: 0.9081779053084649 and parameters: {'n_estimators': 222, 'max_depth': 13, 'min_samples_split': 9, 'min_samples_leaf': 2, 'max_features': 'sqrt', 'bootstrap': True, 'criterion': 'entropy'}. Best is trial 94 with value: 0.9340028694404591.\n",
            "[I 2024-05-02 14:03:51,408] Trial 98 finished with value: 0.9182209469153515 and parameters: {'n_estimators': 330, 'max_depth': 12, 'min_samples_split': 11, 'min_samples_leaf': 2, 'max_features': 'sqrt', 'bootstrap': True, 'criterion': 'entropy'}. Best is trial 94 with value: 0.9340028694404591.\n",
            "[I 2024-05-02 14:03:51,859] Trial 99 finished with value: 0.8938307030129125 and parameters: {'n_estimators': 306, 'max_depth': 12, 'min_samples_split': 11, 'min_samples_leaf': 3, 'max_features': 'sqrt', 'bootstrap': True, 'criterion': 'entropy'}. Best is trial 94 with value: 0.9340028694404591.\n"
          ]
        }
      ]
    },
    {
      "cell_type": "code",
      "source": [
        "print('Best AUC score: {:.5f}'.format(study.best_value))"
      ],
      "metadata": {
        "colab": {
          "base_uri": "https://localhost:8080/"
        },
        "id": "HOb7g1_Rm9JO",
        "outputId": "e92503b5-3fb8-496a-9566-28894c56d44f"
      },
      "execution_count": null,
      "outputs": [
        {
          "output_type": "stream",
          "name": "stdout",
          "text": [
            "Best AUC score: 0.93400\n"
          ]
        }
      ]
    },
    {
      "cell_type": "code",
      "source": [
        "print('Best Params: ')\n",
        "rf_params = study.best_params\n",
        "rf_params"
      ],
      "metadata": {
        "colab": {
          "base_uri": "https://localhost:8080/"
        },
        "id": "Z8_EP5N8n8HZ",
        "outputId": "a2d54b82-dd95-4bf6-ccd0-65ce8d57833d"
      },
      "execution_count": null,
      "outputs": [
        {
          "output_type": "stream",
          "name": "stdout",
          "text": [
            "Best Params: \n"
          ]
        },
        {
          "output_type": "execute_result",
          "data": {
            "text/plain": [
              "{'n_estimators': 238,\n",
              " 'max_depth': 13,\n",
              " 'min_samples_split': 11,\n",
              " 'min_samples_leaf': 2,\n",
              " 'max_features': 'sqrt',\n",
              " 'bootstrap': True,\n",
              " 'criterion': 'entropy'}"
            ]
          },
          "metadata": {},
          "execution_count": 38
        }
      ]
    },
    {
      "cell_type": "code",
      "source": [
        "optuna.visualization.plot_optimization_history(study)"
      ],
      "metadata": {
        "colab": {
          "base_uri": "https://localhost:8080/",
          "height": 542
        },
        "id": "DNgPM-P8n-TG",
        "outputId": "4a0a05fe-e15f-4a55-9f15-58e8c9dbc1f7"
      },
      "execution_count": null,
      "outputs": [
        {
          "output_type": "display_data",
          "data": {
            "text/html": [
              "<html>\n",
              "<head><meta charset=\"utf-8\" /></head>\n",
              "<body>\n",
              "    <div>            <script src=\"https://cdnjs.cloudflare.com/ajax/libs/mathjax/2.7.5/MathJax.js?config=TeX-AMS-MML_SVG\"></script><script type=\"text/javascript\">if (window.MathJax && window.MathJax.Hub && window.MathJax.Hub.Config) {window.MathJax.Hub.Config({SVG: {font: \"STIX-Web\"}});}</script>                <script type=\"text/javascript\">window.PlotlyConfig = {MathJaxConfig: 'local'};</script>\n",
              "        <script charset=\"utf-8\" src=\"https://cdn.plot.ly/plotly-2.24.1.min.js\"></script>                <div id=\"f47d7c88-579b-483d-a182-023f22884954\" class=\"plotly-graph-div\" style=\"height:525px; width:100%;\"></div>            <script type=\"text/javascript\">                                    window.PLOTLYENV=window.PLOTLYENV || {};                                    if (document.getElementById(\"f47d7c88-579b-483d-a182-023f22884954\")) {                    Plotly.newPlot(                        \"f47d7c88-579b-483d-a182-023f22884954\",                        [{\"mode\":\"markers\",\"name\":\"Objective Value\",\"x\":[0,1,2,3,4,5,6,7,8,9,10,11,12,13,14,15,16,17,18,19,20,21,22,23,24,25,26,27,28,29,30,31,32,33,34,35,36,37,38,39,40,41,42,43,44,45,46,47,48,49,50,51,52,53,54,55,56,57,58,59,60,61,62,63,64,65,66,67,68,69,70,71,72,73,74,75,76,77,78,79,80,81,82,83,84,85,86,87,88,89,90,91,92,93,94,95,96,97,98,99],\"y\":[0.8823529411764706,0.8751793400286945,0.8895265423242468,0.8852223816355811,0.8995695839311335,0.8637015781922526,0.8751793400286945,0.860832137733142,0.8493543758967002,0.866571018651363,0.8952654232424677,0.8938307030129126,0.8895265423242468,0.8923959827833572,0.8651362984218077,0.8637015781922526,0.8995695839311335,0.9038737446197991,0.8809182209469153,0.866571018651363,0.8923959827833572,0.9124820659971306,0.9024390243902439,0.9024390243902439,0.8895265423242468,0.860832137733142,0.9081779053084649,0.8837876614060258,0.9225251076040172,0.9067431850789096,0.9038737446197992,0.9053084648493543,0.8895265423242468,0.9081779053084649,0.8766140602582496,0.896700143472023,0.9139167862266858,0.9139167862266858,0.9153515064562411,0.9153515064562411,0.9038737446197991,0.9124820659971306,0.9139167862266858,0.9124820659971306,0.9053084648493543,0.8852223816355811,0.9053084648493543,0.8522238163558107,0.8780487804878049,0.9110473457675754,0.9081779053084649,0.90961262553802,0.8981348637015782,0.9081779053084649,0.9067431850789096,0.8522238163558107,0.8981348637015781,0.9167862266857962,0.8923959827833573,0.8837876614060258,0.8880918220946915,0.9167862266857962,0.9124820659971306,0.8593974175035868,0.8938307030129125,0.896700143472023,0.9110473457675753,0.9053084648493543,0.9053084648493543,0.87948350071736,0.8637015781922526,0.9139167862266858,0.9038737446197992,0.9024390243902439,0.90961262553802,0.8708751793400287,0.9139167862266858,0.921090387374462,0.9239598278335724,0.8694404591104734,0.90961262553802,0.8952654232424677,0.9225251076040173,0.921090387374462,0.896700143472023,0.9096126255380201,0.9053084648493543,0.8938307030129125,0.8938307030129125,0.9225251076040172,0.8723098995695839,0.9253945480631277,0.8938307030129125,0.896700143472023,0.9340028694404591,0.8837876614060258,0.9067431850789096,0.9081779053084649,0.9182209469153515,0.8938307030129125],\"type\":\"scatter\"},{\"mode\":\"lines\",\"name\":\"Best Value\",\"x\":[0,1,2,3,4,5,6,7,8,9,10,11,12,13,14,15,16,17,18,19,20,21,22,23,24,25,26,27,28,29,30,31,32,33,34,35,36,37,38,39,40,41,42,43,44,45,46,47,48,49,50,51,52,53,54,55,56,57,58,59,60,61,62,63,64,65,66,67,68,69,70,71,72,73,74,75,76,77,78,79,80,81,82,83,84,85,86,87,88,89,90,91,92,93,94,95,96,97,98,99],\"y\":[0.8823529411764706,0.8823529411764706,0.8895265423242468,0.8895265423242468,0.8995695839311335,0.8995695839311335,0.8995695839311335,0.8995695839311335,0.8995695839311335,0.8995695839311335,0.8995695839311335,0.8995695839311335,0.8995695839311335,0.8995695839311335,0.8995695839311335,0.8995695839311335,0.8995695839311335,0.9038737446197991,0.9038737446197991,0.9038737446197991,0.9038737446197991,0.9124820659971306,0.9124820659971306,0.9124820659971306,0.9124820659971306,0.9124820659971306,0.9124820659971306,0.9124820659971306,0.9225251076040172,0.9225251076040172,0.9225251076040172,0.9225251076040172,0.9225251076040172,0.9225251076040172,0.9225251076040172,0.9225251076040172,0.9225251076040172,0.9225251076040172,0.9225251076040172,0.9225251076040172,0.9225251076040172,0.9225251076040172,0.9225251076040172,0.9225251076040172,0.9225251076040172,0.9225251076040172,0.9225251076040172,0.9225251076040172,0.9225251076040172,0.9225251076040172,0.9225251076040172,0.9225251076040172,0.9225251076040172,0.9225251076040172,0.9225251076040172,0.9225251076040172,0.9225251076040172,0.9225251076040172,0.9225251076040172,0.9225251076040172,0.9225251076040172,0.9225251076040172,0.9225251076040172,0.9225251076040172,0.9225251076040172,0.9225251076040172,0.9225251076040172,0.9225251076040172,0.9225251076040172,0.9225251076040172,0.9225251076040172,0.9225251076040172,0.9225251076040172,0.9225251076040172,0.9225251076040172,0.9225251076040172,0.9225251076040172,0.9225251076040172,0.9239598278335724,0.9239598278335724,0.9239598278335724,0.9239598278335724,0.9239598278335724,0.9239598278335724,0.9239598278335724,0.9239598278335724,0.9239598278335724,0.9239598278335724,0.9239598278335724,0.9239598278335724,0.9239598278335724,0.9253945480631277,0.9253945480631277,0.9253945480631277,0.9340028694404591,0.9340028694404591,0.9340028694404591,0.9340028694404591,0.9340028694404591,0.9340028694404591],\"type\":\"scatter\"},{\"marker\":{\"color\":\"#cccccc\"},\"mode\":\"markers\",\"name\":\"Infeasible Trial\",\"showlegend\":false,\"x\":[],\"y\":[],\"type\":\"scatter\"}],                        {\"title\":{\"text\":\"Optimization History Plot\"},\"xaxis\":{\"title\":{\"text\":\"Trial\"}},\"yaxis\":{\"title\":{\"text\":\"Objective Value\"}},\"template\":{\"data\":{\"histogram2dcontour\":[{\"type\":\"histogram2dcontour\",\"colorbar\":{\"outlinewidth\":0,\"ticks\":\"\"},\"colorscale\":[[0.0,\"#0d0887\"],[0.1111111111111111,\"#46039f\"],[0.2222222222222222,\"#7201a8\"],[0.3333333333333333,\"#9c179e\"],[0.4444444444444444,\"#bd3786\"],[0.5555555555555556,\"#d8576b\"],[0.6666666666666666,\"#ed7953\"],[0.7777777777777778,\"#fb9f3a\"],[0.8888888888888888,\"#fdca26\"],[1.0,\"#f0f921\"]]}],\"choropleth\":[{\"type\":\"choropleth\",\"colorbar\":{\"outlinewidth\":0,\"ticks\":\"\"}}],\"histogram2d\":[{\"type\":\"histogram2d\",\"colorbar\":{\"outlinewidth\":0,\"ticks\":\"\"},\"colorscale\":[[0.0,\"#0d0887\"],[0.1111111111111111,\"#46039f\"],[0.2222222222222222,\"#7201a8\"],[0.3333333333333333,\"#9c179e\"],[0.4444444444444444,\"#bd3786\"],[0.5555555555555556,\"#d8576b\"],[0.6666666666666666,\"#ed7953\"],[0.7777777777777778,\"#fb9f3a\"],[0.8888888888888888,\"#fdca26\"],[1.0,\"#f0f921\"]]}],\"heatmap\":[{\"type\":\"heatmap\",\"colorbar\":{\"outlinewidth\":0,\"ticks\":\"\"},\"colorscale\":[[0.0,\"#0d0887\"],[0.1111111111111111,\"#46039f\"],[0.2222222222222222,\"#7201a8\"],[0.3333333333333333,\"#9c179e\"],[0.4444444444444444,\"#bd3786\"],[0.5555555555555556,\"#d8576b\"],[0.6666666666666666,\"#ed7953\"],[0.7777777777777778,\"#fb9f3a\"],[0.8888888888888888,\"#fdca26\"],[1.0,\"#f0f921\"]]}],\"heatmapgl\":[{\"type\":\"heatmapgl\",\"colorbar\":{\"outlinewidth\":0,\"ticks\":\"\"},\"colorscale\":[[0.0,\"#0d0887\"],[0.1111111111111111,\"#46039f\"],[0.2222222222222222,\"#7201a8\"],[0.3333333333333333,\"#9c179e\"],[0.4444444444444444,\"#bd3786\"],[0.5555555555555556,\"#d8576b\"],[0.6666666666666666,\"#ed7953\"],[0.7777777777777778,\"#fb9f3a\"],[0.8888888888888888,\"#fdca26\"],[1.0,\"#f0f921\"]]}],\"contourcarpet\":[{\"type\":\"contourcarpet\",\"colorbar\":{\"outlinewidth\":0,\"ticks\":\"\"}}],\"contour\":[{\"type\":\"contour\",\"colorbar\":{\"outlinewidth\":0,\"ticks\":\"\"},\"colorscale\":[[0.0,\"#0d0887\"],[0.1111111111111111,\"#46039f\"],[0.2222222222222222,\"#7201a8\"],[0.3333333333333333,\"#9c179e\"],[0.4444444444444444,\"#bd3786\"],[0.5555555555555556,\"#d8576b\"],[0.6666666666666666,\"#ed7953\"],[0.7777777777777778,\"#fb9f3a\"],[0.8888888888888888,\"#fdca26\"],[1.0,\"#f0f921\"]]}],\"surface\":[{\"type\":\"surface\",\"colorbar\":{\"outlinewidth\":0,\"ticks\":\"\"},\"colorscale\":[[0.0,\"#0d0887\"],[0.1111111111111111,\"#46039f\"],[0.2222222222222222,\"#7201a8\"],[0.3333333333333333,\"#9c179e\"],[0.4444444444444444,\"#bd3786\"],[0.5555555555555556,\"#d8576b\"],[0.6666666666666666,\"#ed7953\"],[0.7777777777777778,\"#fb9f3a\"],[0.8888888888888888,\"#fdca26\"],[1.0,\"#f0f921\"]]}],\"mesh3d\":[{\"type\":\"mesh3d\",\"colorbar\":{\"outlinewidth\":0,\"ticks\":\"\"}}],\"scatter\":[{\"fillpattern\":{\"fillmode\":\"overlay\",\"size\":10,\"solidity\":0.2},\"type\":\"scatter\"}],\"parcoords\":[{\"type\":\"parcoords\",\"line\":{\"colorbar\":{\"outlinewidth\":0,\"ticks\":\"\"}}}],\"scatterpolargl\":[{\"type\":\"scatterpolargl\",\"marker\":{\"colorbar\":{\"outlinewidth\":0,\"ticks\":\"\"}}}],\"bar\":[{\"error_x\":{\"color\":\"#2a3f5f\"},\"error_y\":{\"color\":\"#2a3f5f\"},\"marker\":{\"line\":{\"color\":\"#E5ECF6\",\"width\":0.5},\"pattern\":{\"fillmode\":\"overlay\",\"size\":10,\"solidity\":0.2}},\"type\":\"bar\"}],\"scattergeo\":[{\"type\":\"scattergeo\",\"marker\":{\"colorbar\":{\"outlinewidth\":0,\"ticks\":\"\"}}}],\"scatterpolar\":[{\"type\":\"scatterpolar\",\"marker\":{\"colorbar\":{\"outlinewidth\":0,\"ticks\":\"\"}}}],\"histogram\":[{\"marker\":{\"pattern\":{\"fillmode\":\"overlay\",\"size\":10,\"solidity\":0.2}},\"type\":\"histogram\"}],\"scattergl\":[{\"type\":\"scattergl\",\"marker\":{\"colorbar\":{\"outlinewidth\":0,\"ticks\":\"\"}}}],\"scatter3d\":[{\"type\":\"scatter3d\",\"line\":{\"colorbar\":{\"outlinewidth\":0,\"ticks\":\"\"}},\"marker\":{\"colorbar\":{\"outlinewidth\":0,\"ticks\":\"\"}}}],\"scattermapbox\":[{\"type\":\"scattermapbox\",\"marker\":{\"colorbar\":{\"outlinewidth\":0,\"ticks\":\"\"}}}],\"scatterternary\":[{\"type\":\"scatterternary\",\"marker\":{\"colorbar\":{\"outlinewidth\":0,\"ticks\":\"\"}}}],\"scattercarpet\":[{\"type\":\"scattercarpet\",\"marker\":{\"colorbar\":{\"outlinewidth\":0,\"ticks\":\"\"}}}],\"carpet\":[{\"aaxis\":{\"endlinecolor\":\"#2a3f5f\",\"gridcolor\":\"white\",\"linecolor\":\"white\",\"minorgridcolor\":\"white\",\"startlinecolor\":\"#2a3f5f\"},\"baxis\":{\"endlinecolor\":\"#2a3f5f\",\"gridcolor\":\"white\",\"linecolor\":\"white\",\"minorgridcolor\":\"white\",\"startlinecolor\":\"#2a3f5f\"},\"type\":\"carpet\"}],\"table\":[{\"cells\":{\"fill\":{\"color\":\"#EBF0F8\"},\"line\":{\"color\":\"white\"}},\"header\":{\"fill\":{\"color\":\"#C8D4E3\"},\"line\":{\"color\":\"white\"}},\"type\":\"table\"}],\"barpolar\":[{\"marker\":{\"line\":{\"color\":\"#E5ECF6\",\"width\":0.5},\"pattern\":{\"fillmode\":\"overlay\",\"size\":10,\"solidity\":0.2}},\"type\":\"barpolar\"}],\"pie\":[{\"automargin\":true,\"type\":\"pie\"}]},\"layout\":{\"autotypenumbers\":\"strict\",\"colorway\":[\"#636efa\",\"#EF553B\",\"#00cc96\",\"#ab63fa\",\"#FFA15A\",\"#19d3f3\",\"#FF6692\",\"#B6E880\",\"#FF97FF\",\"#FECB52\"],\"font\":{\"color\":\"#2a3f5f\"},\"hovermode\":\"closest\",\"hoverlabel\":{\"align\":\"left\"},\"paper_bgcolor\":\"white\",\"plot_bgcolor\":\"#E5ECF6\",\"polar\":{\"bgcolor\":\"#E5ECF6\",\"angularaxis\":{\"gridcolor\":\"white\",\"linecolor\":\"white\",\"ticks\":\"\"},\"radialaxis\":{\"gridcolor\":\"white\",\"linecolor\":\"white\",\"ticks\":\"\"}},\"ternary\":{\"bgcolor\":\"#E5ECF6\",\"aaxis\":{\"gridcolor\":\"white\",\"linecolor\":\"white\",\"ticks\":\"\"},\"baxis\":{\"gridcolor\":\"white\",\"linecolor\":\"white\",\"ticks\":\"\"},\"caxis\":{\"gridcolor\":\"white\",\"linecolor\":\"white\",\"ticks\":\"\"}},\"coloraxis\":{\"colorbar\":{\"outlinewidth\":0,\"ticks\":\"\"}},\"colorscale\":{\"sequential\":[[0.0,\"#0d0887\"],[0.1111111111111111,\"#46039f\"],[0.2222222222222222,\"#7201a8\"],[0.3333333333333333,\"#9c179e\"],[0.4444444444444444,\"#bd3786\"],[0.5555555555555556,\"#d8576b\"],[0.6666666666666666,\"#ed7953\"],[0.7777777777777778,\"#fb9f3a\"],[0.8888888888888888,\"#fdca26\"],[1.0,\"#f0f921\"]],\"sequentialminus\":[[0.0,\"#0d0887\"],[0.1111111111111111,\"#46039f\"],[0.2222222222222222,\"#7201a8\"],[0.3333333333333333,\"#9c179e\"],[0.4444444444444444,\"#bd3786\"],[0.5555555555555556,\"#d8576b\"],[0.6666666666666666,\"#ed7953\"],[0.7777777777777778,\"#fb9f3a\"],[0.8888888888888888,\"#fdca26\"],[1.0,\"#f0f921\"]],\"diverging\":[[0,\"#8e0152\"],[0.1,\"#c51b7d\"],[0.2,\"#de77ae\"],[0.3,\"#f1b6da\"],[0.4,\"#fde0ef\"],[0.5,\"#f7f7f7\"],[0.6,\"#e6f5d0\"],[0.7,\"#b8e186\"],[0.8,\"#7fbc41\"],[0.9,\"#4d9221\"],[1,\"#276419\"]]},\"xaxis\":{\"gridcolor\":\"white\",\"linecolor\":\"white\",\"ticks\":\"\",\"title\":{\"standoff\":15},\"zerolinecolor\":\"white\",\"automargin\":true,\"zerolinewidth\":2},\"yaxis\":{\"gridcolor\":\"white\",\"linecolor\":\"white\",\"ticks\":\"\",\"title\":{\"standoff\":15},\"zerolinecolor\":\"white\",\"automargin\":true,\"zerolinewidth\":2},\"scene\":{\"xaxis\":{\"backgroundcolor\":\"#E5ECF6\",\"gridcolor\":\"white\",\"linecolor\":\"white\",\"showbackground\":true,\"ticks\":\"\",\"zerolinecolor\":\"white\",\"gridwidth\":2},\"yaxis\":{\"backgroundcolor\":\"#E5ECF6\",\"gridcolor\":\"white\",\"linecolor\":\"white\",\"showbackground\":true,\"ticks\":\"\",\"zerolinecolor\":\"white\",\"gridwidth\":2},\"zaxis\":{\"backgroundcolor\":\"#E5ECF6\",\"gridcolor\":\"white\",\"linecolor\":\"white\",\"showbackground\":true,\"ticks\":\"\",\"zerolinecolor\":\"white\",\"gridwidth\":2}},\"shapedefaults\":{\"line\":{\"color\":\"#2a3f5f\"}},\"annotationdefaults\":{\"arrowcolor\":\"#2a3f5f\",\"arrowhead\":0,\"arrowwidth\":1},\"geo\":{\"bgcolor\":\"white\",\"landcolor\":\"#E5ECF6\",\"subunitcolor\":\"white\",\"showland\":true,\"showlakes\":true,\"lakecolor\":\"white\"},\"title\":{\"x\":0.05},\"mapbox\":{\"style\":\"light\"}}}},                        {\"responsive\": true}                    ).then(function(){\n",
              "                            \n",
              "var gd = document.getElementById('f47d7c88-579b-483d-a182-023f22884954');\n",
              "var x = new MutationObserver(function (mutations, observer) {{\n",
              "        var display = window.getComputedStyle(gd).display;\n",
              "        if (!display || display === 'none') {{\n",
              "            console.log([gd, 'removed!']);\n",
              "            Plotly.purge(gd);\n",
              "            observer.disconnect();\n",
              "        }}\n",
              "}});\n",
              "\n",
              "// Listen for the removal of the full notebook cells\n",
              "var notebookContainer = gd.closest('#notebook-container');\n",
              "if (notebookContainer) {{\n",
              "    x.observe(notebookContainer, {childList: true});\n",
              "}}\n",
              "\n",
              "// Listen for the clearing of the current output cell\n",
              "var outputEl = gd.closest('.output');\n",
              "if (outputEl) {{\n",
              "    x.observe(outputEl, {childList: true});\n",
              "}}\n",
              "\n",
              "                        })                };                            </script>        </div>\n",
              "</body>\n",
              "</html>"
            ]
          },
          "metadata": {}
        }
      ]
    },
    {
      "cell_type": "code",
      "source": [
        "optuna.visualization.plot_param_importances(study)"
      ],
      "metadata": {
        "colab": {
          "base_uri": "https://localhost:8080/",
          "height": 542
        },
        "id": "jVZW2-vgoAfx",
        "outputId": "2c49b5d3-84c7-42ca-ceea-99758f02d2a8"
      },
      "execution_count": null,
      "outputs": [
        {
          "output_type": "display_data",
          "data": {
            "text/html": [
              "<html>\n",
              "<head><meta charset=\"utf-8\" /></head>\n",
              "<body>\n",
              "    <div>            <script src=\"https://cdnjs.cloudflare.com/ajax/libs/mathjax/2.7.5/MathJax.js?config=TeX-AMS-MML_SVG\"></script><script type=\"text/javascript\">if (window.MathJax && window.MathJax.Hub && window.MathJax.Hub.Config) {window.MathJax.Hub.Config({SVG: {font: \"STIX-Web\"}});}</script>                <script type=\"text/javascript\">window.PlotlyConfig = {MathJaxConfig: 'local'};</script>\n",
              "        <script charset=\"utf-8\" src=\"https://cdn.plot.ly/plotly-2.24.1.min.js\"></script>                <div id=\"34982f9e-a217-4774-bff2-bcf680fe10cf\" class=\"plotly-graph-div\" style=\"height:525px; width:100%;\"></div>            <script type=\"text/javascript\">                                    window.PLOTLYENV=window.PLOTLYENV || {};                                    if (document.getElementById(\"34982f9e-a217-4774-bff2-bcf680fe10cf\")) {                    Plotly.newPlot(                        \"34982f9e-a217-4774-bff2-bcf680fe10cf\",                        [{\"cliponaxis\":false,\"hovertemplate\":[\"criterion (CategoricalDistribution): 0.0021285256687895173\\u003cextra\\u003e\\u003c\\u002fextra\\u003e\",\"n_estimators (IntDistribution): 0.008398402541336883\\u003cextra\\u003e\\u003c\\u002fextra\\u003e\",\"min_samples_split (IntDistribution): 0.014799454033283543\\u003cextra\\u003e\\u003c\\u002fextra\\u003e\",\"bootstrap (CategoricalDistribution): 0.017908192258317763\\u003cextra\\u003e\\u003c\\u002fextra\\u003e\",\"max_features (CategoricalDistribution): 0.0228707346260198\\u003cextra\\u003e\\u003c\\u002fextra\\u003e\",\"max_depth (IntDistribution): 0.026061145048554526\\u003cextra\\u003e\\u003c\\u002fextra\\u003e\",\"min_samples_leaf (IntDistribution): 0.907833545823698\\u003cextra\\u003e\\u003c\\u002fextra\\u003e\"],\"name\":\"Objective Value\",\"orientation\":\"h\",\"text\":[\"\\u003c0.01\",\"\\u003c0.01\",\"0.01\",\"0.02\",\"0.02\",\"0.03\",\"0.91\"],\"textposition\":\"outside\",\"x\":[0.0021285256687895173,0.008398402541336883,0.014799454033283543,0.017908192258317763,0.0228707346260198,0.026061145048554526,0.907833545823698],\"y\":[\"criterion\",\"n_estimators\",\"min_samples_split\",\"bootstrap\",\"max_features\",\"max_depth\",\"min_samples_leaf\"],\"type\":\"bar\"}],                        {\"title\":{\"text\":\"Hyperparameter Importances\"},\"xaxis\":{\"title\":{\"text\":\"Hyperparameter Importance\"}},\"yaxis\":{\"title\":{\"text\":\"Hyperparameter\"}},\"template\":{\"data\":{\"histogram2dcontour\":[{\"type\":\"histogram2dcontour\",\"colorbar\":{\"outlinewidth\":0,\"ticks\":\"\"},\"colorscale\":[[0.0,\"#0d0887\"],[0.1111111111111111,\"#46039f\"],[0.2222222222222222,\"#7201a8\"],[0.3333333333333333,\"#9c179e\"],[0.4444444444444444,\"#bd3786\"],[0.5555555555555556,\"#d8576b\"],[0.6666666666666666,\"#ed7953\"],[0.7777777777777778,\"#fb9f3a\"],[0.8888888888888888,\"#fdca26\"],[1.0,\"#f0f921\"]]}],\"choropleth\":[{\"type\":\"choropleth\",\"colorbar\":{\"outlinewidth\":0,\"ticks\":\"\"}}],\"histogram2d\":[{\"type\":\"histogram2d\",\"colorbar\":{\"outlinewidth\":0,\"ticks\":\"\"},\"colorscale\":[[0.0,\"#0d0887\"],[0.1111111111111111,\"#46039f\"],[0.2222222222222222,\"#7201a8\"],[0.3333333333333333,\"#9c179e\"],[0.4444444444444444,\"#bd3786\"],[0.5555555555555556,\"#d8576b\"],[0.6666666666666666,\"#ed7953\"],[0.7777777777777778,\"#fb9f3a\"],[0.8888888888888888,\"#fdca26\"],[1.0,\"#f0f921\"]]}],\"heatmap\":[{\"type\":\"heatmap\",\"colorbar\":{\"outlinewidth\":0,\"ticks\":\"\"},\"colorscale\":[[0.0,\"#0d0887\"],[0.1111111111111111,\"#46039f\"],[0.2222222222222222,\"#7201a8\"],[0.3333333333333333,\"#9c179e\"],[0.4444444444444444,\"#bd3786\"],[0.5555555555555556,\"#d8576b\"],[0.6666666666666666,\"#ed7953\"],[0.7777777777777778,\"#fb9f3a\"],[0.8888888888888888,\"#fdca26\"],[1.0,\"#f0f921\"]]}],\"heatmapgl\":[{\"type\":\"heatmapgl\",\"colorbar\":{\"outlinewidth\":0,\"ticks\":\"\"},\"colorscale\":[[0.0,\"#0d0887\"],[0.1111111111111111,\"#46039f\"],[0.2222222222222222,\"#7201a8\"],[0.3333333333333333,\"#9c179e\"],[0.4444444444444444,\"#bd3786\"],[0.5555555555555556,\"#d8576b\"],[0.6666666666666666,\"#ed7953\"],[0.7777777777777778,\"#fb9f3a\"],[0.8888888888888888,\"#fdca26\"],[1.0,\"#f0f921\"]]}],\"contourcarpet\":[{\"type\":\"contourcarpet\",\"colorbar\":{\"outlinewidth\":0,\"ticks\":\"\"}}],\"contour\":[{\"type\":\"contour\",\"colorbar\":{\"outlinewidth\":0,\"ticks\":\"\"},\"colorscale\":[[0.0,\"#0d0887\"],[0.1111111111111111,\"#46039f\"],[0.2222222222222222,\"#7201a8\"],[0.3333333333333333,\"#9c179e\"],[0.4444444444444444,\"#bd3786\"],[0.5555555555555556,\"#d8576b\"],[0.6666666666666666,\"#ed7953\"],[0.7777777777777778,\"#fb9f3a\"],[0.8888888888888888,\"#fdca26\"],[1.0,\"#f0f921\"]]}],\"surface\":[{\"type\":\"surface\",\"colorbar\":{\"outlinewidth\":0,\"ticks\":\"\"},\"colorscale\":[[0.0,\"#0d0887\"],[0.1111111111111111,\"#46039f\"],[0.2222222222222222,\"#7201a8\"],[0.3333333333333333,\"#9c179e\"],[0.4444444444444444,\"#bd3786\"],[0.5555555555555556,\"#d8576b\"],[0.6666666666666666,\"#ed7953\"],[0.7777777777777778,\"#fb9f3a\"],[0.8888888888888888,\"#fdca26\"],[1.0,\"#f0f921\"]]}],\"mesh3d\":[{\"type\":\"mesh3d\",\"colorbar\":{\"outlinewidth\":0,\"ticks\":\"\"}}],\"scatter\":[{\"fillpattern\":{\"fillmode\":\"overlay\",\"size\":10,\"solidity\":0.2},\"type\":\"scatter\"}],\"parcoords\":[{\"type\":\"parcoords\",\"line\":{\"colorbar\":{\"outlinewidth\":0,\"ticks\":\"\"}}}],\"scatterpolargl\":[{\"type\":\"scatterpolargl\",\"marker\":{\"colorbar\":{\"outlinewidth\":0,\"ticks\":\"\"}}}],\"bar\":[{\"error_x\":{\"color\":\"#2a3f5f\"},\"error_y\":{\"color\":\"#2a3f5f\"},\"marker\":{\"line\":{\"color\":\"#E5ECF6\",\"width\":0.5},\"pattern\":{\"fillmode\":\"overlay\",\"size\":10,\"solidity\":0.2}},\"type\":\"bar\"}],\"scattergeo\":[{\"type\":\"scattergeo\",\"marker\":{\"colorbar\":{\"outlinewidth\":0,\"ticks\":\"\"}}}],\"scatterpolar\":[{\"type\":\"scatterpolar\",\"marker\":{\"colorbar\":{\"outlinewidth\":0,\"ticks\":\"\"}}}],\"histogram\":[{\"marker\":{\"pattern\":{\"fillmode\":\"overlay\",\"size\":10,\"solidity\":0.2}},\"type\":\"histogram\"}],\"scattergl\":[{\"type\":\"scattergl\",\"marker\":{\"colorbar\":{\"outlinewidth\":0,\"ticks\":\"\"}}}],\"scatter3d\":[{\"type\":\"scatter3d\",\"line\":{\"colorbar\":{\"outlinewidth\":0,\"ticks\":\"\"}},\"marker\":{\"colorbar\":{\"outlinewidth\":0,\"ticks\":\"\"}}}],\"scattermapbox\":[{\"type\":\"scattermapbox\",\"marker\":{\"colorbar\":{\"outlinewidth\":0,\"ticks\":\"\"}}}],\"scatterternary\":[{\"type\":\"scatterternary\",\"marker\":{\"colorbar\":{\"outlinewidth\":0,\"ticks\":\"\"}}}],\"scattercarpet\":[{\"type\":\"scattercarpet\",\"marker\":{\"colorbar\":{\"outlinewidth\":0,\"ticks\":\"\"}}}],\"carpet\":[{\"aaxis\":{\"endlinecolor\":\"#2a3f5f\",\"gridcolor\":\"white\",\"linecolor\":\"white\",\"minorgridcolor\":\"white\",\"startlinecolor\":\"#2a3f5f\"},\"baxis\":{\"endlinecolor\":\"#2a3f5f\",\"gridcolor\":\"white\",\"linecolor\":\"white\",\"minorgridcolor\":\"white\",\"startlinecolor\":\"#2a3f5f\"},\"type\":\"carpet\"}],\"table\":[{\"cells\":{\"fill\":{\"color\":\"#EBF0F8\"},\"line\":{\"color\":\"white\"}},\"header\":{\"fill\":{\"color\":\"#C8D4E3\"},\"line\":{\"color\":\"white\"}},\"type\":\"table\"}],\"barpolar\":[{\"marker\":{\"line\":{\"color\":\"#E5ECF6\",\"width\":0.5},\"pattern\":{\"fillmode\":\"overlay\",\"size\":10,\"solidity\":0.2}},\"type\":\"barpolar\"}],\"pie\":[{\"automargin\":true,\"type\":\"pie\"}]},\"layout\":{\"autotypenumbers\":\"strict\",\"colorway\":[\"#636efa\",\"#EF553B\",\"#00cc96\",\"#ab63fa\",\"#FFA15A\",\"#19d3f3\",\"#FF6692\",\"#B6E880\",\"#FF97FF\",\"#FECB52\"],\"font\":{\"color\":\"#2a3f5f\"},\"hovermode\":\"closest\",\"hoverlabel\":{\"align\":\"left\"},\"paper_bgcolor\":\"white\",\"plot_bgcolor\":\"#E5ECF6\",\"polar\":{\"bgcolor\":\"#E5ECF6\",\"angularaxis\":{\"gridcolor\":\"white\",\"linecolor\":\"white\",\"ticks\":\"\"},\"radialaxis\":{\"gridcolor\":\"white\",\"linecolor\":\"white\",\"ticks\":\"\"}},\"ternary\":{\"bgcolor\":\"#E5ECF6\",\"aaxis\":{\"gridcolor\":\"white\",\"linecolor\":\"white\",\"ticks\":\"\"},\"baxis\":{\"gridcolor\":\"white\",\"linecolor\":\"white\",\"ticks\":\"\"},\"caxis\":{\"gridcolor\":\"white\",\"linecolor\":\"white\",\"ticks\":\"\"}},\"coloraxis\":{\"colorbar\":{\"outlinewidth\":0,\"ticks\":\"\"}},\"colorscale\":{\"sequential\":[[0.0,\"#0d0887\"],[0.1111111111111111,\"#46039f\"],[0.2222222222222222,\"#7201a8\"],[0.3333333333333333,\"#9c179e\"],[0.4444444444444444,\"#bd3786\"],[0.5555555555555556,\"#d8576b\"],[0.6666666666666666,\"#ed7953\"],[0.7777777777777778,\"#fb9f3a\"],[0.8888888888888888,\"#fdca26\"],[1.0,\"#f0f921\"]],\"sequentialminus\":[[0.0,\"#0d0887\"],[0.1111111111111111,\"#46039f\"],[0.2222222222222222,\"#7201a8\"],[0.3333333333333333,\"#9c179e\"],[0.4444444444444444,\"#bd3786\"],[0.5555555555555556,\"#d8576b\"],[0.6666666666666666,\"#ed7953\"],[0.7777777777777778,\"#fb9f3a\"],[0.8888888888888888,\"#fdca26\"],[1.0,\"#f0f921\"]],\"diverging\":[[0,\"#8e0152\"],[0.1,\"#c51b7d\"],[0.2,\"#de77ae\"],[0.3,\"#f1b6da\"],[0.4,\"#fde0ef\"],[0.5,\"#f7f7f7\"],[0.6,\"#e6f5d0\"],[0.7,\"#b8e186\"],[0.8,\"#7fbc41\"],[0.9,\"#4d9221\"],[1,\"#276419\"]]},\"xaxis\":{\"gridcolor\":\"white\",\"linecolor\":\"white\",\"ticks\":\"\",\"title\":{\"standoff\":15},\"zerolinecolor\":\"white\",\"automargin\":true,\"zerolinewidth\":2},\"yaxis\":{\"gridcolor\":\"white\",\"linecolor\":\"white\",\"ticks\":\"\",\"title\":{\"standoff\":15},\"zerolinecolor\":\"white\",\"automargin\":true,\"zerolinewidth\":2},\"scene\":{\"xaxis\":{\"backgroundcolor\":\"#E5ECF6\",\"gridcolor\":\"white\",\"linecolor\":\"white\",\"showbackground\":true,\"ticks\":\"\",\"zerolinecolor\":\"white\",\"gridwidth\":2},\"yaxis\":{\"backgroundcolor\":\"#E5ECF6\",\"gridcolor\":\"white\",\"linecolor\":\"white\",\"showbackground\":true,\"ticks\":\"\",\"zerolinecolor\":\"white\",\"gridwidth\":2},\"zaxis\":{\"backgroundcolor\":\"#E5ECF6\",\"gridcolor\":\"white\",\"linecolor\":\"white\",\"showbackground\":true,\"ticks\":\"\",\"zerolinecolor\":\"white\",\"gridwidth\":2}},\"shapedefaults\":{\"line\":{\"color\":\"#2a3f5f\"}},\"annotationdefaults\":{\"arrowcolor\":\"#2a3f5f\",\"arrowhead\":0,\"arrowwidth\":1},\"geo\":{\"bgcolor\":\"white\",\"landcolor\":\"#E5ECF6\",\"subunitcolor\":\"white\",\"showland\":true,\"showlakes\":true,\"lakecolor\":\"white\"},\"title\":{\"x\":0.05},\"mapbox\":{\"style\":\"light\"}}}},                        {\"responsive\": true}                    ).then(function(){\n",
              "                            \n",
              "var gd = document.getElementById('34982f9e-a217-4774-bff2-bcf680fe10cf');\n",
              "var x = new MutationObserver(function (mutations, observer) {{\n",
              "        var display = window.getComputedStyle(gd).display;\n",
              "        if (!display || display === 'none') {{\n",
              "            console.log([gd, 'removed!']);\n",
              "            Plotly.purge(gd);\n",
              "            observer.disconnect();\n",
              "        }}\n",
              "}});\n",
              "\n",
              "// Listen for the removal of the full notebook cells\n",
              "var notebookContainer = gd.closest('#notebook-container');\n",
              "if (notebookContainer) {{\n",
              "    x.observe(notebookContainer, {childList: true});\n",
              "}}\n",
              "\n",
              "// Listen for the clearing of the current output cell\n",
              "var outputEl = gd.closest('.output');\n",
              "if (outputEl) {{\n",
              "    x.observe(outputEl, {childList: true});\n",
              "}}\n",
              "\n",
              "                        })                };                            </script>        </div>\n",
              "</body>\n",
              "</html>"
            ]
          },
          "metadata": {}
        }
      ]
    },
    {
      "cell_type": "code",
      "source": [
        "def objective(trial):\n",
        "\n",
        "    params = {\n",
        "        'C': trial.suggest_loguniform('C', 1e-4, 1e4),\n",
        "        'kernel': trial.suggest_categorical('kernel', ['linear', 'poly', 'rbf', 'sigmoid']),\n",
        "        'gamma': trial.suggest_categorical('gamma', ['scale', 'auto']),\n",
        "        'probability': True,\n",
        "    }\n",
        "\n",
        "    model = SVC(**params, random_state = 42)\n",
        "    model.fit(X_train_scaled, y_train)\n",
        "\n",
        "    y_pred_proba = model.predict_proba(X_test_scaled)[:, 1]\n",
        "\n",
        "    auc = roc_auc_score(y_test, y_pred_proba)\n",
        "\n",
        "    return auc\n",
        "\n",
        "study = optuna.create_study(direction='maximize', sampler = TPESampler(seed = 33))\n",
        "study.optimize(objective, n_trials=100)"
      ],
      "metadata": {
        "colab": {
          "base_uri": "https://localhost:8080/"
        },
        "id": "uCwHnJmqoENt",
        "outputId": "4ad2a0ba-e471-4eca-d607-d397c8ad8f19"
      },
      "execution_count": null,
      "outputs": [
        {
          "output_type": "stream",
          "name": "stderr",
          "text": [
            "[I 2024-05-02 14:06:08,746] A new study created in memory with name: no-name-bf27433f-154b-44cf-91b0-e6231f0559fb\n",
            "[I 2024-05-02 14:06:08,825] Trial 0 finished with value: 0.697274031563845 and parameters: {'C': 0.009729287108797028, 'kernel': 'sigmoid', 'gamma': 'scale'}. Best is trial 0 with value: 0.697274031563845.\n",
            "[I 2024-05-02 14:06:09,436] Trial 1 finished with value: 0.6657101865136299 and parameters: {'C': 4226.844315317394, 'kernel': 'rbf', 'gamma': 'auto'}. Best is trial 0 with value: 0.697274031563845.\n",
            "[I 2024-05-02 14:06:09,500] Trial 2 finished with value: 0.776183644189383 and parameters: {'C': 0.0020374234519644936, 'kernel': 'linear', 'gamma': 'auto'}. Best is trial 2 with value: 0.776183644189383.\n",
            "[I 2024-05-02 14:06:09,531] Trial 3 finished with value: 0.8694404591104734 and parameters: {'C': 0.009597238233662318, 'kernel': 'linear', 'gamma': 'scale'}. Best is trial 3 with value: 0.8694404591104734.\n",
            "[I 2024-05-02 14:06:09,570] Trial 4 finished with value: 0.6255380200860832 and parameters: {'C': 6.255929813486763, 'kernel': 'poly', 'gamma': 'auto'}. Best is trial 3 with value: 0.8694404591104734.\n",
            "[I 2024-05-02 14:06:09,621] Trial 5 finished with value: 0.7589670014347203 and parameters: {'C': 0.0004287877900085715, 'kernel': 'sigmoid', 'gamma': 'scale'}. Best is trial 3 with value: 0.8694404591104734.\n",
            "[I 2024-05-02 14:06:09,667] Trial 6 finished with value: 0.7374461979913917 and parameters: {'C': 48.21852860990501, 'kernel': 'sigmoid', 'gamma': 'auto'}. Best is trial 3 with value: 0.8694404591104734.\n",
            "[I 2024-05-02 14:06:09,706] Trial 7 finished with value: 0.7948350071736011 and parameters: {'C': 0.001239358948327078, 'kernel': 'rbf', 'gamma': 'auto'}. Best is trial 3 with value: 0.8694404591104734.\n",
            "[I 2024-05-02 14:06:09,751] Trial 8 finished with value: 0.6040172166427547 and parameters: {'C': 9.082470920426701, 'kernel': 'sigmoid', 'gamma': 'scale'}. Best is trial 3 with value: 0.8694404591104734.\n",
            "[I 2024-05-02 14:06:09,822] Trial 9 finished with value: 0.7919655667144907 and parameters: {'C': 0.14965040118213754, 'kernel': 'rbf', 'gamma': 'scale'}. Best is trial 3 with value: 0.8694404591104734.\n",
            "[I 2024-05-02 14:06:09,867] Trial 10 finished with value: 0.733142037302726 and parameters: {'C': 0.10357436446498554, 'kernel': 'linear', 'gamma': 'scale'}. Best is trial 3 with value: 0.8694404591104734.\n",
            "[I 2024-05-02 14:06:09,919] Trial 11 finished with value: 0.8651362984218077 and parameters: {'C': 0.00020396679306940123, 'kernel': 'rbf', 'gamma': 'auto'}. Best is trial 3 with value: 0.8694404591104734.\n",
            "[I 2024-05-02 14:06:09,963] Trial 12 finished with value: 0.7847919655667145 and parameters: {'C': 0.00012389439142883576, 'kernel': 'linear', 'gamma': 'auto'}. Best is trial 3 with value: 0.8694404591104734.\n",
            "[I 2024-05-02 14:06:10,015] Trial 13 finished with value: 0.6958393113342898 and parameters: {'C': 0.0102640923281995, 'kernel': 'poly', 'gamma': 'scale'}. Best is trial 3 with value: 0.8694404591104734.\n",
            "[I 2024-05-02 14:06:10,080] Trial 14 finished with value: 0.7173601147776183 and parameters: {'C': 0.04259807381127156, 'kernel': 'linear', 'gamma': 'auto'}. Best is trial 3 with value: 0.8694404591104734.\n",
            "[I 2024-05-02 14:06:10,135] Trial 15 finished with value: 0.7819225251076041 and parameters: {'C': 0.6424452303934397, 'kernel': 'rbf', 'gamma': 'scale'}. Best is trial 3 with value: 0.8694404591104734.\n",
            "[I 2024-05-02 14:06:10,192] Trial 16 finished with value: 0.8536585365853658 and parameters: {'C': 0.00011816576252696639, 'kernel': 'rbf', 'gamma': 'scale'}. Best is trial 3 with value: 0.8694404591104734.\n",
            "[I 2024-05-02 14:06:10,230] Trial 17 finished with value: 0.793400286944046 and parameters: {'C': 0.013167798989567901, 'kernel': 'linear', 'gamma': 'auto'}. Best is trial 3 with value: 0.8694404591104734.\n",
            "[I 2024-05-02 14:06:10,276] Trial 18 finished with value: 0.6915351506456241 and parameters: {'C': 0.0018290228902668106, 'kernel': 'poly', 'gamma': 'scale'}. Best is trial 3 with value: 0.8694404591104734.\n",
            "[I 2024-05-02 14:06:10,325] Trial 19 finished with value: 0.8134863701578192 and parameters: {'C': 0.000564544227516769, 'kernel': 'rbf', 'gamma': 'auto'}. Best is trial 3 with value: 0.8694404591104734.\n",
            "[I 2024-05-02 14:07:35,122] Trial 20 finished with value: 0.7862266857962698 and parameters: {'C': 3736.32215251073, 'kernel': 'linear', 'gamma': 'auto'}. Best is trial 3 with value: 0.8694404591104734.\n",
            "[I 2024-05-02 14:07:35,151] Trial 21 finished with value: 0.8536585365853658 and parameters: {'C': 0.00017690006061849646, 'kernel': 'rbf', 'gamma': 'scale'}. Best is trial 3 with value: 0.8694404591104734.\n",
            "[I 2024-05-02 14:07:35,179] Trial 22 finished with value: 0.8536585365853658 and parameters: {'C': 0.00011039412291708877, 'kernel': 'rbf', 'gamma': 'scale'}. Best is trial 3 with value: 0.8694404591104734.\n",
            "[I 2024-05-02 14:07:35,206] Trial 23 finished with value: 0.8048780487804879 and parameters: {'C': 0.0037522386732427946, 'kernel': 'rbf', 'gamma': 'scale'}. Best is trial 3 with value: 0.8694404591104734.\n",
            "[I 2024-05-02 14:07:35,232] Trial 24 finished with value: 0.7919655667144907 and parameters: {'C': 0.000489973014545271, 'kernel': 'rbf', 'gamma': 'scale'}. Best is trial 3 with value: 0.8694404591104734.\n",
            "[I 2024-05-02 14:07:35,262] Trial 25 finished with value: 0.7905308464849354 and parameters: {'C': 0.0313260117189406, 'kernel': 'rbf', 'gamma': 'scale'}. Best is trial 3 with value: 0.8694404591104734.\n",
            "[I 2024-05-02 14:07:35,284] Trial 26 finished with value: 0.7718794835007173 and parameters: {'C': 0.004726456884007804, 'kernel': 'linear', 'gamma': 'scale'}. Best is trial 3 with value: 0.8694404591104734.\n",
            "[I 2024-05-02 14:07:35,309] Trial 27 finished with value: 0.6929698708751794 and parameters: {'C': 0.0006400829501696475, 'kernel': 'poly', 'gamma': 'scale'}. Best is trial 3 with value: 0.8694404591104734.\n",
            "[I 2024-05-02 14:07:35,341] Trial 28 finished with value: 0.7403156384505021 and parameters: {'C': 0.5821657826237236, 'kernel': 'rbf', 'gamma': 'auto'}. Best is trial 3 with value: 0.8694404591104734.\n",
            "[I 2024-05-02 14:07:35,376] Trial 29 finished with value: 0.8106169296987087 and parameters: {'C': 0.00010853663144298544, 'kernel': 'sigmoid', 'gamma': 'scale'}. Best is trial 3 with value: 0.8694404591104734.\n",
            "[I 2024-05-02 14:07:35,398] Trial 30 finished with value: 0.8694404591104734 and parameters: {'C': 0.008627616448743465, 'kernel': 'linear', 'gamma': 'scale'}. Best is trial 3 with value: 0.8694404591104734.\n",
            "[I 2024-05-02 14:07:35,422] Trial 31 finished with value: 0.793400286944046 and parameters: {'C': 0.016758373387930254, 'kernel': 'linear', 'gamma': 'scale'}. Best is trial 3 with value: 0.8694404591104734.\n",
            "[I 2024-05-02 14:07:35,445] Trial 32 finished with value: 0.8479196556671449 and parameters: {'C': 0.003866726732757375, 'kernel': 'linear', 'gamma': 'scale'}. Best is trial 3 with value: 0.8694404591104734.\n",
            "[I 2024-05-02 14:07:35,466] Trial 33 finished with value: 0.7489239598278336 and parameters: {'C': 0.12150189086496777, 'kernel': 'linear', 'gamma': 'scale'}. Best is trial 3 with value: 0.8694404591104734.\n",
            "[I 2024-05-02 14:07:35,490] Trial 34 finished with value: 0.8278335724533716 and parameters: {'C': 0.001083421791532923, 'kernel': 'linear', 'gamma': 'scale'}. Best is trial 3 with value: 0.8694404591104734.\n",
            "[I 2024-05-02 14:07:35,524] Trial 35 finished with value: 0.7187948350071737 and parameters: {'C': 3.04570995255311, 'kernel': 'rbf', 'gamma': 'auto'}. Best is trial 3 with value: 0.8694404591104734.\n",
            "[I 2024-05-02 14:07:35,564] Trial 36 finished with value: 0.8163558106169297 and parameters: {'C': 60.038037480604196, 'kernel': 'linear', 'gamma': 'scale'}. Best is trial 3 with value: 0.8694404591104734.\n",
            "[I 2024-05-02 14:07:35,598] Trial 37 finished with value: 0.8335724533715925 and parameters: {'C': 0.00031643010889159125, 'kernel': 'sigmoid', 'gamma': 'auto'}. Best is trial 3 with value: 0.8694404591104734.\n",
            "[I 2024-05-02 14:07:35,623] Trial 38 finished with value: 0.6915351506456241 and parameters: {'C': 0.0017757134843374262, 'kernel': 'poly', 'gamma': 'scale'}. Best is trial 3 with value: 0.8694404591104734.\n",
            "[I 2024-05-02 14:07:35,650] Trial 39 finished with value: 0.7015781922525107 and parameters: {'C': 0.005445424299577109, 'kernel': 'rbf', 'gamma': 'auto'}. Best is trial 3 with value: 0.8694404591104734.\n",
            "[I 2024-05-02 14:07:35,671] Trial 40 finished with value: 0.7776183644189383 and parameters: {'C': 0.30677353597805956, 'kernel': 'linear', 'gamma': 'scale'}. Best is trial 3 with value: 0.8694404591104734.\n",
            "[I 2024-05-02 14:07:35,697] Trial 41 finished with value: 0.8436154949784792 and parameters: {'C': 0.00027863481528077815, 'kernel': 'rbf', 'gamma': 'scale'}. Best is trial 3 with value: 0.8694404591104734.\n",
            "[I 2024-05-02 14:07:35,723] Trial 42 finished with value: 0.8464849354375896 and parameters: {'C': 0.000186703451630789, 'kernel': 'rbf', 'gamma': 'scale'}. Best is trial 3 with value: 0.8694404591104734.\n",
            "[I 2024-05-02 14:07:35,748] Trial 43 finished with value: 0.806312769010043 and parameters: {'C': 0.0009429517137284363, 'kernel': 'rbf', 'gamma': 'scale'}. Best is trial 3 with value: 0.8694404591104734.\n",
            "[I 2024-05-02 14:07:35,783] Trial 44 finished with value: 0.7948350071736011 and parameters: {'C': 0.048045800099641815, 'kernel': 'rbf', 'gamma': 'scale'}. Best is trial 3 with value: 0.8694404591104734.\n",
            "[I 2024-05-02 14:07:35,824] Trial 45 finished with value: 0.7819225251076041 and parameters: {'C': 0.00028121302372638164, 'kernel': 'sigmoid', 'gamma': 'scale'}. Best is trial 3 with value: 0.8694404591104734.\n",
            "[I 2024-05-02 14:07:35,849] Trial 46 finished with value: 0.7833572453371592 and parameters: {'C': 0.00226984092984105, 'kernel': 'rbf', 'gamma': 'auto'}. Best is trial 3 with value: 0.8694404591104734.\n",
            "[I 2024-05-02 14:07:35,871] Trial 47 finished with value: 0.8507890961262554 and parameters: {'C': 0.00021354294622412777, 'kernel': 'linear', 'gamma': 'scale'}. Best is trial 3 with value: 0.8694404591104734.\n",
            "[I 2024-05-02 14:07:35,907] Trial 48 finished with value: 0.727403156384505 and parameters: {'C': 1.554627429756083, 'kernel': 'rbf', 'gamma': 'auto'}. Best is trial 3 with value: 0.8694404591104734.\n",
            "[I 2024-05-02 14:07:35,939] Trial 49 finished with value: 0.697274031563845 and parameters: {'C': 0.021670076859128556, 'kernel': 'poly', 'gamma': 'scale'}. Best is trial 3 with value: 0.8694404591104734.\n",
            "[I 2024-05-02 14:07:35,969] Trial 50 finished with value: 0.8034433285509326 and parameters: {'C': 35.947143308817225, 'kernel': 'linear', 'gamma': 'scale'}. Best is trial 3 with value: 0.8694404591104734.\n",
            "[I 2024-05-02 14:07:35,996] Trial 51 finished with value: 0.8536585365853658 and parameters: {'C': 0.0001138154849493452, 'kernel': 'rbf', 'gamma': 'scale'}. Best is trial 3 with value: 0.8694404591104734.\n",
            "[I 2024-05-02 14:07:36,023] Trial 52 finished with value: 0.8536585365853658 and parameters: {'C': 0.00010721033658777135, 'kernel': 'rbf', 'gamma': 'scale'}. Best is trial 3 with value: 0.8694404591104734.\n",
            "[I 2024-05-02 14:07:36,052] Trial 53 finished with value: 0.7776183644189383 and parameters: {'C': 0.0006418532210526273, 'kernel': 'rbf', 'gamma': 'scale'}. Best is trial 3 with value: 0.8694404591104734.\n",
            "[I 2024-05-02 14:07:36,079] Trial 54 finished with value: 0.6987087517934003 and parameters: {'C': 0.0012067033913487526, 'kernel': 'rbf', 'gamma': 'scale'}. Best is trial 3 with value: 0.8694404591104734.\n",
            "[I 2024-05-02 14:07:36,106] Trial 55 finished with value: 0.7919655667144907 and parameters: {'C': 0.00035675248468334636, 'kernel': 'rbf', 'gamma': 'scale'}. Best is trial 3 with value: 0.8694404591104734.\n",
            "[I 2024-05-02 14:07:36,143] Trial 56 finished with value: 0.7905308464849354 and parameters: {'C': 0.008039551985806455, 'kernel': 'rbf', 'gamma': 'auto'}. Best is trial 3 with value: 0.8694404591104734.\n",
            "[I 2024-05-02 14:07:36,179] Trial 57 finished with value: 0.612625538020086 and parameters: {'C': 1078.3463924524922, 'kernel': 'sigmoid', 'gamma': 'scale'}. Best is trial 3 with value: 0.8694404591104734.\n",
            "[I 2024-05-02 14:07:36,207] Trial 58 finished with value: 0.8407460545193688 and parameters: {'C': 0.002732475974727023, 'kernel': 'rbf', 'gamma': 'scale'}. Best is trial 3 with value: 0.8694404591104734.\n",
            "[I 2024-05-02 14:07:36,230] Trial 59 finished with value: 0.8507890961262554 and parameters: {'C': 0.0001876844292139106, 'kernel': 'linear', 'gamma': 'auto'}. Best is trial 3 with value: 0.8694404591104734.\n",
            "[I 2024-05-02 14:07:36,257] Trial 60 finished with value: 0.7919655667144907 and parameters: {'C': 0.0005153480256764373, 'kernel': 'rbf', 'gamma': 'scale'}. Best is trial 3 with value: 0.8694404591104734.\n",
            "[I 2024-05-02 14:07:36,287] Trial 61 finished with value: 0.8536585365853658 and parameters: {'C': 0.00013694609973244936, 'kernel': 'rbf', 'gamma': 'scale'}. Best is trial 3 with value: 0.8694404591104734.\n",
            "[I 2024-05-02 14:07:36,313] Trial 62 finished with value: 0.8479196556671449 and parameters: {'C': 0.0007814029808489341, 'kernel': 'rbf', 'gamma': 'scale'}. Best is trial 3 with value: 0.8694404591104734.\n",
            "[I 2024-05-02 14:07:36,344] Trial 63 finished with value: 0.7905308464849354 and parameters: {'C': 0.06777897217374247, 'kernel': 'rbf', 'gamma': 'scale'}. Best is trial 3 with value: 0.8694404591104734.\n",
            "[I 2024-05-02 14:07:36,369] Trial 64 finished with value: 0.8536585365853658 and parameters: {'C': 0.00013128422346709342, 'kernel': 'rbf', 'gamma': 'scale'}. Best is trial 3 with value: 0.8694404591104734.\n",
            "[I 2024-05-02 14:07:36,392] Trial 65 finished with value: 0.7374461979913917 and parameters: {'C': 0.0015247714149592441, 'kernel': 'linear', 'gamma': 'scale'}. Best is trial 3 with value: 0.8694404591104734.\n",
            "[I 2024-05-02 14:07:36,418] Trial 66 finished with value: 0.7919655667144907 and parameters: {'C': 0.0003992168792525544, 'kernel': 'rbf', 'gamma': 'scale'}. Best is trial 3 with value: 0.8694404591104734.\n",
            "[I 2024-05-02 14:07:36,443] Trial 67 finished with value: 0.6814921090387375 and parameters: {'C': 0.007799911148410522, 'kernel': 'poly', 'gamma': 'auto'}. Best is trial 3 with value: 0.8694404591104734.\n",
            "[I 2024-05-02 14:07:36,465] Trial 68 finished with value: 0.7890961262553802 and parameters: {'C': 0.00010120922192643586, 'kernel': 'linear', 'gamma': 'scale'}. Best is trial 3 with value: 0.8694404591104734.\n",
            "[I 2024-05-02 14:07:36,491] Trial 69 finished with value: 0.8464849354375896 and parameters: {'C': 0.0002221827288545628, 'kernel': 'rbf', 'gamma': 'scale'}. Best is trial 3 with value: 0.8694404591104734.\n",
            "[I 2024-05-02 14:07:36,514] Trial 70 finished with value: 0.727403156384505 and parameters: {'C': 0.0004960174975034263, 'kernel': 'linear', 'gamma': 'scale'}. Best is trial 3 with value: 0.8694404591104734.\n",
            "[I 2024-05-02 14:07:36,543] Trial 71 finished with value: 0.8536585365853658 and parameters: {'C': 0.0001496197337914042, 'kernel': 'rbf', 'gamma': 'scale'}. Best is trial 3 with value: 0.8694404591104734.\n",
            "[I 2024-05-02 14:07:36,571] Trial 72 finished with value: 0.8536585365853658 and parameters: {'C': 0.00011593389552297347, 'kernel': 'rbf', 'gamma': 'scale'}. Best is trial 3 with value: 0.8694404591104734.\n",
            "[I 2024-05-02 14:07:36,599] Trial 73 finished with value: 0.8235294117647058 and parameters: {'C': 0.00029112080697437097, 'kernel': 'rbf', 'gamma': 'scale'}. Best is trial 3 with value: 0.8694404591104734.\n",
            "[I 2024-05-02 14:07:36,635] Trial 74 finished with value: 0.793400286944046 and parameters: {'C': 0.23624752892699638, 'kernel': 'rbf', 'gamma': 'scale'}. Best is trial 3 with value: 0.8694404591104734.\n",
            "[I 2024-05-02 14:07:36,663] Trial 75 finished with value: 0.806312769010043 and parameters: {'C': 0.0008934153654378476, 'kernel': 'rbf', 'gamma': 'scale'}. Best is trial 3 with value: 0.8694404591104734.\n",
            "[I 2024-05-02 14:07:36,696] Trial 76 finished with value: 0.7804878048780488 and parameters: {'C': 0.0028634545542360903, 'kernel': 'sigmoid', 'gamma': 'auto'}. Best is trial 3 with value: 0.8694404591104734.\n",
            "[I 2024-05-02 14:07:36,724] Trial 77 finished with value: 0.8536585365853658 and parameters: {'C': 0.00010513124590165708, 'kernel': 'rbf', 'gamma': 'scale'}. Best is trial 3 with value: 0.8694404591104734.\n",
            "[I 2024-05-02 14:07:36,749] Trial 78 finished with value: 0.7230989956958394 and parameters: {'C': 0.0002195335821995065, 'kernel': 'poly', 'gamma': 'scale'}. Best is trial 3 with value: 0.8694404591104734.\n",
            "[I 2024-05-02 14:07:36,772] Trial 79 finished with value: 0.7417503586800573 and parameters: {'C': 0.00039376628329661743, 'kernel': 'linear', 'gamma': 'scale'}. Best is trial 3 with value: 0.8694404591104734.\n",
            "[I 2024-05-02 14:07:36,798] Trial 80 finished with value: 0.7948350071736011 and parameters: {'C': 0.000719519781244612, 'kernel': 'rbf', 'gamma': 'auto'}. Best is trial 3 with value: 0.8694404591104734.\n",
            "[I 2024-05-02 14:07:36,837] Trial 81 finished with value: 0.8536585365853658 and parameters: {'C': 0.00017432908229897035, 'kernel': 'rbf', 'gamma': 'scale'}. Best is trial 3 with value: 0.8694404591104734.\n",
            "[I 2024-05-02 14:07:36,863] Trial 82 finished with value: 0.8536585365853658 and parameters: {'C': 0.00010539188268152253, 'kernel': 'rbf', 'gamma': 'scale'}. Best is trial 3 with value: 0.8694404591104734.\n",
            "[I 2024-05-02 14:07:36,890] Trial 83 finished with value: 0.8464849354375896 and parameters: {'C': 0.00018510884858616915, 'kernel': 'rbf', 'gamma': 'scale'}. Best is trial 3 with value: 0.8694404591104734.\n",
            "[I 2024-05-02 14:07:36,917] Trial 84 finished with value: 0.7919655667144907 and parameters: {'C': 0.0004162378566120759, 'kernel': 'rbf', 'gamma': 'scale'}. Best is trial 3 with value: 0.8694404591104734.\n",
            "[I 2024-05-02 14:07:36,944] Trial 85 finished with value: 0.8464849354375896 and parameters: {'C': 0.00023892600790000144, 'kernel': 'rbf', 'gamma': 'scale'}. Best is trial 3 with value: 0.8694404591104734.\n",
            "[I 2024-05-02 14:07:36,978] Trial 86 finished with value: 0.8020086083213773 and parameters: {'C': 0.0010315416657439803, 'kernel': 'rbf', 'gamma': 'scale'}. Best is trial 3 with value: 0.8694404591104734.\n",
            "[I 2024-05-02 14:07:37,001] Trial 87 finished with value: 0.8507890961262554 and parameters: {'C': 0.00031233555936383337, 'kernel': 'linear', 'gamma': 'scale'}. Best is trial 3 with value: 0.8694404591104734.\n",
            "[I 2024-05-02 14:07:37,029] Trial 88 finished with value: 0.7532281205164992 and parameters: {'C': 0.0014267597562004296, 'kernel': 'rbf', 'gamma': 'scale'}. Best is trial 3 with value: 0.8694404591104734.\n",
            "[I 2024-05-02 14:07:37,063] Trial 89 finished with value: 0.8335724533715925 and parameters: {'C': 0.00015471632075645113, 'kernel': 'sigmoid', 'gamma': 'auto'}. Best is trial 3 with value: 0.8694404591104734.\n",
            "[I 2024-05-02 14:07:37,090] Trial 90 finished with value: 0.7776183644189383 and parameters: {'C': 0.000610395670625923, 'kernel': 'rbf', 'gamma': 'scale'}. Best is trial 3 with value: 0.8694404591104734.\n",
            "[I 2024-05-02 14:07:37,117] Trial 91 finished with value: 0.8536585365853658 and parameters: {'C': 0.00010017337903698967, 'kernel': 'rbf', 'gamma': 'scale'}. Best is trial 3 with value: 0.8694404591104734.\n",
            "[I 2024-05-02 14:07:37,144] Trial 92 finished with value: 0.8536585365853658 and parameters: {'C': 0.00013798757485378898, 'kernel': 'rbf', 'gamma': 'scale'}. Best is trial 3 with value: 0.8694404591104734.\n",
            "[I 2024-05-02 14:07:37,171] Trial 93 finished with value: 0.8206599713055954 and parameters: {'C': 0.00030648380502556734, 'kernel': 'rbf', 'gamma': 'scale'}. Best is trial 3 with value: 0.8694404591104734.\n",
            "[I 2024-05-02 14:07:37,198] Trial 94 finished with value: 0.8536585365853658 and parameters: {'C': 0.0001644028306765972, 'kernel': 'rbf', 'gamma': 'scale'}. Best is trial 3 with value: 0.8694404591104734.\n",
            "[I 2024-05-02 14:07:37,225] Trial 95 finished with value: 0.7919655667144907 and parameters: {'C': 0.0005169958757599976, 'kernel': 'rbf', 'gamma': 'scale'}. Best is trial 3 with value: 0.8694404591104734.\n",
            "[I 2024-05-02 14:07:37,248] Trial 96 finished with value: 0.7919655667144907 and parameters: {'C': 0.02062638213651244, 'kernel': 'linear', 'gamma': 'scale'}. Best is trial 3 with value: 0.8694404591104734.\n",
            "[I 2024-05-02 14:07:37,280] Trial 97 finished with value: 0.7833572453371592 and parameters: {'C': 0.8598503521031539, 'kernel': 'rbf', 'gamma': 'scale'}. Best is trial 3 with value: 0.8694404591104734.\n",
            "[I 2024-05-02 14:07:37,314] Trial 98 finished with value: 0.7374461979913917 and parameters: {'C': 8.31676595683133, 'kernel': 'rbf', 'gamma': 'scale'}. Best is trial 3 with value: 0.8694404591104734.\n",
            "[I 2024-05-02 14:07:37,337] Trial 99 finished with value: 0.7876614060258249 and parameters: {'C': 0.00025225819338394866, 'kernel': 'poly', 'gamma': 'auto'}. Best is trial 3 with value: 0.8694404591104734.\n"
          ]
        }
      ]
    },
    {
      "cell_type": "code",
      "source": [
        "print('Best AUC score: {:.5f}'.format(study.best_value))"
      ],
      "metadata": {
        "colab": {
          "base_uri": "https://localhost:8080/"
        },
        "id": "-Vuoa2yDoHUs",
        "outputId": "92642d7a-00c1-4b74-a943-5734877faf06"
      },
      "execution_count": null,
      "outputs": [
        {
          "output_type": "stream",
          "name": "stdout",
          "text": [
            "Best AUC score: 0.86944\n"
          ]
        }
      ]
    },
    {
      "cell_type": "code",
      "source": [
        "print('Best Params: ')\n",
        "svm_params = study.best_params\n",
        "svm_params"
      ],
      "metadata": {
        "colab": {
          "base_uri": "https://localhost:8080/"
        },
        "id": "aQauJOpborVN",
        "outputId": "104899a8-ce2f-4a8a-988c-9fc12b0f1a23"
      },
      "execution_count": null,
      "outputs": [
        {
          "output_type": "stream",
          "name": "stdout",
          "text": [
            "Best Params: \n"
          ]
        },
        {
          "output_type": "execute_result",
          "data": {
            "text/plain": [
              "{'C': 0.009597238233662318, 'kernel': 'linear', 'gamma': 'scale'}"
            ]
          },
          "metadata": {},
          "execution_count": 43
        }
      ]
    },
    {
      "cell_type": "code",
      "source": [
        "optuna.visualization.plot_optimization_history(study)"
      ],
      "metadata": {
        "colab": {
          "base_uri": "https://localhost:8080/",
          "height": 542
        },
        "id": "w3GTCbTXouhZ",
        "outputId": "b90ceb90-2128-4249-9d73-ed4b1265a6c4"
      },
      "execution_count": null,
      "outputs": [
        {
          "output_type": "display_data",
          "data": {
            "text/html": [
              "<html>\n",
              "<head><meta charset=\"utf-8\" /></head>\n",
              "<body>\n",
              "    <div>            <script src=\"https://cdnjs.cloudflare.com/ajax/libs/mathjax/2.7.5/MathJax.js?config=TeX-AMS-MML_SVG\"></script><script type=\"text/javascript\">if (window.MathJax && window.MathJax.Hub && window.MathJax.Hub.Config) {window.MathJax.Hub.Config({SVG: {font: \"STIX-Web\"}});}</script>                <script type=\"text/javascript\">window.PlotlyConfig = {MathJaxConfig: 'local'};</script>\n",
              "        <script charset=\"utf-8\" src=\"https://cdn.plot.ly/plotly-2.24.1.min.js\"></script>                <div id=\"390209b0-6dd5-42ce-9d79-523a09921dd2\" class=\"plotly-graph-div\" style=\"height:525px; width:100%;\"></div>            <script type=\"text/javascript\">                                    window.PLOTLYENV=window.PLOTLYENV || {};                                    if (document.getElementById(\"390209b0-6dd5-42ce-9d79-523a09921dd2\")) {                    Plotly.newPlot(                        \"390209b0-6dd5-42ce-9d79-523a09921dd2\",                        [{\"mode\":\"markers\",\"name\":\"Objective Value\",\"x\":[0,1,2,3,4,5,6,7,8,9,10,11,12,13,14,15,16,17,18,19,20,21,22,23,24,25,26,27,28,29,30,31,32,33,34,35,36,37,38,39,40,41,42,43,44,45,46,47,48,49,50,51,52,53,54,55,56,57,58,59,60,61,62,63,64,65,66,67,68,69,70,71,72,73,74,75,76,77,78,79,80,81,82,83,84,85,86,87,88,89,90,91,92,93,94,95,96,97,98,99],\"y\":[0.697274031563845,0.6657101865136299,0.776183644189383,0.8694404591104734,0.6255380200860832,0.7589670014347203,0.7374461979913917,0.7948350071736011,0.6040172166427547,0.7919655667144907,0.733142037302726,0.8651362984218077,0.7847919655667145,0.6958393113342898,0.7173601147776183,0.7819225251076041,0.8536585365853658,0.793400286944046,0.6915351506456241,0.8134863701578192,0.7862266857962698,0.8536585365853658,0.8536585365853658,0.8048780487804879,0.7919655667144907,0.7905308464849354,0.7718794835007173,0.6929698708751794,0.7403156384505021,0.8106169296987087,0.8694404591104734,0.793400286944046,0.8479196556671449,0.7489239598278336,0.8278335724533716,0.7187948350071737,0.8163558106169297,0.8335724533715925,0.6915351506456241,0.7015781922525107,0.7776183644189383,0.8436154949784792,0.8464849354375896,0.806312769010043,0.7948350071736011,0.7819225251076041,0.7833572453371592,0.8507890961262554,0.727403156384505,0.697274031563845,0.8034433285509326,0.8536585365853658,0.8536585365853658,0.7776183644189383,0.6987087517934003,0.7919655667144907,0.7905308464849354,0.612625538020086,0.8407460545193688,0.8507890961262554,0.7919655667144907,0.8536585365853658,0.8479196556671449,0.7905308464849354,0.8536585365853658,0.7374461979913917,0.7919655667144907,0.6814921090387375,0.7890961262553802,0.8464849354375896,0.727403156384505,0.8536585365853658,0.8536585365853658,0.8235294117647058,0.793400286944046,0.806312769010043,0.7804878048780488,0.8536585365853658,0.7230989956958394,0.7417503586800573,0.7948350071736011,0.8536585365853658,0.8536585365853658,0.8464849354375896,0.7919655667144907,0.8464849354375896,0.8020086083213773,0.8507890961262554,0.7532281205164992,0.8335724533715925,0.7776183644189383,0.8536585365853658,0.8536585365853658,0.8206599713055954,0.8536585365853658,0.7919655667144907,0.7919655667144907,0.7833572453371592,0.7374461979913917,0.7876614060258249],\"type\":\"scatter\"},{\"mode\":\"lines\",\"name\":\"Best Value\",\"x\":[0,1,2,3,4,5,6,7,8,9,10,11,12,13,14,15,16,17,18,19,20,21,22,23,24,25,26,27,28,29,30,31,32,33,34,35,36,37,38,39,40,41,42,43,44,45,46,47,48,49,50,51,52,53,54,55,56,57,58,59,60,61,62,63,64,65,66,67,68,69,70,71,72,73,74,75,76,77,78,79,80,81,82,83,84,85,86,87,88,89,90,91,92,93,94,95,96,97,98,99],\"y\":[0.697274031563845,0.697274031563845,0.776183644189383,0.8694404591104734,0.8694404591104734,0.8694404591104734,0.8694404591104734,0.8694404591104734,0.8694404591104734,0.8694404591104734,0.8694404591104734,0.8694404591104734,0.8694404591104734,0.8694404591104734,0.8694404591104734,0.8694404591104734,0.8694404591104734,0.8694404591104734,0.8694404591104734,0.8694404591104734,0.8694404591104734,0.8694404591104734,0.8694404591104734,0.8694404591104734,0.8694404591104734,0.8694404591104734,0.8694404591104734,0.8694404591104734,0.8694404591104734,0.8694404591104734,0.8694404591104734,0.8694404591104734,0.8694404591104734,0.8694404591104734,0.8694404591104734,0.8694404591104734,0.8694404591104734,0.8694404591104734,0.8694404591104734,0.8694404591104734,0.8694404591104734,0.8694404591104734,0.8694404591104734,0.8694404591104734,0.8694404591104734,0.8694404591104734,0.8694404591104734,0.8694404591104734,0.8694404591104734,0.8694404591104734,0.8694404591104734,0.8694404591104734,0.8694404591104734,0.8694404591104734,0.8694404591104734,0.8694404591104734,0.8694404591104734,0.8694404591104734,0.8694404591104734,0.8694404591104734,0.8694404591104734,0.8694404591104734,0.8694404591104734,0.8694404591104734,0.8694404591104734,0.8694404591104734,0.8694404591104734,0.8694404591104734,0.8694404591104734,0.8694404591104734,0.8694404591104734,0.8694404591104734,0.8694404591104734,0.8694404591104734,0.8694404591104734,0.8694404591104734,0.8694404591104734,0.8694404591104734,0.8694404591104734,0.8694404591104734,0.8694404591104734,0.8694404591104734,0.8694404591104734,0.8694404591104734,0.8694404591104734,0.8694404591104734,0.8694404591104734,0.8694404591104734,0.8694404591104734,0.8694404591104734,0.8694404591104734,0.8694404591104734,0.8694404591104734,0.8694404591104734,0.8694404591104734,0.8694404591104734,0.8694404591104734,0.8694404591104734,0.8694404591104734,0.8694404591104734],\"type\":\"scatter\"},{\"marker\":{\"color\":\"#cccccc\"},\"mode\":\"markers\",\"name\":\"Infeasible Trial\",\"showlegend\":false,\"x\":[],\"y\":[],\"type\":\"scatter\"}],                        {\"title\":{\"text\":\"Optimization History Plot\"},\"xaxis\":{\"title\":{\"text\":\"Trial\"}},\"yaxis\":{\"title\":{\"text\":\"Objective Value\"}},\"template\":{\"data\":{\"histogram2dcontour\":[{\"type\":\"histogram2dcontour\",\"colorbar\":{\"outlinewidth\":0,\"ticks\":\"\"},\"colorscale\":[[0.0,\"#0d0887\"],[0.1111111111111111,\"#46039f\"],[0.2222222222222222,\"#7201a8\"],[0.3333333333333333,\"#9c179e\"],[0.4444444444444444,\"#bd3786\"],[0.5555555555555556,\"#d8576b\"],[0.6666666666666666,\"#ed7953\"],[0.7777777777777778,\"#fb9f3a\"],[0.8888888888888888,\"#fdca26\"],[1.0,\"#f0f921\"]]}],\"choropleth\":[{\"type\":\"choropleth\",\"colorbar\":{\"outlinewidth\":0,\"ticks\":\"\"}}],\"histogram2d\":[{\"type\":\"histogram2d\",\"colorbar\":{\"outlinewidth\":0,\"ticks\":\"\"},\"colorscale\":[[0.0,\"#0d0887\"],[0.1111111111111111,\"#46039f\"],[0.2222222222222222,\"#7201a8\"],[0.3333333333333333,\"#9c179e\"],[0.4444444444444444,\"#bd3786\"],[0.5555555555555556,\"#d8576b\"],[0.6666666666666666,\"#ed7953\"],[0.7777777777777778,\"#fb9f3a\"],[0.8888888888888888,\"#fdca26\"],[1.0,\"#f0f921\"]]}],\"heatmap\":[{\"type\":\"heatmap\",\"colorbar\":{\"outlinewidth\":0,\"ticks\":\"\"},\"colorscale\":[[0.0,\"#0d0887\"],[0.1111111111111111,\"#46039f\"],[0.2222222222222222,\"#7201a8\"],[0.3333333333333333,\"#9c179e\"],[0.4444444444444444,\"#bd3786\"],[0.5555555555555556,\"#d8576b\"],[0.6666666666666666,\"#ed7953\"],[0.7777777777777778,\"#fb9f3a\"],[0.8888888888888888,\"#fdca26\"],[1.0,\"#f0f921\"]]}],\"heatmapgl\":[{\"type\":\"heatmapgl\",\"colorbar\":{\"outlinewidth\":0,\"ticks\":\"\"},\"colorscale\":[[0.0,\"#0d0887\"],[0.1111111111111111,\"#46039f\"],[0.2222222222222222,\"#7201a8\"],[0.3333333333333333,\"#9c179e\"],[0.4444444444444444,\"#bd3786\"],[0.5555555555555556,\"#d8576b\"],[0.6666666666666666,\"#ed7953\"],[0.7777777777777778,\"#fb9f3a\"],[0.8888888888888888,\"#fdca26\"],[1.0,\"#f0f921\"]]}],\"contourcarpet\":[{\"type\":\"contourcarpet\",\"colorbar\":{\"outlinewidth\":0,\"ticks\":\"\"}}],\"contour\":[{\"type\":\"contour\",\"colorbar\":{\"outlinewidth\":0,\"ticks\":\"\"},\"colorscale\":[[0.0,\"#0d0887\"],[0.1111111111111111,\"#46039f\"],[0.2222222222222222,\"#7201a8\"],[0.3333333333333333,\"#9c179e\"],[0.4444444444444444,\"#bd3786\"],[0.5555555555555556,\"#d8576b\"],[0.6666666666666666,\"#ed7953\"],[0.7777777777777778,\"#fb9f3a\"],[0.8888888888888888,\"#fdca26\"],[1.0,\"#f0f921\"]]}],\"surface\":[{\"type\":\"surface\",\"colorbar\":{\"outlinewidth\":0,\"ticks\":\"\"},\"colorscale\":[[0.0,\"#0d0887\"],[0.1111111111111111,\"#46039f\"],[0.2222222222222222,\"#7201a8\"],[0.3333333333333333,\"#9c179e\"],[0.4444444444444444,\"#bd3786\"],[0.5555555555555556,\"#d8576b\"],[0.6666666666666666,\"#ed7953\"],[0.7777777777777778,\"#fb9f3a\"],[0.8888888888888888,\"#fdca26\"],[1.0,\"#f0f921\"]]}],\"mesh3d\":[{\"type\":\"mesh3d\",\"colorbar\":{\"outlinewidth\":0,\"ticks\":\"\"}}],\"scatter\":[{\"fillpattern\":{\"fillmode\":\"overlay\",\"size\":10,\"solidity\":0.2},\"type\":\"scatter\"}],\"parcoords\":[{\"type\":\"parcoords\",\"line\":{\"colorbar\":{\"outlinewidth\":0,\"ticks\":\"\"}}}],\"scatterpolargl\":[{\"type\":\"scatterpolargl\",\"marker\":{\"colorbar\":{\"outlinewidth\":0,\"ticks\":\"\"}}}],\"bar\":[{\"error_x\":{\"color\":\"#2a3f5f\"},\"error_y\":{\"color\":\"#2a3f5f\"},\"marker\":{\"line\":{\"color\":\"#E5ECF6\",\"width\":0.5},\"pattern\":{\"fillmode\":\"overlay\",\"size\":10,\"solidity\":0.2}},\"type\":\"bar\"}],\"scattergeo\":[{\"type\":\"scattergeo\",\"marker\":{\"colorbar\":{\"outlinewidth\":0,\"ticks\":\"\"}}}],\"scatterpolar\":[{\"type\":\"scatterpolar\",\"marker\":{\"colorbar\":{\"outlinewidth\":0,\"ticks\":\"\"}}}],\"histogram\":[{\"marker\":{\"pattern\":{\"fillmode\":\"overlay\",\"size\":10,\"solidity\":0.2}},\"type\":\"histogram\"}],\"scattergl\":[{\"type\":\"scattergl\",\"marker\":{\"colorbar\":{\"outlinewidth\":0,\"ticks\":\"\"}}}],\"scatter3d\":[{\"type\":\"scatter3d\",\"line\":{\"colorbar\":{\"outlinewidth\":0,\"ticks\":\"\"}},\"marker\":{\"colorbar\":{\"outlinewidth\":0,\"ticks\":\"\"}}}],\"scattermapbox\":[{\"type\":\"scattermapbox\",\"marker\":{\"colorbar\":{\"outlinewidth\":0,\"ticks\":\"\"}}}],\"scatterternary\":[{\"type\":\"scatterternary\",\"marker\":{\"colorbar\":{\"outlinewidth\":0,\"ticks\":\"\"}}}],\"scattercarpet\":[{\"type\":\"scattercarpet\",\"marker\":{\"colorbar\":{\"outlinewidth\":0,\"ticks\":\"\"}}}],\"carpet\":[{\"aaxis\":{\"endlinecolor\":\"#2a3f5f\",\"gridcolor\":\"white\",\"linecolor\":\"white\",\"minorgridcolor\":\"white\",\"startlinecolor\":\"#2a3f5f\"},\"baxis\":{\"endlinecolor\":\"#2a3f5f\",\"gridcolor\":\"white\",\"linecolor\":\"white\",\"minorgridcolor\":\"white\",\"startlinecolor\":\"#2a3f5f\"},\"type\":\"carpet\"}],\"table\":[{\"cells\":{\"fill\":{\"color\":\"#EBF0F8\"},\"line\":{\"color\":\"white\"}},\"header\":{\"fill\":{\"color\":\"#C8D4E3\"},\"line\":{\"color\":\"white\"}},\"type\":\"table\"}],\"barpolar\":[{\"marker\":{\"line\":{\"color\":\"#E5ECF6\",\"width\":0.5},\"pattern\":{\"fillmode\":\"overlay\",\"size\":10,\"solidity\":0.2}},\"type\":\"barpolar\"}],\"pie\":[{\"automargin\":true,\"type\":\"pie\"}]},\"layout\":{\"autotypenumbers\":\"strict\",\"colorway\":[\"#636efa\",\"#EF553B\",\"#00cc96\",\"#ab63fa\",\"#FFA15A\",\"#19d3f3\",\"#FF6692\",\"#B6E880\",\"#FF97FF\",\"#FECB52\"],\"font\":{\"color\":\"#2a3f5f\"},\"hovermode\":\"closest\",\"hoverlabel\":{\"align\":\"left\"},\"paper_bgcolor\":\"white\",\"plot_bgcolor\":\"#E5ECF6\",\"polar\":{\"bgcolor\":\"#E5ECF6\",\"angularaxis\":{\"gridcolor\":\"white\",\"linecolor\":\"white\",\"ticks\":\"\"},\"radialaxis\":{\"gridcolor\":\"white\",\"linecolor\":\"white\",\"ticks\":\"\"}},\"ternary\":{\"bgcolor\":\"#E5ECF6\",\"aaxis\":{\"gridcolor\":\"white\",\"linecolor\":\"white\",\"ticks\":\"\"},\"baxis\":{\"gridcolor\":\"white\",\"linecolor\":\"white\",\"ticks\":\"\"},\"caxis\":{\"gridcolor\":\"white\",\"linecolor\":\"white\",\"ticks\":\"\"}},\"coloraxis\":{\"colorbar\":{\"outlinewidth\":0,\"ticks\":\"\"}},\"colorscale\":{\"sequential\":[[0.0,\"#0d0887\"],[0.1111111111111111,\"#46039f\"],[0.2222222222222222,\"#7201a8\"],[0.3333333333333333,\"#9c179e\"],[0.4444444444444444,\"#bd3786\"],[0.5555555555555556,\"#d8576b\"],[0.6666666666666666,\"#ed7953\"],[0.7777777777777778,\"#fb9f3a\"],[0.8888888888888888,\"#fdca26\"],[1.0,\"#f0f921\"]],\"sequentialminus\":[[0.0,\"#0d0887\"],[0.1111111111111111,\"#46039f\"],[0.2222222222222222,\"#7201a8\"],[0.3333333333333333,\"#9c179e\"],[0.4444444444444444,\"#bd3786\"],[0.5555555555555556,\"#d8576b\"],[0.6666666666666666,\"#ed7953\"],[0.7777777777777778,\"#fb9f3a\"],[0.8888888888888888,\"#fdca26\"],[1.0,\"#f0f921\"]],\"diverging\":[[0,\"#8e0152\"],[0.1,\"#c51b7d\"],[0.2,\"#de77ae\"],[0.3,\"#f1b6da\"],[0.4,\"#fde0ef\"],[0.5,\"#f7f7f7\"],[0.6,\"#e6f5d0\"],[0.7,\"#b8e186\"],[0.8,\"#7fbc41\"],[0.9,\"#4d9221\"],[1,\"#276419\"]]},\"xaxis\":{\"gridcolor\":\"white\",\"linecolor\":\"white\",\"ticks\":\"\",\"title\":{\"standoff\":15},\"zerolinecolor\":\"white\",\"automargin\":true,\"zerolinewidth\":2},\"yaxis\":{\"gridcolor\":\"white\",\"linecolor\":\"white\",\"ticks\":\"\",\"title\":{\"standoff\":15},\"zerolinecolor\":\"white\",\"automargin\":true,\"zerolinewidth\":2},\"scene\":{\"xaxis\":{\"backgroundcolor\":\"#E5ECF6\",\"gridcolor\":\"white\",\"linecolor\":\"white\",\"showbackground\":true,\"ticks\":\"\",\"zerolinecolor\":\"white\",\"gridwidth\":2},\"yaxis\":{\"backgroundcolor\":\"#E5ECF6\",\"gridcolor\":\"white\",\"linecolor\":\"white\",\"showbackground\":true,\"ticks\":\"\",\"zerolinecolor\":\"white\",\"gridwidth\":2},\"zaxis\":{\"backgroundcolor\":\"#E5ECF6\",\"gridcolor\":\"white\",\"linecolor\":\"white\",\"showbackground\":true,\"ticks\":\"\",\"zerolinecolor\":\"white\",\"gridwidth\":2}},\"shapedefaults\":{\"line\":{\"color\":\"#2a3f5f\"}},\"annotationdefaults\":{\"arrowcolor\":\"#2a3f5f\",\"arrowhead\":0,\"arrowwidth\":1},\"geo\":{\"bgcolor\":\"white\",\"landcolor\":\"#E5ECF6\",\"subunitcolor\":\"white\",\"showland\":true,\"showlakes\":true,\"lakecolor\":\"white\"},\"title\":{\"x\":0.05},\"mapbox\":{\"style\":\"light\"}}}},                        {\"responsive\": true}                    ).then(function(){\n",
              "                            \n",
              "var gd = document.getElementById('390209b0-6dd5-42ce-9d79-523a09921dd2');\n",
              "var x = new MutationObserver(function (mutations, observer) {{\n",
              "        var display = window.getComputedStyle(gd).display;\n",
              "        if (!display || display === 'none') {{\n",
              "            console.log([gd, 'removed!']);\n",
              "            Plotly.purge(gd);\n",
              "            observer.disconnect();\n",
              "        }}\n",
              "}});\n",
              "\n",
              "// Listen for the removal of the full notebook cells\n",
              "var notebookContainer = gd.closest('#notebook-container');\n",
              "if (notebookContainer) {{\n",
              "    x.observe(notebookContainer, {childList: true});\n",
              "}}\n",
              "\n",
              "// Listen for the clearing of the current output cell\n",
              "var outputEl = gd.closest('.output');\n",
              "if (outputEl) {{\n",
              "    x.observe(outputEl, {childList: true});\n",
              "}}\n",
              "\n",
              "                        })                };                            </script>        </div>\n",
              "</body>\n",
              "</html>"
            ]
          },
          "metadata": {}
        }
      ]
    },
    {
      "cell_type": "code",
      "source": [
        "optuna.visualization.plot_param_importances(study)"
      ],
      "metadata": {
        "colab": {
          "base_uri": "https://localhost:8080/",
          "height": 542
        },
        "id": "KuN_RkKNoyp7",
        "outputId": "8a7b6960-941c-4176-ce23-6710adfcc11a"
      },
      "execution_count": null,
      "outputs": [
        {
          "output_type": "display_data",
          "data": {
            "text/html": [
              "<html>\n",
              "<head><meta charset=\"utf-8\" /></head>\n",
              "<body>\n",
              "    <div>            <script src=\"https://cdnjs.cloudflare.com/ajax/libs/mathjax/2.7.5/MathJax.js?config=TeX-AMS-MML_SVG\"></script><script type=\"text/javascript\">if (window.MathJax && window.MathJax.Hub && window.MathJax.Hub.Config) {window.MathJax.Hub.Config({SVG: {font: \"STIX-Web\"}});}</script>                <script type=\"text/javascript\">window.PlotlyConfig = {MathJaxConfig: 'local'};</script>\n",
              "        <script charset=\"utf-8\" src=\"https://cdn.plot.ly/plotly-2.24.1.min.js\"></script>                <div id=\"5116b529-dcde-49fe-97b8-878b3eb59038\" class=\"plotly-graph-div\" style=\"height:525px; width:100%;\"></div>            <script type=\"text/javascript\">                                    window.PLOTLYENV=window.PLOTLYENV || {};                                    if (document.getElementById(\"5116b529-dcde-49fe-97b8-878b3eb59038\")) {                    Plotly.newPlot(                        \"5116b529-dcde-49fe-97b8-878b3eb59038\",                        [{\"cliponaxis\":false,\"hovertemplate\":[\"gamma (CategoricalDistribution): 0.11884619079662401\\u003cextra\\u003e\\u003c\\u002fextra\\u003e\",\"C (FloatDistribution): 0.1415413295133222\\u003cextra\\u003e\\u003c\\u002fextra\\u003e\",\"kernel (CategoricalDistribution): 0.7396124796900538\\u003cextra\\u003e\\u003c\\u002fextra\\u003e\"],\"name\":\"Objective Value\",\"orientation\":\"h\",\"text\":[\"0.12\",\"0.14\",\"0.74\"],\"textposition\":\"outside\",\"x\":[0.11884619079662401,0.1415413295133222,0.7396124796900538],\"y\":[\"gamma\",\"C\",\"kernel\"],\"type\":\"bar\"}],                        {\"title\":{\"text\":\"Hyperparameter Importances\"},\"xaxis\":{\"title\":{\"text\":\"Hyperparameter Importance\"}},\"yaxis\":{\"title\":{\"text\":\"Hyperparameter\"}},\"template\":{\"data\":{\"histogram2dcontour\":[{\"type\":\"histogram2dcontour\",\"colorbar\":{\"outlinewidth\":0,\"ticks\":\"\"},\"colorscale\":[[0.0,\"#0d0887\"],[0.1111111111111111,\"#46039f\"],[0.2222222222222222,\"#7201a8\"],[0.3333333333333333,\"#9c179e\"],[0.4444444444444444,\"#bd3786\"],[0.5555555555555556,\"#d8576b\"],[0.6666666666666666,\"#ed7953\"],[0.7777777777777778,\"#fb9f3a\"],[0.8888888888888888,\"#fdca26\"],[1.0,\"#f0f921\"]]}],\"choropleth\":[{\"type\":\"choropleth\",\"colorbar\":{\"outlinewidth\":0,\"ticks\":\"\"}}],\"histogram2d\":[{\"type\":\"histogram2d\",\"colorbar\":{\"outlinewidth\":0,\"ticks\":\"\"},\"colorscale\":[[0.0,\"#0d0887\"],[0.1111111111111111,\"#46039f\"],[0.2222222222222222,\"#7201a8\"],[0.3333333333333333,\"#9c179e\"],[0.4444444444444444,\"#bd3786\"],[0.5555555555555556,\"#d8576b\"],[0.6666666666666666,\"#ed7953\"],[0.7777777777777778,\"#fb9f3a\"],[0.8888888888888888,\"#fdca26\"],[1.0,\"#f0f921\"]]}],\"heatmap\":[{\"type\":\"heatmap\",\"colorbar\":{\"outlinewidth\":0,\"ticks\":\"\"},\"colorscale\":[[0.0,\"#0d0887\"],[0.1111111111111111,\"#46039f\"],[0.2222222222222222,\"#7201a8\"],[0.3333333333333333,\"#9c179e\"],[0.4444444444444444,\"#bd3786\"],[0.5555555555555556,\"#d8576b\"],[0.6666666666666666,\"#ed7953\"],[0.7777777777777778,\"#fb9f3a\"],[0.8888888888888888,\"#fdca26\"],[1.0,\"#f0f921\"]]}],\"heatmapgl\":[{\"type\":\"heatmapgl\",\"colorbar\":{\"outlinewidth\":0,\"ticks\":\"\"},\"colorscale\":[[0.0,\"#0d0887\"],[0.1111111111111111,\"#46039f\"],[0.2222222222222222,\"#7201a8\"],[0.3333333333333333,\"#9c179e\"],[0.4444444444444444,\"#bd3786\"],[0.5555555555555556,\"#d8576b\"],[0.6666666666666666,\"#ed7953\"],[0.7777777777777778,\"#fb9f3a\"],[0.8888888888888888,\"#fdca26\"],[1.0,\"#f0f921\"]]}],\"contourcarpet\":[{\"type\":\"contourcarpet\",\"colorbar\":{\"outlinewidth\":0,\"ticks\":\"\"}}],\"contour\":[{\"type\":\"contour\",\"colorbar\":{\"outlinewidth\":0,\"ticks\":\"\"},\"colorscale\":[[0.0,\"#0d0887\"],[0.1111111111111111,\"#46039f\"],[0.2222222222222222,\"#7201a8\"],[0.3333333333333333,\"#9c179e\"],[0.4444444444444444,\"#bd3786\"],[0.5555555555555556,\"#d8576b\"],[0.6666666666666666,\"#ed7953\"],[0.7777777777777778,\"#fb9f3a\"],[0.8888888888888888,\"#fdca26\"],[1.0,\"#f0f921\"]]}],\"surface\":[{\"type\":\"surface\",\"colorbar\":{\"outlinewidth\":0,\"ticks\":\"\"},\"colorscale\":[[0.0,\"#0d0887\"],[0.1111111111111111,\"#46039f\"],[0.2222222222222222,\"#7201a8\"],[0.3333333333333333,\"#9c179e\"],[0.4444444444444444,\"#bd3786\"],[0.5555555555555556,\"#d8576b\"],[0.6666666666666666,\"#ed7953\"],[0.7777777777777778,\"#fb9f3a\"],[0.8888888888888888,\"#fdca26\"],[1.0,\"#f0f921\"]]}],\"mesh3d\":[{\"type\":\"mesh3d\",\"colorbar\":{\"outlinewidth\":0,\"ticks\":\"\"}}],\"scatter\":[{\"fillpattern\":{\"fillmode\":\"overlay\",\"size\":10,\"solidity\":0.2},\"type\":\"scatter\"}],\"parcoords\":[{\"type\":\"parcoords\",\"line\":{\"colorbar\":{\"outlinewidth\":0,\"ticks\":\"\"}}}],\"scatterpolargl\":[{\"type\":\"scatterpolargl\",\"marker\":{\"colorbar\":{\"outlinewidth\":0,\"ticks\":\"\"}}}],\"bar\":[{\"error_x\":{\"color\":\"#2a3f5f\"},\"error_y\":{\"color\":\"#2a3f5f\"},\"marker\":{\"line\":{\"color\":\"#E5ECF6\",\"width\":0.5},\"pattern\":{\"fillmode\":\"overlay\",\"size\":10,\"solidity\":0.2}},\"type\":\"bar\"}],\"scattergeo\":[{\"type\":\"scattergeo\",\"marker\":{\"colorbar\":{\"outlinewidth\":0,\"ticks\":\"\"}}}],\"scatterpolar\":[{\"type\":\"scatterpolar\",\"marker\":{\"colorbar\":{\"outlinewidth\":0,\"ticks\":\"\"}}}],\"histogram\":[{\"marker\":{\"pattern\":{\"fillmode\":\"overlay\",\"size\":10,\"solidity\":0.2}},\"type\":\"histogram\"}],\"scattergl\":[{\"type\":\"scattergl\",\"marker\":{\"colorbar\":{\"outlinewidth\":0,\"ticks\":\"\"}}}],\"scatter3d\":[{\"type\":\"scatter3d\",\"line\":{\"colorbar\":{\"outlinewidth\":0,\"ticks\":\"\"}},\"marker\":{\"colorbar\":{\"outlinewidth\":0,\"ticks\":\"\"}}}],\"scattermapbox\":[{\"type\":\"scattermapbox\",\"marker\":{\"colorbar\":{\"outlinewidth\":0,\"ticks\":\"\"}}}],\"scatterternary\":[{\"type\":\"scatterternary\",\"marker\":{\"colorbar\":{\"outlinewidth\":0,\"ticks\":\"\"}}}],\"scattercarpet\":[{\"type\":\"scattercarpet\",\"marker\":{\"colorbar\":{\"outlinewidth\":0,\"ticks\":\"\"}}}],\"carpet\":[{\"aaxis\":{\"endlinecolor\":\"#2a3f5f\",\"gridcolor\":\"white\",\"linecolor\":\"white\",\"minorgridcolor\":\"white\",\"startlinecolor\":\"#2a3f5f\"},\"baxis\":{\"endlinecolor\":\"#2a3f5f\",\"gridcolor\":\"white\",\"linecolor\":\"white\",\"minorgridcolor\":\"white\",\"startlinecolor\":\"#2a3f5f\"},\"type\":\"carpet\"}],\"table\":[{\"cells\":{\"fill\":{\"color\":\"#EBF0F8\"},\"line\":{\"color\":\"white\"}},\"header\":{\"fill\":{\"color\":\"#C8D4E3\"},\"line\":{\"color\":\"white\"}},\"type\":\"table\"}],\"barpolar\":[{\"marker\":{\"line\":{\"color\":\"#E5ECF6\",\"width\":0.5},\"pattern\":{\"fillmode\":\"overlay\",\"size\":10,\"solidity\":0.2}},\"type\":\"barpolar\"}],\"pie\":[{\"automargin\":true,\"type\":\"pie\"}]},\"layout\":{\"autotypenumbers\":\"strict\",\"colorway\":[\"#636efa\",\"#EF553B\",\"#00cc96\",\"#ab63fa\",\"#FFA15A\",\"#19d3f3\",\"#FF6692\",\"#B6E880\",\"#FF97FF\",\"#FECB52\"],\"font\":{\"color\":\"#2a3f5f\"},\"hovermode\":\"closest\",\"hoverlabel\":{\"align\":\"left\"},\"paper_bgcolor\":\"white\",\"plot_bgcolor\":\"#E5ECF6\",\"polar\":{\"bgcolor\":\"#E5ECF6\",\"angularaxis\":{\"gridcolor\":\"white\",\"linecolor\":\"white\",\"ticks\":\"\"},\"radialaxis\":{\"gridcolor\":\"white\",\"linecolor\":\"white\",\"ticks\":\"\"}},\"ternary\":{\"bgcolor\":\"#E5ECF6\",\"aaxis\":{\"gridcolor\":\"white\",\"linecolor\":\"white\",\"ticks\":\"\"},\"baxis\":{\"gridcolor\":\"white\",\"linecolor\":\"white\",\"ticks\":\"\"},\"caxis\":{\"gridcolor\":\"white\",\"linecolor\":\"white\",\"ticks\":\"\"}},\"coloraxis\":{\"colorbar\":{\"outlinewidth\":0,\"ticks\":\"\"}},\"colorscale\":{\"sequential\":[[0.0,\"#0d0887\"],[0.1111111111111111,\"#46039f\"],[0.2222222222222222,\"#7201a8\"],[0.3333333333333333,\"#9c179e\"],[0.4444444444444444,\"#bd3786\"],[0.5555555555555556,\"#d8576b\"],[0.6666666666666666,\"#ed7953\"],[0.7777777777777778,\"#fb9f3a\"],[0.8888888888888888,\"#fdca26\"],[1.0,\"#f0f921\"]],\"sequentialminus\":[[0.0,\"#0d0887\"],[0.1111111111111111,\"#46039f\"],[0.2222222222222222,\"#7201a8\"],[0.3333333333333333,\"#9c179e\"],[0.4444444444444444,\"#bd3786\"],[0.5555555555555556,\"#d8576b\"],[0.6666666666666666,\"#ed7953\"],[0.7777777777777778,\"#fb9f3a\"],[0.8888888888888888,\"#fdca26\"],[1.0,\"#f0f921\"]],\"diverging\":[[0,\"#8e0152\"],[0.1,\"#c51b7d\"],[0.2,\"#de77ae\"],[0.3,\"#f1b6da\"],[0.4,\"#fde0ef\"],[0.5,\"#f7f7f7\"],[0.6,\"#e6f5d0\"],[0.7,\"#b8e186\"],[0.8,\"#7fbc41\"],[0.9,\"#4d9221\"],[1,\"#276419\"]]},\"xaxis\":{\"gridcolor\":\"white\",\"linecolor\":\"white\",\"ticks\":\"\",\"title\":{\"standoff\":15},\"zerolinecolor\":\"white\",\"automargin\":true,\"zerolinewidth\":2},\"yaxis\":{\"gridcolor\":\"white\",\"linecolor\":\"white\",\"ticks\":\"\",\"title\":{\"standoff\":15},\"zerolinecolor\":\"white\",\"automargin\":true,\"zerolinewidth\":2},\"scene\":{\"xaxis\":{\"backgroundcolor\":\"#E5ECF6\",\"gridcolor\":\"white\",\"linecolor\":\"white\",\"showbackground\":true,\"ticks\":\"\",\"zerolinecolor\":\"white\",\"gridwidth\":2},\"yaxis\":{\"backgroundcolor\":\"#E5ECF6\",\"gridcolor\":\"white\",\"linecolor\":\"white\",\"showbackground\":true,\"ticks\":\"\",\"zerolinecolor\":\"white\",\"gridwidth\":2},\"zaxis\":{\"backgroundcolor\":\"#E5ECF6\",\"gridcolor\":\"white\",\"linecolor\":\"white\",\"showbackground\":true,\"ticks\":\"\",\"zerolinecolor\":\"white\",\"gridwidth\":2}},\"shapedefaults\":{\"line\":{\"color\":\"#2a3f5f\"}},\"annotationdefaults\":{\"arrowcolor\":\"#2a3f5f\",\"arrowhead\":0,\"arrowwidth\":1},\"geo\":{\"bgcolor\":\"white\",\"landcolor\":\"#E5ECF6\",\"subunitcolor\":\"white\",\"showland\":true,\"showlakes\":true,\"lakecolor\":\"white\"},\"title\":{\"x\":0.05},\"mapbox\":{\"style\":\"light\"}}}},                        {\"responsive\": true}                    ).then(function(){\n",
              "                            \n",
              "var gd = document.getElementById('5116b529-dcde-49fe-97b8-878b3eb59038');\n",
              "var x = new MutationObserver(function (mutations, observer) {{\n",
              "        var display = window.getComputedStyle(gd).display;\n",
              "        if (!display || display === 'none') {{\n",
              "            console.log([gd, 'removed!']);\n",
              "            Plotly.purge(gd);\n",
              "            observer.disconnect();\n",
              "        }}\n",
              "}});\n",
              "\n",
              "// Listen for the removal of the full notebook cells\n",
              "var notebookContainer = gd.closest('#notebook-container');\n",
              "if (notebookContainer) {{\n",
              "    x.observe(notebookContainer, {childList: true});\n",
              "}}\n",
              "\n",
              "// Listen for the clearing of the current output cell\n",
              "var outputEl = gd.closest('.output');\n",
              "if (outputEl) {{\n",
              "    x.observe(outputEl, {childList: true});\n",
              "}}\n",
              "\n",
              "                        })                };                            </script>        </div>\n",
              "</body>\n",
              "</html>"
            ]
          },
          "metadata": {}
        }
      ]
    },
    {
      "cell_type": "code",
      "source": [
        "def objective(trial):\n",
        "\n",
        "    params = {\n",
        "        'n_estimators': trial.suggest_int('n_estimators', 50, 1000),\n",
        "        'learning_rate': trial.suggest_loguniform('learning_rate', 0.001, 1.0),\n",
        "        'algorithm': trial.suggest_categorical('algorithm', ['SAMME', 'SAMME.R'])\n",
        "    }\n",
        "\n",
        "    model = AdaBoostClassifier(**params, random_state = 42)\n",
        "    model.fit(X_train_encoded, y_train)\n",
        "\n",
        "    y_pred_proba = model.predict_proba(X_test_encoded)[:, 1]\n",
        "\n",
        "    auc = roc_auc_score(y_test, y_pred_proba)\n",
        "\n",
        "    return auc\n",
        "\n",
        "study = optuna.create_study(direction='maximize', sampler = TPESampler(seed = 33))\n",
        "study.optimize(objective, n_trials=100)"
      ],
      "metadata": {
        "colab": {
          "base_uri": "https://localhost:8080/"
        },
        "id": "iebGT1iJo1ow",
        "outputId": "f4618657-492b-4cda-9e1c-f23e5710dc8c"
      },
      "execution_count": null,
      "outputs": [
        {
          "output_type": "stream",
          "name": "stderr",
          "text": [
            "[I 2024-05-02 14:09:35,146] A new study created in memory with name: no-name-a2958f4d-05b6-4c39-87a1-1ea86243ca1d\n",
            "[I 2024-05-02 14:09:35,938] Trial 0 finished with value: 0.855093256814921 and parameters: {'n_estimators': 286, 'learning_rate': 0.022383410687462493, 'algorithm': 'SAMME'}. Best is trial 0 with value: 0.855093256814921.\n",
            "[I 2024-05-02 14:09:38,801] Trial 1 finished with value: 0.8579626972740315 and parameters: {'n_estimators': 877, 'learning_rate': 0.0035902094150256606, 'algorithm': 'SAMME.R'}. Best is trial 1 with value: 0.8579626972740315.\n",
            "[I 2024-05-02 14:09:40,496] Trial 2 finished with value: 0.8644189383070301 and parameters: {'n_estimators': 697, 'learning_rate': 0.028824672368677088, 'algorithm': 'SAMME'}. Best is trial 2 with value: 0.8644189383070301.\n",
            "[I 2024-05-02 14:09:40,744] Trial 3 finished with value: 0.8651362984218077 and parameters: {'n_estimators': 125, 'learning_rate': 0.011329800775348854, 'algorithm': 'SAMME.R'}. Best is trial 3 with value: 0.8651362984218077.\n",
            "[I 2024-05-02 14:09:42,552] Trial 4 finished with value: 0.8845050215208035 and parameters: {'n_estimators': 887, 'learning_rate': 0.03035221601010129, 'algorithm': 'SAMME.R'}. Best is trial 4 with value: 0.8845050215208035.\n",
            "[I 2024-05-02 14:09:44,567] Trial 5 finished with value: 0.851506456241033 and parameters: {'n_estimators': 735, 'learning_rate': 0.0055373867006461245, 'algorithm': 'SAMME'}. Best is trial 4 with value: 0.8845050215208035.\n",
            "[I 2024-05-02 14:09:45,291] Trial 6 finished with value: 0.7647058823529411 and parameters: {'n_estimators': 241, 'learning_rate': 0.001752480476241484, 'algorithm': 'SAMME'}. Best is trial 4 with value: 0.8845050215208035.\n",
            "[I 2024-05-02 14:09:46,596] Trial 7 finished with value: 0.8787661406025825 and parameters: {'n_estimators': 620, 'learning_rate': 0.1475682379151602, 'algorithm': 'SAMME'}. Best is trial 4 with value: 0.8845050215208035.\n",
            "[I 2024-05-02 14:09:47,626] Trial 8 finished with value: 0.851506456241033 and parameters: {'n_estimators': 551, 'learning_rate': 0.00987256924779746, 'algorithm': 'SAMME'}. Best is trial 4 with value: 0.8845050215208035.\n",
            "[I 2024-05-02 14:09:48,769] Trial 9 finished with value: 0.8500717360114778 and parameters: {'n_estimators': 578, 'learning_rate': 0.0031432823120262493, 'algorithm': 'SAMME.R'}. Best is trial 4 with value: 0.8845050215208035.\n",
            "[I 2024-05-02 14:09:50,700] Trial 10 finished with value: 0.8723098995695839 and parameters: {'n_estimators': 983, 'learning_rate': 0.8167543613773051, 'algorithm': 'SAMME.R'}. Best is trial 4 with value: 0.8845050215208035.\n",
            "[I 2024-05-02 14:09:52,296] Trial 11 finished with value: 0.9096126255380201 and parameters: {'n_estimators': 795, 'learning_rate': 0.1427988883402729, 'algorithm': 'SAMME.R'}. Best is trial 11 with value: 0.9096126255380201.\n",
            "[I 2024-05-02 14:09:53,950] Trial 12 finished with value: 0.90961262553802 and parameters: {'n_estimators': 838, 'learning_rate': 0.11065981793153516, 'algorithm': 'SAMME.R'}. Best is trial 11 with value: 0.9096126255380201.\n",
            "[I 2024-05-02 14:09:55,539] Trial 13 finished with value: 0.9110473457675754 and parameters: {'n_estimators': 818, 'learning_rate': 0.1463667504431902, 'algorithm': 'SAMME.R'}. Best is trial 13 with value: 0.9110473457675754.\n",
            "[I 2024-05-02 14:09:56,645] Trial 14 finished with value: 0.9124820659971306 and parameters: {'n_estimators': 407, 'learning_rate': 0.17629758509936175, 'algorithm': 'SAMME.R'}. Best is trial 14 with value: 0.9124820659971306.\n",
            "[I 2024-05-02 14:09:57,942] Trial 15 finished with value: 0.8809182209469153 and parameters: {'n_estimators': 436, 'learning_rate': 0.46679117705805717, 'algorithm': 'SAMME.R'}. Best is trial 14 with value: 0.9124820659971306.\n",
            "[I 2024-05-02 14:09:59,160] Trial 16 finished with value: 0.8830703012912482 and parameters: {'n_estimators': 409, 'learning_rate': 0.07598749364253969, 'algorithm': 'SAMME.R'}. Best is trial 14 with value: 0.9124820659971306.\n",
            "[I 2024-05-02 14:10:00,037] Trial 17 finished with value: 0.8981348637015782 and parameters: {'n_estimators': 443, 'learning_rate': 0.27717871241905373, 'algorithm': 'SAMME.R'}. Best is trial 14 with value: 0.9124820659971306.\n",
            "[I 2024-05-02 14:10:00,664] Trial 18 finished with value: 0.8751793400286945 and parameters: {'n_estimators': 317, 'learning_rate': 0.05695232277030648, 'algorithm': 'SAMME.R'}. Best is trial 14 with value: 0.9124820659971306.\n",
            "[I 2024-05-02 14:10:00,818] Trial 19 finished with value: 0.9017216642754663 and parameters: {'n_estimators': 73, 'learning_rate': 0.30668700111125613, 'algorithm': 'SAMME.R'}. Best is trial 14 with value: 0.9124820659971306.\n",
            "[I 2024-05-02 14:10:02,117] Trial 20 finished with value: 0.8766140602582496 and parameters: {'n_estimators': 658, 'learning_rate': 0.9096091903816764, 'algorithm': 'SAMME.R'}. Best is trial 14 with value: 0.9124820659971306.\n",
            "[I 2024-05-02 14:10:03,661] Trial 21 finished with value: 0.9038737446197992 and parameters: {'n_estimators': 797, 'learning_rate': 0.193435272373364, 'algorithm': 'SAMME.R'}. Best is trial 14 with value: 0.9124820659971306.\n",
            "[I 2024-05-02 14:10:05,543] Trial 22 finished with value: 0.9167862266857962 and parameters: {'n_estimators': 985, 'learning_rate': 0.06581846954425581, 'algorithm': 'SAMME.R'}. Best is trial 22 with value: 0.9167862266857962.\n",
            "[I 2024-05-02 14:10:07,352] Trial 23 finished with value: 0.9038737446197991 and parameters: {'n_estimators': 944, 'learning_rate': 0.05618910117436432, 'algorithm': 'SAMME.R'}. Best is trial 22 with value: 0.9167862266857962.\n",
            "[I 2024-05-02 14:10:09,328] Trial 24 finished with value: 0.9081779053084649 and parameters: {'n_estimators': 981, 'learning_rate': 0.08916317517514444, 'algorithm': 'SAMME.R'}. Best is trial 22 with value: 0.9167862266857962.\n",
            "[I 2024-05-02 14:10:11,449] Trial 25 finished with value: 0.8766140602582496 and parameters: {'n_estimators': 733, 'learning_rate': 0.49432200137721666, 'algorithm': 'SAMME.R'}. Best is trial 22 with value: 0.9167862266857962.\n",
            "[I 2024-05-02 14:10:12,730] Trial 26 finished with value: 0.8830703012912482 and parameters: {'n_estimators': 480, 'learning_rate': 0.045547206539323794, 'algorithm': 'SAMME.R'}. Best is trial 22 with value: 0.9167862266857962.\n",
            "[I 2024-05-02 14:10:13,441] Trial 27 finished with value: 0.8672883787661406 and parameters: {'n_estimators': 364, 'learning_rate': 0.016691531283719474, 'algorithm': 'SAMME.R'}. Best is trial 22 with value: 0.9167862266857962.\n",
            "[I 2024-05-02 14:10:13,842] Trial 28 finished with value: 0.9167862266857962 and parameters: {'n_estimators': 198, 'learning_rate': 0.2139952409567822, 'algorithm': 'SAMME.R'}. Best is trial 22 with value: 0.9167862266857962.\n",
            "[I 2024-05-02 14:10:14,241] Trial 29 finished with value: 0.8744619799139167 and parameters: {'n_estimators': 204, 'learning_rate': 0.25836968864555687, 'algorithm': 'SAMME'}. Best is trial 22 with value: 0.9167862266857962.\n",
            "[I 2024-05-02 14:10:14,784] Trial 30 finished with value: 0.8794835007173601 and parameters: {'n_estimators': 271, 'learning_rate': 0.042242954003352574, 'algorithm': 'SAMME.R'}. Best is trial 22 with value: 0.9167862266857962.\n",
            "[I 2024-05-02 14:10:15,143] Trial 31 finished with value: 0.9110473457675754 and parameters: {'n_estimators': 173, 'learning_rate': 0.1687667910197933, 'algorithm': 'SAMME.R'}. Best is trial 22 with value: 0.9167862266857962.\n",
            "[I 2024-05-02 14:10:16,947] Trial 32 finished with value: 0.8780487804878049 and parameters: {'n_estimators': 925, 'learning_rate': 0.5321587355831752, 'algorithm': 'SAMME.R'}. Best is trial 22 with value: 0.9167862266857962.\n",
            "[I 2024-05-02 14:10:17,616] Trial 33 finished with value: 0.9038737446197991 and parameters: {'n_estimators': 335, 'learning_rate': 0.09523769898700199, 'algorithm': 'SAMME.R'}. Best is trial 22 with value: 0.9167862266857962.\n",
            "[I 2024-05-02 14:10:18,620] Trial 34 finished with value: 0.8923959827833572 and parameters: {'n_estimators': 500, 'learning_rate': 0.3488618571028985, 'algorithm': 'SAMME.R'}. Best is trial 22 with value: 0.9167862266857962.\n",
            "[I 2024-05-02 14:10:20,403] Trial 35 finished with value: 0.8845050215208035 and parameters: {'n_estimators': 887, 'learning_rate': 0.023847887933076524, 'algorithm': 'SAMME.R'}. Best is trial 22 with value: 0.9167862266857962.\n",
            "[I 2024-05-02 14:10:20,543] Trial 36 finished with value: 0.860832137733142 and parameters: {'n_estimators': 66, 'learning_rate': 0.18914693035706612, 'algorithm': 'SAMME'}. Best is trial 22 with value: 0.9167862266857962.\n",
            "[I 2024-05-02 14:10:20,841] Trial 37 finished with value: 0.8837876614060258 and parameters: {'n_estimators': 142, 'learning_rate': 0.06982822469719692, 'algorithm': 'SAMME.R'}. Best is trial 22 with value: 0.9167862266857962.\n",
            "[I 2024-05-02 14:10:22,494] Trial 38 finished with value: 0.9067431850789096 and parameters: {'n_estimators': 826, 'learning_rate': 0.10879899642443004, 'algorithm': 'SAMME.R'}. Best is trial 22 with value: 0.9167862266857962.\n",
            "[I 2024-05-02 14:10:23,966] Trial 39 finished with value: 0.8601147776183644 and parameters: {'n_estimators': 235, 'learning_rate': 0.03682037102948438, 'algorithm': 'SAMME'}. Best is trial 22 with value: 0.9167862266857962.\n",
            "[I 2024-05-02 14:10:25,815] Trial 40 finished with value: 0.7647058823529411 and parameters: {'n_estimators': 609, 'learning_rate': 0.001086597504429057, 'algorithm': 'SAMME.R'}. Best is trial 22 with value: 0.9167862266857962.\n",
            "[I 2024-05-02 14:10:26,152] Trial 41 finished with value: 0.9002869440459111 and parameters: {'n_estimators': 151, 'learning_rate': 0.17600965966426774, 'algorithm': 'SAMME.R'}. Best is trial 22 with value: 0.9167862266857962.\n",
            "[I 2024-05-02 14:10:26,952] Trial 42 finished with value: 0.9139167862266858 and parameters: {'n_estimators': 382, 'learning_rate': 0.13383403427009763, 'algorithm': 'SAMME.R'}. Best is trial 22 with value: 0.9167862266857962.\n",
            "[I 2024-05-02 14:10:27,758] Trial 43 finished with value: 0.9139167862266858 and parameters: {'n_estimators': 376, 'learning_rate': 0.1282269816169189, 'algorithm': 'SAMME.R'}. Best is trial 22 with value: 0.9167862266857962.\n",
            "[I 2024-05-02 14:10:28,595] Trial 44 finished with value: 0.9110473457675754 and parameters: {'n_estimators': 404, 'learning_rate': 0.11857552366275888, 'algorithm': 'SAMME.R'}. Best is trial 22 with value: 0.9167862266857962.\n",
            "[I 2024-05-02 14:10:29,298] Trial 45 finished with value: 0.8794835007173601 and parameters: {'n_estimators': 369, 'learning_rate': 0.2368130534891632, 'algorithm': 'SAMME'}. Best is trial 22 with value: 0.9167862266857962.\n",
            "[I 2024-05-02 14:10:30,363] Trial 46 finished with value: 0.8823529411764706 and parameters: {'n_estimators': 534, 'learning_rate': 0.4230528259715108, 'algorithm': 'SAMME.R'}. Best is trial 22 with value: 0.9167862266857962.\n",
            "[I 2024-05-02 14:10:30,908] Trial 47 finished with value: 0.8751793400286945 and parameters: {'n_estimators': 277, 'learning_rate': 0.06759473006875436, 'algorithm': 'SAMME.R'}. Best is trial 22 with value: 0.9167862266857962.\n",
            "[I 2024-05-02 14:10:31,845] Trial 48 finished with value: 0.8794835007173601 and parameters: {'n_estimators': 468, 'learning_rate': 0.6658824322620096, 'algorithm': 'SAMME.R'}. Best is trial 22 with value: 0.9167862266857962.\n",
            "[I 2024-05-02 14:10:32,461] Trial 49 finished with value: 0.8766140602582496 and parameters: {'n_estimators': 308, 'learning_rate': 0.029364425930404465, 'algorithm': 'SAMME.R'}. Best is trial 22 with value: 0.9167862266857962.\n",
            "[I 2024-05-02 14:10:33,549] Trial 50 finished with value: 0.8522238163558107 and parameters: {'n_estimators': 569, 'learning_rate': 0.014053710807336714, 'algorithm': 'SAMME'}. Best is trial 22 with value: 0.9167862266857962.\n",
            "[I 2024-05-02 14:10:34,305] Trial 51 finished with value: 0.9153515064562411 and parameters: {'n_estimators': 373, 'learning_rate': 0.1381450967346068, 'algorithm': 'SAMME.R'}. Best is trial 22 with value: 0.9167862266857962.\n",
            "[I 2024-05-02 14:10:35,097] Trial 52 finished with value: 0.9139167862266858 and parameters: {'n_estimators': 397, 'learning_rate': 0.12530386557617276, 'algorithm': 'SAMME.R'}. Best is trial 22 with value: 0.9167862266857962.\n",
            "[I 2024-05-02 14:10:35,802] Trial 53 finished with value: 0.9139167862266857 and parameters: {'n_estimators': 353, 'learning_rate': 0.12305913042356309, 'algorithm': 'SAMME.R'}. Best is trial 22 with value: 0.9167862266857962.\n",
            "[I 2024-05-02 14:10:36,538] Trial 54 finished with value: 0.9124820659971306 and parameters: {'n_estimators': 249, 'learning_rate': 0.23172172577354164, 'algorithm': 'SAMME.R'}. Best is trial 22 with value: 0.9167862266857962.\n",
            "[I 2024-05-02 14:10:37,670] Trial 55 finished with value: 0.9153515064562411 and parameters: {'n_estimators': 383, 'learning_rate': 0.13836889481744635, 'algorithm': 'SAMME.R'}. Best is trial 22 with value: 0.9167862266857962.\n",
            "[I 2024-05-02 14:10:38,307] Trial 56 finished with value: 0.8794835007173601 and parameters: {'n_estimators': 207, 'learning_rate': 0.08520013722820458, 'algorithm': 'SAMME.R'}. Best is trial 22 with value: 0.9167862266857962.\n",
            "[I 2024-05-02 14:10:39,497] Trial 57 finished with value: 0.8837876614060258 and parameters: {'n_estimators': 446, 'learning_rate': 0.3665036729881871, 'algorithm': 'SAMME.R'}. Best is trial 22 with value: 0.9167862266857962.\n",
            "[I 2024-05-02 14:10:39,702] Trial 58 finished with value: 0.7647058823529411 and parameters: {'n_estimators': 96, 'learning_rate': 0.008679978016695478, 'algorithm': 'SAMME.R'}. Best is trial 22 with value: 0.9167862266857962.\n",
            "[I 2024-05-02 14:10:40,766] Trial 59 finished with value: 0.8830703012912482 and parameters: {'n_estimators': 525, 'learning_rate': 0.053798672656525194, 'algorithm': 'SAMME.R'}. Best is trial 22 with value: 0.9167862266857962.\n",
            "[I 2024-05-02 14:10:41,374] Trial 60 finished with value: 0.9110473457675753 and parameters: {'n_estimators': 308, 'learning_rate': 0.1531461022500327, 'algorithm': 'SAMME.R'}. Best is trial 22 with value: 0.9167862266857962.\n",
            "[I 2024-05-02 14:10:42,180] Trial 61 finished with value: 0.9196556671449068 and parameters: {'n_estimators': 410, 'learning_rate': 0.13278561170916361, 'algorithm': 'SAMME.R'}. Best is trial 61 with value: 0.9196556671449068.\n",
            "[I 2024-05-02 14:10:42,928] Trial 62 finished with value: 0.8902439024390244 and parameters: {'n_estimators': 379, 'learning_rate': 0.08996430856844005, 'algorithm': 'SAMME.R'}. Best is trial 61 with value: 0.9196556671449068.\n",
            "[I 2024-05-02 14:10:43,811] Trial 63 finished with value: 0.9067431850789096 and parameters: {'n_estimators': 441, 'learning_rate': 0.2081987521721986, 'algorithm': 'SAMME.R'}. Best is trial 61 with value: 0.9196556671449068.\n",
            "[I 2024-05-02 14:10:45,130] Trial 64 finished with value: 0.8880918220946915 and parameters: {'n_estimators': 676, 'learning_rate': 0.30290662247815625, 'algorithm': 'SAMME.R'}. Best is trial 61 with value: 0.9196556671449068.\n",
            "[I 2024-05-02 14:10:45,799] Trial 65 finished with value: 0.8787661406025825 and parameters: {'n_estimators': 328, 'learning_rate': 0.06791338721876584, 'algorithm': 'SAMME.R'}. Best is trial 61 with value: 0.9196556671449068.\n",
            "[I 2024-05-02 14:10:46,802] Trial 66 finished with value: 0.9139167862266858 and parameters: {'n_estimators': 504, 'learning_rate': 0.14431144890317402, 'algorithm': 'SAMME.R'}. Best is trial 61 with value: 0.9196556671449068.\n",
            "[I 2024-05-02 14:10:47,636] Trial 67 finished with value: 0.9038737446197991 and parameters: {'n_estimators': 418, 'learning_rate': 0.10306013313863256, 'algorithm': 'SAMME.R'}. Best is trial 61 with value: 0.9196556671449068.\n",
            "[I 2024-05-02 14:10:48,543] Trial 68 finished with value: 0.8629842180774749 and parameters: {'n_estimators': 483, 'learning_rate': 0.05619990461432659, 'algorithm': 'SAMME'}. Best is trial 61 with value: 0.9196556671449068.\n",
            "[I 2024-05-02 14:10:49,321] Trial 69 finished with value: 0.9196556671449068 and parameters: {'n_estimators': 354, 'learning_rate': 0.1434743075589212, 'algorithm': 'SAMME.R'}. Best is trial 61 with value: 0.9196556671449068.\n",
            "[I 2024-05-02 14:10:50,171] Trial 70 finished with value: 0.9081779053084649 and parameters: {'n_estimators': 286, 'learning_rate': 0.25658009627598355, 'algorithm': 'SAMME.R'}. Best is trial 61 with value: 0.9196556671449068.\n",
            "[I 2024-05-02 14:10:51,201] Trial 71 finished with value: 0.9110473457675753 and parameters: {'n_estimators': 356, 'learning_rate': 0.1360537295630738, 'algorithm': 'SAMME.R'}. Best is trial 61 with value: 0.9196556671449068.\n",
            "[I 2024-05-02 14:10:52,364] Trial 72 finished with value: 0.8830703012912482 and parameters: {'n_estimators': 383, 'learning_rate': 0.07969977311733614, 'algorithm': 'SAMME.R'}. Best is trial 61 with value: 0.9196556671449068.\n",
            "[I 2024-05-02 14:10:53,030] Trial 73 finished with value: 0.9081779053084649 and parameters: {'n_estimators': 335, 'learning_rate': 0.2063269706363049, 'algorithm': 'SAMME.R'}. Best is trial 61 with value: 0.9196556671449068.\n",
            "[I 2024-05-02 14:10:53,931] Trial 74 finished with value: 0.9067431850789096 and parameters: {'n_estimators': 428, 'learning_rate': 0.1096635134927487, 'algorithm': 'SAMME.R'}. Best is trial 61 with value: 0.9196556671449068.\n",
            "[I 2024-05-02 14:10:54,365] Trial 75 finished with value: 0.9038737446197991 and parameters: {'n_estimators': 195, 'learning_rate': 0.1681377934500184, 'algorithm': 'SAMME.R'}. Best is trial 61 with value: 0.9196556671449068.\n",
            "[I 2024-05-02 14:10:54,917] Trial 76 finished with value: 0.8981348637015782 and parameters: {'n_estimators': 248, 'learning_rate': 0.3606771761966755, 'algorithm': 'SAMME.R'}. Best is trial 61 with value: 0.9196556671449068.\n",
            "[I 2024-05-02 14:10:56,362] Trial 77 finished with value: 0.8859397417503587 and parameters: {'n_estimators': 733, 'learning_rate': 0.04392470203047934, 'algorithm': 'SAMME.R'}. Best is trial 61 with value: 0.9196556671449068.\n",
            "[I 2024-05-02 14:10:57,641] Trial 78 finished with value: 0.9096126255380201 and parameters: {'n_estimators': 621, 'learning_rate': 0.14759266753131878, 'algorithm': 'SAMME.R'}. Best is trial 61 with value: 0.9196556671449068.\n",
            "[I 2024-05-02 14:10:58,422] Trial 79 finished with value: 0.9110473457675754 and parameters: {'n_estimators': 394, 'learning_rate': 0.09715527446038241, 'algorithm': 'SAMME.R'}. Best is trial 61 with value: 0.9196556671449068.\n",
            "[I 2024-05-02 14:10:58,987] Trial 80 finished with value: 0.8615494978479197 and parameters: {'n_estimators': 295, 'learning_rate': 0.07478247169919533, 'algorithm': 'SAMME'}. Best is trial 61 with value: 0.9196556671449068.\n",
            "[I 2024-05-02 14:10:59,896] Trial 81 finished with value: 0.9196556671449068 and parameters: {'n_estimators': 465, 'learning_rate': 0.1271499829403118, 'algorithm': 'SAMME.R'}. Best is trial 61 with value: 0.9196556671449068.\n",
            "[I 2024-05-02 14:11:00,782] Trial 82 finished with value: 0.9053084648493543 and parameters: {'n_estimators': 459, 'learning_rate': 0.18411821330387498, 'algorithm': 'SAMME.R'}. Best is trial 61 with value: 0.9196556671449068.\n",
            "[I 2024-05-02 14:11:01,609] Trial 83 finished with value: 0.9139167862266858 and parameters: {'n_estimators': 419, 'learning_rate': 0.12623246020267548, 'algorithm': 'SAMME.R'}. Best is trial 61 with value: 0.9196556671449068.\n",
            "[I 2024-05-02 14:11:02,318] Trial 84 finished with value: 0.8981348637015782 and parameters: {'n_estimators': 356, 'learning_rate': 0.3037516515434899, 'algorithm': 'SAMME.R'}. Best is trial 61 with value: 0.9196556671449068.\n",
            "[I 2024-05-02 14:11:03,666] Trial 85 finished with value: 0.9024390243902438 and parameters: {'n_estimators': 464, 'learning_rate': 0.22455202226262022, 'algorithm': 'SAMME.R'}. Best is trial 61 with value: 0.9196556671449068.\n",
            "[I 2024-05-02 14:11:05,158] Trial 86 finished with value: 0.9124820659971306 and parameters: {'n_estimators': 505, 'learning_rate': 0.16494122862673463, 'algorithm': 'SAMME.R'}. Best is trial 61 with value: 0.9196556671449068.\n",
            "[I 2024-05-02 14:11:06,010] Trial 87 finished with value: 0.9067431850789096 and parameters: {'n_estimators': 342, 'learning_rate': 0.10556508691741233, 'algorithm': 'SAMME.R'}. Best is trial 61 with value: 0.9196556671449068.\n",
            "[I 2024-05-02 14:11:06,758] Trial 88 finished with value: 0.8787661406025825 and parameters: {'n_estimators': 380, 'learning_rate': 0.06416465111997886, 'algorithm': 'SAMME.R'}. Best is trial 61 with value: 0.9196556671449068.\n",
            "[I 2024-05-02 14:11:07,862] Trial 89 finished with value: 0.8500717360114778 and parameters: {'n_estimators': 565, 'learning_rate': 0.0035170912724877953, 'algorithm': 'SAMME.R'}. Best is trial 61 with value: 0.9196556671449068.\n",
            "[I 2024-05-02 14:11:09,541] Trial 90 finished with value: 0.9038737446197991 and parameters: {'n_estimators': 864, 'learning_rate': 0.05064600501837518, 'algorithm': 'SAMME.R'}. Best is trial 61 with value: 0.9196556671449068.\n",
            "[I 2024-05-02 14:11:10,375] Trial 91 finished with value: 0.9153515064562411 and parameters: {'n_estimators': 409, 'learning_rate': 0.1268103089521581, 'algorithm': 'SAMME.R'}. Best is trial 61 with value: 0.9196556671449068.\n",
            "[I 2024-05-02 14:11:11,247] Trial 92 finished with value: 0.8895265423242468 and parameters: {'n_estimators': 418, 'learning_rate': 0.08953207973958963, 'algorithm': 'SAMME.R'}. Best is trial 61 with value: 0.9196556671449068.\n",
            "[I 2024-05-02 14:11:12,104] Trial 93 finished with value: 0.9139167862266858 and parameters: {'n_estimators': 445, 'learning_rate': 0.12368665207895271, 'algorithm': 'SAMME.R'}. Best is trial 61 with value: 0.9196556671449068.\n",
            "[I 2024-05-02 14:11:12,729] Trial 94 finished with value: 0.9196556671449068 and parameters: {'n_estimators': 315, 'learning_rate': 0.1909275049057238, 'algorithm': 'SAMME.R'}. Best is trial 61 with value: 0.9196556671449068.\n",
            "[I 2024-05-02 14:11:13,365] Trial 95 finished with value: 0.9182209469153515 and parameters: {'n_estimators': 314, 'learning_rate': 0.19442029705277114, 'algorithm': 'SAMME.R'}. Best is trial 61 with value: 0.9196556671449068.\n",
            "[I 2024-05-02 14:11:13,902] Trial 96 finished with value: 0.87948350071736 and parameters: {'n_estimators': 268, 'learning_rate': 0.036437466133511016, 'algorithm': 'SAMME.R'}. Best is trial 61 with value: 0.9196556671449068.\n",
            "[I 2024-05-02 14:11:14,534] Trial 97 finished with value: 0.9010043041606887 and parameters: {'n_estimators': 311, 'learning_rate': 0.25893135065528683, 'algorithm': 'SAMME.R'}. Best is trial 61 with value: 0.9196556671449068.\n",
            "[I 2024-05-02 14:11:14,961] Trial 98 finished with value: 0.8715925394548063 and parameters: {'n_estimators': 228, 'learning_rate': 0.20077666371956296, 'algorithm': 'SAMME'}. Best is trial 61 with value: 0.9196556671449068.\n",
            "[I 2024-05-02 14:11:16,962] Trial 99 finished with value: 0.8837876614060258 and parameters: {'n_estimators': 757, 'learning_rate': 0.4209062246223225, 'algorithm': 'SAMME.R'}. Best is trial 61 with value: 0.9196556671449068.\n"
          ]
        }
      ]
    },
    {
      "cell_type": "code",
      "source": [
        "print('Best AUC score: {:.5f}'.format(study.best_value))"
      ],
      "metadata": {
        "colab": {
          "base_uri": "https://localhost:8080/"
        },
        "id": "2w9AYzeZo5t-",
        "outputId": "c2f3b770-7cb8-4761-8fd1-88d4b47976d6"
      },
      "execution_count": null,
      "outputs": [
        {
          "output_type": "stream",
          "name": "stdout",
          "text": [
            "Best AUC score: 0.91966\n"
          ]
        }
      ]
    },
    {
      "cell_type": "code",
      "source": [
        "print('Best Params: ')\n",
        "ada_params = study.best_params\n",
        "ada_params"
      ],
      "metadata": {
        "colab": {
          "base_uri": "https://localhost:8080/"
        },
        "id": "Yyj969lkpakE",
        "outputId": "7f801242-5636-4316-b6f0-72d893f9f83a"
      },
      "execution_count": null,
      "outputs": [
        {
          "output_type": "stream",
          "name": "stdout",
          "text": [
            "Best Params: \n"
          ]
        },
        {
          "output_type": "execute_result",
          "data": {
            "text/plain": [
              "{'n_estimators': 410,\n",
              " 'learning_rate': 0.13278561170916361,\n",
              " 'algorithm': 'SAMME.R'}"
            ]
          },
          "metadata": {},
          "execution_count": 48
        }
      ]
    },
    {
      "cell_type": "code",
      "source": [
        "optuna.visualization.plot_optimization_history(study)"
      ],
      "metadata": {
        "colab": {
          "base_uri": "https://localhost:8080/",
          "height": 542
        },
        "id": "vzLuniqApc1O",
        "outputId": "a92afc72-9cf8-4f06-c979-9927ba166087"
      },
      "execution_count": null,
      "outputs": [
        {
          "output_type": "display_data",
          "data": {
            "text/html": [
              "<html>\n",
              "<head><meta charset=\"utf-8\" /></head>\n",
              "<body>\n",
              "    <div>            <script src=\"https://cdnjs.cloudflare.com/ajax/libs/mathjax/2.7.5/MathJax.js?config=TeX-AMS-MML_SVG\"></script><script type=\"text/javascript\">if (window.MathJax && window.MathJax.Hub && window.MathJax.Hub.Config) {window.MathJax.Hub.Config({SVG: {font: \"STIX-Web\"}});}</script>                <script type=\"text/javascript\">window.PlotlyConfig = {MathJaxConfig: 'local'};</script>\n",
              "        <script charset=\"utf-8\" src=\"https://cdn.plot.ly/plotly-2.24.1.min.js\"></script>                <div id=\"55775aa3-7c9b-4e1c-85e2-12ceb7c0ddbe\" class=\"plotly-graph-div\" style=\"height:525px; width:100%;\"></div>            <script type=\"text/javascript\">                                    window.PLOTLYENV=window.PLOTLYENV || {};                                    if (document.getElementById(\"55775aa3-7c9b-4e1c-85e2-12ceb7c0ddbe\")) {                    Plotly.newPlot(                        \"55775aa3-7c9b-4e1c-85e2-12ceb7c0ddbe\",                        [{\"mode\":\"markers\",\"name\":\"Objective Value\",\"x\":[0,1,2,3,4,5,6,7,8,9,10,11,12,13,14,15,16,17,18,19,20,21,22,23,24,25,26,27,28,29,30,31,32,33,34,35,36,37,38,39,40,41,42,43,44,45,46,47,48,49,50,51,52,53,54,55,56,57,58,59,60,61,62,63,64,65,66,67,68,69,70,71,72,73,74,75,76,77,78,79,80,81,82,83,84,85,86,87,88,89,90,91,92,93,94,95,96,97,98,99],\"y\":[0.855093256814921,0.8579626972740315,0.8644189383070301,0.8651362984218077,0.8845050215208035,0.851506456241033,0.7647058823529411,0.8787661406025825,0.851506456241033,0.8500717360114778,0.8723098995695839,0.9096126255380201,0.90961262553802,0.9110473457675754,0.9124820659971306,0.8809182209469153,0.8830703012912482,0.8981348637015782,0.8751793400286945,0.9017216642754663,0.8766140602582496,0.9038737446197992,0.9167862266857962,0.9038737446197991,0.9081779053084649,0.8766140602582496,0.8830703012912482,0.8672883787661406,0.9167862266857962,0.8744619799139167,0.8794835007173601,0.9110473457675754,0.8780487804878049,0.9038737446197991,0.8923959827833572,0.8845050215208035,0.860832137733142,0.8837876614060258,0.9067431850789096,0.8601147776183644,0.7647058823529411,0.9002869440459111,0.9139167862266858,0.9139167862266858,0.9110473457675754,0.8794835007173601,0.8823529411764706,0.8751793400286945,0.8794835007173601,0.8766140602582496,0.8522238163558107,0.9153515064562411,0.9139167862266858,0.9139167862266857,0.9124820659971306,0.9153515064562411,0.8794835007173601,0.8837876614060258,0.7647058823529411,0.8830703012912482,0.9110473457675753,0.9196556671449068,0.8902439024390244,0.9067431850789096,0.8880918220946915,0.8787661406025825,0.9139167862266858,0.9038737446197991,0.8629842180774749,0.9196556671449068,0.9081779053084649,0.9110473457675753,0.8830703012912482,0.9081779053084649,0.9067431850789096,0.9038737446197991,0.8981348637015782,0.8859397417503587,0.9096126255380201,0.9110473457675754,0.8615494978479197,0.9196556671449068,0.9053084648493543,0.9139167862266858,0.8981348637015782,0.9024390243902438,0.9124820659971306,0.9067431850789096,0.8787661406025825,0.8500717360114778,0.9038737446197991,0.9153515064562411,0.8895265423242468,0.9139167862266858,0.9196556671449068,0.9182209469153515,0.87948350071736,0.9010043041606887,0.8715925394548063,0.8837876614060258],\"type\":\"scatter\"},{\"mode\":\"lines\",\"name\":\"Best Value\",\"x\":[0,1,2,3,4,5,6,7,8,9,10,11,12,13,14,15,16,17,18,19,20,21,22,23,24,25,26,27,28,29,30,31,32,33,34,35,36,37,38,39,40,41,42,43,44,45,46,47,48,49,50,51,52,53,54,55,56,57,58,59,60,61,62,63,64,65,66,67,68,69,70,71,72,73,74,75,76,77,78,79,80,81,82,83,84,85,86,87,88,89,90,91,92,93,94,95,96,97,98,99],\"y\":[0.855093256814921,0.8579626972740315,0.8644189383070301,0.8651362984218077,0.8845050215208035,0.8845050215208035,0.8845050215208035,0.8845050215208035,0.8845050215208035,0.8845050215208035,0.8845050215208035,0.9096126255380201,0.9096126255380201,0.9110473457675754,0.9124820659971306,0.9124820659971306,0.9124820659971306,0.9124820659971306,0.9124820659971306,0.9124820659971306,0.9124820659971306,0.9124820659971306,0.9167862266857962,0.9167862266857962,0.9167862266857962,0.9167862266857962,0.9167862266857962,0.9167862266857962,0.9167862266857962,0.9167862266857962,0.9167862266857962,0.9167862266857962,0.9167862266857962,0.9167862266857962,0.9167862266857962,0.9167862266857962,0.9167862266857962,0.9167862266857962,0.9167862266857962,0.9167862266857962,0.9167862266857962,0.9167862266857962,0.9167862266857962,0.9167862266857962,0.9167862266857962,0.9167862266857962,0.9167862266857962,0.9167862266857962,0.9167862266857962,0.9167862266857962,0.9167862266857962,0.9167862266857962,0.9167862266857962,0.9167862266857962,0.9167862266857962,0.9167862266857962,0.9167862266857962,0.9167862266857962,0.9167862266857962,0.9167862266857962,0.9167862266857962,0.9196556671449068,0.9196556671449068,0.9196556671449068,0.9196556671449068,0.9196556671449068,0.9196556671449068,0.9196556671449068,0.9196556671449068,0.9196556671449068,0.9196556671449068,0.9196556671449068,0.9196556671449068,0.9196556671449068,0.9196556671449068,0.9196556671449068,0.9196556671449068,0.9196556671449068,0.9196556671449068,0.9196556671449068,0.9196556671449068,0.9196556671449068,0.9196556671449068,0.9196556671449068,0.9196556671449068,0.9196556671449068,0.9196556671449068,0.9196556671449068,0.9196556671449068,0.9196556671449068,0.9196556671449068,0.9196556671449068,0.9196556671449068,0.9196556671449068,0.9196556671449068,0.9196556671449068,0.9196556671449068,0.9196556671449068,0.9196556671449068,0.9196556671449068],\"type\":\"scatter\"},{\"marker\":{\"color\":\"#cccccc\"},\"mode\":\"markers\",\"name\":\"Infeasible Trial\",\"showlegend\":false,\"x\":[],\"y\":[],\"type\":\"scatter\"}],                        {\"title\":{\"text\":\"Optimization History Plot\"},\"xaxis\":{\"title\":{\"text\":\"Trial\"}},\"yaxis\":{\"title\":{\"text\":\"Objective Value\"}},\"template\":{\"data\":{\"histogram2dcontour\":[{\"type\":\"histogram2dcontour\",\"colorbar\":{\"outlinewidth\":0,\"ticks\":\"\"},\"colorscale\":[[0.0,\"#0d0887\"],[0.1111111111111111,\"#46039f\"],[0.2222222222222222,\"#7201a8\"],[0.3333333333333333,\"#9c179e\"],[0.4444444444444444,\"#bd3786\"],[0.5555555555555556,\"#d8576b\"],[0.6666666666666666,\"#ed7953\"],[0.7777777777777778,\"#fb9f3a\"],[0.8888888888888888,\"#fdca26\"],[1.0,\"#f0f921\"]]}],\"choropleth\":[{\"type\":\"choropleth\",\"colorbar\":{\"outlinewidth\":0,\"ticks\":\"\"}}],\"histogram2d\":[{\"type\":\"histogram2d\",\"colorbar\":{\"outlinewidth\":0,\"ticks\":\"\"},\"colorscale\":[[0.0,\"#0d0887\"],[0.1111111111111111,\"#46039f\"],[0.2222222222222222,\"#7201a8\"],[0.3333333333333333,\"#9c179e\"],[0.4444444444444444,\"#bd3786\"],[0.5555555555555556,\"#d8576b\"],[0.6666666666666666,\"#ed7953\"],[0.7777777777777778,\"#fb9f3a\"],[0.8888888888888888,\"#fdca26\"],[1.0,\"#f0f921\"]]}],\"heatmap\":[{\"type\":\"heatmap\",\"colorbar\":{\"outlinewidth\":0,\"ticks\":\"\"},\"colorscale\":[[0.0,\"#0d0887\"],[0.1111111111111111,\"#46039f\"],[0.2222222222222222,\"#7201a8\"],[0.3333333333333333,\"#9c179e\"],[0.4444444444444444,\"#bd3786\"],[0.5555555555555556,\"#d8576b\"],[0.6666666666666666,\"#ed7953\"],[0.7777777777777778,\"#fb9f3a\"],[0.8888888888888888,\"#fdca26\"],[1.0,\"#f0f921\"]]}],\"heatmapgl\":[{\"type\":\"heatmapgl\",\"colorbar\":{\"outlinewidth\":0,\"ticks\":\"\"},\"colorscale\":[[0.0,\"#0d0887\"],[0.1111111111111111,\"#46039f\"],[0.2222222222222222,\"#7201a8\"],[0.3333333333333333,\"#9c179e\"],[0.4444444444444444,\"#bd3786\"],[0.5555555555555556,\"#d8576b\"],[0.6666666666666666,\"#ed7953\"],[0.7777777777777778,\"#fb9f3a\"],[0.8888888888888888,\"#fdca26\"],[1.0,\"#f0f921\"]]}],\"contourcarpet\":[{\"type\":\"contourcarpet\",\"colorbar\":{\"outlinewidth\":0,\"ticks\":\"\"}}],\"contour\":[{\"type\":\"contour\",\"colorbar\":{\"outlinewidth\":0,\"ticks\":\"\"},\"colorscale\":[[0.0,\"#0d0887\"],[0.1111111111111111,\"#46039f\"],[0.2222222222222222,\"#7201a8\"],[0.3333333333333333,\"#9c179e\"],[0.4444444444444444,\"#bd3786\"],[0.5555555555555556,\"#d8576b\"],[0.6666666666666666,\"#ed7953\"],[0.7777777777777778,\"#fb9f3a\"],[0.8888888888888888,\"#fdca26\"],[1.0,\"#f0f921\"]]}],\"surface\":[{\"type\":\"surface\",\"colorbar\":{\"outlinewidth\":0,\"ticks\":\"\"},\"colorscale\":[[0.0,\"#0d0887\"],[0.1111111111111111,\"#46039f\"],[0.2222222222222222,\"#7201a8\"],[0.3333333333333333,\"#9c179e\"],[0.4444444444444444,\"#bd3786\"],[0.5555555555555556,\"#d8576b\"],[0.6666666666666666,\"#ed7953\"],[0.7777777777777778,\"#fb9f3a\"],[0.8888888888888888,\"#fdca26\"],[1.0,\"#f0f921\"]]}],\"mesh3d\":[{\"type\":\"mesh3d\",\"colorbar\":{\"outlinewidth\":0,\"ticks\":\"\"}}],\"scatter\":[{\"fillpattern\":{\"fillmode\":\"overlay\",\"size\":10,\"solidity\":0.2},\"type\":\"scatter\"}],\"parcoords\":[{\"type\":\"parcoords\",\"line\":{\"colorbar\":{\"outlinewidth\":0,\"ticks\":\"\"}}}],\"scatterpolargl\":[{\"type\":\"scatterpolargl\",\"marker\":{\"colorbar\":{\"outlinewidth\":0,\"ticks\":\"\"}}}],\"bar\":[{\"error_x\":{\"color\":\"#2a3f5f\"},\"error_y\":{\"color\":\"#2a3f5f\"},\"marker\":{\"line\":{\"color\":\"#E5ECF6\",\"width\":0.5},\"pattern\":{\"fillmode\":\"overlay\",\"size\":10,\"solidity\":0.2}},\"type\":\"bar\"}],\"scattergeo\":[{\"type\":\"scattergeo\",\"marker\":{\"colorbar\":{\"outlinewidth\":0,\"ticks\":\"\"}}}],\"scatterpolar\":[{\"type\":\"scatterpolar\",\"marker\":{\"colorbar\":{\"outlinewidth\":0,\"ticks\":\"\"}}}],\"histogram\":[{\"marker\":{\"pattern\":{\"fillmode\":\"overlay\",\"size\":10,\"solidity\":0.2}},\"type\":\"histogram\"}],\"scattergl\":[{\"type\":\"scattergl\",\"marker\":{\"colorbar\":{\"outlinewidth\":0,\"ticks\":\"\"}}}],\"scatter3d\":[{\"type\":\"scatter3d\",\"line\":{\"colorbar\":{\"outlinewidth\":0,\"ticks\":\"\"}},\"marker\":{\"colorbar\":{\"outlinewidth\":0,\"ticks\":\"\"}}}],\"scattermapbox\":[{\"type\":\"scattermapbox\",\"marker\":{\"colorbar\":{\"outlinewidth\":0,\"ticks\":\"\"}}}],\"scatterternary\":[{\"type\":\"scatterternary\",\"marker\":{\"colorbar\":{\"outlinewidth\":0,\"ticks\":\"\"}}}],\"scattercarpet\":[{\"type\":\"scattercarpet\",\"marker\":{\"colorbar\":{\"outlinewidth\":0,\"ticks\":\"\"}}}],\"carpet\":[{\"aaxis\":{\"endlinecolor\":\"#2a3f5f\",\"gridcolor\":\"white\",\"linecolor\":\"white\",\"minorgridcolor\":\"white\",\"startlinecolor\":\"#2a3f5f\"},\"baxis\":{\"endlinecolor\":\"#2a3f5f\",\"gridcolor\":\"white\",\"linecolor\":\"white\",\"minorgridcolor\":\"white\",\"startlinecolor\":\"#2a3f5f\"},\"type\":\"carpet\"}],\"table\":[{\"cells\":{\"fill\":{\"color\":\"#EBF0F8\"},\"line\":{\"color\":\"white\"}},\"header\":{\"fill\":{\"color\":\"#C8D4E3\"},\"line\":{\"color\":\"white\"}},\"type\":\"table\"}],\"barpolar\":[{\"marker\":{\"line\":{\"color\":\"#E5ECF6\",\"width\":0.5},\"pattern\":{\"fillmode\":\"overlay\",\"size\":10,\"solidity\":0.2}},\"type\":\"barpolar\"}],\"pie\":[{\"automargin\":true,\"type\":\"pie\"}]},\"layout\":{\"autotypenumbers\":\"strict\",\"colorway\":[\"#636efa\",\"#EF553B\",\"#00cc96\",\"#ab63fa\",\"#FFA15A\",\"#19d3f3\",\"#FF6692\",\"#B6E880\",\"#FF97FF\",\"#FECB52\"],\"font\":{\"color\":\"#2a3f5f\"},\"hovermode\":\"closest\",\"hoverlabel\":{\"align\":\"left\"},\"paper_bgcolor\":\"white\",\"plot_bgcolor\":\"#E5ECF6\",\"polar\":{\"bgcolor\":\"#E5ECF6\",\"angularaxis\":{\"gridcolor\":\"white\",\"linecolor\":\"white\",\"ticks\":\"\"},\"radialaxis\":{\"gridcolor\":\"white\",\"linecolor\":\"white\",\"ticks\":\"\"}},\"ternary\":{\"bgcolor\":\"#E5ECF6\",\"aaxis\":{\"gridcolor\":\"white\",\"linecolor\":\"white\",\"ticks\":\"\"},\"baxis\":{\"gridcolor\":\"white\",\"linecolor\":\"white\",\"ticks\":\"\"},\"caxis\":{\"gridcolor\":\"white\",\"linecolor\":\"white\",\"ticks\":\"\"}},\"coloraxis\":{\"colorbar\":{\"outlinewidth\":0,\"ticks\":\"\"}},\"colorscale\":{\"sequential\":[[0.0,\"#0d0887\"],[0.1111111111111111,\"#46039f\"],[0.2222222222222222,\"#7201a8\"],[0.3333333333333333,\"#9c179e\"],[0.4444444444444444,\"#bd3786\"],[0.5555555555555556,\"#d8576b\"],[0.6666666666666666,\"#ed7953\"],[0.7777777777777778,\"#fb9f3a\"],[0.8888888888888888,\"#fdca26\"],[1.0,\"#f0f921\"]],\"sequentialminus\":[[0.0,\"#0d0887\"],[0.1111111111111111,\"#46039f\"],[0.2222222222222222,\"#7201a8\"],[0.3333333333333333,\"#9c179e\"],[0.4444444444444444,\"#bd3786\"],[0.5555555555555556,\"#d8576b\"],[0.6666666666666666,\"#ed7953\"],[0.7777777777777778,\"#fb9f3a\"],[0.8888888888888888,\"#fdca26\"],[1.0,\"#f0f921\"]],\"diverging\":[[0,\"#8e0152\"],[0.1,\"#c51b7d\"],[0.2,\"#de77ae\"],[0.3,\"#f1b6da\"],[0.4,\"#fde0ef\"],[0.5,\"#f7f7f7\"],[0.6,\"#e6f5d0\"],[0.7,\"#b8e186\"],[0.8,\"#7fbc41\"],[0.9,\"#4d9221\"],[1,\"#276419\"]]},\"xaxis\":{\"gridcolor\":\"white\",\"linecolor\":\"white\",\"ticks\":\"\",\"title\":{\"standoff\":15},\"zerolinecolor\":\"white\",\"automargin\":true,\"zerolinewidth\":2},\"yaxis\":{\"gridcolor\":\"white\",\"linecolor\":\"white\",\"ticks\":\"\",\"title\":{\"standoff\":15},\"zerolinecolor\":\"white\",\"automargin\":true,\"zerolinewidth\":2},\"scene\":{\"xaxis\":{\"backgroundcolor\":\"#E5ECF6\",\"gridcolor\":\"white\",\"linecolor\":\"white\",\"showbackground\":true,\"ticks\":\"\",\"zerolinecolor\":\"white\",\"gridwidth\":2},\"yaxis\":{\"backgroundcolor\":\"#E5ECF6\",\"gridcolor\":\"white\",\"linecolor\":\"white\",\"showbackground\":true,\"ticks\":\"\",\"zerolinecolor\":\"white\",\"gridwidth\":2},\"zaxis\":{\"backgroundcolor\":\"#E5ECF6\",\"gridcolor\":\"white\",\"linecolor\":\"white\",\"showbackground\":true,\"ticks\":\"\",\"zerolinecolor\":\"white\",\"gridwidth\":2}},\"shapedefaults\":{\"line\":{\"color\":\"#2a3f5f\"}},\"annotationdefaults\":{\"arrowcolor\":\"#2a3f5f\",\"arrowhead\":0,\"arrowwidth\":1},\"geo\":{\"bgcolor\":\"white\",\"landcolor\":\"#E5ECF6\",\"subunitcolor\":\"white\",\"showland\":true,\"showlakes\":true,\"lakecolor\":\"white\"},\"title\":{\"x\":0.05},\"mapbox\":{\"style\":\"light\"}}}},                        {\"responsive\": true}                    ).then(function(){\n",
              "                            \n",
              "var gd = document.getElementById('55775aa3-7c9b-4e1c-85e2-12ceb7c0ddbe');\n",
              "var x = new MutationObserver(function (mutations, observer) {{\n",
              "        var display = window.getComputedStyle(gd).display;\n",
              "        if (!display || display === 'none') {{\n",
              "            console.log([gd, 'removed!']);\n",
              "            Plotly.purge(gd);\n",
              "            observer.disconnect();\n",
              "        }}\n",
              "}});\n",
              "\n",
              "// Listen for the removal of the full notebook cells\n",
              "var notebookContainer = gd.closest('#notebook-container');\n",
              "if (notebookContainer) {{\n",
              "    x.observe(notebookContainer, {childList: true});\n",
              "}}\n",
              "\n",
              "// Listen for the clearing of the current output cell\n",
              "var outputEl = gd.closest('.output');\n",
              "if (outputEl) {{\n",
              "    x.observe(outputEl, {childList: true});\n",
              "}}\n",
              "\n",
              "                        })                };                            </script>        </div>\n",
              "</body>\n",
              "</html>"
            ]
          },
          "metadata": {}
        }
      ]
    },
    {
      "cell_type": "code",
      "source": [
        "optuna.visualization.plot_param_importances(study)"
      ],
      "metadata": {
        "colab": {
          "base_uri": "https://localhost:8080/",
          "height": 542
        },
        "id": "jD1YMMITphuw",
        "outputId": "12a5f6ff-4b43-453f-83a2-6451c84aae82"
      },
      "execution_count": null,
      "outputs": [
        {
          "output_type": "display_data",
          "data": {
            "text/html": [
              "<html>\n",
              "<head><meta charset=\"utf-8\" /></head>\n",
              "<body>\n",
              "    <div>            <script src=\"https://cdnjs.cloudflare.com/ajax/libs/mathjax/2.7.5/MathJax.js?config=TeX-AMS-MML_SVG\"></script><script type=\"text/javascript\">if (window.MathJax && window.MathJax.Hub && window.MathJax.Hub.Config) {window.MathJax.Hub.Config({SVG: {font: \"STIX-Web\"}});}</script>                <script type=\"text/javascript\">window.PlotlyConfig = {MathJaxConfig: 'local'};</script>\n",
              "        <script charset=\"utf-8\" src=\"https://cdn.plot.ly/plotly-2.24.1.min.js\"></script>                <div id=\"6c46c39a-3d38-47fc-b98f-25c18dac2054\" class=\"plotly-graph-div\" style=\"height:525px; width:100%;\"></div>            <script type=\"text/javascript\">                                    window.PLOTLYENV=window.PLOTLYENV || {};                                    if (document.getElementById(\"6c46c39a-3d38-47fc-b98f-25c18dac2054\")) {                    Plotly.newPlot(                        \"6c46c39a-3d38-47fc-b98f-25c18dac2054\",                        [{\"cliponaxis\":false,\"hovertemplate\":[\"n_estimators (IntDistribution): 0.0704958496093396\\u003cextra\\u003e\\u003c\\u002fextra\\u003e\",\"algorithm (CategoricalDistribution): 0.19799682925643997\\u003cextra\\u003e\\u003c\\u002fextra\\u003e\",\"learning_rate (FloatDistribution): 0.7315073211342205\\u003cextra\\u003e\\u003c\\u002fextra\\u003e\"],\"name\":\"Objective Value\",\"orientation\":\"h\",\"text\":[\"0.07\",\"0.20\",\"0.73\"],\"textposition\":\"outside\",\"x\":[0.0704958496093396,0.19799682925643997,0.7315073211342205],\"y\":[\"n_estimators\",\"algorithm\",\"learning_rate\"],\"type\":\"bar\"}],                        {\"title\":{\"text\":\"Hyperparameter Importances\"},\"xaxis\":{\"title\":{\"text\":\"Hyperparameter Importance\"}},\"yaxis\":{\"title\":{\"text\":\"Hyperparameter\"}},\"template\":{\"data\":{\"histogram2dcontour\":[{\"type\":\"histogram2dcontour\",\"colorbar\":{\"outlinewidth\":0,\"ticks\":\"\"},\"colorscale\":[[0.0,\"#0d0887\"],[0.1111111111111111,\"#46039f\"],[0.2222222222222222,\"#7201a8\"],[0.3333333333333333,\"#9c179e\"],[0.4444444444444444,\"#bd3786\"],[0.5555555555555556,\"#d8576b\"],[0.6666666666666666,\"#ed7953\"],[0.7777777777777778,\"#fb9f3a\"],[0.8888888888888888,\"#fdca26\"],[1.0,\"#f0f921\"]]}],\"choropleth\":[{\"type\":\"choropleth\",\"colorbar\":{\"outlinewidth\":0,\"ticks\":\"\"}}],\"histogram2d\":[{\"type\":\"histogram2d\",\"colorbar\":{\"outlinewidth\":0,\"ticks\":\"\"},\"colorscale\":[[0.0,\"#0d0887\"],[0.1111111111111111,\"#46039f\"],[0.2222222222222222,\"#7201a8\"],[0.3333333333333333,\"#9c179e\"],[0.4444444444444444,\"#bd3786\"],[0.5555555555555556,\"#d8576b\"],[0.6666666666666666,\"#ed7953\"],[0.7777777777777778,\"#fb9f3a\"],[0.8888888888888888,\"#fdca26\"],[1.0,\"#f0f921\"]]}],\"heatmap\":[{\"type\":\"heatmap\",\"colorbar\":{\"outlinewidth\":0,\"ticks\":\"\"},\"colorscale\":[[0.0,\"#0d0887\"],[0.1111111111111111,\"#46039f\"],[0.2222222222222222,\"#7201a8\"],[0.3333333333333333,\"#9c179e\"],[0.4444444444444444,\"#bd3786\"],[0.5555555555555556,\"#d8576b\"],[0.6666666666666666,\"#ed7953\"],[0.7777777777777778,\"#fb9f3a\"],[0.8888888888888888,\"#fdca26\"],[1.0,\"#f0f921\"]]}],\"heatmapgl\":[{\"type\":\"heatmapgl\",\"colorbar\":{\"outlinewidth\":0,\"ticks\":\"\"},\"colorscale\":[[0.0,\"#0d0887\"],[0.1111111111111111,\"#46039f\"],[0.2222222222222222,\"#7201a8\"],[0.3333333333333333,\"#9c179e\"],[0.4444444444444444,\"#bd3786\"],[0.5555555555555556,\"#d8576b\"],[0.6666666666666666,\"#ed7953\"],[0.7777777777777778,\"#fb9f3a\"],[0.8888888888888888,\"#fdca26\"],[1.0,\"#f0f921\"]]}],\"contourcarpet\":[{\"type\":\"contourcarpet\",\"colorbar\":{\"outlinewidth\":0,\"ticks\":\"\"}}],\"contour\":[{\"type\":\"contour\",\"colorbar\":{\"outlinewidth\":0,\"ticks\":\"\"},\"colorscale\":[[0.0,\"#0d0887\"],[0.1111111111111111,\"#46039f\"],[0.2222222222222222,\"#7201a8\"],[0.3333333333333333,\"#9c179e\"],[0.4444444444444444,\"#bd3786\"],[0.5555555555555556,\"#d8576b\"],[0.6666666666666666,\"#ed7953\"],[0.7777777777777778,\"#fb9f3a\"],[0.8888888888888888,\"#fdca26\"],[1.0,\"#f0f921\"]]}],\"surface\":[{\"type\":\"surface\",\"colorbar\":{\"outlinewidth\":0,\"ticks\":\"\"},\"colorscale\":[[0.0,\"#0d0887\"],[0.1111111111111111,\"#46039f\"],[0.2222222222222222,\"#7201a8\"],[0.3333333333333333,\"#9c179e\"],[0.4444444444444444,\"#bd3786\"],[0.5555555555555556,\"#d8576b\"],[0.6666666666666666,\"#ed7953\"],[0.7777777777777778,\"#fb9f3a\"],[0.8888888888888888,\"#fdca26\"],[1.0,\"#f0f921\"]]}],\"mesh3d\":[{\"type\":\"mesh3d\",\"colorbar\":{\"outlinewidth\":0,\"ticks\":\"\"}}],\"scatter\":[{\"fillpattern\":{\"fillmode\":\"overlay\",\"size\":10,\"solidity\":0.2},\"type\":\"scatter\"}],\"parcoords\":[{\"type\":\"parcoords\",\"line\":{\"colorbar\":{\"outlinewidth\":0,\"ticks\":\"\"}}}],\"scatterpolargl\":[{\"type\":\"scatterpolargl\",\"marker\":{\"colorbar\":{\"outlinewidth\":0,\"ticks\":\"\"}}}],\"bar\":[{\"error_x\":{\"color\":\"#2a3f5f\"},\"error_y\":{\"color\":\"#2a3f5f\"},\"marker\":{\"line\":{\"color\":\"#E5ECF6\",\"width\":0.5},\"pattern\":{\"fillmode\":\"overlay\",\"size\":10,\"solidity\":0.2}},\"type\":\"bar\"}],\"scattergeo\":[{\"type\":\"scattergeo\",\"marker\":{\"colorbar\":{\"outlinewidth\":0,\"ticks\":\"\"}}}],\"scatterpolar\":[{\"type\":\"scatterpolar\",\"marker\":{\"colorbar\":{\"outlinewidth\":0,\"ticks\":\"\"}}}],\"histogram\":[{\"marker\":{\"pattern\":{\"fillmode\":\"overlay\",\"size\":10,\"solidity\":0.2}},\"type\":\"histogram\"}],\"scattergl\":[{\"type\":\"scattergl\",\"marker\":{\"colorbar\":{\"outlinewidth\":0,\"ticks\":\"\"}}}],\"scatter3d\":[{\"type\":\"scatter3d\",\"line\":{\"colorbar\":{\"outlinewidth\":0,\"ticks\":\"\"}},\"marker\":{\"colorbar\":{\"outlinewidth\":0,\"ticks\":\"\"}}}],\"scattermapbox\":[{\"type\":\"scattermapbox\",\"marker\":{\"colorbar\":{\"outlinewidth\":0,\"ticks\":\"\"}}}],\"scatterternary\":[{\"type\":\"scatterternary\",\"marker\":{\"colorbar\":{\"outlinewidth\":0,\"ticks\":\"\"}}}],\"scattercarpet\":[{\"type\":\"scattercarpet\",\"marker\":{\"colorbar\":{\"outlinewidth\":0,\"ticks\":\"\"}}}],\"carpet\":[{\"aaxis\":{\"endlinecolor\":\"#2a3f5f\",\"gridcolor\":\"white\",\"linecolor\":\"white\",\"minorgridcolor\":\"white\",\"startlinecolor\":\"#2a3f5f\"},\"baxis\":{\"endlinecolor\":\"#2a3f5f\",\"gridcolor\":\"white\",\"linecolor\":\"white\",\"minorgridcolor\":\"white\",\"startlinecolor\":\"#2a3f5f\"},\"type\":\"carpet\"}],\"table\":[{\"cells\":{\"fill\":{\"color\":\"#EBF0F8\"},\"line\":{\"color\":\"white\"}},\"header\":{\"fill\":{\"color\":\"#C8D4E3\"},\"line\":{\"color\":\"white\"}},\"type\":\"table\"}],\"barpolar\":[{\"marker\":{\"line\":{\"color\":\"#E5ECF6\",\"width\":0.5},\"pattern\":{\"fillmode\":\"overlay\",\"size\":10,\"solidity\":0.2}},\"type\":\"barpolar\"}],\"pie\":[{\"automargin\":true,\"type\":\"pie\"}]},\"layout\":{\"autotypenumbers\":\"strict\",\"colorway\":[\"#636efa\",\"#EF553B\",\"#00cc96\",\"#ab63fa\",\"#FFA15A\",\"#19d3f3\",\"#FF6692\",\"#B6E880\",\"#FF97FF\",\"#FECB52\"],\"font\":{\"color\":\"#2a3f5f\"},\"hovermode\":\"closest\",\"hoverlabel\":{\"align\":\"left\"},\"paper_bgcolor\":\"white\",\"plot_bgcolor\":\"#E5ECF6\",\"polar\":{\"bgcolor\":\"#E5ECF6\",\"angularaxis\":{\"gridcolor\":\"white\",\"linecolor\":\"white\",\"ticks\":\"\"},\"radialaxis\":{\"gridcolor\":\"white\",\"linecolor\":\"white\",\"ticks\":\"\"}},\"ternary\":{\"bgcolor\":\"#E5ECF6\",\"aaxis\":{\"gridcolor\":\"white\",\"linecolor\":\"white\",\"ticks\":\"\"},\"baxis\":{\"gridcolor\":\"white\",\"linecolor\":\"white\",\"ticks\":\"\"},\"caxis\":{\"gridcolor\":\"white\",\"linecolor\":\"white\",\"ticks\":\"\"}},\"coloraxis\":{\"colorbar\":{\"outlinewidth\":0,\"ticks\":\"\"}},\"colorscale\":{\"sequential\":[[0.0,\"#0d0887\"],[0.1111111111111111,\"#46039f\"],[0.2222222222222222,\"#7201a8\"],[0.3333333333333333,\"#9c179e\"],[0.4444444444444444,\"#bd3786\"],[0.5555555555555556,\"#d8576b\"],[0.6666666666666666,\"#ed7953\"],[0.7777777777777778,\"#fb9f3a\"],[0.8888888888888888,\"#fdca26\"],[1.0,\"#f0f921\"]],\"sequentialminus\":[[0.0,\"#0d0887\"],[0.1111111111111111,\"#46039f\"],[0.2222222222222222,\"#7201a8\"],[0.3333333333333333,\"#9c179e\"],[0.4444444444444444,\"#bd3786\"],[0.5555555555555556,\"#d8576b\"],[0.6666666666666666,\"#ed7953\"],[0.7777777777777778,\"#fb9f3a\"],[0.8888888888888888,\"#fdca26\"],[1.0,\"#f0f921\"]],\"diverging\":[[0,\"#8e0152\"],[0.1,\"#c51b7d\"],[0.2,\"#de77ae\"],[0.3,\"#f1b6da\"],[0.4,\"#fde0ef\"],[0.5,\"#f7f7f7\"],[0.6,\"#e6f5d0\"],[0.7,\"#b8e186\"],[0.8,\"#7fbc41\"],[0.9,\"#4d9221\"],[1,\"#276419\"]]},\"xaxis\":{\"gridcolor\":\"white\",\"linecolor\":\"white\",\"ticks\":\"\",\"title\":{\"standoff\":15},\"zerolinecolor\":\"white\",\"automargin\":true,\"zerolinewidth\":2},\"yaxis\":{\"gridcolor\":\"white\",\"linecolor\":\"white\",\"ticks\":\"\",\"title\":{\"standoff\":15},\"zerolinecolor\":\"white\",\"automargin\":true,\"zerolinewidth\":2},\"scene\":{\"xaxis\":{\"backgroundcolor\":\"#E5ECF6\",\"gridcolor\":\"white\",\"linecolor\":\"white\",\"showbackground\":true,\"ticks\":\"\",\"zerolinecolor\":\"white\",\"gridwidth\":2},\"yaxis\":{\"backgroundcolor\":\"#E5ECF6\",\"gridcolor\":\"white\",\"linecolor\":\"white\",\"showbackground\":true,\"ticks\":\"\",\"zerolinecolor\":\"white\",\"gridwidth\":2},\"zaxis\":{\"backgroundcolor\":\"#E5ECF6\",\"gridcolor\":\"white\",\"linecolor\":\"white\",\"showbackground\":true,\"ticks\":\"\",\"zerolinecolor\":\"white\",\"gridwidth\":2}},\"shapedefaults\":{\"line\":{\"color\":\"#2a3f5f\"}},\"annotationdefaults\":{\"arrowcolor\":\"#2a3f5f\",\"arrowhead\":0,\"arrowwidth\":1},\"geo\":{\"bgcolor\":\"white\",\"landcolor\":\"#E5ECF6\",\"subunitcolor\":\"white\",\"showland\":true,\"showlakes\":true,\"lakecolor\":\"white\"},\"title\":{\"x\":0.05},\"mapbox\":{\"style\":\"light\"}}}},                        {\"responsive\": true}                    ).then(function(){\n",
              "                            \n",
              "var gd = document.getElementById('6c46c39a-3d38-47fc-b98f-25c18dac2054');\n",
              "var x = new MutationObserver(function (mutations, observer) {{\n",
              "        var display = window.getComputedStyle(gd).display;\n",
              "        if (!display || display === 'none') {{\n",
              "            console.log([gd, 'removed!']);\n",
              "            Plotly.purge(gd);\n",
              "            observer.disconnect();\n",
              "        }}\n",
              "}});\n",
              "\n",
              "// Listen for the removal of the full notebook cells\n",
              "var notebookContainer = gd.closest('#notebook-container');\n",
              "if (notebookContainer) {{\n",
              "    x.observe(notebookContainer, {childList: true});\n",
              "}}\n",
              "\n",
              "// Listen for the clearing of the current output cell\n",
              "var outputEl = gd.closest('.output');\n",
              "if (outputEl) {{\n",
              "    x.observe(outputEl, {childList: true});\n",
              "}}\n",
              "\n",
              "                        })                };                            </script>        </div>\n",
              "</body>\n",
              "</html>"
            ]
          },
          "metadata": {}
        }
      ]
    },
    {
      "cell_type": "code",
      "source": [
        "ada = AdaBoostClassifier(**ada_params, random_state = 42)\n",
        "\n",
        "ada.fit(X_train_encoded, y_train)\n",
        "\n",
        "y_pred = ada.predict(X_test_encoded)\n",
        "\n",
        "print(classification_report(y_test, y_pred))"
      ],
      "metadata": {
        "colab": {
          "base_uri": "https://localhost:8080/"
        },
        "id": "ojEJr4aWplSK",
        "outputId": "35b8f011-aa41-49a4-bbbb-c62d0bbc38f3"
      },
      "execution_count": null,
      "outputs": [
        {
          "output_type": "stream",
          "name": "stdout",
          "text": [
            "              precision    recall  f1-score   support\n",
            "\n",
            "           N       0.75      0.53      0.62        17\n",
            "           Y       0.83      0.93      0.87        41\n",
            "\n",
            "    accuracy                           0.81        58\n",
            "   macro avg       0.79      0.73      0.75        58\n",
            "weighted avg       0.80      0.81      0.80        58\n",
            "\n"
          ]
        }
      ]
    },
    {
      "cell_type": "code",
      "source": [
        "roc_auc_score(y_test, ada.predict_proba(X_test_encoded)[:, 1])"
      ],
      "metadata": {
        "colab": {
          "base_uri": "https://localhost:8080/"
        },
        "id": "HOyUeFQDpo2_",
        "outputId": "3b9bfc76-db13-4aa0-cd0b-3a8c345bf648"
      },
      "execution_count": null,
      "outputs": [
        {
          "output_type": "execute_result",
          "data": {
            "text/plain": [
              "0.9196556671449068"
            ]
          },
          "metadata": {},
          "execution_count": 52
        }
      ]
    },
    {
      "cell_type": "code",
      "source": [
        "def plot_comparison(y_train, y_resampled):\n",
        "\n",
        "    plt.figure(figsize = (10, 5))\n",
        "    sns.countplot(x = y_train, palette = 'viridis')\n",
        "    plt.title('Before Resampling')\n",
        "    plt.show()\n",
        "\n",
        "    print('\\n')\n",
        "\n",
        "    plt.figure(figsize = (10, 5))\n",
        "    sns.countplot(x = y_resampled, palette = 'viridis')\n",
        "    plt.title('After Resampling')\n",
        "    plt.show()"
      ],
      "metadata": {
        "id": "H0XQ-Pk_prl5"
      },
      "execution_count": null,
      "outputs": []
    },
    {
      "cell_type": "code",
      "source": [
        "svmsmote = SVMSMOTE(sampling_strategy='auto', svm_estimator = SVC(**svm_params, random_state = 42), random_state = 0)\n",
        "\n",
        "X_train_resampled, y_resampled = svmsmote.fit_resample(X_train_encoded, y_train)"
      ],
      "metadata": {
        "id": "zYW3cA34puAK"
      },
      "execution_count": null,
      "outputs": []
    },
    {
      "cell_type": "code",
      "source": [
        "plot_comparison(y_train, y_resampled)"
      ],
      "metadata": {
        "colab": {
          "base_uri": "https://localhost:8080/",
          "height": 991
        },
        "id": "qvqlsGIvpwac",
        "outputId": "107a0486-236c-4d1c-a3aa-715f0600f750"
      },
      "execution_count": null,
      "outputs": [
        {
          "output_type": "display_data",
          "data": {
            "text/plain": [
              "<Figure size 1000x500 with 1 Axes>"
            ],
            "image/png": "[encoded data removed]"
          },
          "metadata": {}
        },
        {
          "output_type": "stream",
          "name": "stdout",
          "text": [
            "\n",
            "\n"
          ]
        },
        {
          "output_type": "display_data",
          "data": {
            "text/plain": [
              "<Figure size 1000x500 with 1 Axes>"
            ],
            "image/png": "[encoded data removed]"
          },
          "metadata": {}
        }
      ]
    },
    {
      "cell_type": "code",
      "source": [
        "ada = AdaBoostClassifier(**ada_params, random_state = 42)\n",
        "\n",
        "ada.fit(X_train_resampled, y_resampled)\n",
        "\n",
        "y_pred = ada.predict(X_test_encoded)\n",
        "\n",
        "print(classification_report(y_test, y_pred))"
      ],
      "metadata": {
        "colab": {
          "base_uri": "https://localhost:8080/"
        },
        "id": "fDOvXY_Ep8sK",
        "outputId": "1667f432-f817-44db-b06f-7943e38f82a0"
      },
      "execution_count": null,
      "outputs": [
        {
          "output_type": "stream",
          "name": "stdout",
          "text": [
            "              precision    recall  f1-score   support\n",
            "\n",
            "           N       0.71      0.71      0.71        17\n",
            "           Y       0.88      0.88      0.88        41\n",
            "\n",
            "    accuracy                           0.83        58\n",
            "   macro avg       0.79      0.79      0.79        58\n",
            "weighted avg       0.83      0.83      0.83        58\n",
            "\n"
          ]
        }
      ]
    },
    {
      "cell_type": "code",
      "source": [
        "roc_auc_score(y_test, ada.predict_proba(X_test_encoded)[:, 1])"
      ],
      "metadata": {
        "colab": {
          "base_uri": "https://localhost:8080/"
        },
        "id": "phhBpUeTqAt8",
        "outputId": "8c29a589-cd57-4f28-c5c2-bc05fb4892be"
      },
      "execution_count": null,
      "outputs": [
        {
          "output_type": "execute_result",
          "data": {
            "text/plain": [
              "0.8931133428981348"
            ]
          },
          "metadata": {},
          "execution_count": 57
        }
      ]
    },
    {
      "cell_type": "code",
      "source": [
        "unique_classes, class_counts = np.unique(y_train, return_counts=True)\n",
        "\n",
        "total_samples = len(y_train)\n",
        "class_weights = {cls: total_samples / count for cls, count in zip(unique_classes, class_counts)}\n",
        "\n",
        "print(\"Weights:\", class_weights)"
      ],
      "metadata": {
        "colab": {
          "base_uri": "https://localhost:8080/"
        },
        "id": "jlY1HJ0HqEBx",
        "outputId": "3564858f-b948-4661-b6e2-8122019a4b99"
      },
      "execution_count": null,
      "outputs": [
        {
          "output_type": "stream",
          "name": "stdout",
          "text": [
            "Weights: {'N': 3.4731182795698925, 'Y': 1.4043478260869566}\n"
          ]
        }
      ]
    },
    {
      "cell_type": "code",
      "source": [
        "class_weights = {'N': 3.4731182795698925, 'Y': 1.4043478260869566}\n",
        "\n",
        "ada = AdaBoostClassifier(**ada_params, random_state = 42)\n",
        "ada.fit(X_train_encoded, y_train, sample_weight=[class_weights[i] for i in y_train])\n",
        "\n",
        "y_pred = ada.predict(X_test_encoded)\n",
        "\n",
        "print(classification_report(y_test, y_pred))"
      ],
      "metadata": {
        "colab": {
          "base_uri": "https://localhost:8080/"
        },
        "id": "Ov2jnPS0qG95",
        "outputId": "d817708c-ff06-460e-cd88-05f4dc7a8035"
      },
      "execution_count": null,
      "outputs": [
        {
          "output_type": "stream",
          "name": "stdout",
          "text": [
            "              precision    recall  f1-score   support\n",
            "\n",
            "           N       0.67      0.94      0.78        17\n",
            "           Y       0.97      0.80      0.88        41\n",
            "\n",
            "    accuracy                           0.84        58\n",
            "   macro avg       0.82      0.87      0.83        58\n",
            "weighted avg       0.88      0.84      0.85        58\n",
            "\n"
          ]
        }
      ]
    },
    {
      "cell_type": "code",
      "source": [
        "roc_auc_score(y_test, ada.predict_proba(X_test_encoded)[:, 1])"
      ],
      "metadata": {
        "colab": {
          "base_uri": "https://localhost:8080/"
        },
        "id": "gBz-HtuJqJ5A",
        "outputId": "647f7052-d762-49f0-99c6-4e9d44a44d40"
      },
      "execution_count": null,
      "outputs": [
        {
          "output_type": "execute_result",
          "data": {
            "text/plain": [
              "0.9196556671449068"
            ]
          },
          "metadata": {},
          "execution_count": 60
        }
      ]
    },
    {
      "cell_type": "code",
      "source": [
        "bag = BaggingClassifier(estimator = AdaBoostClassifier(**ada_params, random_state = 42), n_estimators = 5, random_state = 0)\n",
        "\n",
        "bag.fit(X_train_encoded, y_train)\n",
        "\n",
        "y_pred = bag.predict(X_test_encoded)\n",
        "\n",
        "print(classification_report(y_test, y_pred))"
      ],
      "metadata": {
        "colab": {
          "base_uri": "https://localhost:8080/"
        },
        "id": "VzOQHr_gqNQ5",
        "outputId": "f0f35b84-d1b3-4445-fef3-02a87d5c76a2"
      },
      "execution_count": null,
      "outputs": [
        {
          "output_type": "stream",
          "name": "stdout",
          "text": [
            "              precision    recall  f1-score   support\n",
            "\n",
            "           N       0.92      0.71      0.80        17\n",
            "           Y       0.89      0.98      0.93        41\n",
            "\n",
            "    accuracy                           0.90        58\n",
            "   macro avg       0.91      0.84      0.87        58\n",
            "weighted avg       0.90      0.90      0.89        58\n",
            "\n"
          ]
        }
      ]
    },
    {
      "cell_type": "code",
      "source": [
        "roc_auc_score(y_test, bag.predict_proba(X_test_encoded)[:, 1])"
      ],
      "metadata": {
        "colab": {
          "base_uri": "https://localhost:8080/"
        },
        "id": "Z2lAKDoEqP8b",
        "outputId": "a8150248-b669-49f7-c26a-00823f358dba"
      },
      "execution_count": null,
      "outputs": [
        {
          "output_type": "execute_result",
          "data": {
            "text/plain": [
              "0.9296987087517934"
            ]
          },
          "metadata": {},
          "execution_count": 63
        }
      ]
    }
  ]
}