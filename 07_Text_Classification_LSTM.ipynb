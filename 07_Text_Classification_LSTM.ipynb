{
  "nbformat": 4,
  "nbformat_minor": 0,
  "metadata": {
    "colab": {
      "provenance": [],
      "gpuType": "T4"
    },
    "kernelspec": {
      "name": "python3",
      "display_name": "Python 3"
    },
    "language_info": {
      "name": "python"
    },
    "accelerator": "GPU"
  },
  "cells": [
    {
      "cell_type": "code",
      "execution_count": null,
      "metadata": {
        "colab": {
          "base_uri": "https://localhost:8080/"
        },
        "id": "HrESHiTioKgi",
        "outputId": "95785029-a43c-47c0-9f47-9d1a2e9823a1"
      },
      "outputs": [
        {
          "output_type": "stream",
          "name": "stdout",
          "text": [
            "Mounted at /content/drive\n"
          ]
        }
      ],
      "source": [
        "from google.colab import drive\n",
        "drive.mount('/content/drive')"
      ]
    },
    {
      "cell_type": "code",
      "source": [
        "import numpy as np\n",
        "import pandas as pd\n",
        "from tensorflow.keras.datasets import imdb\n",
        "from tensorflow.keras.preprocessing import sequence\n",
        "from tensorflow.keras.models import Sequential\n",
        "from tensorflow.keras.layers import Embedding, LSTM, Dense\n",
        "from sklearn.model_selection import train_test_split\n",
        "from tensorflow.keras.preprocessing.text import Tokenizer\n",
        "from tensorflow.keras.preprocessing.sequence import pad_sequences"
      ],
      "metadata": {
        "id": "UDEdKtN2p4pO"
      },
      "execution_count": null,
      "outputs": []
    },
    {
      "cell_type": "code",
      "source": [
        "!mkdir -p /root/.kaggle"
      ],
      "metadata": {
        "id": "c0nmrGRrqLBW"
      },
      "execution_count": null,
      "outputs": []
    },
    {
      "cell_type": "code",
      "source": [
        "!cp /content/drive/MyDrive/kaggle.json /root/.kaggle/kaggle.json"
      ],
      "metadata": {
        "id": "WsAmYD76qWc7"
      },
      "execution_count": null,
      "outputs": []
    },
    {
      "cell_type": "code",
      "source": [
        "!chmod 600 /root/.kaggle/kaggle.json"
      ],
      "metadata": {
        "id": "s55BJuy8s56t"
      },
      "execution_count": null,
      "outputs": []
    },
    {
      "cell_type": "code",
      "source": [
        "# Set Kaggle API key environment variable\n",
        "import os\n",
        "\n",
        "os.environ['KAGGLE_CONFIG_DIR'] = '/content/drive/MyDrive/'"
      ],
      "metadata": {
        "id": "-3-NJSIis9M1"
      },
      "execution_count": null,
      "outputs": []
    },
    {
      "cell_type": "code",
      "source": [
        "!kaggle datasets download -d ashpalsingh1525/imdb-movies-dataset"
      ],
      "metadata": {
        "colab": {
          "base_uri": "https://localhost:8080/"
        },
        "id": "p5W0WsOutBh_",
        "outputId": "e41cff0a-6189-441d-c191-8145c6ff5691"
      },
      "execution_count": null,
      "outputs": [
        {
          "output_type": "stream",
          "name": "stdout",
          "text": [
            "Downloading imdb-movies-dataset.zip to /content\n",
            "100% 2.84M/2.84M [00:00<00:00, 5.33MB/s]\n",
            "100% 2.84M/2.84M [00:00<00:00, 4.53MB/s]\n"
          ]
        }
      ]
    },
    {
      "cell_type": "code",
      "source": [
        "import zipfile\n",
        "import os\n",
        "\n",
        "# Replace 'your_dataset.zip' with the name of the downloaded zip file\n",
        "zip_file_path = '/content/imdb-movies-dataset.zip'\n",
        "extract_path = '/content/drive/MyDrive/dataset/'\n",
        "\n",
        "with zipfile.ZipFile(zip_file_path, 'r') as zip_ref:\n",
        "    zip_ref.extractall(extract_path)"
      ],
      "metadata": {
        "id": "FAKxIcIKtLJt"
      },
      "execution_count": null,
      "outputs": []
    },
    {
      "cell_type": "code",
      "source": [
        "import pandas as pd\n",
        "\n",
        "# Replace 'your_dataset.csv' with the actual CSV file in the dataset\n",
        "csv_file_path = '/content/drive/MyDrive/dataset/imdb_movies.csv'\n",
        "\n",
        "# Read CSV into a Pandas DataFrame\n",
        "df = pd.read_csv(csv_file_path)\n",
        "\n",
        "# Display the DataFrame\n",
        "df.head()\n"
      ],
      "metadata": {
        "colab": {
          "base_uri": "https://localhost:8080/",
          "height": 615
        },
        "id": "FRdRpV3otpOQ",
        "outputId": "b6122e77-4853-4d41-84d7-09d1b5e8f5cc"
      },
      "execution_count": null,
      "outputs": [
        {
          "output_type": "execute_result",
          "data": {
            "text/plain": [
              "                         names       date_x  score  \\\n",
              "0                    Creed III  03/02/2023    73.0   \n",
              "1     Avatar: The Way of Water  12/15/2022    78.0   \n",
              "2  The Super Mario Bros. Movie  04/05/2023    76.0   \n",
              "3                      Mummies  01/05/2023    70.0   \n",
              "4                    Supercell  03/17/2023    61.0   \n",
              "\n",
              "                                           genre  \\\n",
              "0                                  Drama, Action   \n",
              "1             Science Fiction, Adventure, Action   \n",
              "2  Animation, Adventure, Family, Fantasy, Comedy   \n",
              "3  Animation, Comedy, Family, Adventure, Fantasy   \n",
              "4                                         Action   \n",
              "\n",
              "                                            overview  \\\n",
              "0  After dominating the boxing world, Adonis Cree...   \n",
              "1  Set more than a decade after the events of the...   \n",
              "2  While working underground to fix a water main,...   \n",
              "3  Through a series of unfortunate events, three ...   \n",
              "4  Good-hearted teenager William always lived in ...   \n",
              "\n",
              "                                                crew  \\\n",
              "0  Michael B. Jordan, Adonis Creed, Tessa Thompso...   \n",
              "1  Sam Worthington, Jake Sully, Zoe Saldaña, Neyt...   \n",
              "2  Chris Pratt, Mario (voice), Anya Taylor-Joy, P...   \n",
              "3  Óscar Barberán, Thut (voice), Ana Esther Albor...   \n",
              "4  Skeet Ulrich, Roy Cameron, Anne Heche, Dr Quin...   \n",
              "\n",
              "                    orig_title     status            orig_lang     budget_x  \\\n",
              "0                    Creed III   Released              English   75000000.0   \n",
              "1     Avatar: The Way of Water   Released              English  460000000.0   \n",
              "2  The Super Mario Bros. Movie   Released              English  100000000.0   \n",
              "3                       Momias   Released   Spanish, Castilian   12300000.0   \n",
              "4                    Supercell   Released              English   77000000.0   \n",
              "\n",
              "        revenue country  \n",
              "0  2.716167e+08      AU  \n",
              "1  2.316795e+09      AU  \n",
              "2  7.244590e+08      AU  \n",
              "3  3.420000e+07      AU  \n",
              "4  3.409420e+08      US  "
            ],
            "text/html": [
              "\n",
              "  <div id=\"df-4ea49f02-cb74-4c71-8d57-ed8408ec45d3\" class=\"colab-df-container\">\n",
              "    <div>\n",
              "<style scoped>\n",
              "    .dataframe tbody tr th:only-of-type {\n",
              "        vertical-align: middle;\n",
              "    }\n",
              "\n",
              "    .dataframe tbody tr th {\n",
              "        vertical-align: top;\n",
              "    }\n",
              "\n",
              "    .dataframe thead th {\n",
              "        text-align: right;\n",
              "    }\n",
              "</style>\n",
              "<table border=\"1\" class=\"dataframe\">\n",
              "  <thead>\n",
              "    <tr style=\"text-align: right;\">\n",
              "      <th></th>\n",
              "      <th>names</th>\n",
              "      <th>date_x</th>\n",
              "      <th>score</th>\n",
              "      <th>genre</th>\n",
              "      <th>overview</th>\n",
              "      <th>crew</th>\n",
              "      <th>orig_title</th>\n",
              "      <th>status</th>\n",
              "      <th>orig_lang</th>\n",
              "      <th>budget_x</th>\n",
              "      <th>revenue</th>\n",
              "      <th>country</th>\n",
              "    </tr>\n",
              "  </thead>\n",
              "  <tbody>\n",
              "    <tr>\n",
              "      <th>0</th>\n",
              "      <td>Creed III</td>\n",
              "      <td>03/02/2023</td>\n",
              "      <td>73.0</td>\n",
              "      <td>Drama, Action</td>\n",
              "      <td>After dominating the boxing world, Adonis Cree...</td>\n",
              "      <td>Michael B. Jordan, Adonis Creed, Tessa Thompso...</td>\n",
              "      <td>Creed III</td>\n",
              "      <td>Released</td>\n",
              "      <td>English</td>\n",
              "      <td>75000000.0</td>\n",
              "      <td>2.716167e+08</td>\n",
              "      <td>AU</td>\n",
              "    </tr>\n",
              "    <tr>\n",
              "      <th>1</th>\n",
              "      <td>Avatar: The Way of Water</td>\n",
              "      <td>12/15/2022</td>\n",
              "      <td>78.0</td>\n",
              "      <td>Science Fiction, Adventure, Action</td>\n",
              "      <td>Set more than a decade after the events of the...</td>\n",
              "      <td>Sam Worthington, Jake Sully, Zoe Saldaña, Neyt...</td>\n",
              "      <td>Avatar: The Way of Water</td>\n",
              "      <td>Released</td>\n",
              "      <td>English</td>\n",
              "      <td>460000000.0</td>\n",
              "      <td>2.316795e+09</td>\n",
              "      <td>AU</td>\n",
              "    </tr>\n",
              "    <tr>\n",
              "      <th>2</th>\n",
              "      <td>The Super Mario Bros. Movie</td>\n",
              "      <td>04/05/2023</td>\n",
              "      <td>76.0</td>\n",
              "      <td>Animation, Adventure, Family, Fantasy, Comedy</td>\n",
              "      <td>While working underground to fix a water main,...</td>\n",
              "      <td>Chris Pratt, Mario (voice), Anya Taylor-Joy, P...</td>\n",
              "      <td>The Super Mario Bros. Movie</td>\n",
              "      <td>Released</td>\n",
              "      <td>English</td>\n",
              "      <td>100000000.0</td>\n",
              "      <td>7.244590e+08</td>\n",
              "      <td>AU</td>\n",
              "    </tr>\n",
              "    <tr>\n",
              "      <th>3</th>\n",
              "      <td>Mummies</td>\n",
              "      <td>01/05/2023</td>\n",
              "      <td>70.0</td>\n",
              "      <td>Animation, Comedy, Family, Adventure, Fantasy</td>\n",
              "      <td>Through a series of unfortunate events, three ...</td>\n",
              "      <td>Óscar Barberán, Thut (voice), Ana Esther Albor...</td>\n",
              "      <td>Momias</td>\n",
              "      <td>Released</td>\n",
              "      <td>Spanish, Castilian</td>\n",
              "      <td>12300000.0</td>\n",
              "      <td>3.420000e+07</td>\n",
              "      <td>AU</td>\n",
              "    </tr>\n",
              "    <tr>\n",
              "      <th>4</th>\n",
              "      <td>Supercell</td>\n",
              "      <td>03/17/2023</td>\n",
              "      <td>61.0</td>\n",
              "      <td>Action</td>\n",
              "      <td>Good-hearted teenager William always lived in ...</td>\n",
              "      <td>Skeet Ulrich, Roy Cameron, Anne Heche, Dr Quin...</td>\n",
              "      <td>Supercell</td>\n",
              "      <td>Released</td>\n",
              "      <td>English</td>\n",
              "      <td>77000000.0</td>\n",
              "      <td>3.409420e+08</td>\n",
              "      <td>US</td>\n",
              "    </tr>\n",
              "  </tbody>\n",
              "</table>\n",
              "</div>\n",
              "    <div class=\"colab-df-buttons\">\n",
              "\n",
              "  <div class=\"colab-df-container\">\n",
              "    <button class=\"colab-df-convert\" onclick=\"convertToInteractive('df-4ea49f02-cb74-4c71-8d57-ed8408ec45d3')\"\n",
              "            title=\"Convert this dataframe to an interactive table.\"\n",
              "            style=\"display:none;\">\n",
              "\n",
              "  <svg xmlns=\"http://www.w3.org/2000/svg\" height=\"24px\" viewBox=\"0 -960 960 960\">\n",
              "    <path d=\"M120-120v-720h720v720H120Zm60-500h600v-160H180v160Zm220 220h160v-160H400v160Zm0 220h160v-160H400v160ZM180-400h160v-160H180v160Zm440 0h160v-160H620v160ZM180-180h160v-160H180v160Zm440 0h160v-160H620v160Z\"/>\n",
              "  </svg>\n",
              "    </button>\n",
              "\n",
              "  <style>\n",
              "    .colab-df-container {\n",
              "      display:flex;\n",
              "      gap: 12px;\n",
              "    }\n",
              "\n",
              "    .colab-df-convert {\n",
              "      background-color: #E8F0FE;\n",
              "      border: none;\n",
              "      border-radius: 50%;\n",
              "      cursor: pointer;\n",
              "      display: none;\n",
              "      fill: #1967D2;\n",
              "      height: 32px;\n",
              "      padding: 0 0 0 0;\n",
              "      width: 32px;\n",
              "    }\n",
              "\n",
              "    .colab-df-convert:hover {\n",
              "      background-color: #E2EBFA;\n",
              "      box-shadow: 0px 1px 2px rgba(60, 64, 67, 0.3), 0px 1px 3px 1px rgba(60, 64, 67, 0.15);\n",
              "      fill: #174EA6;\n",
              "    }\n",
              "\n",
              "    .colab-df-buttons div {\n",
              "      margin-bottom: 4px;\n",
              "    }\n",
              "\n",
              "    [theme=dark] .colab-df-convert {\n",
              "      background-color: #3B4455;\n",
              "      fill: #D2E3FC;\n",
              "    }\n",
              "\n",
              "    [theme=dark] .colab-df-convert:hover {\n",
              "      background-color: #434B5C;\n",
              "      box-shadow: 0px 1px 3px 1px rgba(0, 0, 0, 0.15);\n",
              "      filter: drop-shadow(0px 1px 2px rgba(0, 0, 0, 0.3));\n",
              "      fill: #FFFFFF;\n",
              "    }\n",
              "  </style>\n",
              "\n",
              "    <script>\n",
              "      const buttonEl =\n",
              "        document.querySelector('#df-4ea49f02-cb74-4c71-8d57-ed8408ec45d3 button.colab-df-convert');\n",
              "      buttonEl.style.display =\n",
              "        google.colab.kernel.accessAllowed ? 'block' : 'none';\n",
              "\n",
              "      async function convertToInteractive(key) {\n",
              "        const element = document.querySelector('#df-4ea49f02-cb74-4c71-8d57-ed8408ec45d3');\n",
              "        const dataTable =\n",
              "          await google.colab.kernel.invokeFunction('convertToInteractive',\n",
              "                                                    [key], {});\n",
              "        if (!dataTable) return;\n",
              "\n",
              "        const docLinkHtml = 'Like what you see? Visit the ' +\n",
              "          '<a target=\"_blank\" href=https://colab.research.google.com/notebooks/data_table.ipynb>data table notebook</a>'\n",
              "          + ' to learn more about interactive tables.';\n",
              "        element.innerHTML = '';\n",
              "        dataTable['output_type'] = 'display_data';\n",
              "        await google.colab.output.renderOutput(dataTable, element);\n",
              "        const docLink = document.createElement('div');\n",
              "        docLink.innerHTML = docLinkHtml;\n",
              "        element.appendChild(docLink);\n",
              "      }\n",
              "    </script>\n",
              "  </div>\n",
              "\n",
              "\n",
              "<div id=\"df-9e63cbb9-5268-4d27-908a-281e4b961f8a\">\n",
              "  <button class=\"colab-df-quickchart\" onclick=\"quickchart('df-9e63cbb9-5268-4d27-908a-281e4b961f8a')\"\n",
              "            title=\"Suggest charts\"\n",
              "            style=\"display:none;\">\n",
              "\n",
              "<svg xmlns=\"http://www.w3.org/2000/svg\" height=\"24px\"viewBox=\"0 0 24 24\"\n",
              "     width=\"24px\">\n",
              "    <g>\n",
              "        <path d=\"M19 3H5c-1.1 0-2 .9-2 2v14c0 1.1.9 2 2 2h14c1.1 0 2-.9 2-2V5c0-1.1-.9-2-2-2zM9 17H7v-7h2v7zm4 0h-2V7h2v10zm4 0h-2v-4h2v4z\"/>\n",
              "    </g>\n",
              "</svg>\n",
              "  </button>\n",
              "\n",
              "<style>\n",
              "  .colab-df-quickchart {\n",
              "      --bg-color: #E8F0FE;\n",
              "      --fill-color: #1967D2;\n",
              "      --hover-bg-color: #E2EBFA;\n",
              "      --hover-fill-color: #174EA6;\n",
              "      --disabled-fill-color: #AAA;\n",
              "      --disabled-bg-color: #DDD;\n",
              "  }\n",
              "\n",
              "  [theme=dark] .colab-df-quickchart {\n",
              "      --bg-color: #3B4455;\n",
              "      --fill-color: #D2E3FC;\n",
              "      --hover-bg-color: #434B5C;\n",
              "      --hover-fill-color: #FFFFFF;\n",
              "      --disabled-bg-color: #3B4455;\n",
              "      --disabled-fill-color: #666;\n",
              "  }\n",
              "\n",
              "  .colab-df-quickchart {\n",
              "    background-color: var(--bg-color);\n",
              "    border: none;\n",
              "    border-radius: 50%;\n",
              "    cursor: pointer;\n",
              "    display: none;\n",
              "    fill: var(--fill-color);\n",
              "    height: 32px;\n",
              "    padding: 0;\n",
              "    width: 32px;\n",
              "  }\n",
              "\n",
              "  .colab-df-quickchart:hover {\n",
              "    background-color: var(--hover-bg-color);\n",
              "    box-shadow: 0 1px 2px rgba(60, 64, 67, 0.3), 0 1px 3px 1px rgba(60, 64, 67, 0.15);\n",
              "    fill: var(--button-hover-fill-color);\n",
              "  }\n",
              "\n",
              "  .colab-df-quickchart-complete:disabled,\n",
              "  .colab-df-quickchart-complete:disabled:hover {\n",
              "    background-color: var(--disabled-bg-color);\n",
              "    fill: var(--disabled-fill-color);\n",
              "    box-shadow: none;\n",
              "  }\n",
              "\n",
              "  .colab-df-spinner {\n",
              "    border: 2px solid var(--fill-color);\n",
              "    border-color: transparent;\n",
              "    border-bottom-color: var(--fill-color);\n",
              "    animation:\n",
              "      spin 1s steps(1) infinite;\n",
              "  }\n",
              "\n",
              "  @keyframes spin {\n",
              "    0% {\n",
              "      border-color: transparent;\n",
              "      border-bottom-color: var(--fill-color);\n",
              "      border-left-color: var(--fill-color);\n",
              "    }\n",
              "    20% {\n",
              "      border-color: transparent;\n",
              "      border-left-color: var(--fill-color);\n",
              "      border-top-color: var(--fill-color);\n",
              "    }\n",
              "    30% {\n",
              "      border-color: transparent;\n",
              "      border-left-color: var(--fill-color);\n",
              "      border-top-color: var(--fill-color);\n",
              "      border-right-color: var(--fill-color);\n",
              "    }\n",
              "    40% {\n",
              "      border-color: transparent;\n",
              "      border-right-color: var(--fill-color);\n",
              "      border-top-color: var(--fill-color);\n",
              "    }\n",
              "    60% {\n",
              "      border-color: transparent;\n",
              "      border-right-color: var(--fill-color);\n",
              "    }\n",
              "    80% {\n",
              "      border-color: transparent;\n",
              "      border-right-color: var(--fill-color);\n",
              "      border-bottom-color: var(--fill-color);\n",
              "    }\n",
              "    90% {\n",
              "      border-color: transparent;\n",
              "      border-bottom-color: var(--fill-color);\n",
              "    }\n",
              "  }\n",
              "</style>\n",
              "\n",
              "  <script>\n",
              "    async function quickchart(key) {\n",
              "      const quickchartButtonEl =\n",
              "        document.querySelector('#' + key + ' button');\n",
              "      quickchartButtonEl.disabled = true;  // To prevent multiple clicks.\n",
              "      quickchartButtonEl.classList.add('colab-df-spinner');\n",
              "      try {\n",
              "        const charts = await google.colab.kernel.invokeFunction(\n",
              "            'suggestCharts', [key], {});\n",
              "      } catch (error) {\n",
              "        console.error('Error during call to suggestCharts:', error);\n",
              "      }\n",
              "      quickchartButtonEl.classList.remove('colab-df-spinner');\n",
              "      quickchartButtonEl.classList.add('colab-df-quickchart-complete');\n",
              "    }\n",
              "    (() => {\n",
              "      let quickchartButtonEl =\n",
              "        document.querySelector('#df-9e63cbb9-5268-4d27-908a-281e4b961f8a button');\n",
              "      quickchartButtonEl.style.display =\n",
              "        google.colab.kernel.accessAllowed ? 'block' : 'none';\n",
              "    })();\n",
              "  </script>\n",
              "</div>\n",
              "\n",
              "    </div>\n",
              "  </div>\n"
            ]
          },
          "metadata": {},
          "execution_count": 25
        }
      ]
    },
    {
      "cell_type": "code",
      "source": [
        "# Set parameters\n",
        "max_features = 5000\n",
        "maxlen = 300\n",
        "batch_size = 64"
      ],
      "metadata": {
        "id": "TfOd4P89uA7j"
      },
      "execution_count": null,
      "outputs": []
    },
    {
      "cell_type": "code",
      "source": [
        "texts = df['names'].values\n",
        "labels = df['genre'].values"
      ],
      "metadata": {
        "id": "Sikpg4odvUV4"
      },
      "execution_count": null,
      "outputs": []
    },
    {
      "cell_type": "code",
      "source": [
        "tokenizer = Tokenizer(num_words=max_features)\n",
        "tokenizer.fit_on_texts(texts)\n",
        "sequences = tokenizer.texts_to_sequences(texts)"
      ],
      "metadata": {
        "id": "9yk61LmpvXTv"
      },
      "execution_count": null,
      "outputs": []
    },
    {
      "cell_type": "code",
      "source": [
        "x = pad_sequences(sequences, maxlen=maxlen)\n",
        "y = labels"
      ],
      "metadata": {
        "id": "vo3LxgGJvhQR"
      },
      "execution_count": null,
      "outputs": []
    },
    {
      "cell_type": "code",
      "source": [
        "x_train, x_test, y_train, y_test = train_test_split(x, y, test_size=0.2, random_state=42)"
      ],
      "metadata": {
        "id": "VuOvNNKtvjgn"
      },
      "execution_count": null,
      "outputs": []
    },
    {
      "cell_type": "code",
      "source": [
        "model = Sequential()\n",
        "model.add(Embedding(max_features, 128, input_length=maxlen))\n",
        "model.add(LSTM(64, dropout=0.2, recurrent_dropout=0.2))\n",
        "model.add(Dense(1, activation='sigmoid'))"
      ],
      "metadata": {
        "colab": {
          "base_uri": "https://localhost:8080/"
        },
        "id": "YkElp-Gbvlp5",
        "outputId": "d35e11c6-f08e-4604-aaa6-aa83108a3185"
      },
      "execution_count": null,
      "outputs": [
        {
          "output_type": "stream",
          "name": "stderr",
          "text": [
            "WARNING:tensorflow:Layer lstm will not use cuDNN kernels since it doesn't meet the criteria. It will use a generic GPU kernel as fallback when running on GPU.\n"
          ]
        }
      ]
    },
    {
      "cell_type": "code",
      "source": [
        "model.compile(loss='binary_crossentropy', optimizer='adam', metrics=['accuracy'])"
      ],
      "metadata": {
        "id": "tpH7eszMvoVT"
      },
      "execution_count": null,
      "outputs": []
    },
    {
      "cell_type": "code",
      "source": [
        "model.summary()"
      ],
      "metadata": {
        "colab": {
          "base_uri": "https://localhost:8080/"
        },
        "id": "X2wa4eOlvrjS",
        "outputId": "149072d7-57ea-459a-c9eb-2d577219cff9"
      },
      "execution_count": null,
      "outputs": [
        {
          "output_type": "stream",
          "name": "stdout",
          "text": [
            "Model: \"sequential\"\n",
            "_________________________________________________________________\n",
            " Layer (type)                Output Shape              Param #   \n",
            "=================================================================\n",
            " embedding (Embedding)       (None, 300, 128)          640000    \n",
            "                                                                 \n",
            " lstm (LSTM)                 (None, 64)                49408     \n",
            "                                                                 \n",
            " dense (Dense)               (None, 1)                 65        \n",
            "                                                                 \n",
            "=================================================================\n",
            "Total params: 689473 (2.63 MB)\n",
            "Trainable params: 689473 (2.63 MB)\n",
            "Non-trainable params: 0 (0.00 Byte)\n",
            "_________________________________________________________________\n"
          ]
        }
      ]
    },
    {
      "cell_type": "code",
      "source": [
        "print(set(y_train))\n",
        "print(set(y_test))"
      ],
      "metadata": {
        "colab": {
          "base_uri": "https://localhost:8080/"
        },
        "id": "q-aYFjxAvtpQ",
        "outputId": "e130e6bf-9732-4611-e879-3798f3da838e"
      },
      "execution_count": null,
      "outputs": [
        {
          "output_type": "stream",
          "name": "stdout",
          "text": [
            "{0, 1, 2, 3, 4, 5, 6, 7, 8, 9, 10, 11, 12, 13, 14, 15, 16, 17, 18, 19, 20, 21, 22, 23, 24, 25, 26, 27, 28, 29, 30, 31, 32, 33, 34, 35, 36, 37, 38, 39, 40, 41, 42, 43, 44, 45, 46, 47, 48, 49, 50, 51, 52, 53, 54, 55, 56, 57, 58, 59, 60, 61, 62, 63, 64, 65, 66, 67, 68, 69, 70, 71, 72, 73, 74, 75, 76, 77, 78, 79, 80, 81, 82, 83, 84, 85, 86, 87, 88, 89, 90, 91, 92, 93, 94, 95, 96, 97, 98, 99, 100, 101, 102, 103, 104, 105, 106, 107, 108, 109, 110, 111, 112, 113, 114, 115, 116, 117, 118, 119, 120, 121, 122, 123, 124, 125, 126, 127, 128, 129, 130, 131, 132, 133, 134, 135, 136, 137, 138, 139, 140, 141, 142, 143, 144, 145, 146, 147, 148, 149, 150, 151, 152, 153, 154, 155, 156, 157, 158, 159, 160, 161, 162, 163, 164, 165, 166, 167, 168, 169, 170, 171, 172, 173, 174, 175, 176, 177, 178, 179, 180, 181, 182, 183, 184, 185, 186, 187, 188, 189, 190, 191, 192, 193, 194, 195, 196, 197, 198, 199, 200, 201, 202, 203, 204, 205, 206, 207, 208, 209, 210, 211, 212, 213, 214, 215, 216, 217, 218, 219, 220, 221, 222, 223, 224, 225, 226, 227, 228, 229, 230, 231, 232, 233, 234, 235, 236, 237, 238, 239, 240, 241, 242, 243, 244, 245, 246, 247, 248, 249, 250, 251, 252, 253, 254, 255, 256, 257, 258, 259, 260, 261, 262, 263, 264, 265, 266, 267, 268, 269, 270, 271, 272, 273, 274, 275, 276, 277, 278, 279, 280, 281, 282, 283, 284, 285, 286, 287, 288, 289, 290, 291, 292, 293, 294, 295, 296, 297, 298, 299, 300, 301, 302, 303, 304, 305, 306, 307, 308, 309, 310, 311, 312, 313, 314, 315, 316, 317, 318, 319, 320, 321, 322, 323, 324, 325, 326, 327, 328, 329, 330, 331, 332, 333, 334, 335, 336, 337, 338, 339, 340, 341, 342, 343, 344, 345, 346, 347, 348, 349, 350, 351, 352, 353, 354, 355, 356, 357, 358, 359, 360, 361, 362, 363, 364, 365, 366, 367, 368, 369, 370, 371, 372, 373, 374, 375, 376, 377, 378, 379, 380, 381, 382, 383, 384, 385, 386, 387, 388, 389, 390, 391, 392, 393, 394, 395, 396, 397, 398, 399, 400, 401, 402, 403, 404, 405, 406, 407, 408, 409, 410, 411, 412, 413, 414, 415, 416, 417, 418, 419, 420, 421, 422, 423, 424, 425, 426, 427, 428, 429, 430, 431, 432, 433, 434, 435, 436, 437, 438, 439, 440, 441, 442, 443, 444, 445, 446, 447, 448, 449, 450, 451, 452, 453, 454, 455, 456, 457, 458, 459, 460, 461, 462, 463, 464, 465, 466, 467, 468, 469, 470, 471, 472, 473, 474, 475, 476, 477, 478, 479, 480, 481, 482, 483, 484, 485, 486, 487, 488, 489, 490, 491, 492, 493, 494, 495, 496, 497, 498, 499, 500, 501, 502, 503, 504, 505, 506, 507, 508, 509, 510, 511, 512, 513, 514, 515, 516, 517, 518, 519, 520, 521, 522, 523, 524, 525, 526, 527, 528, 529, 530, 531, 532, 533, 534, 535, 536, 537, 538, 539, 540, 541, 542, 543, 544, 545, 546, 547, 548, 549, 550, 551, 552, 553, 554, 555, 556, 557, 558, 559, 560, 561, 562, 563, 564, 565, 566, 567, 568, 569, 570, 571, 572, 573, 574, 575, 576, 577, 578, 579, 580, 581, 582, 583, 584, 585, 586, 587, 588, 589, 590, 591, 592, 593, 594, 595, 596, 597, 598, 599, 600, 601, 602, 603, 604, 605, 606, 607, 608, 609, 610, 611, 612, 613, 614, 615, 616, 617, 618, 619, 620, 621, 622, 623, 624, 625, 626, 627, 628, 629, 630, 631, 632, 633, 634, 635, 636, 637, 638, 639, 640, 641, 642, 643, 644, 645, 646, 647, 648, 649, 650, 651, 652, 653, 654, 655, 656, 657, 658, 659, 660, 661, 662, 663, 664, 665, 666, 667, 668, 669, 670, 671, 672, 673, 674, 675, 676, 677, 678, 679, 680, 681, 682, 683, 684, 685, 686, 687, 688, 689, 690, 691, 692, 693, 694, 695, 696, 697, 698, 699, 700, 701, 702, 703, 704, 705, 706, 707, 708, 709, 710, 711, 712, 713, 714, 715, 716, 717, 718, 719, 720, 721, 722, 723, 724, 725, 726, 727, 728, 729, 730, 731, 732, 733, 734, 735, 736, 737, 738, 739, 740, 741, 742, 743, 744, 745, 746, 747, 748, 749, 750, 751, 752, 753, 754, 755, 756, 757, 758, 759, 760, 761, 762, 763, 764, 765, 766, 767, 768, 769, 770, 771, 772, 773, 774, 775, 776, 777, 778, 779, 780, 781, 782, 783, 784, 785, 786, 787, 788, 789, 790, 791, 792, 793, 794, 795, 796, 797, 798, 799, 800, 801, 802, 803, 804, 805, 806, 807, 808, 809, 810, 811, 812, 813, 814, 815, 816, 817, 818, 819, 820, 821, 822, 823, 824, 825, 826, 827, 828, 829, 830, 831, 832, 833, 834, 835, 836, 837, 838, 839, 840, 841, 842, 843, 844, 845, 846, 847, 848, 849, 850, 851, 852, 853, 854, 855, 856, 857, 858, 859, 860, 861, 862, 863, 864, 865, 866, 867, 868, 869, 870, 871, 872, 873, 874, 875, 876, 877, 878, 879, 880, 881, 882, 883, 884, 885, 886, 887, 888, 889, 890, 891, 892, 893, 894, 895, 896, 897, 898, 899, 900, 901, 902, 903, 904, 905, 906, 907, 908, 909, 910, 911, 912, 913, 914, 915, 916, 917, 918, 919, 920, 921, 922, 923, 924, 925, 926, 927, 928, 929, 930, 931, 932, 933, 934, 935, 936, 937, 938, 939, 940, 941, 942, 943, 944, 945, 946, 947, 948, 949, 950, 951, 952, 953, 954, 955, 956, 957, 958, 959, 960, 961, 962, 963, 964, 965, 966, 967, 968, 969, 970, 971, 972, 973, 974, 975, 976, 977, 978, 979, 980, 981, 982, 983, 984, 985, 986, 987, 988, 989, 990, 991, 992, 993, 994, 995, 996, 997, 998, 999, 1000, 1001, 1002, 1003, 1004, 1005, 1006, 1007, 1008, 1009, 1010, 1011, 1012, 1013, 1014, 1015, 1016, 1017, 1018, 1019, 1020, 1021, 1022, 1023, 1024, 1025, 1026, 1027, 1028, 1029, 1030, 1031, 1032, 1033, 1034, 1035, 1036, 1037, 1038, 1039, 1040, 1041, 1042, 1043, 1044, 1045, 1046, 1047, 1048, 1049, 1050, 1051, 1052, 1053, 1054, 1055, 1056, 1057, 1058, 1059, 1060, 1061, 1062, 1063, 1064, 1065, 1066, 1067, 1068, 1069, 1070, 1071, 1072, 1073, 1074, 1075, 1076, 1077, 1078, 1079, 1080, 1081, 1082, 1083, 1084, 1085, 1086, 1087, 1088, 1089, 1090, 1091, 1092, 1093, 1094, 1095, 1096, 1097, 1098, 1099, 1100, 1101, 1102, 1103, 1104, 1105, 1106, 1107, 1108, 1109, 1110, 1111, 1112, 1113, 1114, 1115, 1116, 1117, 1118, 1119, 1120, 1121, 1122, 1123, 1124, 1125, 1126, 1127, 1128, 1129, 1130, 1131, 1132, 1133, 1134, 1135, 1136, 1137, 1138, 1139, 1140, 1141, 1142, 1143, 1144, 1145, 1146, 1147, 1148, 1149, 1150, 1151, 1152, 1153, 1154, 1155, 1156, 1157, 1158, 1159, 1160, 1161, 1162, 1163, 1164, 1165, 1166, 1167, 1168, 1169, 1170, 1171, 1172, 1173, 1174, 1175, 1176, 1177, 1178, 1179, 1180, 1181, 1182, 1183, 1184, 1185, 1186, 1187, 1188, 1189, 1190, 1191, 1192, 1193, 1194, 1195, 1196, 1197, 1198, 1199, 1200, 1201, 1202, 1203, 1204, 1205, 1206, 1207, 1208, 1209, 1210, 1211, 1212, 1213, 1214, 1215, 1216, 1217, 1218, 1219, 1220, 1221, 1222, 1223, 1224, 1225, 1226, 1227, 1228, 1229, 1230, 1231, 1232, 1233, 1234, 1235, 1236, 1237, 1238, 1239, 1240, 1241, 1242, 1243, 1244, 1245, 1246, 1247, 1248, 1249, 1250, 1251, 1252, 1253, 1254, 1255, 1256, 1257, 1258, 1259, 1260, 1261, 1262, 1263, 1264, 1265, 1266, 1267, 1268, 1269, 1270, 1271, 1272, 1273, 1274, 1275, 1276, 1277, 1278, 1279, 1280, 1281, 1282, 1283, 1284, 1285, 1286, 1287, 1288, 1289, 1290, 1291, 1292, 1293, 1294, 1295, 1296, 1297, 1298, 1299, 1300, 1301, 1302, 1303, 1304, 1305, 1306, 1307, 1308, 1309, 1310, 1311, 1312, 1313, 1314, 1315, 1316, 1317, 1318, 1319, 1320, 1321, 1322, 1323, 1324, 1325, 1326, 1327, 1328, 1329, 1330, 1331, 1332, 1333, 1334, 1335, 1336, 1337, 1338, 1339, 1340, 1341, 1342, 1343, 1344, 1345, 1346, 1347, 1348, 1349, 1350, 1351, 1352, 1353, 1354, 1355, 1356, 1357, 1358, 1359, 1360, 1361, 1362, 1363, 1364, 1365, 1366, 1367, 1368, 1369, 1370, 1371, 1372, 1373, 1374, 1375, 1376, 1377, 1378, 1379, 1380, 1381, 1382, 1383, 1384, 1385, 1386, 1387, 1388, 1389, 1390, 1391, 1392, 1393, 1394, 1395, 1396, 1397, 1398, 1399, 1400, 1401, 1402, 1403, 1404, 1405, 1406, 1407, 1408, 1409, 1410, 1411, 1412, 1413, 1414, 1415, 1416, 1417, 1418, 1419, 1420, 1421, 1422, 1423, 1424, 1425, 1426, 1427, 1428, 1429, 1430, 1431, 1432, 1433, 1434, 1435, 1436, 1437, 1438, 1439, 1440, 1441, 1442, 1443, 1444, 1445, 1446, 1447, 1448, 1449, 1450, 1451, 1452, 1453, 1454, 1455, 1456, 1457, 1458, 1459, 1460, 1461, 1462, 1463, 1464, 1465, 1466, 1467, 1468, 1469, 1470, 1471, 1472, 1473, 1474, 1475, 1476, 1477, 1478, 1479, 1480, 1481, 1482, 1483, 1484, 1485, 1486, 1487, 1488, 1489, 1490, 1491, 1492, 1493, 1494, 1495, 1496, 1497, 1498, 1499, 1500, 1501, 1502, 1503, 1504, 1505, 1506, 1507, 1508, 1509, 1510, 1511, 1512, 1513, 1514, 1515, 1516, 1517, 1518, 1519, 1520, 1521, 1522, 1523, 1524, 1525, 1526, 1527, 1528, 1529, 1530, 1531, 1532, 1533, 1534, 1535, 1536, 1537, 1538, 1539, 1540, 1541, 1542, 1543, 1544, 1545, 1546, 1547, 1548, 1549, 1550, 1551, 1552, 1553, 1554, 1555, 1556, 1557, 1558, 1559, 1560, 1561, 1562, 1563, 1564, 1565, 1566, 1567, 1568, 1569, 1570, 1571, 1572, 1573, 1574, 1575, 1576, 1577, 1578, 1579, 1580, 1581, 1582, 1583, 1584, 1585, 1586, 1587, 1588, 1589, 1590, 1591, 1592, 1593, 1594, 1595, 1596, 1597, 1598, 1599, 1600, 1601, 1602, 1603, 1604, 1605, 1606, 1607, 1608, 1609, 1610, 1611, 1612, 1613, 1614, 1615, 1616, 1617, 1618, 1619, 1620, 1621, 1622, 1623, 1624, 1625, 1626, 1627, 1628, 1629, 1630, 1631, 1632, 1633, 1634, 1635, 1636, 1637, 1638, 1639, 1640, 1641, 1642, 1643, 1644, 1645, 1646, 1647, 1648, 1649, 1650, 1651, 1652, 1653, 1654, 1655, 1656, 1657, 1658, 1659, 1660, 1661, 1662, 1663, 1664, 1665, 1666, 1667, 1668, 1669, 1670, 1671, 1672, 1673, 1674, 1675, 1676, 1677, 1678, 1679, 1680, 1681, 1682, 1683, 1684, 1685, 1686, 1687, 1688, 1689, 1690, 1691, 1692, 1693, 1694, 1695, 1696, 1697, 1698, 1699, 1700, 1701, 1702, 1703, 1704, 1705, 1706, 1707, 1708, 1709, 1710, 1711, 1712, 1713, 1714, 1715, 1716, 1717, 1718, 1719, 1720, 1721, 1722, 1723, 1724, 1725, 1726, 1727, 1728, 1729, 1730, 1731, 1732, 1733, 1734, 1735, 1736, 1737, 1738, 1739, 1740, 1741, 1742, 1743, 1744, 1745, 1746, 1747, 1748, 1749, 1750, 1751, 1752, 1753, 1754, 1755, 1756, 1757, 1758, 1759, 1760, 1761, 1762, 1763, 1764, 1765, 1766, 1767, 1768, 1769, 1770, 1771, 1772, 1773, 1774, 1775, 1776, 1777, 1778, 1779, 1780, 1781, 1782, 1783, 1784, 1785, 1786, 1787, 1788, 1789, 1790, 1791, 1792, 1793, 1794, 1795, 1796, 1797, 1798, 1799, 1800, 1801, 1802, 1803, 1804, 1805, 1806, 1807, 1808, 1809, 1810, 1811, 1812, 1813, 1814, 1815, 1816, 1817, 1818, 1819, 1820, 1821, 1822, 1823, 1824, 1825, 1826, 1827, 1828, 1829, 1830, 1831, 1832, 1833, 1834, 1835, 1836, 1837, 1838, 1839, 1840, 1841, 1842, 1843, 1844, 1845, 1846, 1847, 1848, 1849, 1850, 1851, 1852, 1853, 1854, 1855, 1856, 1857, 1858, 1859, 1860, 1861, 1862, 1863, 1864, 1865, 1866, 1867, 1868, 1869, 1870, 1871, 1872, 1873, 1874, 1875, 1876, 1877, 1878, 1879, 1880, 1881, 1882, 1883, 1884, 1885, 1886, 1887, 1888, 1889, 1890, 1891, 1892, 1893, 1894, 1895, 1896, 1897, 1898, 1899, 1900, 1901, 1902, 1903, 1904, 1905, 1906, 1907, 1908, 1909, 1910, 1911, 1912, 1913, 1914, 1915, 1916, 1917, 1918, 1919, 1920, 1921, 1922, 1923, 1924, 1925, 1926, 1927, 1928, 1929, 1930, 1931, 1932, 1933, 1934, 1935, 1936, 1937, 1938, 1939, 1940, 1941, 1942, 1943, 1944, 1945, 1946, 1947, 1948, 1949, 1950, 1951, 1952, 1953, 1954, 1955, 1956, 1957, 1958, 1959, 1960, 1961, 1962, 1963, 1964, 1965, 1966, 1967, 1968, 1969, 1970, 1971, 1972, 1973, 1974, 1975, 1976, 1977, 1978, 1979, 1980, 1981, 1982, 1983, 1984, 1985, 1986, 1987, 1988, 1989, 1990, 1991, 1992, 1993, 1994, 1995, 1996, 1997, 1998, 1999, 2000, 2001}\n",
            "{'Thriller,\\xa0Mystery,\\xa0Drama', 'Animation,\\xa0Fantasy', 'Animation,\\xa0Action,\\xa0Comedy', 'Western,\\xa0Adventure,\\xa0Action,\\xa0Romance', 'Action,\\xa0Adventure,\\xa0Drama,\\xa0Thriller', 'Horror,\\xa0Thriller,\\xa0Fantasy', 'Adventure,\\xa0Action,\\xa0Fantasy', 'Animation,\\xa0Family,\\xa0Action,\\xa0Adventure,\\xa0Science Fiction', 'Action,\\xa0Animation,\\xa0Adventure,\\xa0Fantasy', 'Animation,\\xa0Science Fiction,\\xa0Family', 'Action,\\xa0Mystery,\\xa0Science Fiction,\\xa0Horror', 'Fantasy,\\xa0Horror,\\xa0Action,\\xa0Thriller', 'Comedy,\\xa0Adventure', 'Science Fiction,\\xa0Mystery,\\xa0Drama,\\xa0Thriller,\\xa0TV Movie', 'Action,\\xa0Adventure,\\xa0Crime,\\xa0Thriller', 'Adventure,\\xa0Action,\\xa0Science Fiction', 'Family,\\xa0Comedy', 'Adventure,\\xa0Comedy,\\xa0Crime,\\xa0Science Fiction', 'Horror,\\xa0Mystery,\\xa0Fantasy', 'Family,\\xa0Adventure,\\xa0Animation', 'Crime,\\xa0Drama,\\xa0Thriller', 'Action,\\xa0Adventure,\\xa0Comedy,\\xa0Thriller', 'Action,\\xa0Mystery,\\xa0Science Fiction', 'Thriller,\\xa0Action,\\xa0Crime', 'Fantasy,\\xa0Horror,\\xa0Comedy', 'Action,\\xa0Comedy,\\xa0Animation', 'Fantasy,\\xa0Romance,\\xa0Comedy', 'Drama,\\xa0Adventure,\\xa0Family', 'Adventure,\\xa0Horror,\\xa0Action,\\xa0Science Fiction', 'Crime,\\xa0Comedy,\\xa0Adventure', 'Music', 'Adventure,\\xa0Drama,\\xa0History,\\xa0War', 'Drama,\\xa0Family,\\xa0Fantasy,\\xa0TV Movie', 'Family,\\xa0Adventure,\\xa0Drama', 'History,\\xa0Drama,\\xa0Thriller,\\xa0War', 'Adventure,\\xa0Animation,\\xa0Comedy,\\xa0Family,\\xa0Fantasy,\\xa0Music', 'Action,\\xa0Adventure,\\xa0Drama,\\xa0Fantasy,\\xa0Animation', 'Horror,\\xa0Mystery,\\xa0Thriller', 'Animation,\\xa0Family,\\xa0Fantasy', 'Drama,\\xa0Romance,\\xa0Science Fiction,\\xa0Adventure', 'Action,\\xa0Comedy,\\xa0Science Fiction', 'Family,\\xa0Adventure,\\xa0Drama,\\xa0Fantasy', 'Crime,\\xa0Drama,\\xa0Mystery', 'Fantasy,\\xa0Adventure', 'Horror', 'Adventure,\\xa0Fantasy,\\xa0Action,\\xa0Comedy,\\xa0Thriller', 'Comedy,\\xa0Family,\\xa0TV Movie', 'TV Movie,\\xa0Comedy,\\xa0Romance', 'Adventure,\\xa0Drama,\\xa0Fantasy', 'Comedy,\\xa0Adventure,\\xa0Family', 'Action,\\xa0Drama,\\xa0Adventure,\\xa0TV Movie', 'Horror,\\xa0Action,\\xa0Fantasy', 'Action,\\xa0Drama,\\xa0Crime', 'Thriller,\\xa0Crime,\\xa0Action', 'Adventure,\\xa0Animation', 'Animation,\\xa0Comedy,\\xa0Family,\\xa0Romance', 'Crime,\\xa0Action,\\xa0Comedy,\\xa0Thriller', 'Action,\\xa0Science Fiction,\\xa0Animation', 'Drama,\\xa0History', 'Documentary,\\xa0Music', 'Thriller,\\xa0Drama,\\xa0Crime', 'Music,\\xa0Fantasy,\\xa0Comedy,\\xa0Science Fiction,\\xa0Family,\\xa0TV Movie', 'Horror,\\xa0Fantasy,\\xa0Action,\\xa0Science Fiction', 'Animation,\\xa0Action,\\xa0Adventure,\\xa0Comedy,\\xa0Family', 'Action,\\xa0Adventure,\\xa0History,\\xa0Drama', 'Science Fiction,\\xa0Thriller,\\xa0Mystery', 'Thriller,\\xa0Comedy,\\xa0Action', 'Thriller,\\xa0Science Fiction,\\xa0Action,\\xa0Adventure', 'Action,\\xa0Adventure,\\xa0Science Fiction,\\xa0Thriller', 'Fantasy,\\xa0Drama,\\xa0Romance', 'Comedy,\\xa0Adventure,\\xa0Family,\\xa0Fantasy', 'Comedy,\\xa0Romance', 'Action,\\xa0Adventure,\\xa0Comedy,\\xa0Family,\\xa0Science Fiction', 'Thriller,\\xa0Crime,\\xa0Romance,\\xa0Drama', 'Thriller,\\xa0TV Movie,\\xa0Drama', 'Animation,\\xa0Comedy', 'Action,\\xa0Adventure,\\xa0Science Fiction,\\xa0Fantasy', 'Adventure,\\xa0Animation,\\xa0Drama,\\xa0Family', 'Adventure,\\xa0Fantasy,\\xa0Drama,\\xa0Science Fiction,\\xa0Romance,\\xa0Family', 'Horror,\\xa0Crime,\\xa0Drama', 'Animation,\\xa0Family,\\xa0Adventure,\\xa0Comedy,\\xa0Science Fiction,\\xa0Action,\\xa0TV Movie', 'Action,\\xa0Adventure,\\xa0Drama,\\xa0Family', 'Science Fiction,\\xa0Family,\\xa0Comedy,\\xa0Animation', 'History,\\xa0Drama,\\xa0Comedy', 'Fantasy,\\xa0Animation,\\xa0Comedy,\\xa0Family,\\xa0Adventure', 'Adventure,\\xa0Horror,\\xa0Comedy,\\xa0Family', 'Adventure,\\xa0Mystery,\\xa0Animation', 'Thriller,\\xa0Horror,\\xa0Drama', 'Crime,\\xa0Thriller', 'Family,\\xa0Comedy,\\xa0Drama,\\xa0Romance', 'Animation,\\xa0Family,\\xa0Fantasy,\\xa0Comedy,\\xa0Adventure,\\xa0Mystery', 'Drama,\\xa0Fantasy,\\xa0Romance', 'Family,\\xa0Fantasy,\\xa0Drama', 'War,\\xa0Drama,\\xa0TV Movie', 'Comedy,\\xa0Fantasy,\\xa0Adventure', 'Adventure,\\xa0Animation,\\xa0Family,\\xa0Comedy,\\xa0Mystery,\\xa0Science Fiction', 'Adventure,\\xa0Action,\\xa0Horror', 'Adventure,\\xa0Fantasy,\\xa0Action,\\xa0Science Fiction', 'Animation,\\xa0Horror,\\xa0Adventure,\\xa0Comedy,\\xa0Family', 'Thriller,\\xa0Animation,\\xa0Fantasy', 'Adventure,\\xa0Comedy,\\xa0Family,\\xa0Fantasy', 'Mystery,\\xa0Drama', 'Animation,\\xa0Action,\\xa0Science Fiction', 'Comedy,\\xa0Drama,\\xa0Romance', 'Fantasy,\\xa0Romance,\\xa0Horror,\\xa0Comedy', 'Adventure,\\xa0Horror,\\xa0Thriller', 'Animation,\\xa0Action,\\xa0Fantasy', 'Fantasy,\\xa0Action,\\xa0Adventure,\\xa0Family', 'Comedy,\\xa0Action,\\xa0Thriller', 'Animation,\\xa0Drama,\\xa0Fantasy,\\xa0Romance', 'Drama,\\xa0Music,\\xa0Romance,\\xa0Comedy', 'Mystery,\\xa0Crime,\\xa0Thriller', 'Animation,\\xa0Drama,\\xa0Romance,\\xa0Fantasy', 'Horror,\\xa0Action,\\xa0Thriller,\\xa0Crime', 'Comedy,\\xa0Animation,\\xa0Family,\\xa0Fantasy', 'Animation,\\xa0Drama,\\xa0Adventure,\\xa0Science Fiction', 'Adventure,\\xa0Animation,\\xa0Comedy,\\xa0Family,\\xa0Music', 'Romance', 'Adventure,\\xa0Action,\\xa0Crime,\\xa0Mystery', 'Animation,\\xa0Adventure,\\xa0Family,\\xa0Fantasy', 'Action,\\xa0Crime,\\xa0Drama,\\xa0Thriller', 'Comedy,\\xa0War,\\xa0Drama', 'Drama,\\xa0War', 'Drama,\\xa0Mystery,\\xa0Thriller', 'Science Fiction,\\xa0Animation,\\xa0Action', 'Family,\\xa0Comedy,\\xa0Adventure,\\xa0Crime,\\xa0Drama', 'Comedy,\\xa0Drama,\\xa0Fantasy', 'Drama,\\xa0Music', 'Animation,\\xa0Comedy,\\xa0Family,\\xa0Fantasy,\\xa0Horror', 'Science Fiction,\\xa0Comedy,\\xa0Action', 'Action,\\xa0Drama', 'History,\\xa0Adventure,\\xa0War,\\xa0Action', 'Comedy,\\xa0Romance,\\xa0Drama', 'Crime,\\xa0Thriller,\\xa0Drama', 'Comedy,\\xa0Drama,\\xa0Family,\\xa0Romance', 'Romance,\\xa0Comedy,\\xa0Family', 'Adventure,\\xa0Comedy,\\xa0Drama,\\xa0Family', 'Thriller,\\xa0Drama,\\xa0History', 'Thriller,\\xa0Horror', 'Comedy,\\xa0Family,\\xa0Animation', 'Western,\\xa0Drama', 'Crime,\\xa0Action,\\xa0Drama', 'Animation,\\xa0Drama,\\xa0Romance', 'Comedy,\\xa0Action,\\xa0Drama', 'Horror,\\xa0Crime,\\xa0Thriller', 'Documentary,\\xa0Animation', 'Fantasy,\\xa0Thriller,\\xa0Crime', 'War,\\xa0Action,\\xa0History,\\xa0Drama', 'Action,\\xa0Adventure,\\xa0Fantasy,\\xa0TV Movie', 'Horror,\\xa0Drama', 'Action,\\xa0Comedy', 'Thriller,\\xa0Crime,\\xa0Drama', 'Animation,\\xa0Family,\\xa0Comedy,\\xa0Fantasy,\\xa0Drama', 'Animation,\\xa0Action,\\xa0Adventure,\\xa0Drama,\\xa0Mystery', 'Action,\\xa0Adventure,\\xa0Fantasy', 'Fantasy,\\xa0Drama,\\xa0Horror', 'Adventure', 'Romance,\\xa0Drama,\\xa0TV Movie', 'Action,\\xa0Adventure,\\xa0Fantasy,\\xa0Science Fiction', 'Animation,\\xa0Family,\\xa0TV Movie,\\xa0Comedy,\\xa0Fantasy', 'Action,\\xa0Crime,\\xa0Fantasy', 'Action,\\xa0Crime,\\xa0Science Fiction', 'Action,\\xa0Adventure,\\xa0Crime,\\xa0War', 'Fantasy', 'Fantasy,\\xa0Family,\\xa0Adventure,\\xa0Action,\\xa0Comedy', 'Thriller,\\xa0Action', 'Drama,\\xa0Action,\\xa0Thriller', 'Family,\\xa0Adventure,\\xa0Action,\\xa0Comedy', 'Drama,\\xa0Horror,\\xa0Crime', 'Drama,\\xa0Western,\\xa0Thriller', 'Mystery,\\xa0Animation,\\xa0Family,\\xa0Adventure,\\xa0Comedy,\\xa0Fantasy', 'Drama,\\xa0Crime,\\xa0Thriller', 'Romance,\\xa0Thriller,\\xa0Drama', 'Crime,\\xa0Action,\\xa0Drama,\\xa0Thriller', 'Adventure,\\xa0Family,\\xa0TV Movie', 'Science Fiction,\\xa0Animation,\\xa0Drama', 'Action,\\xa0Science Fiction,\\xa0TV Movie', 'Animation,\\xa0Adventure,\\xa0Family,\\xa0Action,\\xa0Comedy,\\xa0Science Fiction', 'Crime,\\xa0Drama,\\xa0Thriller,\\xa0Action', 'Animation,\\xa0Comedy,\\xa0Drama', 'Action,\\xa0Animation,\\xa0Adventure', 'Animation,\\xa0Drama,\\xa0Romance,\\xa0Comedy', 'Animation,\\xa0Drama,\\xa0Fantasy,\\xa0Family', 'Action,\\xa0History,\\xa0Drama,\\xa0War', 'Thriller,\\xa0Crime,\\xa0Drama,\\xa0Horror', 'Action,\\xa0Adventure,\\xa0Drama,\\xa0Fantasy,\\xa0Romance', 'Drama,\\xa0Romance,\\xa0Comedy', 'Drama,\\xa0Thriller,\\xa0War', 'Animation,\\xa0Action,\\xa0Adventure,\\xa0Family,\\xa0Fantasy,\\xa0Romance', 'Music,\\xa0Drama', 'Animation,\\xa0Action,\\xa0Crime', 'Crime,\\xa0Horror,\\xa0Thriller', 'Action,\\xa0Science Fiction,\\xa0Drama', 'Romance,\\xa0Western', 'Thriller,\\xa0History,\\xa0Drama', 'Family,\\xa0Adventure', 'Family,\\xa0Animation,\\xa0Adventure,\\xa0Fantasy', 'Animation,\\xa0Fantasy,\\xa0Action,\\xa0TV Movie', 'Crime,\\xa0Drama,\\xa0Horror,\\xa0Thriller', 'Thriller,\\xa0Horror,\\xa0Mystery', 'Science Fiction,\\xa0Horror,\\xa0Action', 'Western,\\xa0Action,\\xa0Drama', 'Crime,\\xa0Mystery,\\xa0Thriller', 'Animation,\\xa0Family', 'Science Fiction,\\xa0Thriller,\\xa0Drama', 'Adventure,\\xa0Comedy,\\xa0Family,\\xa0Animation', 'Horror,\\xa0Mystery,\\xa0Science Fiction', 'Romance,\\xa0Family,\\xa0Animation,\\xa0Fantasy', 'Adventure,\\xa0Comedy', 'Comedy,\\xa0Drama,\\xa0War', 'Family,\\xa0Animation,\\xa0Romance,\\xa0Fantasy', 'Romance,\\xa0Action,\\xa0Comedy,\\xa0Crime', 'Family,\\xa0Music,\\xa0Comedy,\\xa0Drama,\\xa0TV Movie,\\xa0Romance', 'Romance,\\xa0Family,\\xa0Drama', 'Thriller,\\xa0Drama,\\xa0Mystery,\\xa0Crime', 'Action,\\xa0Comedy,\\xa0Thriller,\\xa0Romance', 'Animation,\\xa0Action,\\xa0Comedy,\\xa0Family,\\xa0Science Fiction', 'Crime,\\xa0Action,\\xa0Thriller', 'Romance,\\xa0Drama', 'Science Fiction,\\xa0Action,\\xa0Animation', 'Comedy', 'Action,\\xa0Animation,\\xa0Comedy', 'Comedy,\\xa0Family,\\xa0Romance', 'Comedy,\\xa0Fantasy', 'Action,\\xa0Western,\\xa0Thriller', 'Family,\\xa0Adventure,\\xa0Comedy', 'Horror,\\xa0Music', 'Comedy,\\xa0Crime,\\xa0Drama,\\xa0History', 'Fantasy,\\xa0Animation,\\xa0Science Fiction,\\xa0Family,\\xa0Action', 'Comedy,\\xa0Crime,\\xa0Drama,\\xa0Thriller', 'Adventure,\\xa0Family,\\xa0Action,\\xa0Fantasy', 'Crime', 'Mystery,\\xa0Horror,\\xa0Science Fiction', 'Comedy,\\xa0Animation', 'TV Movie,\\xa0Comedy,\\xa0Horror', 'Drama,\\xa0Science Fiction', 'Family,\\xa0Fantasy,\\xa0Comedy,\\xa0Adventure,\\xa0Music,\\xa0TV Movie', 'Drama,\\xa0War,\\xa0Romance,\\xa0History', 'Animation,\\xa0Drama,\\xa0Family,\\xa0History', 'Drama,\\xa0Horror,\\xa0Science Fiction', 'Action,\\xa0War', 'Action,\\xa0Science Fiction', 'Horror,\\xa0Action,\\xa0Adventure,\\xa0Thriller', 'Fantasy,\\xa0Drama,\\xa0Comedy,\\xa0Science Fiction', 'Crime,\\xa0Thriller,\\xa0Action', 'Comedy,\\xa0Crime,\\xa0Adventure', 'Crime,\\xa0Comedy,\\xa0Action', 'Family,\\xa0Animation,\\xa0Comedy,\\xa0Action', 'Adventure,\\xa0History,\\xa0Action', 'Drama,\\xa0Family,\\xa0Animation,\\xa0Adventure', 'Horror,\\xa0Romance', 'Animation,\\xa0Family,\\xa0Adventure,\\xa0Comedy,\\xa0Fantasy', 'Drama,\\xa0Comedy,\\xa0Music', 'Horror,\\xa0War,\\xa0Science Fiction', 'Fantasy,\\xa0Adventure,\\xa0Animation,\\xa0Family', 'Thriller,\\xa0Drama,\\xa0Mystery', 'Action,\\xa0Animation,\\xa0Adventure,\\xa0Comedy,\\xa0Fantasy,\\xa0Science Fiction', 'Action,\\xa0Adventure,\\xa0Animation,\\xa0Comedy', 'Thriller,\\xa0Science Fiction', 'Comedy,\\xa0Crime,\\xa0Mystery', 'Thriller,\\xa0Animation,\\xa0Action,\\xa0Crime', 'Adventure,\\xa0Family,\\xa0Fantasy', 'Adventure,\\xa0Action,\\xa0Thriller,\\xa0Science Fiction', 'Adventure,\\xa0Fantasy,\\xa0Mystery', 'Animation,\\xa0Adventure,\\xa0Comedy,\\xa0Family', 'Drama,\\xa0History,\\xa0Horror', 'Action,\\xa0Adventure,\\xa0Crime', 'Comedy,\\xa0Drama,\\xa0Crime', 'Action,\\xa0Comedy,\\xa0Family', 'Fantasy,\\xa0Action,\\xa0Adventure,\\xa0Drama', 'Action,\\xa0Adventure,\\xa0Comedy,\\xa0Family,\\xa0Fantasy,\\xa0Science Fiction', 'Drama,\\xa0Romance,\\xa0Thriller', 'Thriller,\\xa0Crime,\\xa0Horror', 'Action,\\xa0Drama,\\xa0Mystery,\\xa0Thriller,\\xa0Crime', 'Animation,\\xa0Fantasy,\\xa0Adventure', 'Drama,\\xa0Western', 'Mystery,\\xa0Thriller', 'Fantasy,\\xa0Adventure,\\xa0Action', 'Action,\\xa0Science Fiction,\\xa0Horror', 'Animation,\\xa0Fantasy,\\xa0Family', 'Action,\\xa0Comedy,\\xa0Drama', 'Horror,\\xa0Action,\\xa0TV Movie', 'Family,\\xa0Animation,\\xa0Action,\\xa0Adventure,\\xa0Comedy', 'Action', 'Fantasy,\\xa0Drama,\\xa0History', 'Animation,\\xa0Thriller', 'Animation,\\xa0Family,\\xa0Comedy,\\xa0Adventure', 'Drama,\\xa0Music,\\xa0History', 'Drama,\\xa0Crime', 'Family,\\xa0Comedy,\\xa0Adventure,\\xa0Animation,\\xa0Fantasy', 'Comedy,\\xa0Adventure,\\xa0Action', 'Adventure,\\xa0Animation,\\xa0Fantasy', 'Adventure,\\xa0Fantasy,\\xa0Action', 'Comedy,\\xa0Adventure,\\xa0Romance', 'Drama,\\xa0Thriller,\\xa0Crime,\\xa0Romance', 'Drama,\\xa0Romance', 'Action,\\xa0Horror,\\xa0Comedy,\\xa0Science Fiction,\\xa0Thriller', 'Mystery,\\xa0Science Fiction,\\xa0Thriller', 'Action,\\xa0Thriller,\\xa0Horror', 'Action,\\xa0Drama,\\xa0Romance', 'Western,\\xa0Action', 'Crime,\\xa0Comedy,\\xa0Drama', 'Action,\\xa0Drama,\\xa0Mystery,\\xa0Thriller', 'Comedy,\\xa0Music,\\xa0Drama', 'Adventure,\\xa0Comedy,\\xa0Family', 'Action,\\xa0Drama,\\xa0Science Fiction', 'Animation,\\xa0Comedy,\\xa0Family,\\xa0Science Fiction,\\xa0Adventure,\\xa0TV Movie', 'Romance,\\xa0Drama,\\xa0Thriller,\\xa0Crime', 'Adventure,\\xa0Comedy,\\xa0Romance', 'Animation,\\xa0Mystery,\\xa0Drama,\\xa0Horror,\\xa0Adventure', 'Action,\\xa0Adventure,\\xa0Comedy', 'Comedy,\\xa0Fantasy,\\xa0Romance', 'TV Movie,\\xa0Drama', 'Drama,\\xa0Action,\\xa0Comedy', 'Horror,\\xa0Thriller,\\xa0Comedy', 'Thriller,\\xa0Animation,\\xa0Action,\\xa0Comedy,\\xa0Horror,\\xa0Mystery', 'Drama,\\xa0Action,\\xa0Crime', 'Adventure,\\xa0Fantasy,\\xa0Comedy,\\xa0Family,\\xa0Horror', 'Drama,\\xa0Mystery,\\xa0Thriller,\\xa0Crime', 'Family,\\xa0Animation,\\xa0Fantasy,\\xa0Adventure,\\xa0Comedy', 'Comedy,\\xa0Fantasy,\\xa0Science Fiction', 'Family,\\xa0Animation,\\xa0Comedy,\\xa0Action,\\xa0Adventure', 'Adventure,\\xa0Action,\\xa0Animation', 'Action,\\xa0Adventure,\\xa0Animation,\\xa0Family,\\xa0Science Fiction', 'Romance,\\xa0Music,\\xa0Drama', 'Fantasy,\\xa0Adventure,\\xa0Family,\\xa0Action', 'Animation,\\xa0Family,\\xa0Comedy,\\xa0Science Fiction', 'Drama,\\xa0Music,\\xa0Romance', 'Adventure,\\xa0Science Fiction,\\xa0Action', 'Adventure,\\xa0Fantasy,\\xa0Action,\\xa0Thriller', 'Family,\\xa0Romance', 'Drama,\\xa0Thriller', 'Action,\\xa0Adventure,\\xa0Family,\\xa0Fantasy', 'Animation,\\xa0Family,\\xa0Adventure,\\xa0Mystery', 'Drama,\\xa0Action,\\xa0Crime,\\xa0Thriller', 'Family,\\xa0Fantasy', 'Animation,\\xa0Action,\\xa0Adventure,\\xa0Family,\\xa0Comedy', 'Action,\\xa0Comedy,\\xa0Thriller,\\xa0Crime,\\xa0Mystery', 'Animation,\\xa0Drama,\\xa0Adventure,\\xa0Fantasy', 'Action,\\xa0Adventure,\\xa0History', 'Drama,\\xa0Romance,\\xa0Science Fiction', 'Action,\\xa0Adventure,\\xa0Drama,\\xa0Romance', 'Crime,\\xa0Comedy', 'Family,\\xa0Fantasy,\\xa0Animation,\\xa0Comedy', 'Animation,\\xa0Action,\\xa0Adventure', 'Western,\\xa0Action,\\xa0Adventure', 'Animation,\\xa0Science Fiction,\\xa0Action,\\xa0Adventure,\\xa0Family', 'Comedy,\\xa0Horror,\\xa0Science Fiction', 'War,\\xa0Drama,\\xa0Action', 'Fantasy,\\xa0Thriller,\\xa0Action,\\xa0Adventure,\\xa0Horror', 'TV Movie,\\xa0Music', 'Fantasy,\\xa0Animation,\\xa0Adventure', 'Adventure,\\xa0Action,\\xa0Western', 'Drama,\\xa0Horror,\\xa0Romance,\\xa0Science Fiction', 'Action,\\xa0Fantasy', 'Action,\\xa0Adventure,\\xa0Fantasy,\\xa0Family', 'Action,\\xa0History,\\xa0Drama', 'Mystery,\\xa0Thriller,\\xa0Crime', 'Comedy,\\xa0Family', 'Horror,\\xa0Fantasy', 'Fantasy,\\xa0Romance', 'Action,\\xa0Adventure,\\xa0Drama', 'Family,\\xa0Animation,\\xa0Music', 'Adventure,\\xa0Action,\\xa0Drama,\\xa0Fantasy', 'Comedy,\\xa0Romance,\\xa0Crime', 'Horror,\\xa0Drama,\\xa0Science Fiction', 'Drama,\\xa0Romance,\\xa0War', 'Fantasy,\\xa0Horror', 'Animation,\\xa0Romance,\\xa0Science Fiction,\\xa0Comedy,\\xa0Family', 'Western,\\xa0Drama,\\xa0Mystery', 'TV Movie,\\xa0Family,\\xa0Comedy,\\xa0Fantasy', 'Animation,\\xa0Family,\\xa0Fantasy,\\xa0Adventure,\\xa0Drama', 'Action,\\xa0Adventure,\\xa0Science Fiction', 'Science Fiction,\\xa0Comedy,\\xa0Adventure', 'Animation,\\xa0Family,\\xa0TV Movie', 'Animation,\\xa0Horror,\\xa0Action,\\xa0Comedy', 'Adventure,\\xa0Animation,\\xa0Comedy,\\xa0Fantasy,\\xa0Family', 'Action,\\xa0Animation,\\xa0Science Fiction', 'Adventure,\\xa0Thriller,\\xa0Horror', 'Action,\\xa0Adventure,\\xa0Fantasy,\\xa0Animation', 'Science Fiction,\\xa0Action,\\xa0Adventure', 'Thriller,\\xa0Action,\\xa0Adventure,\\xa0Crime', 'Romance,\\xa0Thriller', 'Romance,\\xa0Adventure', 'Crime,\\xa0Drama,\\xa0Horror,\\xa0Mystery,\\xa0Thriller', 'Thriller,\\xa0Romance', 'Fantasy,\\xa0Adventure,\\xa0Comedy', 'Fantasy,\\xa0Animation,\\xa0Adventure,\\xa0Action,\\xa0Drama', 'Action,\\xa0Horror,\\xa0Mystery,\\xa0Science Fiction,\\xa0Thriller', 'Animation,\\xa0War,\\xa0Action,\\xa0Science Fiction', 'War,\\xa0Action,\\xa0Comedy,\\xa0Drama', 'Crime,\\xa0Drama', 'Science Fiction,\\xa0Adventure,\\xa0Action,\\xa0Comedy,\\xa0Family', 'Comedy,\\xa0Action', 'Animation,\\xa0Adventure,\\xa0Comedy', 'Romance,\\xa0Fantasy,\\xa0Animation', 'Crime,\\xa0Thriller,\\xa0Drama,\\xa0Romance', 'Crime,\\xa0Drama,\\xa0Romance,\\xa0Thriller', 'Comedy,\\xa0Drama,\\xa0Fantasy,\\xa0Romance', 'Fantasy,\\xa0Comedy,\\xa0Adventure', 'Animation,\\xa0Fantasy,\\xa0Music,\\xa0Adventure,\\xa0Comedy,\\xa0Family', 'Family,\\xa0Animation,\\xa0Comedy,\\xa0Adventure', 'Adventure,\\xa0History', 'Drama,\\xa0Comedy,\\xa0Horror', 'Family,\\xa0Action,\\xa0Animation,\\xa0Adventure,\\xa0Fantasy,\\xa0Science Fiction', 'Fantasy,\\xa0Drama', 'Action,\\xa0Horror,\\xa0Science Fiction', 'Fantasy,\\xa0Animation,\\xa0Science Fiction,\\xa0Family', 'Drama,\\xa0History,\\xa0War', 'Horror,\\xa0Drama,\\xa0Thriller,\\xa0Fantasy', 'Science Fiction,\\xa0Adventure,\\xa0Action,\\xa0Comedy,\\xa0Thriller', 'Action,\\xa0Adventure,\\xa0Horror,\\xa0Science Fiction,\\xa0Thriller', 'Animation,\\xa0Action,\\xa0Thriller', 'Family,\\xa0Adventure,\\xa0Fantasy,\\xa0Romance,\\xa0Drama', 'Science Fiction,\\xa0Horror', 'Animation,\\xa0Comedy,\\xa0TV Movie', 'Drama,\\xa0Science Fiction,\\xa0Thriller', 'Family,\\xa0Drama', 'Animation,\\xa0Family,\\xa0Comedy,\\xa0Mystery,\\xa0Science Fiction', 'Horror,\\xa0Science Fiction,\\xa0Thriller', 'Action,\\xa0Thriller,\\xa0Adventure', 'Animation,\\xa0Action,\\xa0Comedy,\\xa0Family', 'Drama,\\xa0Horror,\\xa0Thriller,\\xa0Mystery', 'Action,\\xa0Adventure,\\xa0Fantasy,\\xa0Romance', 'Action,\\xa0Drama,\\xa0Romance,\\xa0Thriller', 'Comedy,\\xa0Horror,\\xa0War', 'Animation,\\xa0Adventure,\\xa0Drama,\\xa0Fantasy,\\xa0Science Fiction', 'Action,\\xa0Crime,\\xa0Thriller,\\xa0Drama', 'Animation,\\xa0Family,\\xa0Science Fiction', 'War,\\xa0Action,\\xa0Thriller', 'TV Movie,\\xa0Mystery,\\xa0Thriller,\\xa0Drama', 'Music,\\xa0Romance,\\xa0Drama', 'Comedy,\\xa0Drama,\\xa0Thriller', 'Action,\\xa0Crime,\\xa0Mystery,\\xa0Thriller', 'Animation,\\xa0Comedy,\\xa0Fantasy,\\xa0Adventure,\\xa0Family', 'Mystery,\\xa0Adventure,\\xa0Comedy,\\xa0Romance,\\xa0Drama', 'Animation,\\xa0Fantasy,\\xa0Horror,\\xa0Action,\\xa0Mystery', 'Action,\\xa0Crime,\\xa0Thriller', 'Action,\\xa0Adventure,\\xa0Crime,\\xa0Drama', 'Action,\\xa0Adventure,\\xa0Comedy,\\xa0Science Fiction', 'Drama,\\xa0Fantasy', 'Science Fiction,\\xa0Adventure,\\xa0Thriller', 'Adventure,\\xa0Drama,\\xa0Western', 'Animation,\\xa0Family,\\xa0Adventure,\\xa0Science Fiction', 'Animation,\\xa0Family,\\xa0Action,\\xa0Adventure,\\xa0Drama,\\xa0Fantasy', 'Thriller,\\xa0Crime,\\xa0Mystery', 'Western,\\xa0Adventure,\\xa0Action', 'Comedy,\\xa0Documentary,\\xa0Action', 'Drama,\\xa0Family,\\xa0Music,\\xa0Romance', 'Drama,\\xa0Romance,\\xa0Crime', 'Comedy,\\xa0Music', 'Comedy,\\xa0Crime,\\xa0Action', 'Adventure,\\xa0Family,\\xa0Animation', 'Fantasy,\\xa0Animation,\\xa0Action,\\xa0Thriller,\\xa0Family', 'Horror,\\xa0Science Fiction,\\xa0Drama,\\xa0Thriller', 'Thriller,\\xa0Action,\\xa0Comedy,\\xa0Crime', 'Family,\\xa0Animation,\\xa0Adventure,\\xa0Comedy,\\xa0Fantasy', 'Comedy,\\xa0Animation,\\xa0Adventure', 'Drama,\\xa0Science Fiction,\\xa0Adventure', 'Animation,\\xa0Drama,\\xa0Family', 'Thriller,\\xa0Drama,\\xa0Adventure', 'Action,\\xa0Adventure,\\xa0Crime,\\xa0Drama,\\xa0Romance,\\xa0Thriller', 'Science Fiction,\\xa0Thriller', 'Comedy,\\xa0Crime,\\xa0Action,\\xa0Drama', 'Adventure,\\xa0Action', 'Action,\\xa0Animation,\\xa0Adventure,\\xa0Comedy', 'Family,\\xa0Animation,\\xa0Mystery,\\xa0Comedy', 'Action,\\xa0Fantasy,\\xa0Horror', 'Drama,\\xa0Crime,\\xa0Action', 'Adventure,\\xa0Fantasy,\\xa0Animation,\\xa0Drama,\\xa0Family', 'Fantasy,\\xa0Comedy,\\xa0Family', 'Animation,\\xa0Fantasy,\\xa0Adventure,\\xa0Action,\\xa0Family', 'Comedy,\\xa0Horror', 'Science Fiction', 'Drama,\\xa0Thriller,\\xa0Mystery', 'Science Fiction,\\xa0Action,\\xa0Horror', 'Action,\\xa0Animation,\\xa0History', 'Animation,\\xa0Action,\\xa0Adventure,\\xa0Crime,\\xa0Comedy,\\xa0Family', 'Action,\\xa0Animation,\\xa0Crime,\\xa0Mystery', 'Action,\\xa0Comedy,\\xa0Romance', 'Action,\\xa0Adventure', 'Horror,\\xa0Thriller,\\xa0Science Fiction', 'Science Fiction,\\xa0Action,\\xa0Adventure,\\xa0Thriller', 'Drama,\\xa0Thriller,\\xa0Romance', 'Drama', 'Family,\\xa0Comedy,\\xa0Drama', 'Mystery,\\xa0Drama,\\xa0Thriller,\\xa0Romance,\\xa0War', 'Romance,\\xa0Adventure,\\xa0Action,\\xa0History', 'Action,\\xa0Animation,\\xa0Drama,\\xa0Romance', 'War,\\xa0Action,\\xa0Adventure,\\xa0Thriller', 'Thriller,\\xa0Drama,\\xa0Action', 'Animation,\\xa0Family,\\xa0Comedy', 'Action,\\xa0Fantasy,\\xa0Science Fiction,\\xa0Adventure', 'Comedy,\\xa0Drama,\\xa0Mystery', 'Action,\\xa0Adventure,\\xa0Comedy,\\xa0Fantasy,\\xa0Romance,\\xa0Animation', 'Family,\\xa0Animation,\\xa0Action,\\xa0Adventure,\\xa0Fantasy,\\xa0Science Fiction', 'Action,\\xa0Drama,\\xa0Fantasy', 'Comedy,\\xa0Crime,\\xa0Mystery,\\xa0Thriller', 'Music,\\xa0Comedy', 'Drama,\\xa0Romance,\\xa0Fantasy', 'Comedy,\\xa0Romance,\\xa0Drama,\\xa0Adventure', 'Western', 'Adventure,\\xa0Science Fiction,\\xa0TV Movie,\\xa0Horror,\\xa0Fantasy,\\xa0Mystery', 'Adventure,\\xa0Fantasy,\\xa0Animation,\\xa0Action,\\xa0Science Fiction', 'Animation,\\xa0Action,\\xa0Fantasy,\\xa0Adventure', 'Comedy,\\xa0Fantasy,\\xa0Horror', 'Science Fiction,\\xa0Drama,\\xa0Mystery', 'Family,\\xa0Comedy,\\xa0Adventure', 'Fantasy,\\xa0Action', 'Comedy,\\xa0Drama,\\xa0Fantasy,\\xa0Horror', 'Drama,\\xa0Action,\\xa0Adventure,\\xa0History,\\xa0War', 'Drama,\\xa0Action,\\xa0Thriller,\\xa0Crime,\\xa0Mystery', 'Thriller,\\xa0Drama,\\xa0Romance', 'History,\\xa0Adventure', 'Action,\\xa0Fantasy,\\xa0TV Movie', 'Romance,\\xa0Drama,\\xa0History', 'Horror,\\xa0Mystery', 'Comedy,\\xa0Romance,\\xa0Fantasy', 'Horror,\\xa0Drama,\\xa0Fantasy', 'Horror,\\xa0Action', 'Horror,\\xa0Thriller,\\xa0Mystery', 'Adventure,\\xa0Action,\\xa0Comedy,\\xa0Romance', 'Fantasy,\\xa0Action,\\xa0Thriller,\\xa0Science Fiction', 'Fantasy,\\xa0Science Fiction,\\xa0Adventure', 'Drama,\\xa0Comedy,\\xa0Romance', 'Action,\\xa0Drama,\\xa0History,\\xa0War', 'Family,\\xa0Animation,\\xa0Adventure,\\xa0Comedy', 'Animation,\\xa0Family,\\xa0Action,\\xa0Comedy', 'Comedy,\\xa0Romance,\\xa0Science Fiction', 'Drama,\\xa0Mystery', 'Action,\\xa0Family', 'Comedy,\\xa0Drama,\\xa0Family', 'Action,\\xa0Thriller,\\xa0Crime,\\xa0Mystery', 'Adventure,\\xa0Animation,\\xa0Action', 'Animation,\\xa0Science Fiction,\\xa0War', 'Family,\\xa0Adventure,\\xa0Fantasy', 'Romance,\\xa0Thriller,\\xa0Mystery', 'Drama,\\xa0Horror', 'Adventure,\\xa0Drama,\\xa0Action,\\xa0History', 'Horror,\\xa0Science Fiction', 'Adventure,\\xa0Comedy,\\xa0Crime', 'Action,\\xa0Thriller', 'Fantasy,\\xa0Comedy,\\xa0Drama', 'Action,\\xa0Crime,\\xa0Mystery', 'Thriller,\\xa0Drama', 'Mystery,\\xa0Family', 'Adventure,\\xa0Romance', 'Drama,\\xa0Horror,\\xa0Mystery', 'Family,\\xa0Animation,\\xa0Fantasy,\\xa0Action,\\xa0Adventure', 'Drama,\\xa0History,\\xa0Family', 'Animation,\\xa0Science Fiction,\\xa0Action', 'Drama,\\xa0Mystery,\\xa0Crime', 'Drama,\\xa0War,\\xa0History,\\xa0Adventure,\\xa0Romance', 'Horror,\\xa0Comedy,\\xa0Fantasy', 'Comedy,\\xa0Mystery,\\xa0Action', 'Action,\\xa0Drama,\\xa0War', 'Thriller,\\xa0TV Movie', 'Animation,\\xa0Family,\\xa0Fantasy,\\xa0Action,\\xa0Adventure,\\xa0Comedy', 'War,\\xa0Action', 'Horror,\\xa0Mystery,\\xa0Crime', 'Family,\\xa0Comedy,\\xa0Action', 'Crime,\\xa0Drama,\\xa0History,\\xa0Thriller', 'Comedy,\\xa0Romance,\\xa0Music', 'Drama,\\xa0Thriller,\\xa0Comedy', 'Family,\\xa0Adventure,\\xa0Comedy,\\xa0Animation', 'Thriller,\\xa0History,\\xa0Drama,\\xa0Action', 'Horror,\\xa0Science Fiction,\\xa0Comedy,\\xa0TV Movie', 'Adventure,\\xa0Action,\\xa0Thriller,\\xa0Mystery', 'Family,\\xa0Adventure,\\xa0Animation,\\xa0Drama', 'Action,\\xa0Crime', 'Action,\\xa0Fantasy,\\xa0Science Fiction', 'Action,\\xa0Adventure,\\xa0Thriller', 'Drama,\\xa0Mystery,\\xa0Science Fiction', 'Action,\\xa0Drama,\\xa0Thriller,\\xa0Crime,\\xa0Mystery', 'Animation,\\xa0Family,\\xa0Fantasy,\\xa0Science Fiction', 'Horror,\\xa0TV Movie', 'Action,\\xa0Thriller,\\xa0Science Fiction', 'Animation,\\xa0Drama,\\xa0Fantasy', 'Science Fiction,\\xa0Action,\\xa0Thriller', 'Adventure,\\xa0Science Fiction,\\xa0Comedy', 'Crime,\\xa0Drama,\\xa0Romance', 'Animation,\\xa0Family,\\xa0Adventure,\\xa0Fantasy', 'Comedy,\\xa0Drama,\\xa0Music,\\xa0Romance', 'Adventure,\\xa0Action,\\xa0Romance,\\xa0Comedy', 'Thriller,\\xa0Drama,\\xa0Horror', 'Science Fiction,\\xa0Action,\\xa0Drama,\\xa0Thriller', 'Drama,\\xa0Animation,\\xa0War,\\xa0Romance', 'Romance,\\xa0Drama,\\xa0Comedy', 'Family,\\xa0Music,\\xa0TV Movie,\\xa0Comedy', 'Animation,\\xa0Music,\\xa0Family', 'Drama,\\xa0History,\\xa0Romance', 'Crime,\\xa0Horror,\\xa0Mystery', 'Comedy,\\xa0Horror,\\xa0Thriller', 'Romance,\\xa0Comedy,\\xa0Animation', 'Thriller,\\xa0Science Fiction,\\xa0Mystery', 'Drama,\\xa0Science Fiction,\\xa0Mystery', 'Drama,\\xa0History,\\xa0Crime', 'Adventure,\\xa0Drama', 'Action,\\xa0Thriller,\\xa0Crime', 'Music,\\xa0TV Movie,\\xa0Fantasy', 'Thriller,\\xa0Action,\\xa0Science Fiction', 'Family,\\xa0Adventure,\\xa0Comedy,\\xa0Fantasy', 'Animation,\\xa0Action', 'Adventure,\\xa0Comedy,\\xa0Science Fiction', 'Family,\\xa0Animation,\\xa0Adventure,\\xa0Comedy,\\xa0War', 'Adventure,\\xa0Animation,\\xa0Comedy,\\xa0Family,\\xa0Science Fiction', 'Fantasy,\\xa0Family,\\xa0Animation,\\xa0Adventure', 'Action,\\xa0Adventure,\\xa0Animation,\\xa0Horror', 'Family,\\xa0Comedy,\\xa0Animation,\\xa0Adventure,\\xa0TV Movie', 'Adventure,\\xa0Family', 'Mystery,\\xa0Thriller,\\xa0Crime,\\xa0Comedy,\\xa0Drama', 'Romance,\\xa0Comedy,\\xa0Crime,\\xa0Drama', 'Romance,\\xa0Drama,\\xa0Music', 'Comedy,\\xa0Crime,\\xa0Drama', 'Action,\\xa0Adventure,\\xa0Science Fiction,\\xa0Fantasy,\\xa0Thriller', 'Action,\\xa0Horror,\\xa0Thriller', 'Action,\\xa0Adventure,\\xa0Science Fiction,\\xa0Thriller,\\xa0Horror', 'Drama,\\xa0Comedy,\\xa0Mystery', 'Romance,\\xa0Fantasy', 'Animation,\\xa0Comedy,\\xa0Romance', 'History,\\xa0Drama', 'Horror,\\xa0Mystery,\\xa0Thriller,\\xa0Science Fiction', 'Documentary,\\xa0Crime', 'Drama,\\xa0History,\\xa0Thriller', 'Animation,\\xa0Comedy,\\xa0Mystery,\\xa0Family,\\xa0Fantasy', 'War,\\xa0Drama,\\xa0History', 'Action,\\xa0Drama,\\xa0Comedy', 'Thriller,\\xa0Drama,\\xa0Action,\\xa0Crime', 'Science Fiction,\\xa0Animation,\\xa0Action,\\xa0Crime,\\xa0Thriller', 'Comedy,\\xa0Drama', 'Animation', 'Adventure,\\xa0Family,\\xa0Drama', 'Animation,\\xa0Comedy,\\xa0Family', 'Science Fiction,\\xa0Mystery,\\xa0Thriller,\\xa0Action', 'Comedy,\\xa0Mystery,\\xa0Romance', 'Science Fiction,\\xa0Horror,\\xa0Thriller', 'Family,\\xa0TV Movie,\\xa0Comedy,\\xa0Drama', 'Thriller', 'Animation,\\xa0Comedy,\\xa0Family,\\xa0Adventure,\\xa0Fantasy', 'Action,\\xa0Science Fiction,\\xa0Thriller', 'History,\\xa0Drama,\\xa0Music', 'Animation,\\xa0Action,\\xa0Adventure,\\xa0History,\\xa0Drama,\\xa0Fantasy', 'Family,\\xa0Fantasy,\\xa0Adventure', 'Action,\\xa0Adventure,\\xa0Comedy,\\xa0Family', 'Western,\\xa0Adventure', 'Comedy,\\xa0Documentary', 'Drama,\\xa0History,\\xa0Action', 'Drama,\\xa0Romance,\\xa0Western', 'Action,\\xa0Animation,\\xa0Fantasy', 'Action,\\xa0Comedy,\\xa0Mystery', 'Animation,\\xa0Comedy,\\xa0Adventure', 'Action,\\xa0Adventure,\\xa0Drama,\\xa0History', 'Action,\\xa0Horror,\\xa0Adventure', 'Action,\\xa0Crime,\\xa0Drama,\\xa0Thriller,\\xa0Mystery', 'Comedy,\\xa0Horror,\\xa0Fantasy', 'Crime,\\xa0Drama,\\xa0Comedy', 'Animation,\\xa0Drama,\\xa0Mystery,\\xa0Fantasy', 'Action,\\xa0Drama,\\xa0Fantasy,\\xa0Thriller', 'Animation,\\xa0Action,\\xa0Adventure,\\xa0Family', 'Horror,\\xa0Mystery,\\xa0Thriller,\\xa0Music', 'Animation,\\xa0Action,\\xa0Family,\\xa0Comedy,\\xa0Science Fiction', 'Family,\\xa0Comedy,\\xa0Animation,\\xa0Adventure', 'Fantasy,\\xa0Animation,\\xa0Family', 'Comedy,\\xa0Animation,\\xa0Family', 'Comedy,\\xa0Animation,\\xa0Drama,\\xa0Romance', 'War,\\xa0Drama,\\xa0Romance', 'Adventure,\\xa0Animation,\\xa0Family,\\xa0Fantasy', 'Action,\\xa0Drama,\\xa0History', 'Adventure,\\xa0Drama,\\xa0Science Fiction,\\xa0Fantasy', 'Adventure,\\xa0Science Fiction,\\xa0Fantasy,\\xa0Thriller', 'Adventure,\\xa0Horror,\\xa0Comedy', 'Thriller,\\xa0Mystery', 'Fantasy,\\xa0Comedy,\\xa0Romance', nan, 'Family,\\xa0Fantasy,\\xa0Adventure,\\xa0Action', 'Animation,\\xa0Adventure,\\xa0Crime,\\xa0Family,\\xa0Comedy', 'Adventure,\\xa0Fantasy,\\xa0Action,\\xa0Comedy,\\xa0Family', 'Fantasy,\\xa0Family,\\xa0Romance', 'Animation,\\xa0Family,\\xa0Fantasy,\\xa0Adventure', 'Animation,\\xa0Adventure,\\xa0Family,\\xa0Science Fiction', 'Animation,\\xa0Fantasy,\\xa0Action', 'Documentary,\\xa0Music,\\xa0Animation,\\xa0History', 'Family,\\xa0Adventure,\\xa0Animation,\\xa0Romance', 'Comedy,\\xa0Western', 'Action,\\xa0Drama,\\xa0Adventure', 'Animation,\\xa0Romance', 'Drama,\\xa0Crime,\\xa0Mystery,\\xa0Thriller', 'History,\\xa0Documentary', 'Fantasy,\\xa0Action,\\xa0Adventure', 'Horror,\\xa0Science Fiction,\\xa0Mystery,\\xa0Thriller', 'Action,\\xa0Comedy,\\xa0Thriller', 'Horror,\\xa0Comedy', 'History', 'Science Fiction,\\xa0Action,\\xa0Adventure,\\xa0Comedy,\\xa0TV Movie', 'Action,\\xa0War,\\xa0History,\\xa0Romance,\\xa0Drama', 'Action,\\xa0Science Fiction,\\xa0Adventure', 'Drama,\\xa0Comedy,\\xa0Family', 'Documentary,\\xa0TV Movie', 'Thriller,\\xa0Crime', 'Adventure,\\xa0Animation,\\xa0Comedy,\\xa0Family', 'Comedy,\\xa0Adventure,\\xa0Crime,\\xa0Family', 'Fantasy,\\xa0Action,\\xa0Science Fiction', 'Documentary,\\xa0History,\\xa0TV Movie', 'Animation,\\xa0Fantasy,\\xa0Family,\\xa0Adventure,\\xa0Comedy,\\xa0TV Movie', 'Animation,\\xa0Adventure,\\xa0Comedy,\\xa0Fantasy,\\xa0Action,\\xa0Family', 'Adventure,\\xa0Animation,\\xa0Family', 'Adventure,\\xa0Fantasy', 'TV Movie,\\xa0Thriller,\\xa0Animation,\\xa0Crime,\\xa0Drama,\\xa0Fantasy', 'Animation,\\xa0Comedy,\\xa0Family,\\xa0TV Movie,\\xa0Adventure,\\xa0Science Fiction', 'Drama,\\xa0Family,\\xa0Fantasy', 'Adventure,\\xa0Action,\\xa0Thriller', 'Drama,\\xa0Adventure,\\xa0Science Fiction', 'Animation,\\xa0Drama,\\xa0Thriller', 'Action,\\xa0Animation', 'Fantasy,\\xa0Action,\\xa0Mystery', 'Romance,\\xa0Fantasy,\\xa0Drama,\\xa0Comedy', 'Fantasy,\\xa0Animation,\\xa0Drama,\\xa0Comedy,\\xa0Science Fiction,\\xa0Family', 'Action,\\xa0Thriller,\\xa0Adventure,\\xa0Crime', 'Comedy,\\xa0Family,\\xa0Fantasy', 'Science Fiction,\\xa0Comedy,\\xa0Drama', 'Comedy,\\xa0Action,\\xa0Crime', 'Horror,\\xa0Thriller,\\xa0Drama', 'Drama,\\xa0Comedy,\\xa0Romance,\\xa0Crime', 'Animation,\\xa0Comedy,\\xa0Family,\\xa0Fantasy', 'Drama,\\xa0Crime,\\xa0Thriller,\\xa0Mystery', 'Action,\\xa0Thriller,\\xa0Science Fiction,\\xa0Adventure', 'Family,\\xa0Adventure,\\xa0Animation,\\xa0Comedy', 'Adventure,\\xa0Fantasy,\\xa0Drama,\\xa0Romance', 'Science Fiction,\\xa0Horror,\\xa0Comedy', 'Adventure,\\xa0Drama,\\xa0Action', 'Crime,\\xa0Action', 'Adventure,\\xa0Comedy,\\xa0Fantasy,\\xa0Family', 'Family,\\xa0Action,\\xa0Adventure,\\xa0Animation,\\xa0Comedy,\\xa0Science Fiction', 'Fantasy,\\xa0Romance,\\xa0Science Fiction,\\xa0Drama,\\xa0Adventure,\\xa0Family,\\xa0Action', 'Animation,\\xa0Adventure,\\xa0Comedy,\\xa0Family,\\xa0Fantasy', 'Action,\\xa0Thriller,\\xa0Comedy', 'Action,\\xa0Comedy,\\xa0Thriller,\\xa0Crime', 'Action,\\xa0Comedy,\\xa0Adventure', 'Drama,\\xa0Action,\\xa0Thriller,\\xa0Crime', 'Fantasy,\\xa0Mystery,\\xa0Thriller', 'Animation,\\xa0Family,\\xa0Adventure', 'Mystery,\\xa0Thriller,\\xa0Horror', 'Romance,\\xa0Comedy,\\xa0Drama', 'Science Fiction,\\xa0Animation', 'Family,\\xa0Animation,\\xa0Adventure,\\xa0Comedy,\\xa0Fantasy,\\xa0Action', 'Drama,\\xa0Action,\\xa0War', 'Family,\\xa0Comedy,\\xa0Fantasy', 'History,\\xa0Drama,\\xa0TV Movie', 'Fantasy,\\xa0Drama,\\xa0Horror,\\xa0Thriller', 'Drama,\\xa0Crime,\\xa0History', 'Animation,\\xa0Mystery,\\xa0Action,\\xa0Crime', 'Animation,\\xa0Crime,\\xa0Mystery,\\xa0Thriller', 'Crime,\\xa0Drama,\\xa0Mystery,\\xa0Thriller', 'Action,\\xa0Mystery,\\xa0Adventure', 'Drama,\\xa0Thriller,\\xa0Science Fiction', 'Animation,\\xa0Family,\\xa0Adventure,\\xa0Drama,\\xa0Fantasy', 'Drama,\\xa0War,\\xa0History', 'Adventure,\\xa0Science Fiction', 'Family,\\xa0Animation,\\xa0Fantasy', 'Action,\\xa0Adventure,\\xa0Western', 'Romance,\\xa0Comedy', 'Thriller,\\xa0Romance,\\xa0Drama', 'Family,\\xa0Animation', 'Animation,\\xa0Family,\\xa0Music', 'Western,\\xa0Mystery', 'Science Fiction,\\xa0Comedy', 'War,\\xa0Drama', 'Animation,\\xa0Adventure,\\xa0Family', 'Action,\\xa0Comedy,\\xa0Crime', 'Family,\\xa0Action,\\xa0Adventure,\\xa0Comedy,\\xa0TV Movie', 'Comedy,\\xa0Family,\\xa0Animation,\\xa0Adventure,\\xa0Mystery', 'War,\\xa0Action,\\xa0Drama', 'Music,\\xa0Drama,\\xa0Comedy', 'Animation,\\xa0Comedy,\\xa0Adventure,\\xa0Fantasy', 'Action,\\xa0Mystery,\\xa0Thriller', 'Animation,\\xa0Adventure,\\xa0Family,\\xa0Comedy', 'Comedy,\\xa0Adventure,\\xa0Music,\\xa0Family', 'Action,\\xa0Adventure,\\xa0Animation,\\xa0Science Fiction,\\xa0Drama', 'Drama,\\xa0Fantasy,\\xa0Romance,\\xa0Science Fiction', 'Drama,\\xa0Horror,\\xa0Thriller', 'Thriller,\\xa0Mystery,\\xa0Comedy', 'Adventure,\\xa0Family,\\xa0Fantasy,\\xa0Science Fiction,\\xa0Thriller,\\xa0Action', 'Drama,\\xa0Family', 'Thriller,\\xa0Horror,\\xa0Comedy,\\xa0Crime', 'Horror,\\xa0Fantasy,\\xa0Adventure,\\xa0Mystery,\\xa0Action', 'Fantasy,\\xa0Family,\\xa0Comedy', 'Action,\\xa0Animation,\\xa0Fantasy,\\xa0Adventure', 'Drama,\\xa0Comedy,\\xa0Crime', 'Action,\\xa0Crime,\\xa0Drama', 'Science Fiction,\\xa0Adventure,\\xa0Action', 'Horror,\\xa0Thriller', 'Family,\\xa0Music,\\xa0Adventure,\\xa0Comedy,\\xa0Fantasy,\\xa0TV Movie', 'Action,\\xa0Adventure,\\xa0Drama,\\xa0Fantasy', 'Animation,\\xa0Family,\\xa0Adventure,\\xa0Comedy', 'Animation,\\xa0Science Fiction,\\xa0Family,\\xa0Action', 'Science Fiction,\\xa0Adventure,\\xa0Comedy', 'Documentary', 'Fantasy,\\xa0Family', 'Animation,\\xa0Drama,\\xa0Music,\\xa0Romance', 'Comedy,\\xa0Crime', 'Action,\\xa0Drama,\\xa0Thriller', 'Action,\\xa0Thriller,\\xa0Drama', 'Adventure,\\xa0Fantasy,\\xa0Family', 'TV Movie,\\xa0Comedy,\\xa0Romance,\\xa0Drama', 'Animation,\\xa0Comedy,\\xa0Adventure,\\xa0Family', 'Adventure,\\xa0Action,\\xa0Drama', 'Fantasy,\\xa0Adventure,\\xa0Family', 'Comedy,\\xa0Science Fiction,\\xa0Adventure', 'Science Fiction,\\xa0Action', 'Action,\\xa0Drama,\\xa0History,\\xa0Thriller', 'Drama,\\xa0Comedy', 'Drama,\\xa0Thriller,\\xa0Crime', 'Thriller,\\xa0Fantasy,\\xa0Comedy,\\xa0Family,\\xa0Mystery', 'Animation,\\xa0Action,\\xa0Crime,\\xa0Mystery', 'Music,\\xa0Animation,\\xa0Family,\\xa0Fantasy', 'Animation,\\xa0Comedy,\\xa0Family,\\xa0Adventure', 'Music,\\xa0Drama,\\xa0History', 'Drama,\\xa0Action', 'Animation,\\xa0Adventure,\\xa0Fantasy', 'Fantasy,\\xa0Family,\\xa0Horror,\\xa0Adventure'}\n"
          ]
        }
      ]
    },
    {
      "cell_type": "code",
      "source": [
        "combined_labels = list(set(y_train) | set(y_test))\n",
        "label_encoder = LabelEncoder()\n",
        "label_encoder.fit(combined_labels)\n",
        "\n",
        "y_train = label_encoder.transform(y_train)\n",
        "y_test = label_encoder.transform(y_test)"
      ],
      "metadata": {
        "id": "i5gcaMWkvxck"
      },
      "execution_count": null,
      "outputs": []
    },
    {
      "cell_type": "code",
      "source": [
        "model.fit(x_train, y_train, validation_data=(x_test, y_test), epochs=3, batch_size=batch_size)"
      ],
      "metadata": {
        "colab": {
          "base_uri": "https://localhost:8080/"
        },
        "id": "NvbtUr23wLVI",
        "outputId": "7a39a819-8081-4406-92bd-d7a568189892"
      },
      "execution_count": null,
      "outputs": [
        {
          "output_type": "stream",
          "name": "stdout",
          "text": [
            "Epoch 1/3\n",
            "128/128 [==============================] - 130s 970ms/step - loss: -9957.7324 - accuracy: 0.0017 - val_loss: -42587.6016 - val_accuracy: 0.0000e+00\n",
            "Epoch 2/3\n",
            "128/128 [==============================] - 121s 947ms/step - loss: -20490.0332 - accuracy: 0.0017 - val_loss: -65052.8477 - val_accuracy: 0.0000e+00\n",
            "Epoch 3/3\n",
            "128/128 [==============================] - 123s 962ms/step - loss: -28726.2598 - accuracy: 0.0017 - val_loss: -86114.8984 - val_accuracy: 0.0000e+00\n"
          ]
        },
        {
          "output_type": "execute_result",
          "data": {
            "text/plain": [
              "<keras.src.callbacks.History at 0x7a0cda756bc0>"
            ]
          },
          "metadata": {},
          "execution_count": 39
        }
      ]
    },
    {
      "cell_type": "code",
      "source": [
        "# Function to preprocess input text\n",
        "def preprocess_input(text):\n",
        "    # Tokenize and pad the input text\n",
        "    sequence = tokenizer.texts_to_sequences([text])\n",
        "    padded_sequence = pad_sequences(sequence, maxlen=maxlen)\n",
        "    return padded_sequence"
      ],
      "metadata": {
        "id": "P4b8hGB8wPBB"
      },
      "execution_count": null,
      "outputs": []
    },
    {
      "cell_type": "code",
      "source": [
        "# Function to get sentiment prediction\n",
        "def predict_sentiment(text):\n",
        "    preprocessed_text = preprocess_input(text)\n",
        "    prediction = model.predict(preprocessed_text)[0][0]\n",
        "    sentiment = 'Positive' if prediction > 0.5 else 'Negative'\n",
        "    return sentiment, prediction"
      ],
      "metadata": {
        "id": "04F2OFfix1ps"
      },
      "execution_count": null,
      "outputs": []
    },
    {
      "cell_type": "code",
      "source": [
        "# Example input text\n",
        "input_text = \"The acting was superb. Love this movie!\""
      ],
      "metadata": {
        "id": "7xG6eT9_x4L_"
      },
      "execution_count": null,
      "outputs": []
    },
    {
      "cell_type": "code",
      "source": [
        "sentiment, probability = predict_sentiment(input_text)"
      ],
      "metadata": {
        "colab": {
          "base_uri": "https://localhost:8080/"
        },
        "id": "UZts8_9ax6de",
        "outputId": "32b14913-a8b2-41c5-cf1f-a1f601289e47"
      },
      "execution_count": null,
      "outputs": [
        {
          "output_type": "stream",
          "name": "stdout",
          "text": [
            "1/1 [==============================] - 0s 309ms/step\n"
          ]
        }
      ]
    },
    {
      "cell_type": "code",
      "source": [
        "# Display results\n",
        "print(f\"Input Text: {input_text}\")\n",
        "print(f\"Predicted Sentiment: {sentiment}\")\n",
        "print(f\"Probability: {probability:.4f}\")"
      ],
      "metadata": {
        "colab": {
          "base_uri": "https://localhost:8080/"
        },
        "id": "Vhwb_fMyyETf",
        "outputId": "a5175a96-d954-4125-db8d-442cc4209e9b"
      },
      "execution_count": null,
      "outputs": [
        {
          "output_type": "stream",
          "name": "stdout",
          "text": [
            "Input Text: The acting was superb. Love this movie!\n",
            "Predicted Sentiment: Positive\n",
            "Probability: 1.0000\n"
          ]
        }
      ]
    },
    {
      "cell_type": "code",
      "source": [
        "input_text = \"This is very iconic and fantastic!.\""
      ],
      "metadata": {
        "id": "4n4TLXZUyG2T"
      },
      "execution_count": null,
      "outputs": []
    },
    {
      "cell_type": "code",
      "source": [
        "# Get prediction\n",
        "sentiment, probability = predict_sentiment(input_text)\n",
        "# Display results\n",
        "print(f\"Input Text: {input_text}\")\n",
        "print(f\"Predicted Sentiment: {sentiment}\")\n",
        "print(f\"Probability: {probability:.4f}\")"
      ],
      "metadata": {
        "colab": {
          "base_uri": "https://localhost:8080/"
        },
        "id": "cmLx19QVyJhV",
        "outputId": "8a896002-8570-413b-9ec1-3be8a85b5374"
      },
      "execution_count": null,
      "outputs": [
        {
          "output_type": "stream",
          "name": "stdout",
          "text": [
            "1/1 [==============================] - 0s 88ms/step\n",
            "Input Text: This is very iconic and fantastic!.\n",
            "Predicted Sentiment: Positive\n",
            "Probability: 1.0000\n"
          ]
        }
      ]
    }
  ]
}